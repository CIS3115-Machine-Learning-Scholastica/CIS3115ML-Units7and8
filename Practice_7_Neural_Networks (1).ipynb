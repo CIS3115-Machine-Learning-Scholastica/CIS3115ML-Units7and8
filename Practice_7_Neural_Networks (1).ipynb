{
  "nbformat": 4,
  "nbformat_minor": 0,
  "metadata": {
    "colab": {
      "name": "Practice 7: Neural Networks.ipynb",
      "version": "0.3.2",
      "provenance": [],
      "collapsed_sections": []
    },
    "kernelspec": {
      "name": "python3",
      "display_name": "Python 3"
    }
  },
  "cells": [
    {
      "metadata": {
        "id": "UcP0RHTjWP1q",
        "colab_type": "text"
      },
      "cell_type": "markdown",
      "source": [
        "# Practice 7: Neural Networks\n",
        "\n",
        "Use this notebook as the starting point for the Practice activities.\n",
        "\n",
        "Student Name:    **[  Put your Name Here ]**\n",
        "\n",
        "**[Video Walkthough by Tom](https://www.youtube.com/watch?v=juginkyzZL0)**"
      ]
    },
    {
      "metadata": {
        "id": "KmZ4LSJ7XLR9",
        "colab_type": "text"
      },
      "cell_type": "markdown",
      "source": [
        "# Section 0\n",
        "\n",
        "=== *You must run this section to set up things for any of the sections below * ===\n",
        "### Setting up Python tools\n",
        "\n",
        "\n",
        "\n",
        "We'll use three libraries for this tutorial: \n",
        "- [pandas](http://pandas.pydata.org/) : dataframes for spreadsheet-like data analysis, reading CSV files, time series\n",
        "- [numpy](http://www.numpy.org/) : for multidimensional data and linear algebra tools\n",
        "- [matplotlib](http://matplotlib.org/) : Simple plotting and graphing\n",
        "- [seaborn](http://stanford.edu/~mwaskom/software/seaborn/) : more advanced graphing\n",
        "-  [scikit-learn](https://scikit-learn.org/stable/) : provides many machine learning algorithms and tools to training and test.\n",
        "\n",
        "\n"
      ]
    },
    {
      "metadata": {
        "id": "RHAUKyWlWQ9L",
        "colab_type": "code",
        "outputId": "87ec1d59-7a8c-4496-d3e1-bfed3c2a7ad4",
        "colab": {
          "base_uri": "https://localhost:8080/",
          "height": 35
        }
      },
      "cell_type": "code",
      "source": [
        "# First, we'll import pandas and numpy, two data processing libraries\n",
        "import pandas as pd\n",
        "import numpy as np\n",
        "\n",
        "# We'll also import seaborn and matplot, twp Python graphing libraries\n",
        "import seaborn as sns\n",
        "import matplotlib.pyplot as plt\n",
        "# Import the needed sklearn libraries\n",
        "from sklearn.preprocessing import MinMaxScaler, StandardScaler\n",
        "from sklearn import datasets\n",
        "from sklearn.model_selection import train_test_split\n",
        "from sklearn.neighbors import KNeighborsClassifier\n",
        "from sklearn.svm import SVC\n",
        "from sklearn.decomposition import PCA\n",
        "from sklearn.preprocessing import LabelEncoder\n",
        "\n",
        "# The Keras library provides support for neural networks and deep learning\n",
        "print (\"====== This should generate a FutureWaring on Conversion ===== ignore this warning\")\n",
        "import keras\n",
        "from keras.models import Sequential\n",
        "from keras.layers import Dense, Dropout, Activation, Lambda, Flatten, LSTM\n",
        "from keras.layers import Conv2D, MaxPooling2D\n",
        "from keras.optimizers import Adam, RMSprop\n",
        "from keras.utils import np_utils\n",
        "\n",
        "# We will turn off some warns in this notebook to make it easier to read for new students\n",
        "import warnings\n",
        "warnings.filterwarnings('ignore')"
      ],
      "execution_count": 0,
      "outputs": [
        {
          "output_type": "stream",
          "text": [
            "====== This should generate a FutureWaring on Conversion ===== ignore this warning\n"
          ],
          "name": "stdout"
        }
      ]
    },
    {
      "metadata": {
        "id": "Vz1Qt8p_U4g2",
        "colab_type": "text"
      },
      "cell_type": "markdown",
      "source": [
        "## The data sets\n",
        "We will work with the following data sets:\n",
        "- Section I: Iris flower dataset from Practice 2 & 4\n",
        "- Section II: Breast cancer data from Project 1 & 2\n",
        "- Section III: [MNIST](https://en.wikipedia.org/wiki/MNIST_database) handwritten digits. This is our first image data set. Each image is 16x16 grayscale pixels. \n",
        "<p>\n"
      ]
    },
    {
      "metadata": {
        "id": "qllYJsYUU5mT",
        "colab_type": "text"
      },
      "cell_type": "markdown",
      "source": [
        "# Section I: Iris Flowers \n",
        "=== *You must run Section 0 before this section* ===\n",
        "## Neural Networks to Classify Iris Flowers\n",
        "\n",
        "Remember the iris flower data set has four features for each flower. Each flower is in one of three species of Iris.\n",
        "\n",
        "We will train a simple neural network to learn to classify the Iris flowers\n",
        "\n",
        "First we will read in the Iris database...\n",
        "\n"
      ]
    },
    {
      "metadata": {
        "id": "Zw-0pDmtWRAN",
        "colab_type": "code",
        "colab": {}
      },
      "cell_type": "code",
      "source": [
        "# Read in the iris data file from stored in a raw file in GitHub\n",
        "url_iris = 'https://raw.githubusercontent.com/CIS3115-Machine-Learning-Scholastica/CIS3115ML-Units3and4/master/Iris.csv'\n",
        "iris = pd.read_csv(url_iris)\n",
        "# Set the Id column as the index since it is unique for each flower\n",
        "iris.set_index('Id', inplace=True)\n",
        "\n",
        "species = iris['Species'].unique()\n"
      ],
      "execution_count": 0,
      "outputs": []
    },
    {
      "metadata": {
        "id": "1OtgWe9yWRDZ",
        "colab_type": "code",
        "outputId": "5635baae-50f5-4a74-b2eb-34f24dc56749",
        "colab": {
          "base_uri": "https://localhost:8080/",
          "height": 230
        }
      },
      "cell_type": "code",
      "source": [
        "# Display the first 5 flowers to make sure the data was read in\n",
        "iris.head(5)"
      ],
      "execution_count": 0,
      "outputs": [
        {
          "output_type": "execute_result",
          "data": {
            "text/html": [
              "<div>\n",
              "<style scoped>\n",
              "    .dataframe tbody tr th:only-of-type {\n",
              "        vertical-align: middle;\n",
              "    }\n",
              "\n",
              "    .dataframe tbody tr th {\n",
              "        vertical-align: top;\n",
              "    }\n",
              "\n",
              "    .dataframe thead th {\n",
              "        text-align: right;\n",
              "    }\n",
              "</style>\n",
              "<table border=\"1\" class=\"dataframe\">\n",
              "  <thead>\n",
              "    <tr style=\"text-align: right;\">\n",
              "      <th></th>\n",
              "      <th>SepalLengthCm</th>\n",
              "      <th>SepalWidthCm</th>\n",
              "      <th>PetalLengthCm</th>\n",
              "      <th>PetalWidthCm</th>\n",
              "      <th>Species</th>\n",
              "    </tr>\n",
              "    <tr>\n",
              "      <th>Id</th>\n",
              "      <th></th>\n",
              "      <th></th>\n",
              "      <th></th>\n",
              "      <th></th>\n",
              "      <th></th>\n",
              "    </tr>\n",
              "  </thead>\n",
              "  <tbody>\n",
              "    <tr>\n",
              "      <th>1</th>\n",
              "      <td>5.1</td>\n",
              "      <td>3.5</td>\n",
              "      <td>1.4</td>\n",
              "      <td>0.2</td>\n",
              "      <td>Iris-setosa</td>\n",
              "    </tr>\n",
              "    <tr>\n",
              "      <th>2</th>\n",
              "      <td>4.9</td>\n",
              "      <td>3.0</td>\n",
              "      <td>1.4</td>\n",
              "      <td>0.2</td>\n",
              "      <td>Iris-setosa</td>\n",
              "    </tr>\n",
              "    <tr>\n",
              "      <th>3</th>\n",
              "      <td>4.7</td>\n",
              "      <td>3.2</td>\n",
              "      <td>1.3</td>\n",
              "      <td>0.2</td>\n",
              "      <td>Iris-setosa</td>\n",
              "    </tr>\n",
              "    <tr>\n",
              "      <th>4</th>\n",
              "      <td>4.6</td>\n",
              "      <td>3.1</td>\n",
              "      <td>1.5</td>\n",
              "      <td>0.2</td>\n",
              "      <td>Iris-setosa</td>\n",
              "    </tr>\n",
              "    <tr>\n",
              "      <th>5</th>\n",
              "      <td>5.0</td>\n",
              "      <td>3.6</td>\n",
              "      <td>1.4</td>\n",
              "      <td>0.2</td>\n",
              "      <td>Iris-setosa</td>\n",
              "    </tr>\n",
              "  </tbody>\n",
              "</table>\n",
              "</div>"
            ],
            "text/plain": [
              "    SepalLengthCm  SepalWidthCm  PetalLengthCm  PetalWidthCm      Species\n",
              "Id                                                                       \n",
              "1             5.1           3.5            1.4           0.2  Iris-setosa\n",
              "2             4.9           3.0            1.4           0.2  Iris-setosa\n",
              "3             4.7           3.2            1.3           0.2  Iris-setosa\n",
              "4             4.6           3.1            1.5           0.2  Iris-setosa\n",
              "5             5.0           3.6            1.4           0.2  Iris-setosa"
            ]
          },
          "metadata": {
            "tags": []
          },
          "execution_count": 39
        }
      ]
    },
    {
      "metadata": {
        "id": "estP1rJqjiqL",
        "colab_type": "text"
      },
      "cell_type": "markdown",
      "source": [
        "## Set up the input and output \n",
        "In the past we have called the input **\"X\"** and the output **\"y\"** but when working with multiple datasets we will use **\"Xiris\"** for the input features for the iris flower dataset. Likewise we will use **\"yiris\"** for the output categories for the iris flowers.\n",
        "\n",
        "\n",
        "**Scale Data:** Neural Networks work best with the inputs are between -1 and +1, so the MinMaxScaler is used to scale all the inputs to the range 0 to +1.\n",
        "\n",
        "\n",
        "**Split the Data:** The Iris data is split with 80% used for training and 20% used for testing.\n",
        "\n",
        "**One-Hot Encoding:** Neural Networks like the output as one-hot encoding. This is a list of values, one for each category, which are all zeros except one which is 1 which represents the correct category.\n",
        "\n",
        "So, if we have three iris species, we map each one to a one-hot encoding:\n",
        "- Iris-setosa = [ 1, 0, 0 ]\n",
        "- Iris-virginica  = [ 0, 1, 0 ]\n",
        "- Iris-versicolor = [ 0, 0, 1 ]\n"
      ]
    },
    {
      "metadata": {
        "id": "OqLNbqIzch1o",
        "colab_type": "code",
        "colab": {}
      },
      "cell_type": "code",
      "source": [
        "input_Size = 4\n",
        "output_Size = 3\n",
        "\n",
        "feature_columns = ['SepalLengthCm', 'SepalWidthCm', 'PetalLengthCm','PetalWidthCm']\n",
        "Xiris = iris[feature_columns].values\n",
        "# We need the species labels converted to numbers for the neural network\n",
        "yiris = LabelEncoder().fit_transform(iris[\"Species\"])\n",
        "\n",
        "# Scale the input data\n",
        "mmScaler = MinMaxScaler()\n",
        "Xiris = mmScaler.fit_transform(Xiris)\n",
        "\n",
        "# Split the data into 80% for training and 20% for testing out the models\n",
        "X_train, X_test, y_train, y_test = train_test_split(Xiris, yiris.ravel(), test_size=0.2)\n",
        "\n",
        "# Format the output as one-hot encodings. Each output has three values with only one with a value of 1\n",
        "y_train = np_utils.to_categorical(y_train, output_Size)\n",
        "y_test = np_utils.to_categorical(y_test, output_Size)"
      ],
      "execution_count": 0,
      "outputs": []
    },
    {
      "metadata": {
        "id": "B5Hy611A_4ys",
        "colab_type": "code",
        "outputId": "922498d4-2754-4d21-957e-ed9546fb4fe0",
        "colab": {
          "base_uri": "https://localhost:8080/",
          "height": 88
        }
      },
      "cell_type": "code",
      "source": [
        "print (\"X_train training data is 120 flowers with 4 features each: \" ,X_train.shape)\n",
        "print (\"X_test testing data is 30 flowers with 4 features each: \" ,X_test.shape)\n",
        "\n",
        "print (\"y_train output is 1 of 3 species for 120 flowers: \" ,y_train.shape)\n",
        "print (\"y_test output is 1 of 3 species for 30 flowers: : \" ,y_test.shape)"
      ],
      "execution_count": 0,
      "outputs": [
        {
          "output_type": "stream",
          "text": [
            "X_train training data is 120 flowers with 4 features each:  (120, 4)\n",
            "X_test testing data is 30 flowers with 4 features each:  (30, 4)\n",
            "y_train output is 1 of 3 species for 120 flowers:  (120, 3)\n",
            "y_test output is 1 of 3 species for 30 flowers: :  (30, 3)\n"
          ],
          "name": "stdout"
        }
      ]
    },
    {
      "metadata": {
        "id": "hL9TP4GBkqfs",
        "colab_type": "text"
      },
      "cell_type": "markdown",
      "source": [
        "## Neural Network\n",
        "\n",
        "The following code sets up a sequential, four layer neural network. Sequential means that each layer is connected to the layer listed before it:\n",
        "- Input layer: Input values are assigned to these units\n",
        "- Hidden layer 1: 8 units using Rectified Linear Units (relu)\n",
        "- Hidden layer 2: 6 units using Rectified Linear Units (relu)\n",
        "- Output  layer: 3 units using softmax so sum of the three units will be 1.0\n",
        "\n",
        "![neural network diagram](https://raw.githubusercontent.com/CIS3115-Machine-Learning-Scholastica/CIS3115ML-Units7and8/master/Iris%20Neural%20Network.png)\n",
        "\n",
        "\n"
      ]
    },
    {
      "metadata": {
        "id": "PLf6EIn1Zot0",
        "colab_type": "text"
      },
      "cell_type": "markdown",
      "source": [
        "## Task 1: Understanding the Network Stucture\n",
        "\n",
        "Answer the following questions about the network:\n",
        "\n",
        "1. Why is the input size or dimension set to 4? Is this dependent on the data? Why is it 4 with the iris data?\n",
        "2. Why is the the output size set to 3? How is dependent on the data used? How does this relate to the iris data?\n",
        "3. This network uses \"Dense\" hidden layers where each node is connected to every node in the previous layer. Node 3 in Hidden layer 1 is highlight in the diagram. Which nodes from which layer does Node 3 recieve inputs from?\n",
        "4. Node 3 in Hidden layer 1 is highlight in the diagram. Which nodes from which layer does Node 3 send its outputs to?"
      ]
    },
    {
      "metadata": {
        "id": "_dDDMlkIPtnD",
        "colab_type": "code",
        "colab": {}
      },
      "cell_type": "code",
      "source": [
        "# Set up the Neural Network\n",
        "\n",
        "input_Size = 4\n",
        "output_Size = 3\n",
        "\n",
        "Iris_neuralNetwork = Sequential()\n",
        "Iris_neuralNetwork.add(Dense(20, activation='relu', input_dim=(input_Size)))\n",
        "Iris_neuralNetwork.add(Dense(10, activation='relu'))\n",
        "Iris_neuralNetwork.add(Dense(output_Size, activation='softmax'))\n"
      ],
      "execution_count": 0,
      "outputs": []
    },
    {
      "metadata": {
        "id": "W38NgcRmQ1Bz",
        "colab_type": "text"
      },
      "cell_type": "markdown",
      "source": [
        "## Compile Neural Network\n",
        "\n",
        "This builds the Neural network. You must specify \n",
        "- optimizer = 'adam' is a common gradient decent method for changing the wieghts during training\n",
        "- loss =  'categorical_crossentropy' is used when you have a number of distinct categories and items can only be in one category.\n",
        "- metrics = 'accuracy' will output the accuracy of the classification, the percent of time the network gets the classification correct"
      ]
    },
    {
      "metadata": {
        "id": "cb5e3PZA01kv",
        "colab_type": "code",
        "colab": {}
      },
      "cell_type": "code",
      "source": [
        "# Compile neural network model\n",
        "Iris_neuralNetwork.compile(optimizer='Adam', loss='categorical_crossentropy', metrics=['accuracy'])"
      ],
      "execution_count": 0,
      "outputs": []
    },
    {
      "metadata": {
        "id": "SIp1LLRAUlwe",
        "colab_type": "text"
      },
      "cell_type": "markdown",
      "source": [
        "## Train the Neural Network\n",
        "\n",
        "This will run all 120 training flowers through the network and update the weights. The 30 testing flowers are then used to validate the model. \n",
        "\n",
        "- epochs = 50 means to run the training 50 times. \n",
        "- Performance measues:\n",
        " - loss: is a measurement of how far the outputs are from the desired outputs. This should get smaller over time.\n",
        " - acc: is the prediction accuracy as a percent so 0.67 means the model predicts the correct flower 67% of the time. \n",
        " - val_loss: the loss calculated using the testing flowers rather than the training flowers.\n",
        " - val_acc: the accuracy calculated using the testing flowers rather than the training flowers.\n",
        " \n",
        " \n",
        "Note: sometimes training will take minutes, if not hours to run, especially later when we get to complex networks"
      ]
    },
    {
      "metadata": {
        "id": "Y4Pu8MRq01oa",
        "colab_type": "code",
        "outputId": "3b1e562a-0e37-47e3-a7a9-49a057cba4a6",
        "colab": {
          "base_uri": "https://localhost:8080/",
          "height": 7146
        }
      },
      "cell_type": "code",
      "source": [
        "# Fit model on training data for network with dense input layer\n",
        "history = Iris_neuralNetwork.fit(X_train, y_train,\n",
        "          epochs=200,\n",
        "          verbose=1,\n",
        "          validation_data=(X_test, y_test))\n"
      ],
      "execution_count": 0,
      "outputs": [
        {
          "output_type": "stream",
          "text": [
            "Train on 120 samples, validate on 30 samples\n",
            "Epoch 1/200\n",
            "120/120 [==============================] - 1s 6ms/step - loss: 1.0950 - acc: 0.3333 - val_loss: 1.0959 - val_acc: 0.3333\n",
            "Epoch 2/200\n",
            "120/120 [==============================] - 0s 91us/step - loss: 1.0890 - acc: 0.3333 - val_loss: 1.0910 - val_acc: 0.3333\n",
            "Epoch 3/200\n",
            "120/120 [==============================] - 0s 104us/step - loss: 1.0835 - acc: 0.3333 - val_loss: 1.0869 - val_acc: 0.3333\n",
            "Epoch 4/200\n",
            "120/120 [==============================] - 0s 74us/step - loss: 1.0789 - acc: 0.3333 - val_loss: 1.0833 - val_acc: 0.3333\n",
            "Epoch 5/200\n",
            "120/120 [==============================] - 0s 74us/step - loss: 1.0741 - acc: 0.3333 - val_loss: 1.0791 - val_acc: 0.3333\n",
            "Epoch 6/200\n",
            "120/120 [==============================] - 0s 72us/step - loss: 1.0692 - acc: 0.3333 - val_loss: 1.0744 - val_acc: 0.3333\n",
            "Epoch 7/200\n",
            "120/120 [==============================] - 0s 72us/step - loss: 1.0641 - acc: 0.3333 - val_loss: 1.0690 - val_acc: 0.3333\n",
            "Epoch 8/200\n",
            "120/120 [==============================] - 0s 88us/step - loss: 1.0587 - acc: 0.3333 - val_loss: 1.0634 - val_acc: 0.3333\n",
            "Epoch 9/200\n",
            "120/120 [==============================] - 0s 83us/step - loss: 1.0535 - acc: 0.3333 - val_loss: 1.0575 - val_acc: 0.3333\n",
            "Epoch 10/200\n",
            "120/120 [==============================] - 0s 87us/step - loss: 1.0475 - acc: 0.3333 - val_loss: 1.0517 - val_acc: 0.3333\n",
            "Epoch 11/200\n",
            "120/120 [==============================] - 0s 94us/step - loss: 1.0412 - acc: 0.3333 - val_loss: 1.0458 - val_acc: 0.3333\n",
            "Epoch 12/200\n",
            "120/120 [==============================] - 0s 76us/step - loss: 1.0356 - acc: 0.3417 - val_loss: 1.0403 - val_acc: 0.4333\n",
            "Epoch 13/200\n",
            "120/120 [==============================] - 0s 84us/step - loss: 1.0303 - acc: 0.3917 - val_loss: 1.0348 - val_acc: 0.4667\n",
            "Epoch 14/200\n",
            "120/120 [==============================] - 0s 85us/step - loss: 1.0244 - acc: 0.4167 - val_loss: 1.0290 - val_acc: 0.5000\n",
            "Epoch 15/200\n",
            "120/120 [==============================] - 0s 83us/step - loss: 1.0186 - acc: 0.4750 - val_loss: 1.0235 - val_acc: 0.5333\n",
            "Epoch 16/200\n",
            "120/120 [==============================] - 0s 84us/step - loss: 1.0124 - acc: 0.5500 - val_loss: 1.0175 - val_acc: 0.6000\n",
            "Epoch 17/200\n",
            "120/120 [==============================] - 0s 113us/step - loss: 1.0063 - acc: 0.6000 - val_loss: 1.0115 - val_acc: 0.6667\n",
            "Epoch 18/200\n",
            "120/120 [==============================] - 0s 103us/step - loss: 1.0000 - acc: 0.6167 - val_loss: 1.0053 - val_acc: 0.7667\n",
            "Epoch 19/200\n",
            "120/120 [==============================] - 0s 102us/step - loss: 0.9936 - acc: 0.6750 - val_loss: 0.9990 - val_acc: 0.8000\n",
            "Epoch 20/200\n",
            "120/120 [==============================] - 0s 74us/step - loss: 0.9871 - acc: 0.7333 - val_loss: 0.9921 - val_acc: 0.8000\n",
            "Epoch 21/200\n",
            "120/120 [==============================] - 0s 69us/step - loss: 0.9806 - acc: 0.7500 - val_loss: 0.9850 - val_acc: 0.8667\n",
            "Epoch 22/200\n",
            "120/120 [==============================] - 0s 74us/step - loss: 0.9743 - acc: 0.7583 - val_loss: 0.9782 - val_acc: 0.9333\n",
            "Epoch 23/200\n",
            "120/120 [==============================] - 0s 106us/step - loss: 0.9669 - acc: 0.7583 - val_loss: 0.9711 - val_acc: 0.9333\n",
            "Epoch 24/200\n",
            "120/120 [==============================] - 0s 104us/step - loss: 0.9599 - acc: 0.7833 - val_loss: 0.9636 - val_acc: 0.9333\n",
            "Epoch 25/200\n",
            "120/120 [==============================] - 0s 90us/step - loss: 0.9526 - acc: 0.8417 - val_loss: 0.9558 - val_acc: 0.9333\n",
            "Epoch 26/200\n",
            "120/120 [==============================] - 0s 89us/step - loss: 0.9450 - acc: 0.8417 - val_loss: 0.9476 - val_acc: 0.8667\n",
            "Epoch 27/200\n",
            "120/120 [==============================] - 0s 99us/step - loss: 0.9370 - acc: 0.8250 - val_loss: 0.9389 - val_acc: 0.8667\n",
            "Epoch 28/200\n",
            "120/120 [==============================] - 0s 96us/step - loss: 0.9288 - acc: 0.8250 - val_loss: 0.9301 - val_acc: 0.8667\n",
            "Epoch 29/200\n",
            "120/120 [==============================] - 0s 94us/step - loss: 0.9208 - acc: 0.8250 - val_loss: 0.9210 - val_acc: 0.8667\n",
            "Epoch 30/200\n",
            "120/120 [==============================] - 0s 97us/step - loss: 0.9117 - acc: 0.8000 - val_loss: 0.9119 - val_acc: 0.8333\n",
            "Epoch 31/200\n",
            "120/120 [==============================] - 0s 118us/step - loss: 0.9026 - acc: 0.7833 - val_loss: 0.9023 - val_acc: 0.7667\n",
            "Epoch 32/200\n",
            "120/120 [==============================] - 0s 98us/step - loss: 0.8930 - acc: 0.7750 - val_loss: 0.8923 - val_acc: 0.7667\n",
            "Epoch 33/200\n",
            "120/120 [==============================] - 0s 100us/step - loss: 0.8837 - acc: 0.7500 - val_loss: 0.8823 - val_acc: 0.7333\n",
            "Epoch 34/200\n",
            "120/120 [==============================] - 0s 110us/step - loss: 0.8733 - acc: 0.7417 - val_loss: 0.8715 - val_acc: 0.7333\n",
            "Epoch 35/200\n",
            "120/120 [==============================] - 0s 143us/step - loss: 0.8630 - acc: 0.7333 - val_loss: 0.8602 - val_acc: 0.7333\n",
            "Epoch 36/200\n",
            "120/120 [==============================] - 0s 98us/step - loss: 0.8521 - acc: 0.7167 - val_loss: 0.8488 - val_acc: 0.7000\n",
            "Epoch 37/200\n",
            "120/120 [==============================] - 0s 110us/step - loss: 0.8414 - acc: 0.6833 - val_loss: 0.8367 - val_acc: 0.7000\n",
            "Epoch 38/200\n",
            "120/120 [==============================] - 0s 109us/step - loss: 0.8299 - acc: 0.6833 - val_loss: 0.8237 - val_acc: 0.7000\n",
            "Epoch 39/200\n",
            "120/120 [==============================] - 0s 83us/step - loss: 0.8178 - acc: 0.6833 - val_loss: 0.8095 - val_acc: 0.7000\n",
            "Epoch 40/200\n",
            "120/120 [==============================] - 0s 92us/step - loss: 0.8042 - acc: 0.6833 - val_loss: 0.7935 - val_acc: 0.7000\n",
            "Epoch 41/200\n",
            "120/120 [==============================] - 0s 82us/step - loss: 0.7893 - acc: 0.6833 - val_loss: 0.7760 - val_acc: 0.7000\n",
            "Epoch 42/200\n",
            "120/120 [==============================] - 0s 99us/step - loss: 0.7741 - acc: 0.6750 - val_loss: 0.7582 - val_acc: 0.7000\n",
            "Epoch 43/200\n",
            "120/120 [==============================] - 0s 99us/step - loss: 0.7574 - acc: 0.6750 - val_loss: 0.7402 - val_acc: 0.7000\n",
            "Epoch 44/200\n",
            "120/120 [==============================] - 0s 103us/step - loss: 0.7412 - acc: 0.6750 - val_loss: 0.7224 - val_acc: 0.7000\n",
            "Epoch 45/200\n",
            "120/120 [==============================] - 0s 105us/step - loss: 0.7250 - acc: 0.6750 - val_loss: 0.7052 - val_acc: 0.7000\n",
            "Epoch 46/200\n",
            "120/120 [==============================] - 0s 90us/step - loss: 0.7103 - acc: 0.6667 - val_loss: 0.6886 - val_acc: 0.6667\n",
            "Epoch 47/200\n",
            "120/120 [==============================] - 0s 124us/step - loss: 0.6944 - acc: 0.6667 - val_loss: 0.6730 - val_acc: 0.6667\n",
            "Epoch 48/200\n",
            "120/120 [==============================] - 0s 85us/step - loss: 0.6804 - acc: 0.6667 - val_loss: 0.6576 - val_acc: 0.6667\n",
            "Epoch 49/200\n",
            "120/120 [==============================] - 0s 74us/step - loss: 0.6654 - acc: 0.6667 - val_loss: 0.6424 - val_acc: 0.6667\n",
            "Epoch 50/200\n",
            "120/120 [==============================] - 0s 113us/step - loss: 0.6520 - acc: 0.6667 - val_loss: 0.6276 - val_acc: 0.6667\n",
            "Epoch 51/200\n",
            "120/120 [==============================] - 0s 77us/step - loss: 0.6386 - acc: 0.6667 - val_loss: 0.6130 - val_acc: 0.6667\n",
            "Epoch 52/200\n",
            "120/120 [==============================] - 0s 114us/step - loss: 0.6260 - acc: 0.6833 - val_loss: 0.5984 - val_acc: 0.6667\n",
            "Epoch 53/200\n",
            "120/120 [==============================] - 0s 98us/step - loss: 0.6129 - acc: 0.6833 - val_loss: 0.5850 - val_acc: 0.6667\n",
            "Epoch 54/200\n",
            "120/120 [==============================] - 0s 86us/step - loss: 0.6011 - acc: 0.6917 - val_loss: 0.5719 - val_acc: 0.6667\n",
            "Epoch 55/200\n",
            "120/120 [==============================] - 0s 103us/step - loss: 0.5894 - acc: 0.7000 - val_loss: 0.5595 - val_acc: 0.6667\n",
            "Epoch 56/200\n",
            "120/120 [==============================] - 0s 85us/step - loss: 0.5786 - acc: 0.7000 - val_loss: 0.5478 - val_acc: 0.6667\n",
            "Epoch 57/200\n",
            "120/120 [==============================] - 0s 96us/step - loss: 0.5683 - acc: 0.7000 - val_loss: 0.5363 - val_acc: 0.6667\n",
            "Epoch 58/200\n",
            "120/120 [==============================] - 0s 113us/step - loss: 0.5577 - acc: 0.7000 - val_loss: 0.5255 - val_acc: 0.6667\n",
            "Epoch 59/200\n",
            "120/120 [==============================] - 0s 91us/step - loss: 0.5484 - acc: 0.7083 - val_loss: 0.5151 - val_acc: 0.7000\n",
            "Epoch 60/200\n",
            "120/120 [==============================] - 0s 94us/step - loss: 0.5391 - acc: 0.7083 - val_loss: 0.5048 - val_acc: 0.7000\n",
            "Epoch 61/200\n",
            "120/120 [==============================] - 0s 86us/step - loss: 0.5306 - acc: 0.7500 - val_loss: 0.4951 - val_acc: 0.7333\n",
            "Epoch 62/200\n",
            "120/120 [==============================] - 0s 77us/step - loss: 0.5221 - acc: 0.7500 - val_loss: 0.4861 - val_acc: 0.7333\n",
            "Epoch 63/200\n",
            "120/120 [==============================] - 0s 84us/step - loss: 0.5146 - acc: 0.7667 - val_loss: 0.4774 - val_acc: 0.7667\n",
            "Epoch 64/200\n",
            "120/120 [==============================] - 0s 92us/step - loss: 0.5068 - acc: 0.7917 - val_loss: 0.4696 - val_acc: 0.7667\n",
            "Epoch 65/200\n",
            "120/120 [==============================] - 0s 107us/step - loss: 0.4995 - acc: 0.7917 - val_loss: 0.4622 - val_acc: 0.8000\n",
            "Epoch 66/200\n",
            "120/120 [==============================] - 0s 84us/step - loss: 0.4934 - acc: 0.7833 - val_loss: 0.4560 - val_acc: 0.7667\n",
            "Epoch 67/200\n",
            "120/120 [==============================] - 0s 89us/step - loss: 0.4861 - acc: 0.7833 - val_loss: 0.4489 - val_acc: 0.7667\n",
            "Epoch 68/200\n",
            "120/120 [==============================] - 0s 114us/step - loss: 0.4798 - acc: 0.7833 - val_loss: 0.4422 - val_acc: 0.8333\n",
            "Epoch 69/200\n",
            "120/120 [==============================] - 0s 88us/step - loss: 0.4739 - acc: 0.7917 - val_loss: 0.4360 - val_acc: 0.8667\n",
            "Epoch 70/200\n",
            "120/120 [==============================] - 0s 109us/step - loss: 0.4679 - acc: 0.8000 - val_loss: 0.4300 - val_acc: 0.8667\n",
            "Epoch 71/200\n",
            "120/120 [==============================] - 0s 119us/step - loss: 0.4626 - acc: 0.8250 - val_loss: 0.4238 - val_acc: 0.8667\n",
            "Epoch 72/200\n",
            "120/120 [==============================] - 0s 90us/step - loss: 0.4570 - acc: 0.8333 - val_loss: 0.4184 - val_acc: 0.9000\n",
            "Epoch 73/200\n",
            "120/120 [==============================] - 0s 101us/step - loss: 0.4520 - acc: 0.8417 - val_loss: 0.4129 - val_acc: 0.9000\n",
            "Epoch 74/200\n",
            "120/120 [==============================] - 0s 104us/step - loss: 0.4467 - acc: 0.8583 - val_loss: 0.4081 - val_acc: 0.9000\n",
            "Epoch 75/200\n",
            "120/120 [==============================] - 0s 87us/step - loss: 0.4417 - acc: 0.8667 - val_loss: 0.4037 - val_acc: 0.9000\n",
            "Epoch 76/200\n",
            "120/120 [==============================] - 0s 90us/step - loss: 0.4371 - acc: 0.8500 - val_loss: 0.3992 - val_acc: 0.9000\n",
            "Epoch 77/200\n",
            "120/120 [==============================] - 0s 89us/step - loss: 0.4325 - acc: 0.8583 - val_loss: 0.3946 - val_acc: 0.9000\n",
            "Epoch 78/200\n",
            "120/120 [==============================] - 0s 87us/step - loss: 0.4279 - acc: 0.8667 - val_loss: 0.3904 - val_acc: 0.9000\n",
            "Epoch 79/200\n",
            "120/120 [==============================] - 0s 82us/step - loss: 0.4236 - acc: 0.8667 - val_loss: 0.3862 - val_acc: 0.9000\n",
            "Epoch 80/200\n",
            "120/120 [==============================] - 0s 92us/step - loss: 0.4198 - acc: 0.8583 - val_loss: 0.3825 - val_acc: 0.9000\n",
            "Epoch 81/200\n",
            "120/120 [==============================] - 0s 90us/step - loss: 0.4149 - acc: 0.8750 - val_loss: 0.3775 - val_acc: 0.9333\n",
            "Epoch 82/200\n",
            "120/120 [==============================] - 0s 100us/step - loss: 0.4107 - acc: 0.9000 - val_loss: 0.3725 - val_acc: 0.9333\n",
            "Epoch 83/200\n",
            "120/120 [==============================] - 0s 109us/step - loss: 0.4074 - acc: 0.9333 - val_loss: 0.3675 - val_acc: 0.9333\n",
            "Epoch 84/200\n",
            "120/120 [==============================] - 0s 91us/step - loss: 0.4028 - acc: 0.9500 - val_loss: 0.3637 - val_acc: 0.9333\n",
            "Epoch 85/200\n",
            "120/120 [==============================] - 0s 100us/step - loss: 0.3987 - acc: 0.9417 - val_loss: 0.3600 - val_acc: 0.9333\n",
            "Epoch 86/200\n",
            "120/120 [==============================] - 0s 80us/step - loss: 0.3946 - acc: 0.9417 - val_loss: 0.3568 - val_acc: 0.9333\n",
            "Epoch 87/200\n",
            "120/120 [==============================] - 0s 107us/step - loss: 0.3906 - acc: 0.9333 - val_loss: 0.3534 - val_acc: 0.9333\n",
            "Epoch 88/200\n",
            "120/120 [==============================] - 0s 107us/step - loss: 0.3871 - acc: 0.9333 - val_loss: 0.3496 - val_acc: 0.9667\n",
            "Epoch 89/200\n",
            "120/120 [==============================] - 0s 113us/step - loss: 0.3831 - acc: 0.9333 - val_loss: 0.3469 - val_acc: 0.9333\n",
            "Epoch 90/200\n",
            "120/120 [==============================] - 0s 93us/step - loss: 0.3794 - acc: 0.9333 - val_loss: 0.3440 - val_acc: 0.9333\n",
            "Epoch 91/200\n",
            "120/120 [==============================] - 0s 90us/step - loss: 0.3756 - acc: 0.9333 - val_loss: 0.3398 - val_acc: 0.9333\n",
            "Epoch 92/200\n",
            "120/120 [==============================] - 0s 95us/step - loss: 0.3717 - acc: 0.9333 - val_loss: 0.3357 - val_acc: 0.9667\n",
            "Epoch 93/200\n",
            "120/120 [==============================] - 0s 92us/step - loss: 0.3681 - acc: 0.9500 - val_loss: 0.3313 - val_acc: 0.9667\n",
            "Epoch 94/200\n",
            "120/120 [==============================] - 0s 105us/step - loss: 0.3655 - acc: 0.9500 - val_loss: 0.3270 - val_acc: 0.9667\n",
            "Epoch 95/200\n",
            "120/120 [==============================] - 0s 75us/step - loss: 0.3607 - acc: 0.9500 - val_loss: 0.3243 - val_acc: 0.9667\n",
            "Epoch 96/200\n",
            "120/120 [==============================] - 0s 102us/step - loss: 0.3567 - acc: 0.9500 - val_loss: 0.3215 - val_acc: 0.9667\n",
            "Epoch 97/200\n",
            "120/120 [==============================] - 0s 94us/step - loss: 0.3534 - acc: 0.9500 - val_loss: 0.3189 - val_acc: 0.9667\n",
            "Epoch 98/200\n",
            "120/120 [==============================] - 0s 93us/step - loss: 0.3502 - acc: 0.9500 - val_loss: 0.3149 - val_acc: 0.9667\n",
            "Epoch 99/200\n",
            "120/120 [==============================] - 0s 93us/step - loss: 0.3463 - acc: 0.9583 - val_loss: 0.3113 - val_acc: 0.9667\n",
            "Epoch 100/200\n",
            "120/120 [==============================] - 0s 90us/step - loss: 0.3425 - acc: 0.9583 - val_loss: 0.3081 - val_acc: 0.9667\n",
            "Epoch 101/200\n",
            "120/120 [==============================] - 0s 78us/step - loss: 0.3390 - acc: 0.9583 - val_loss: 0.3043 - val_acc: 0.9667\n",
            "Epoch 102/200\n",
            "120/120 [==============================] - 0s 96us/step - loss: 0.3357 - acc: 0.9667 - val_loss: 0.3005 - val_acc: 0.9667\n",
            "Epoch 103/200\n",
            "120/120 [==============================] - 0s 92us/step - loss: 0.3319 - acc: 0.9667 - val_loss: 0.2982 - val_acc: 0.9667\n",
            "Epoch 104/200\n",
            "120/120 [==============================] - 0s 84us/step - loss: 0.3282 - acc: 0.9667 - val_loss: 0.2950 - val_acc: 0.9667\n",
            "Epoch 105/200\n",
            "120/120 [==============================] - 0s 110us/step - loss: 0.3247 - acc: 0.9667 - val_loss: 0.2919 - val_acc: 0.9667\n",
            "Epoch 106/200\n",
            "120/120 [==============================] - 0s 110us/step - loss: 0.3211 - acc: 0.9667 - val_loss: 0.2891 - val_acc: 0.9667\n",
            "Epoch 107/200\n",
            "120/120 [==============================] - 0s 92us/step - loss: 0.3178 - acc: 0.9667 - val_loss: 0.2857 - val_acc: 0.9667\n",
            "Epoch 108/200\n",
            "120/120 [==============================] - 0s 84us/step - loss: 0.3142 - acc: 0.9667 - val_loss: 0.2823 - val_acc: 0.9667\n",
            "Epoch 109/200\n",
            "120/120 [==============================] - 0s 68us/step - loss: 0.3108 - acc: 0.9667 - val_loss: 0.2783 - val_acc: 0.9667\n",
            "Epoch 110/200\n",
            "120/120 [==============================] - 0s 100us/step - loss: 0.3073 - acc: 0.9667 - val_loss: 0.2751 - val_acc: 0.9667\n",
            "Epoch 111/200\n",
            "120/120 [==============================] - 0s 77us/step - loss: 0.3046 - acc: 0.9667 - val_loss: 0.2733 - val_acc: 0.9667\n",
            "Epoch 112/200\n",
            "120/120 [==============================] - 0s 90us/step - loss: 0.3004 - acc: 0.9667 - val_loss: 0.2693 - val_acc: 0.9667\n",
            "Epoch 113/200\n",
            "120/120 [==============================] - 0s 97us/step - loss: 0.2968 - acc: 0.9667 - val_loss: 0.2659 - val_acc: 0.9667\n",
            "Epoch 114/200\n",
            "120/120 [==============================] - 0s 85us/step - loss: 0.2941 - acc: 0.9667 - val_loss: 0.2632 - val_acc: 0.9667\n",
            "Epoch 115/200\n",
            "120/120 [==============================] - 0s 92us/step - loss: 0.2902 - acc: 0.9667 - val_loss: 0.2596 - val_acc: 0.9667\n",
            "Epoch 116/200\n",
            "120/120 [==============================] - 0s 94us/step - loss: 0.2868 - acc: 0.9667 - val_loss: 0.2566 - val_acc: 0.9667\n",
            "Epoch 117/200\n",
            "120/120 [==============================] - 0s 108us/step - loss: 0.2840 - acc: 0.9667 - val_loss: 0.2536 - val_acc: 0.9667\n",
            "Epoch 118/200\n",
            "120/120 [==============================] - 0s 95us/step - loss: 0.2803 - acc: 0.9667 - val_loss: 0.2518 - val_acc: 0.9667\n",
            "Epoch 119/200\n",
            "120/120 [==============================] - 0s 89us/step - loss: 0.2772 - acc: 0.9667 - val_loss: 0.2495 - val_acc: 0.9667\n",
            "Epoch 120/200\n",
            "120/120 [==============================] - 0s 104us/step - loss: 0.2738 - acc: 0.9667 - val_loss: 0.2467 - val_acc: 0.9667\n",
            "Epoch 121/200\n",
            "120/120 [==============================] - 0s 90us/step - loss: 0.2708 - acc: 0.9667 - val_loss: 0.2427 - val_acc: 0.9667\n",
            "Epoch 122/200\n",
            "120/120 [==============================] - 0s 79us/step - loss: 0.2679 - acc: 0.9667 - val_loss: 0.2403 - val_acc: 0.9667\n",
            "Epoch 123/200\n",
            "120/120 [==============================] - 0s 85us/step - loss: 0.2644 - acc: 0.9667 - val_loss: 0.2365 - val_acc: 0.9667\n",
            "Epoch 124/200\n",
            "120/120 [==============================] - 0s 89us/step - loss: 0.2615 - acc: 0.9750 - val_loss: 0.2333 - val_acc: 0.9667\n",
            "Epoch 125/200\n",
            "120/120 [==============================] - 0s 79us/step - loss: 0.2584 - acc: 0.9750 - val_loss: 0.2308 - val_acc: 0.9667\n",
            "Epoch 126/200\n",
            "120/120 [==============================] - 0s 83us/step - loss: 0.2552 - acc: 0.9750 - val_loss: 0.2287 - val_acc: 0.9667\n",
            "Epoch 127/200\n",
            "120/120 [==============================] - 0s 84us/step - loss: 0.2528 - acc: 0.9667 - val_loss: 0.2281 - val_acc: 0.9667\n",
            "Epoch 128/200\n",
            "120/120 [==============================] - 0s 82us/step - loss: 0.2495 - acc: 0.9667 - val_loss: 0.2257 - val_acc: 0.9667\n",
            "Epoch 129/200\n",
            "120/120 [==============================] - 0s 99us/step - loss: 0.2465 - acc: 0.9667 - val_loss: 0.2218 - val_acc: 0.9667\n",
            "Epoch 130/200\n",
            "120/120 [==============================] - 0s 74us/step - loss: 0.2434 - acc: 0.9750 - val_loss: 0.2185 - val_acc: 0.9667\n",
            "Epoch 131/200\n",
            "120/120 [==============================] - 0s 97us/step - loss: 0.2406 - acc: 0.9750 - val_loss: 0.2152 - val_acc: 0.9667\n",
            "Epoch 132/200\n",
            "120/120 [==============================] - 0s 119us/step - loss: 0.2377 - acc: 0.9667 - val_loss: 0.2130 - val_acc: 0.9667\n",
            "Epoch 133/200\n",
            "120/120 [==============================] - 0s 79us/step - loss: 0.2357 - acc: 0.9667 - val_loss: 0.2115 - val_acc: 0.9667\n",
            "Epoch 134/200\n",
            "120/120 [==============================] - 0s 65us/step - loss: 0.2321 - acc: 0.9750 - val_loss: 0.2090 - val_acc: 0.9667\n",
            "Epoch 135/200\n",
            "120/120 [==============================] - 0s 99us/step - loss: 0.2296 - acc: 0.9750 - val_loss: 0.2073 - val_acc: 0.9667\n",
            "Epoch 136/200\n",
            "120/120 [==============================] - 0s 100us/step - loss: 0.2269 - acc: 0.9750 - val_loss: 0.2045 - val_acc: 0.9667\n",
            "Epoch 137/200\n",
            "120/120 [==============================] - 0s 126us/step - loss: 0.2243 - acc: 0.9750 - val_loss: 0.2025 - val_acc: 0.9667\n",
            "Epoch 138/200\n",
            "120/120 [==============================] - 0s 137us/step - loss: 0.2215 - acc: 0.9750 - val_loss: 0.1993 - val_acc: 0.9667\n",
            "Epoch 139/200\n",
            "120/120 [==============================] - 0s 89us/step - loss: 0.2194 - acc: 0.9667 - val_loss: 0.1954 - val_acc: 0.9667\n",
            "Epoch 140/200\n",
            "120/120 [==============================] - 0s 90us/step - loss: 0.2165 - acc: 0.9667 - val_loss: 0.1934 - val_acc: 0.9667\n",
            "Epoch 141/200\n",
            "120/120 [==============================] - 0s 67us/step - loss: 0.2146 - acc: 0.9667 - val_loss: 0.1926 - val_acc: 0.9667\n",
            "Epoch 142/200\n",
            "120/120 [==============================] - 0s 96us/step - loss: 0.2112 - acc: 0.9667 - val_loss: 0.1905 - val_acc: 0.9667\n",
            "Epoch 143/200\n",
            "120/120 [==============================] - 0s 83us/step - loss: 0.2091 - acc: 0.9667 - val_loss: 0.1881 - val_acc: 0.9667\n",
            "Epoch 144/200\n",
            "120/120 [==============================] - 0s 81us/step - loss: 0.2065 - acc: 0.9667 - val_loss: 0.1864 - val_acc: 0.9667\n",
            "Epoch 145/200\n",
            "120/120 [==============================] - 0s 98us/step - loss: 0.2040 - acc: 0.9667 - val_loss: 0.1844 - val_acc: 0.9667\n",
            "Epoch 146/200\n",
            "120/120 [==============================] - 0s 105us/step - loss: 0.2017 - acc: 0.9667 - val_loss: 0.1824 - val_acc: 0.9667\n",
            "Epoch 147/200\n",
            "120/120 [==============================] - 0s 106us/step - loss: 0.1998 - acc: 0.9667 - val_loss: 0.1805 - val_acc: 0.9667\n",
            "Epoch 148/200\n",
            "120/120 [==============================] - 0s 103us/step - loss: 0.1982 - acc: 0.9667 - val_loss: 0.1770 - val_acc: 0.9667\n",
            "Epoch 149/200\n",
            "120/120 [==============================] - 0s 79us/step - loss: 0.1949 - acc: 0.9667 - val_loss: 0.1756 - val_acc: 0.9667\n",
            "Epoch 150/200\n",
            "120/120 [==============================] - 0s 97us/step - loss: 0.1928 - acc: 0.9667 - val_loss: 0.1740 - val_acc: 0.9667\n",
            "Epoch 151/200\n",
            "120/120 [==============================] - 0s 80us/step - loss: 0.1907 - acc: 0.9667 - val_loss: 0.1722 - val_acc: 0.9667\n",
            "Epoch 152/200\n",
            "120/120 [==============================] - 0s 83us/step - loss: 0.1885 - acc: 0.9667 - val_loss: 0.1707 - val_acc: 0.9667\n",
            "Epoch 153/200\n",
            "120/120 [==============================] - 0s 91us/step - loss: 0.1866 - acc: 0.9667 - val_loss: 0.1692 - val_acc: 0.9667\n",
            "Epoch 154/200\n",
            "120/120 [==============================] - 0s 81us/step - loss: 0.1848 - acc: 0.9667 - val_loss: 0.1658 - val_acc: 0.9667\n",
            "Epoch 155/200\n",
            "120/120 [==============================] - 0s 94us/step - loss: 0.1823 - acc: 0.9667 - val_loss: 0.1634 - val_acc: 0.9667\n",
            "Epoch 156/200\n",
            "120/120 [==============================] - 0s 96us/step - loss: 0.1801 - acc: 0.9667 - val_loss: 0.1615 - val_acc: 0.9667\n",
            "Epoch 157/200\n",
            "120/120 [==============================] - 0s 85us/step - loss: 0.1776 - acc: 0.9667 - val_loss: 0.1584 - val_acc: 0.9667\n",
            "Epoch 158/200\n",
            "120/120 [==============================] - 0s 114us/step - loss: 0.1746 - acc: 0.9667 - val_loss: 0.1566 - val_acc: 0.9667\n",
            "Epoch 159/200\n",
            "120/120 [==============================] - 0s 101us/step - loss: 0.1725 - acc: 0.9667 - val_loss: 0.1549 - val_acc: 0.9667\n",
            "Epoch 160/200\n",
            "120/120 [==============================] - 0s 97us/step - loss: 0.1701 - acc: 0.9667 - val_loss: 0.1533 - val_acc: 0.9667\n",
            "Epoch 161/200\n",
            "120/120 [==============================] - 0s 93us/step - loss: 0.1692 - acc: 0.9667 - val_loss: 0.1526 - val_acc: 0.9667\n",
            "Epoch 162/200\n",
            "120/120 [==============================] - 0s 87us/step - loss: 0.1661 - acc: 0.9667 - val_loss: 0.1494 - val_acc: 0.9667\n",
            "Epoch 163/200\n",
            "120/120 [==============================] - 0s 87us/step - loss: 0.1636 - acc: 0.9667 - val_loss: 0.1466 - val_acc: 0.9667\n",
            "Epoch 164/200\n",
            "120/120 [==============================] - 0s 139us/step - loss: 0.1619 - acc: 0.9667 - val_loss: 0.1445 - val_acc: 0.9667\n",
            "Epoch 165/200\n",
            "120/120 [==============================] - 0s 94us/step - loss: 0.1606 - acc: 0.9667 - val_loss: 0.1429 - val_acc: 0.9667\n",
            "Epoch 166/200\n",
            "120/120 [==============================] - 0s 87us/step - loss: 0.1587 - acc: 0.9750 - val_loss: 0.1407 - val_acc: 0.9667\n",
            "Epoch 167/200\n",
            "120/120 [==============================] - 0s 148us/step - loss: 0.1572 - acc: 0.9750 - val_loss: 0.1390 - val_acc: 0.9667\n",
            "Epoch 168/200\n",
            "120/120 [==============================] - 0s 144us/step - loss: 0.1549 - acc: 0.9667 - val_loss: 0.1389 - val_acc: 0.9667\n",
            "Epoch 169/200\n",
            "120/120 [==============================] - 0s 81us/step - loss: 0.1533 - acc: 0.9667 - val_loss: 0.1391 - val_acc: 0.9667\n",
            "Epoch 170/200\n",
            "120/120 [==============================] - 0s 89us/step - loss: 0.1513 - acc: 0.9667 - val_loss: 0.1371 - val_acc: 0.9667\n",
            "Epoch 171/200\n",
            "120/120 [==============================] - 0s 77us/step - loss: 0.1497 - acc: 0.9667 - val_loss: 0.1349 - val_acc: 0.9667\n",
            "Epoch 172/200\n",
            "120/120 [==============================] - 0s 63us/step - loss: 0.1478 - acc: 0.9667 - val_loss: 0.1333 - val_acc: 0.9667\n",
            "Epoch 173/200\n",
            "120/120 [==============================] - 0s 72us/step - loss: 0.1463 - acc: 0.9667 - val_loss: 0.1319 - val_acc: 0.9667\n",
            "Epoch 174/200\n",
            "120/120 [==============================] - 0s 79us/step - loss: 0.1449 - acc: 0.9667 - val_loss: 0.1301 - val_acc: 0.9667\n",
            "Epoch 175/200\n",
            "120/120 [==============================] - 0s 73us/step - loss: 0.1433 - acc: 0.9667 - val_loss: 0.1291 - val_acc: 0.9667\n",
            "Epoch 176/200\n",
            "120/120 [==============================] - 0s 68us/step - loss: 0.1418 - acc: 0.9667 - val_loss: 0.1278 - val_acc: 0.9667\n",
            "Epoch 177/200\n",
            "120/120 [==============================] - 0s 71us/step - loss: 0.1404 - acc: 0.9667 - val_loss: 0.1276 - val_acc: 0.9667\n",
            "Epoch 178/200\n",
            "120/120 [==============================] - 0s 71us/step - loss: 0.1389 - acc: 0.9667 - val_loss: 0.1265 - val_acc: 0.9667\n",
            "Epoch 179/200\n",
            "120/120 [==============================] - 0s 69us/step - loss: 0.1377 - acc: 0.9667 - val_loss: 0.1246 - val_acc: 0.9667\n",
            "Epoch 180/200\n",
            "120/120 [==============================] - 0s 87us/step - loss: 0.1361 - acc: 0.9667 - val_loss: 0.1236 - val_acc: 0.9667\n",
            "Epoch 181/200\n",
            "120/120 [==============================] - 0s 75us/step - loss: 0.1346 - acc: 0.9667 - val_loss: 0.1224 - val_acc: 0.9667\n",
            "Epoch 182/200\n",
            "120/120 [==============================] - 0s 84us/step - loss: 0.1335 - acc: 0.9667 - val_loss: 0.1213 - val_acc: 0.9667\n",
            "Epoch 183/200\n",
            "120/120 [==============================] - 0s 92us/step - loss: 0.1324 - acc: 0.9667 - val_loss: 0.1199 - val_acc: 0.9667\n",
            "Epoch 184/200\n",
            "120/120 [==============================] - 0s 84us/step - loss: 0.1309 - acc: 0.9667 - val_loss: 0.1189 - val_acc: 0.9667\n",
            "Epoch 185/200\n",
            "120/120 [==============================] - 0s 76us/step - loss: 0.1295 - acc: 0.9667 - val_loss: 0.1180 - val_acc: 0.9667\n",
            "Epoch 186/200\n",
            "120/120 [==============================] - 0s 88us/step - loss: 0.1295 - acc: 0.9667 - val_loss: 0.1164 - val_acc: 0.9667\n",
            "Epoch 187/200\n",
            "120/120 [==============================] - 0s 84us/step - loss: 0.1273 - acc: 0.9667 - val_loss: 0.1161 - val_acc: 0.9667\n",
            "Epoch 188/200\n",
            "120/120 [==============================] - 0s 68us/step - loss: 0.1264 - acc: 0.9667 - val_loss: 0.1150 - val_acc: 0.9667\n",
            "Epoch 189/200\n",
            "120/120 [==============================] - 0s 101us/step - loss: 0.1248 - acc: 0.9667 - val_loss: 0.1147 - val_acc: 0.9667\n",
            "Epoch 190/200\n",
            "120/120 [==============================] - 0s 72us/step - loss: 0.1242 - acc: 0.9667 - val_loss: 0.1141 - val_acc: 0.9667\n",
            "Epoch 191/200\n",
            "120/120 [==============================] - 0s 75us/step - loss: 0.1231 - acc: 0.9667 - val_loss: 0.1132 - val_acc: 0.9667\n",
            "Epoch 192/200\n",
            "120/120 [==============================] - 0s 79us/step - loss: 0.1220 - acc: 0.9667 - val_loss: 0.1113 - val_acc: 0.9667\n",
            "Epoch 193/200\n",
            "120/120 [==============================] - 0s 81us/step - loss: 0.1208 - acc: 0.9667 - val_loss: 0.1103 - val_acc: 0.9667\n",
            "Epoch 194/200\n",
            "120/120 [==============================] - 0s 85us/step - loss: 0.1197 - acc: 0.9667 - val_loss: 0.1092 - val_acc: 0.9667\n",
            "Epoch 195/200\n",
            "120/120 [==============================] - 0s 84us/step - loss: 0.1188 - acc: 0.9667 - val_loss: 0.1082 - val_acc: 0.9667\n",
            "Epoch 196/200\n",
            "120/120 [==============================] - 0s 81us/step - loss: 0.1182 - acc: 0.9667 - val_loss: 0.1075 - val_acc: 0.9667\n",
            "Epoch 197/200\n",
            "120/120 [==============================] - 0s 79us/step - loss: 0.1177 - acc: 0.9667 - val_loss: 0.1080 - val_acc: 0.9667\n",
            "Epoch 198/200\n",
            "120/120 [==============================] - 0s 99us/step - loss: 0.1161 - acc: 0.9667 - val_loss: 0.1069 - val_acc: 0.9667\n",
            "Epoch 199/200\n",
            "120/120 [==============================] - 0s 77us/step - loss: 0.1154 - acc: 0.9667 - val_loss: 0.1055 - val_acc: 0.9667\n",
            "Epoch 200/200\n",
            "120/120 [==============================] - 0s 89us/step - loss: 0.1140 - acc: 0.9667 - val_loss: 0.1047 - val_acc: 0.9667\n"
          ],
          "name": "stdout"
        }
      ]
    },
    {
      "metadata": {
        "id": "B65n9trA1qzU",
        "colab_type": "code",
        "outputId": "b75fb6ac-7d4b-4311-c4c5-1a2840ae9bdd",
        "colab": {
          "base_uri": "https://localhost:8080/",
          "height": 70
        }
      },
      "cell_type": "code",
      "source": [
        "# Evaluate model on test data\n",
        "print (\"Running final scoring on test data\")\n",
        "score = Iris_neuralNetwork.evaluate(X_test, y_test, verbose=1)\n",
        "print (\"The accuracy for this model is \", format(score[1], \",.2f\"))"
      ],
      "execution_count": 0,
      "outputs": [
        {
          "output_type": "stream",
          "text": [
            "Running final scoring on test data\n",
            "\r30/30 [==============================] - 0s 36us/step\n",
            "The accuracy for this model is  0.97\n"
          ],
          "name": "stdout"
        }
      ]
    },
    {
      "metadata": {
        "id": "NRH1j7fWXjo9",
        "colab_type": "text"
      },
      "cell_type": "markdown",
      "source": [
        "## Plot the Training History\n",
        "\n",
        "We store the performance during training is a variable named 'history'. The x-axis is the training time or number of epochs.\n",
        "\n",
        "- Accuracy: Accuracy of the predictions, hopefully this is increasing to near 1.0\n",
        "- Loss: How close the output is to the desired output, this should decrease to near 0.0"
      ]
    },
    {
      "metadata": {
        "id": "vYYUtTbmYMgw",
        "colab_type": "code",
        "outputId": "db4d93d9-03be-466a-d9c1-4f4280e63a65",
        "colab": {
          "base_uri": "https://localhost:8080/",
          "height": 362
        }
      },
      "cell_type": "code",
      "source": [
        "# Plot the loss and accuracy curves for training and validation \n",
        "fig, ax = plt.subplots(2,1)\n",
        "\n",
        "ax[0].plot(history.history['acc'], color='b', label=\"Training accuracy\")\n",
        "ax[0].plot(history.history['val_acc'], color='r',label=\"Testing accuracy\")\n",
        "ax[0].set_title(\"Accruacy\")\n",
        "legend = ax[0].legend(loc='best', shadow=True)\n",
        "ax[0].set_ylim([0, 1])\n",
        "              \n",
        "ax[1].plot(history.history['loss'], color='b', label=\"Training loss\")\n",
        "ax[1].plot(history.history['val_loss'], color='r', label=\"Testing loss\",axes =ax[1])\n",
        "ax[1].set_title(\"Loss\")\n",
        "legend = ax[1].legend(loc='best', shadow=True)\n",
        "\n"
      ],
      "execution_count": 0,
      "outputs": [
        {
          "output_type": "display_data",
          "data": {
            "image/png": "[encoded data removed]",
            "text/plain": [
              "<Figure size 576x396 with 2 Axes>"
            ]
          },
          "metadata": {
            "tags": []
          }
        }
      ]
    },
    {
      "metadata": {
        "id": "ZI-vfLqjeIsG",
        "colab_type": "text"
      },
      "cell_type": "markdown",
      "source": [
        "## Task 2: Improving the Network\n",
        "\n",
        "1. What is the training accuracy, acc, and the testing accuracy, val_acc, of the model?\n",
        "\n",
        "2. Change the number of epochs used during training from 50 to 200. \n",
        " - Go back up to Task 1 and re-run all the cells down to this cell to re-train the network\n",
        " \n",
        "3. Try more hidden layers. The more hidden layers, the  more internal features the nework can learn. Try changing the number of nodes in each hidden layer to larger numbers. How accurate can you get the network? \n",
        " - Go back up to Task 1 and re-run all the cells down to this cell to re-train the network"
      ]
    },
    {
      "metadata": {
        "id": "XTszMKsRmO5L",
        "colab_type": "text"
      },
      "cell_type": "markdown",
      "source": [
        "## Task 3: Prediction\n",
        "Once we have trained or fit the model to the data, we can use it to make predictions.\n",
        "\n",
        "Here we will predict the iris species for a new flower with \n",
        "- SepalLengthCm = 5.2\t\n",
        "- SepalWidthCm = 3.3\n",
        "- PetalLengthCm = 1.4\n",
        "- PetalWidthCm\t= 0.2\n",
        "\n",
        "This should be a Iris-setosa\n",
        "\n",
        "Change the code below to make a prediction for a new flower with the following measurements.\n",
        "- SepalLengthCm = 4.2\t\n",
        "- SepalWidthCm = 3.0\n",
        "- PetalLengthCm = 3.4\n",
        "- PetalWidthCm\t= 1.2\n",
        "\n",
        "This should be a Iris-setosa"
      ]
    },
    {
      "metadata": {
        "id": "oRfDA6gj-HyV",
        "colab_type": "code",
        "outputId": "973c83d7-02b3-4f72-c132-7fe98195206c",
        "colab": {
          "base_uri": "https://localhost:8080/",
          "height": 52
        }
      },
      "cell_type": "code",
      "source": [
        "# The parameter order is SepalLengthCm, SepalWidthCm, PetalLengthCm, PetalWidthCm\n",
        "flowerMeasurements = [ [5.2, 3.3, 1.4, 0.2] ]\n",
        "\n",
        "# Scale the data since the original training data was scaled\n",
        "flowerMeasurements = mmScaler.transform(flowerMeasurements).reshape(1, -1) \n",
        "\n",
        "# Use the neural network to generate the prediction\n",
        "prediction = Iris_neuralNetwork.predict(flowerMeasurements)\n",
        "\n",
        "# The prediction is a score for how likely each species is, the highest value corresponds to the predicted species\n",
        "print (\"Predicted score for each Iris species is \", prediction)\n",
        "# [ 0.994  0.005  0.00002]\n",
        "\n",
        "# select the indix with the maximum probability\n",
        "irisNum = np.argmax(prediction)\n",
        "print (\"This flower is of type : \", species[irisNum])"
      ],
      "execution_count": 0,
      "outputs": [
        {
          "output_type": "stream",
          "text": [
            "Predicted score for each Iris species is  [[9.9437934e-01 5.6180633e-03 2.5489630e-06]]\n",
            "This flower is of type :  Iris-setosa\n"
          ],
          "name": "stdout"
        }
      ]
    },
    {
      "metadata": {
        "id": "k7SCGnzo_bzK",
        "colab_type": "text"
      },
      "cell_type": "markdown",
      "source": [
        "# Section II: Breast Cancer Data\n",
        "=== *You must run Section 0 before this section* ===\n",
        "### Neural Networks with the cancer dataset\n",
        "The following code loads in the breast cancer dataset"
      ]
    },
    {
      "metadata": {
        "id": "5l2xF4cdVxuZ",
        "colab_type": "code",
        "colab": {}
      },
      "cell_type": "code",
      "source": [
        " \n",
        "  # Read in the breast cancer data file from stored in a raw file in GitHub\n",
        "url_bc = 'https://raw.githubusercontent.com/CIS3115-Machine-Learning-Scholastica/CIS3115ML-Units3and4/master/breast-cancer-wisconsin-data.csv'\n",
        "\n",
        "cancer = pd.read_csv(url_bc)\n",
        "# Set the Id column as the index since it is unique for each pati\n",
        "cancer.set_index('id', inplace=True)"
      ],
      "execution_count": 0,
      "outputs": []
    },
    {
      "metadata": {
        "id": "gmhyyINeV_YW",
        "colab_type": "code",
        "outputId": "fda659a6-4c60-4734-a504-5d88bde0245d",
        "colab": {
          "base_uri": "https://localhost:8080/",
          "height": 296
        }
      },
      "cell_type": "code",
      "source": [
        "# Display the first 5 rows at the start, or head, of the dataframe\n",
        "cancer.head(5)"
      ],
      "execution_count": 0,
      "outputs": [
        {
          "output_type": "execute_result",
          "data": {
            "text/html": [
              "<div>\n",
              "<style scoped>\n",
              "    .dataframe tbody tr th:only-of-type {\n",
              "        vertical-align: middle;\n",
              "    }\n",
              "\n",
              "    .dataframe tbody tr th {\n",
              "        vertical-align: top;\n",
              "    }\n",
              "\n",
              "    .dataframe thead th {\n",
              "        text-align: right;\n",
              "    }\n",
              "</style>\n",
              "<table border=\"1\" class=\"dataframe\">\n",
              "  <thead>\n",
              "    <tr style=\"text-align: right;\">\n",
              "      <th></th>\n",
              "      <th>diagnosis</th>\n",
              "      <th>radius_mean</th>\n",
              "      <th>texture_mean</th>\n",
              "      <th>perimeter_mean</th>\n",
              "      <th>area_mean</th>\n",
              "      <th>smoothness_mean</th>\n",
              "      <th>compactness_mean</th>\n",
              "      <th>concavity_mean</th>\n",
              "      <th>concave points_mean</th>\n",
              "      <th>symmetry_mean</th>\n",
              "      <th>...</th>\n",
              "      <th>texture_worst</th>\n",
              "      <th>perimeter_worst</th>\n",
              "      <th>area_worst</th>\n",
              "      <th>smoothness_worst</th>\n",
              "      <th>compactness_worst</th>\n",
              "      <th>concavity_worst</th>\n",
              "      <th>concave points_worst</th>\n",
              "      <th>symmetry_worst</th>\n",
              "      <th>fractal_dimension_worst</th>\n",
              "      <th>Unnamed: 32</th>\n",
              "    </tr>\n",
              "    <tr>\n",
              "      <th>id</th>\n",
              "      <th></th>\n",
              "      <th></th>\n",
              "      <th></th>\n",
              "      <th></th>\n",
              "      <th></th>\n",
              "      <th></th>\n",
              "      <th></th>\n",
              "      <th></th>\n",
              "      <th></th>\n",
              "      <th></th>\n",
              "      <th></th>\n",
              "      <th></th>\n",
              "      <th></th>\n",
              "      <th></th>\n",
              "      <th></th>\n",
              "      <th></th>\n",
              "      <th></th>\n",
              "      <th></th>\n",
              "      <th></th>\n",
              "      <th></th>\n",
              "      <th></th>\n",
              "    </tr>\n",
              "  </thead>\n",
              "  <tbody>\n",
              "    <tr>\n",
              "      <th>842302</th>\n",
              "      <td>M</td>\n",
              "      <td>17.99</td>\n",
              "      <td>10.38</td>\n",
              "      <td>122.80</td>\n",
              "      <td>1001.0</td>\n",
              "      <td>0.11840</td>\n",
              "      <td>0.27760</td>\n",
              "      <td>0.3001</td>\n",
              "      <td>0.14710</td>\n",
              "      <td>0.2419</td>\n",
              "      <td>...</td>\n",
              "      <td>17.33</td>\n",
              "      <td>184.60</td>\n",
              "      <td>2019.0</td>\n",
              "      <td>0.1622</td>\n",
              "      <td>0.6656</td>\n",
              "      <td>0.7119</td>\n",
              "      <td>0.2654</td>\n",
              "      <td>0.4601</td>\n",
              "      <td>0.11890</td>\n",
              "      <td>NaN</td>\n",
              "    </tr>\n",
              "    <tr>\n",
              "      <th>842517</th>\n",
              "      <td>M</td>\n",
              "      <td>20.57</td>\n",
              "      <td>17.77</td>\n",
              "      <td>132.90</td>\n",
              "      <td>1326.0</td>\n",
              "      <td>0.08474</td>\n",
              "      <td>0.07864</td>\n",
              "      <td>0.0869</td>\n",
              "      <td>0.07017</td>\n",
              "      <td>0.1812</td>\n",
              "      <td>...</td>\n",
              "      <td>23.41</td>\n",
              "      <td>158.80</td>\n",
              "      <td>1956.0</td>\n",
              "      <td>0.1238</td>\n",
              "      <td>0.1866</td>\n",
              "      <td>0.2416</td>\n",
              "      <td>0.1860</td>\n",
              "      <td>0.2750</td>\n",
              "      <td>0.08902</td>\n",
              "      <td>NaN</td>\n",
              "    </tr>\n",
              "    <tr>\n",
              "      <th>84300903</th>\n",
              "      <td>M</td>\n",
              "      <td>19.69</td>\n",
              "      <td>21.25</td>\n",
              "      <td>130.00</td>\n",
              "      <td>1203.0</td>\n",
              "      <td>0.10960</td>\n",
              "      <td>0.15990</td>\n",
              "      <td>0.1974</td>\n",
              "      <td>0.12790</td>\n",
              "      <td>0.2069</td>\n",
              "      <td>...</td>\n",
              "      <td>25.53</td>\n",
              "      <td>152.50</td>\n",
              "      <td>1709.0</td>\n",
              "      <td>0.1444</td>\n",
              "      <td>0.4245</td>\n",
              "      <td>0.4504</td>\n",
              "      <td>0.2430</td>\n",
              "      <td>0.3613</td>\n",
              "      <td>0.08758</td>\n",
              "      <td>NaN</td>\n",
              "    </tr>\n",
              "    <tr>\n",
              "      <th>84348301</th>\n",
              "      <td>M</td>\n",
              "      <td>11.42</td>\n",
              "      <td>20.38</td>\n",
              "      <td>77.58</td>\n",
              "      <td>386.1</td>\n",
              "      <td>0.14250</td>\n",
              "      <td>0.28390</td>\n",
              "      <td>0.2414</td>\n",
              "      <td>0.10520</td>\n",
              "      <td>0.2597</td>\n",
              "      <td>...</td>\n",
              "      <td>26.50</td>\n",
              "      <td>98.87</td>\n",
              "      <td>567.7</td>\n",
              "      <td>0.2098</td>\n",
              "      <td>0.8663</td>\n",
              "      <td>0.6869</td>\n",
              "      <td>0.2575</td>\n",
              "      <td>0.6638</td>\n",
              "      <td>0.17300</td>\n",
              "      <td>NaN</td>\n",
              "    </tr>\n",
              "    <tr>\n",
              "      <th>84358402</th>\n",
              "      <td>M</td>\n",
              "      <td>20.29</td>\n",
              "      <td>14.34</td>\n",
              "      <td>135.10</td>\n",
              "      <td>1297.0</td>\n",
              "      <td>0.10030</td>\n",
              "      <td>0.13280</td>\n",
              "      <td>0.1980</td>\n",
              "      <td>0.10430</td>\n",
              "      <td>0.1809</td>\n",
              "      <td>...</td>\n",
              "      <td>16.67</td>\n",
              "      <td>152.20</td>\n",
              "      <td>1575.0</td>\n",
              "      <td>0.1374</td>\n",
              "      <td>0.2050</td>\n",
              "      <td>0.4000</td>\n",
              "      <td>0.1625</td>\n",
              "      <td>0.2364</td>\n",
              "      <td>0.07678</td>\n",
              "      <td>NaN</td>\n",
              "    </tr>\n",
              "  </tbody>\n",
              "</table>\n",
              "<p>5 rows × 32 columns</p>\n",
              "</div>"
            ],
            "text/plain": [
              "         diagnosis  radius_mean  texture_mean  perimeter_mean  area_mean  \\\n",
              "id                                                                         \n",
              "842302           M        17.99         10.38          122.80     1001.0   \n",
              "842517           M        20.57         17.77          132.90     1326.0   \n",
              "84300903         M        19.69         21.25          130.00     1203.0   \n",
              "84348301         M        11.42         20.38           77.58      386.1   \n",
              "84358402         M        20.29         14.34          135.10     1297.0   \n",
              "\n",
              "          smoothness_mean  compactness_mean  concavity_mean  \\\n",
              "id                                                            \n",
              "842302            0.11840           0.27760          0.3001   \n",
              "842517            0.08474           0.07864          0.0869   \n",
              "84300903          0.10960           0.15990          0.1974   \n",
              "84348301          0.14250           0.28390          0.2414   \n",
              "84358402          0.10030           0.13280          0.1980   \n",
              "\n",
              "          concave points_mean  symmetry_mean     ...       texture_worst  \\\n",
              "id                                               ...                       \n",
              "842302                0.14710         0.2419     ...               17.33   \n",
              "842517                0.07017         0.1812     ...               23.41   \n",
              "84300903              0.12790         0.2069     ...               25.53   \n",
              "84348301              0.10520         0.2597     ...               26.50   \n",
              "84358402              0.10430         0.1809     ...               16.67   \n",
              "\n",
              "          perimeter_worst  area_worst  smoothness_worst  compactness_worst  \\\n",
              "id                                                                           \n",
              "842302             184.60      2019.0            0.1622             0.6656   \n",
              "842517             158.80      1956.0            0.1238             0.1866   \n",
              "84300903           152.50      1709.0            0.1444             0.4245   \n",
              "84348301            98.87       567.7            0.2098             0.8663   \n",
              "84358402           152.20      1575.0            0.1374             0.2050   \n",
              "\n",
              "          concavity_worst  concave points_worst  symmetry_worst  \\\n",
              "id                                                                \n",
              "842302             0.7119                0.2654          0.4601   \n",
              "842517             0.2416                0.1860          0.2750   \n",
              "84300903           0.4504                0.2430          0.3613   \n",
              "84348301           0.6869                0.2575          0.6638   \n",
              "84358402           0.4000                0.1625          0.2364   \n",
              "\n",
              "          fractal_dimension_worst  Unnamed: 32  \n",
              "id                                              \n",
              "842302                    0.11890          NaN  \n",
              "842517                    0.08902          NaN  \n",
              "84300903                  0.08758          NaN  \n",
              "84348301                  0.17300          NaN  \n",
              "84358402                  0.07678          NaN  \n",
              "\n",
              "[5 rows x 32 columns]"
            ]
          },
          "metadata": {
            "tags": []
          },
          "execution_count": 74
        }
      ]
    },
    {
      "metadata": {
        "id": "hYMuTD6qxjIV",
        "colab_type": "text"
      },
      "cell_type": "markdown",
      "source": [
        "### Set up the Input and output, X and y\n",
        "\n",
        "Here we will use Xcancer and ycancer instead of X and y for the input features and output categories.\n",
        "\n",
        "This data set has 569 tumors with 30 features on each tumor, along with each tumor's category as Benign or Malignant.\n",
        "\n",
        "**Scale Data:** Neural Networks work best with the inputs are between -1 and +1, so the MinMaxScaler is used to scale all the inputs to the range 0 to +1.\n",
        "\n",
        "**Split the Data:** The Iris data is split with 80% used for training and 20% used for testing.\n",
        "\n",
        "**One-Hot Encoding:** Neural Networks like the output as one-hot encoding. This is a list of values, one for each category, which are all zeros except one which is 1 which represents the correct category.\n",
        "\n",
        "So, if we have two outputs, benign or malignant, we map each one to a one-hot encoding:\n",
        "- Benign = [ 0, 1 ]\n",
        "- Malignant  = [ 1, 0 ]\n"
      ]
    },
    {
      "metadata": {
        "id": "8mwusXDNbdYr",
        "colab_type": "code",
        "colab": {}
      },
      "cell_type": "code",
      "source": [
        "input_Size = 30\n",
        "output_Size = 2\n",
        "\n",
        "# === Select all the data for input ===\n",
        "Xcancer = cancer.iloc[:, 1:31] \n",
        "# The output is the diagnosis where M is Malignant and B is Benign\n",
        "# We need the diagnosis labels converted to numbers for the neural network\n",
        "ycancer = LabelEncoder().fit_transform(cancer[\"diagnosis\"])\n",
        "\n",
        "# Scale the input data\n",
        "mmScaler = MinMaxScaler()\n",
        "Xcancer = mmScaler.fit_transform(Xcancer)\n",
        "\n",
        "# Split the data into 80% for training and 20% for testing out the models\n",
        "X_train, X_test, y_train, y_test = train_test_split(Xcancer, ycancer.ravel(), test_size=0.2)\n",
        "\n",
        "# Format the output as one-hot encodings. Each output has two values with only one with a value of 1\n",
        "y_train = np_utils.to_categorical(y_train, output_Size)\n",
        "y_test = np_utils.to_categorical(y_test, output_Size)"
      ],
      "execution_count": 0,
      "outputs": []
    },
    {
      "metadata": {
        "id": "Gy4v9h5gpcA4",
        "colab_type": "code",
        "outputId": "45220416-3c7a-40db-fe6c-ef5cac8fe35c",
        "colab": {
          "base_uri": "https://localhost:8080/",
          "height": 88
        }
      },
      "cell_type": "code",
      "source": [
        "print (\"X_train training data is 455 tumors with 30 features each: \" ,X_train.shape)\n",
        "print (\"X_test testing data is 114 tumors with 30 features each: \" ,X_test.shape)\n",
        "\n",
        "print (\"y_train output is 1 of 2 diagnosis for 455 tumors: \" ,y_train.shape)\n",
        "print (\"y_test output is 1 of 2 diagnosis for 114 tumors: : \" ,y_test.shape)"
      ],
      "execution_count": 0,
      "outputs": [
        {
          "output_type": "stream",
          "text": [
            "X_train training data is 455 tumors with 30 features each:  (455, 30)\n",
            "X_test testing data is 114 tumors with 30 features each:  (114, 30)\n",
            "y_train output is 1 of 2 diagnosis for 455 tumors:  (455, 2)\n",
            "y_test output is 1 of 2 diagnosis for 114 tumors: :  (114, 2)\n"
          ],
          "name": "stdout"
        }
      ]
    },
    {
      "metadata": {
        "colab_type": "text",
        "id": "wwEfdxzUFS-p"
      },
      "cell_type": "markdown",
      "source": [
        "## Neural Network\n",
        "\n",
        "The following code sets up a sequential, four layer neural network. Sequential means that each layer is connected to the layer listed before it:\n",
        "- Input layer: 30 tumor features used as input values\n",
        "- Hidden layer 1: 10 units using Rectified Linear Units (relu)\n",
        "- Hidden layer 2: 5 units using Rectified Linear Units (relu)\n",
        "- Output  layer: 2 units using softmax to predict if tumor is benign or malignant\n"
      ]
    },
    {
      "metadata": {
        "colab_type": "text",
        "id": "bezF0_uGa4SU"
      },
      "cell_type": "markdown",
      "source": [
        "### Neural Network\n",
        "\n",
        "\n",
        "\n",
        "\n",
        "\n",
        "\n"
      ]
    },
    {
      "metadata": {
        "colab_type": "code",
        "id": "phwGAAm8a4Sg",
        "colab": {}
      },
      "cell_type": "code",
      "source": [
        "# Set up the Neural Network\n",
        "\n",
        "input_Size = 30\n",
        "output_Size = 2\n",
        "\n",
        "Cancer_neuralNetwork = Sequential()\n",
        "Cancer_neuralNetwork.add(Dense(10, activation='relu', input_dim=(input_Size)))\n",
        "Cancer_neuralNetwork.add(Dense(5, activation='relu'))\n",
        "Cancer_neuralNetwork.add(Dense(output_Size, activation='softmax'))\n"
      ],
      "execution_count": 0,
      "outputs": []
    },
    {
      "metadata": {
        "id": "OpLnPdtCpQp5",
        "colab_type": "text"
      },
      "cell_type": "markdown",
      "source": [
        "## Compile Neural Network\n",
        "\n",
        "This builds the Neural network. You must specify \n",
        "- optimizer = 'adam' is a common gradient decent method for changing the wieghts during training\n",
        "- loss =  'categorical_crossentropy' is used when you have a number of distinct categories and items can only be in one category.\n",
        "- metrics = 'accuracy' will output the accuracy of the classification, the percent of time the network gets the classification correct"
      ]
    },
    {
      "metadata": {
        "colab_type": "code",
        "id": "8nr6ANMha4S1",
        "colab": {}
      },
      "cell_type": "code",
      "source": [
        "# Compile neural network model\n",
        "Cancer_neuralNetwork.compile(optimizer='adam', loss='categorical_crossentropy', metrics=['accuracy'])"
      ],
      "execution_count": 0,
      "outputs": []
    },
    {
      "metadata": {
        "id": "ZbvLBTe6pUZn",
        "colab_type": "text"
      },
      "cell_type": "markdown",
      "source": [
        "## Train the Neural Network\n",
        "\n",
        "This will run all 120 training flowers through the network and update the weights. The 30 testing flowers are then used to validate the model. \n",
        "\n",
        "- epochs = 50 means to run the training 50 times. \n",
        "- Performance measues:\n",
        " - loss: is a measurement of how far the outputs are from the desired outputs. This should get smaller over time.\n",
        " - acc: is the prediction accuracy as a percent so 0.67 means the model predicts the correct flower 67% of the time. \n",
        " - val_loss: the loss calculated using the testing flowers rather than the training flowers.\n",
        " - val_acc: the accuracy calculated using the testing flowers rather than the training flowers.\n",
        " \n",
        " \n",
        "Note: sometimes training will take minutes, if not hours to run, especially later when we get to complex networks"
      ]
    },
    {
      "metadata": {
        "colab_type": "code",
        "outputId": "b5ba857b-aabc-4602-8bef-f845f1db2c37",
        "id": "0p7yooe4a4TS",
        "colab": {
          "base_uri": "https://localhost:8080/",
          "height": 1812
        }
      },
      "cell_type": "code",
      "source": [
        "# Fit model on training data for network with dense input layer\n",
        "batch_size = 100\n",
        "epochs = 50\n",
        "history = Cancer_neuralNetwork.fit(X_train, y_train,\n",
        "          batch_size=batch_size,\n",
        "          epochs=epochs,\n",
        "          verbose=2,\n",
        "          validation_data=(X_test, y_test))\n"
      ],
      "execution_count": 0,
      "outputs": [
        {
          "output_type": "stream",
          "text": [
            "Train on 455 samples, validate on 114 samples\n",
            "Epoch 1/50\n",
            " - 1s - loss: 0.6896 - acc: 0.3846 - val_loss: 0.6905 - val_acc: 0.3333\n",
            "Epoch 2/50\n",
            " - 0s - loss: 0.6851 - acc: 0.4044 - val_loss: 0.6852 - val_acc: 0.4386\n",
            "Epoch 3/50\n",
            " - 0s - loss: 0.6808 - acc: 0.5209 - val_loss: 0.6796 - val_acc: 0.6140\n",
            "Epoch 4/50\n",
            " - 0s - loss: 0.6763 - acc: 0.7429 - val_loss: 0.6740 - val_acc: 0.8684\n",
            "Epoch 5/50\n",
            " - 0s - loss: 0.6716 - acc: 0.8659 - val_loss: 0.6682 - val_acc: 0.8947\n",
            "Epoch 6/50\n",
            " - 0s - loss: 0.6667 - acc: 0.9099 - val_loss: 0.6622 - val_acc: 0.8947\n",
            "Epoch 7/50\n",
            " - 0s - loss: 0.6615 - acc: 0.9011 - val_loss: 0.6557 - val_acc: 0.8860\n",
            "Epoch 8/50\n",
            " - 0s - loss: 0.6560 - acc: 0.9011 - val_loss: 0.6488 - val_acc: 0.9035\n",
            "Epoch 9/50\n",
            " - 0s - loss: 0.6501 - acc: 0.8945 - val_loss: 0.6414 - val_acc: 0.9123\n",
            "Epoch 10/50\n",
            " - 0s - loss: 0.6437 - acc: 0.8835 - val_loss: 0.6337 - val_acc: 0.9123\n",
            "Epoch 11/50\n",
            " - 0s - loss: 0.6370 - acc: 0.8769 - val_loss: 0.6248 - val_acc: 0.9123\n",
            "Epoch 12/50\n",
            " - 0s - loss: 0.6293 - acc: 0.8549 - val_loss: 0.6148 - val_acc: 0.9123\n",
            "Epoch 13/50\n",
            " - 0s - loss: 0.6204 - acc: 0.8396 - val_loss: 0.6031 - val_acc: 0.8947\n",
            "Epoch 14/50\n",
            " - 0s - loss: 0.6101 - acc: 0.8330 - val_loss: 0.5891 - val_acc: 0.8860\n",
            "Epoch 15/50\n",
            " - 0s - loss: 0.5978 - acc: 0.8198 - val_loss: 0.5724 - val_acc: 0.8509\n",
            "Epoch 16/50\n",
            " - 0s - loss: 0.5841 - acc: 0.7934 - val_loss: 0.5553 - val_acc: 0.8421\n",
            "Epoch 17/50\n",
            " - 0s - loss: 0.5698 - acc: 0.7934 - val_loss: 0.5397 - val_acc: 0.8509\n",
            "Epoch 18/50\n",
            " - 0s - loss: 0.5568 - acc: 0.8000 - val_loss: 0.5254 - val_acc: 0.8509\n",
            "Epoch 19/50\n",
            " - 0s - loss: 0.5441 - acc: 0.8198 - val_loss: 0.5112 - val_acc: 0.8860\n",
            "Epoch 20/50\n",
            " - 0s - loss: 0.5316 - acc: 0.8374 - val_loss: 0.4980 - val_acc: 0.9035\n",
            "Epoch 21/50\n",
            " - 0s - loss: 0.5184 - acc: 0.8527 - val_loss: 0.4853 - val_acc: 0.9035\n",
            "Epoch 22/50\n",
            " - 0s - loss: 0.5053 - acc: 0.8725 - val_loss: 0.4719 - val_acc: 0.9123\n",
            "Epoch 23/50\n",
            " - 0s - loss: 0.4924 - acc: 0.8813 - val_loss: 0.4579 - val_acc: 0.9123\n",
            "Epoch 24/50\n",
            " - 0s - loss: 0.4796 - acc: 0.8879 - val_loss: 0.4440 - val_acc: 0.9123\n",
            "Epoch 25/50\n",
            " - 0s - loss: 0.4667 - acc: 0.8923 - val_loss: 0.4303 - val_acc: 0.9123\n",
            "Epoch 26/50\n",
            " - 0s - loss: 0.4539 - acc: 0.8945 - val_loss: 0.4162 - val_acc: 0.9123\n",
            "Epoch 27/50\n",
            " - 0s - loss: 0.4412 - acc: 0.8923 - val_loss: 0.4028 - val_acc: 0.9123\n",
            "Epoch 28/50\n",
            " - 0s - loss: 0.4293 - acc: 0.8923 - val_loss: 0.3899 - val_acc: 0.9123\n",
            "Epoch 29/50\n",
            " - 0s - loss: 0.4175 - acc: 0.8945 - val_loss: 0.3786 - val_acc: 0.9211\n",
            "Epoch 30/50\n",
            " - 0s - loss: 0.4055 - acc: 0.8967 - val_loss: 0.3671 - val_acc: 0.9211\n",
            "Epoch 31/50\n",
            " - 0s - loss: 0.3943 - acc: 0.8989 - val_loss: 0.3552 - val_acc: 0.9211\n",
            "Epoch 32/50\n",
            " - 0s - loss: 0.3836 - acc: 0.8989 - val_loss: 0.3443 - val_acc: 0.9386\n",
            "Epoch 33/50\n",
            " - 0s - loss: 0.3727 - acc: 0.9055 - val_loss: 0.3354 - val_acc: 0.9298\n",
            "Epoch 34/50\n",
            " - 0s - loss: 0.3628 - acc: 0.9143 - val_loss: 0.3259 - val_acc: 0.9298\n",
            "Epoch 35/50\n",
            " - 0s - loss: 0.3528 - acc: 0.9143 - val_loss: 0.3164 - val_acc: 0.9298\n",
            "Epoch 36/50\n",
            " - 0s - loss: 0.3435 - acc: 0.9165 - val_loss: 0.3060 - val_acc: 0.9298\n",
            "Epoch 37/50\n",
            " - 0s - loss: 0.3345 - acc: 0.9165 - val_loss: 0.2960 - val_acc: 0.9298\n",
            "Epoch 38/50\n",
            " - 0s - loss: 0.3259 - acc: 0.9165 - val_loss: 0.2878 - val_acc: 0.9298\n",
            "Epoch 39/50\n",
            " - 0s - loss: 0.3174 - acc: 0.9187 - val_loss: 0.2805 - val_acc: 0.9298\n",
            "Epoch 40/50\n",
            " - 0s - loss: 0.3097 - acc: 0.9121 - val_loss: 0.2744 - val_acc: 0.9386\n",
            "Epoch 41/50\n",
            " - 0s - loss: 0.3022 - acc: 0.9209 - val_loss: 0.2671 - val_acc: 0.9386\n",
            "Epoch 42/50\n",
            " - 0s - loss: 0.2952 - acc: 0.9209 - val_loss: 0.2594 - val_acc: 0.9386\n",
            "Epoch 43/50\n",
            " - 0s - loss: 0.2882 - acc: 0.9209 - val_loss: 0.2537 - val_acc: 0.9386\n",
            "Epoch 44/50\n",
            " - 0s - loss: 0.2818 - acc: 0.9209 - val_loss: 0.2472 - val_acc: 0.9386\n",
            "Epoch 45/50\n",
            " - 0s - loss: 0.2757 - acc: 0.9187 - val_loss: 0.2417 - val_acc: 0.9386\n",
            "Epoch 46/50\n",
            " - 0s - loss: 0.2698 - acc: 0.9187 - val_loss: 0.2361 - val_acc: 0.9386\n",
            "Epoch 47/50\n",
            " - 0s - loss: 0.2644 - acc: 0.9165 - val_loss: 0.2322 - val_acc: 0.9386\n",
            "Epoch 48/50\n",
            " - 0s - loss: 0.2590 - acc: 0.9209 - val_loss: 0.2269 - val_acc: 0.9386\n",
            "Epoch 49/50\n",
            " - 0s - loss: 0.2539 - acc: 0.9187 - val_loss: 0.2220 - val_acc: 0.9386\n",
            "Epoch 50/50\n",
            " - 0s - loss: 0.2489 - acc: 0.9209 - val_loss: 0.2176 - val_acc: 0.9386\n"
          ],
          "name": "stdout"
        }
      ]
    },
    {
      "metadata": {
        "id": "Hrt-q_47L6jo",
        "colab_type": "text"
      },
      "cell_type": "markdown",
      "source": [
        "## Task 4: Increasing the Accuracy of Cancer Predictions\n",
        "\n",
        "In Project 2 you tried a number of different classification methods with the breast cancer data. Here are some typical results from Project 2:\n",
        "\n",
        "- K-Nearest Neighbors (KNN): 95%\n",
        "- Support Vector Machine (SVM): 97%\n",
        "- Decision Trees (DT): 93%\n",
        "\n",
        "Question 1: How accurate is the original network with hidden layers of 10 & 5 units trained for 50 epohs?\n",
        "\n",
        "Question 2: How high of an accuracy can you get by adding more hidden units and training for more epochs? What configuration gave you the best results?\n",
        "\n",
        "Question 3: Do neural networks seem comparable in this task with KNN, SVM and DT?"
      ]
    },
    {
      "metadata": {
        "colab_type": "code",
        "outputId": "4462afb7-e355-4cb4-b7e9-0e73dede3680",
        "id": "wgeLikQfa4Te",
        "colab": {
          "base_uri": "https://localhost:8080/",
          "height": 70
        }
      },
      "cell_type": "code",
      "source": [
        "# Evaluate model on test data\n",
        "print (\"Running final scoring on test data\")\n",
        "score = Cancer_neuralNetwork.evaluate(X_test, y_test, verbose=1)\n",
        "print (\"The accuracy for this model is \", format(score[1], \",.2f\"))"
      ],
      "execution_count": 0,
      "outputs": [
        {
          "output_type": "stream",
          "text": [
            "Running final scoring on test data\n",
            "114/114 [==============================] - 0s 63us/step\n",
            "The accuracy for this model is  0.91\n"
          ],
          "name": "stdout"
        }
      ]
    },
    {
      "metadata": {
        "id": "Ugh-4BRzqDCn",
        "colab_type": "text"
      },
      "cell_type": "markdown",
      "source": [
        "## Plot the Training History\n",
        "\n",
        "We store the performance during training is a variable named 'history'. The x-axis is the training time or number of epochs.\n",
        "\n",
        "- Accuracy: Accuracy of the predictions, hopefully this is increasing to near 1.0\n",
        "- Loss: How close the output is to the desired output, this should decrease to near 0.0"
      ]
    },
    {
      "metadata": {
        "colab_type": "code",
        "outputId": "9351f640-049c-4b95-947b-c378566a1092",
        "id": "pP8zKYNMa4Tj",
        "colab": {
          "base_uri": "https://localhost:8080/",
          "height": 380
        }
      },
      "cell_type": "code",
      "source": [
        "# Plot the loss and accuracy curves for training and validation \n",
        "fig, ax = plt.subplots(2,1)\n",
        "\n",
        "ax[0].plot(history.history['acc'], color='b', label=\"Training accuracy\")\n",
        "ax[0].plot(history.history['val_acc'], color='r',label=\"Testing accuracy\")\n",
        "ax[0].set_title(\"Accruacy\")\n",
        "legend = ax[0].legend(loc='best', shadow=True)\n",
        "              \n",
        "ax[1].plot(history.history['loss'], color='b', label=\"Training loss\")\n",
        "ax[1].plot(history.history['val_loss'], color='r', label=\"Testing loss\",axes =ax[1])\n",
        "ax[1].set_title(\"Loss\")\n",
        "legend = ax[1].legend(loc='best', shadow=True)\n",
        "plt.ylim(0,1)\n"
      ],
      "execution_count": 0,
      "outputs": [
        {
          "output_type": "execute_result",
          "data": {
            "text/plain": [
              "(0, 1)"
            ]
          },
          "metadata": {
            "tags": []
          },
          "execution_count": 83
        },
        {
          "output_type": "display_data",
          "data": {
            "image/png": "[encoded data removed]",
            "text/plain": [
              "<Figure size 576x396 with 2 Axes>"
            ]
          },
          "metadata": {
            "tags": []
          }
        }
      ]
    },
    {
      "metadata": {
        "id": "mEuPVnRDdGpu",
        "colab_type": "text"
      },
      "cell_type": "markdown",
      "source": [
        "# Section III:  Kaggle Digit Recognition Challenge\n",
        "=== *You must run Section 0 before this section* ===\n",
        "### MNIST hand written digits\n",
        "\n",
        "The MNIST data set is a well known dataset built into the scikit learning library and available in many places.The images are 16x16 pixels so each image has 64 features. \n",
        "\n",
        "### Kaggle Challenges\n",
        "\n",
        "Kaggle,  [www.Kaggle.com](https://www.kaggle.com/), is a website that host many machine learning compeitions, some for large prize money. \n",
        "\n",
        "We will particpate in their[ Digit Recognition Challenge](https://www.kaggle.com/c/digit-recognizer) which is very similar to the MNIST dataset. \n",
        "\n"
      ]
    },
    {
      "metadata": {
        "id": "wW-_MaeGPeXE",
        "colab_type": "text"
      },
      "cell_type": "markdown",
      "source": [
        "## Task 5: Register for Kaggle\n",
        "\n",
        "Create an account at Kaggle,  [www.Kaggle.com](https://www.kaggle.com/). The easiest way to do this is to register with your CSS email address using the \"Sign up with Google\" option, but you are fee to register however you want.\n",
        "\n",
        "### Part 1: Register at Kaggle\n",
        "\n",
        "Once you have registered, post the URL for you account here--you can get there by selecting \"My Account\" under your icon at the top-right after you log in.\n",
        "\n",
        "Student Account:  ____________________\n",
        "\n",
        "### Part 2: Join the Digit Recognition Challenge\n",
        "\n",
        "Once you have registered at Kaggle, you can joint the [Kaggle Digit Recognition challenge](https://www.kaggle.com/c/digit-recognizer). You need to do this to upload submissions which we will do in the next task"
      ]
    },
    {
      "metadata": {
        "id": "tNyw8uV2QWdy",
        "colab_type": "text"
      },
      "cell_type": "markdown",
      "source": [
        "### Set up the Input and output\n",
        "\n",
        "Kaggle provides special data for this challenge similar to the MNIST dataset. There is a labeled set of images for training and a unlabeled set of images for submission. Kaggle does not tell you what the sumission images are, but they will score your predictions if you submit them\n",
        "\n",
        "- Training data: 42,000 images, each 28 x28 pixes, each labeled with the actual digit 0 - 9\n",
        "- Submission data: 28,000 images, each 28 x 28 pixes, not labeled. You must generate predictions for each of these\n",
        "\n",
        "**Downloading Kaggle Data: ** Your instructor has already downloaded the challenge data from Kaggle and uploaded it to Github were it is read in below.\n",
        "\n",
        "**Formatting the data: **The data is converted into 28x28 pixel arrays so we can display it\n",
        "\n",
        "### NOTE: This dataset is somewhat large and loading it may take a minute or two \n"
      ]
    },
    {
      "metadata": {
        "id": "p3_nhL0Z_pUh",
        "colab_type": "code",
        "outputId": "970e2eca-9a8d-453c-b59f-14c1624b6c8b",
        "colab": {
          "base_uri": "https://localhost:8080/",
          "height": 52
        }
      },
      "cell_type": "code",
      "source": [
        "# Read data from the actual Kaggle download files stored in a raw file in GitHub\n",
        "url_kaggle_train = 'https://raw.githubusercontent.com/CIS3115-Machine-Learning-Scholastica/CIS3115ML-Units7and8/master/kaggle-digit-recognizer/train.csv'\n",
        "url_kaggle_test = 'https://raw.githubusercontent.com/CIS3115-Machine-Learning-Scholastica/CIS3115ML-Units7and8/master/kaggle-digit-recognizer/test.csv'\n",
        "  \n",
        "train_kaggle = pd.read_csv(url_kaggle_train)\n",
        "# Pull out the labels or output which are saved in first index\n",
        "y_train_kaggle = train_kaggle.iloc[:,0].values.astype('int32')\n",
        "# Convert remaining values to floats\n",
        "X_train_kaggle = (train_kaggle.iloc[:,1:].values).astype('float32')\n",
        "# Read the kaggle test data which is used for submissions\n",
        "X_submit_kaggle = (pd.read_csv(url_kaggle_test).values).astype('float32')\n",
        "#reshape as 28x28 pixel images\n",
        "X_train_kaggle = X_train_kaggle.reshape(X_train_kaggle.shape[0], 28, 28)\n",
        "X_submit_kaggle = X_submit_kaggle.reshape(X_submit_kaggle.shape[0], 28, 28)\n",
        "\n",
        "print (\"X_train_kaggle training data shape of 28x28 pixels greyscale: \" ,X_train_kaggle.shape)\n",
        "print (\"X_submit_kaggle submission data shape of 28x28 pixels greyscale: : \" ,X_submit_kaggle.shape)"
      ],
      "execution_count": 0,
      "outputs": [
        {
          "output_type": "stream",
          "text": [
            "X_train_kaggle training data shape of 28x28 pixels greyscale:  (42000, 28, 28)\n",
            "X_submit_kaggle submission data shape of 28x28 pixels greyscale: :  (28000, 28, 28)\n"
          ],
          "name": "stdout"
        }
      ]
    },
    {
      "metadata": {
        "id": "WYyvVxG9En76",
        "colab_type": "code",
        "outputId": "febaf26f-369a-4db7-8f31-71e8daedc0d9",
        "colab": {
          "base_uri": "https://localhost:8080/",
          "height": 249
        }
      },
      "cell_type": "code",
      "source": [
        "train_kaggle.head(5)"
      ],
      "execution_count": 0,
      "outputs": [
        {
          "output_type": "execute_result",
          "data": {
            "text/html": [
              "<div>\n",
              "<style scoped>\n",
              "    .dataframe tbody tr th:only-of-type {\n",
              "        vertical-align: middle;\n",
              "    }\n",
              "\n",
              "    .dataframe tbody tr th {\n",
              "        vertical-align: top;\n",
              "    }\n",
              "\n",
              "    .dataframe thead th {\n",
              "        text-align: right;\n",
              "    }\n",
              "</style>\n",
              "<table border=\"1\" class=\"dataframe\">\n",
              "  <thead>\n",
              "    <tr style=\"text-align: right;\">\n",
              "      <th></th>\n",
              "      <th>label</th>\n",
              "      <th>pixel0</th>\n",
              "      <th>pixel1</th>\n",
              "      <th>pixel2</th>\n",
              "      <th>pixel3</th>\n",
              "      <th>pixel4</th>\n",
              "      <th>pixel5</th>\n",
              "      <th>pixel6</th>\n",
              "      <th>pixel7</th>\n",
              "      <th>pixel8</th>\n",
              "      <th>...</th>\n",
              "      <th>pixel774</th>\n",
              "      <th>pixel775</th>\n",
              "      <th>pixel776</th>\n",
              "      <th>pixel777</th>\n",
              "      <th>pixel778</th>\n",
              "      <th>pixel779</th>\n",
              "      <th>pixel780</th>\n",
              "      <th>pixel781</th>\n",
              "      <th>pixel782</th>\n",
              "      <th>pixel783</th>\n",
              "    </tr>\n",
              "  </thead>\n",
              "  <tbody>\n",
              "    <tr>\n",
              "      <th>0</th>\n",
              "      <td>1</td>\n",
              "      <td>0</td>\n",
              "      <td>0</td>\n",
              "      <td>0</td>\n",
              "      <td>0</td>\n",
              "      <td>0</td>\n",
              "      <td>0</td>\n",
              "      <td>0</td>\n",
              "      <td>0</td>\n",
              "      <td>0</td>\n",
              "      <td>...</td>\n",
              "      <td>0</td>\n",
              "      <td>0</td>\n",
              "      <td>0</td>\n",
              "      <td>0</td>\n",
              "      <td>0</td>\n",
              "      <td>0</td>\n",
              "      <td>0</td>\n",
              "      <td>0</td>\n",
              "      <td>0</td>\n",
              "      <td>0</td>\n",
              "    </tr>\n",
              "    <tr>\n",
              "      <th>1</th>\n",
              "      <td>0</td>\n",
              "      <td>0</td>\n",
              "      <td>0</td>\n",
              "      <td>0</td>\n",
              "      <td>0</td>\n",
              "      <td>0</td>\n",
              "      <td>0</td>\n",
              "      <td>0</td>\n",
              "      <td>0</td>\n",
              "      <td>0</td>\n",
              "      <td>...</td>\n",
              "      <td>0</td>\n",
              "      <td>0</td>\n",
              "      <td>0</td>\n",
              "      <td>0</td>\n",
              "      <td>0</td>\n",
              "      <td>0</td>\n",
              "      <td>0</td>\n",
              "      <td>0</td>\n",
              "      <td>0</td>\n",
              "      <td>0</td>\n",
              "    </tr>\n",
              "    <tr>\n",
              "      <th>2</th>\n",
              "      <td>1</td>\n",
              "      <td>0</td>\n",
              "      <td>0</td>\n",
              "      <td>0</td>\n",
              "      <td>0</td>\n",
              "      <td>0</td>\n",
              "      <td>0</td>\n",
              "      <td>0</td>\n",
              "      <td>0</td>\n",
              "      <td>0</td>\n",
              "      <td>...</td>\n",
              "      <td>0</td>\n",
              "      <td>0</td>\n",
              "      <td>0</td>\n",
              "      <td>0</td>\n",
              "      <td>0</td>\n",
              "      <td>0</td>\n",
              "      <td>0</td>\n",
              "      <td>0</td>\n",
              "      <td>0</td>\n",
              "      <td>0</td>\n",
              "    </tr>\n",
              "    <tr>\n",
              "      <th>3</th>\n",
              "      <td>4</td>\n",
              "      <td>0</td>\n",
              "      <td>0</td>\n",
              "      <td>0</td>\n",
              "      <td>0</td>\n",
              "      <td>0</td>\n",
              "      <td>0</td>\n",
              "      <td>0</td>\n",
              "      <td>0</td>\n",
              "      <td>0</td>\n",
              "      <td>...</td>\n",
              "      <td>0</td>\n",
              "      <td>0</td>\n",
              "      <td>0</td>\n",
              "      <td>0</td>\n",
              "      <td>0</td>\n",
              "      <td>0</td>\n",
              "      <td>0</td>\n",
              "      <td>0</td>\n",
              "      <td>0</td>\n",
              "      <td>0</td>\n",
              "    </tr>\n",
              "    <tr>\n",
              "      <th>4</th>\n",
              "      <td>0</td>\n",
              "      <td>0</td>\n",
              "      <td>0</td>\n",
              "      <td>0</td>\n",
              "      <td>0</td>\n",
              "      <td>0</td>\n",
              "      <td>0</td>\n",
              "      <td>0</td>\n",
              "      <td>0</td>\n",
              "      <td>0</td>\n",
              "      <td>...</td>\n",
              "      <td>0</td>\n",
              "      <td>0</td>\n",
              "      <td>0</td>\n",
              "      <td>0</td>\n",
              "      <td>0</td>\n",
              "      <td>0</td>\n",
              "      <td>0</td>\n",
              "      <td>0</td>\n",
              "      <td>0</td>\n",
              "      <td>0</td>\n",
              "    </tr>\n",
              "  </tbody>\n",
              "</table>\n",
              "<p>5 rows × 785 columns</p>\n",
              "</div>"
            ],
            "text/plain": [
              "   label  pixel0  pixel1  pixel2  pixel3  pixel4  pixel5  pixel6  pixel7  \\\n",
              "0      1       0       0       0       0       0       0       0       0   \n",
              "1      0       0       0       0       0       0       0       0       0   \n",
              "2      1       0       0       0       0       0       0       0       0   \n",
              "3      4       0       0       0       0       0       0       0       0   \n",
              "4      0       0       0       0       0       0       0       0       0   \n",
              "\n",
              "   pixel8    ...     pixel774  pixel775  pixel776  pixel777  pixel778  \\\n",
              "0       0    ...            0         0         0         0         0   \n",
              "1       0    ...            0         0         0         0         0   \n",
              "2       0    ...            0         0         0         0         0   \n",
              "3       0    ...            0         0         0         0         0   \n",
              "4       0    ...            0         0         0         0         0   \n",
              "\n",
              "   pixel779  pixel780  pixel781  pixel782  pixel783  \n",
              "0         0         0         0         0         0  \n",
              "1         0         0         0         0         0  \n",
              "2         0         0         0         0         0  \n",
              "3         0         0         0         0         0  \n",
              "4         0         0         0         0         0  \n",
              "\n",
              "[5 rows x 785 columns]"
            ]
          },
          "metadata": {
            "tags": []
          },
          "execution_count": 85
        }
      ]
    },
    {
      "metadata": {
        "id": "tNcdOatyTaQU",
        "colab_type": "text"
      },
      "cell_type": "markdown",
      "source": [
        "## Display some sample images\n",
        "\n",
        "This is what a couple of the images look like. This also verifies that your data was read in correctly."
      ]
    },
    {
      "metadata": {
        "id": "0kdUItQ4E2Pc",
        "colab_type": "code",
        "outputId": "53933234-24eb-4dca-d92a-14cf45e2bdd9",
        "colab": {
          "base_uri": "https://localhost:8080/",
          "height": 256
        }
      },
      "cell_type": "code",
      "source": [
        "for i in range(3, 9):\n",
        "    plt.subplot(330 + (i+1))\n",
        "    plt.imshow(X_train_kaggle[i], cmap=plt.get_cmap('gray'))\n",
        "    plt.title(y_train_kaggle[i]);"
      ],
      "execution_count": 0,
      "outputs": [
        {
          "output_type": "display_data",
          "data": {
            "image/png": "[encoded data removed]",
            "text/plain": [
              "<Figure size 576x396 with 6 Axes>"
            ]
          },
          "metadata": {
            "tags": []
          }
        }
      ]
    },
    {
      "metadata": {
        "id": "ChmnrKtoR_lL",
        "colab_type": "text"
      },
      "cell_type": "markdown",
      "source": [
        "## Set up the data\n",
        "\n",
        "**Scale Data:** Neural Networks work best with the inputs are between 0 and +1, but the grayscale images have pixel values between 0 and 255. So, each pixel value is divided by 255 to scale it.\n",
        "\n",
        "**Reformatting: **Above we reformatted the data into 28x28 pixel arrays so we could display it. Now we are converting it back to a single list of 784 pixels. ( 28 x 28 = 784)\n",
        "\n",
        "**Split the Data:** The training data is split with 90% used for training and 10% used for testing.\n",
        "\n",
        "**One-Hot Encoding:** A one-hot encoding is a list which is 0 in most positions, and 1 in a single positions.  In this case, the nth digit will be represented as a vector which is 1 in the nth dimension.\n",
        "\n",
        "- For example, 3 would be [0,0,0,1,0,0,0,0,0,0]"
      ]
    },
    {
      "metadata": {
        "id": "2OZWmBNxcvk4",
        "colab_type": "code",
        "colab": {}
      },
      "cell_type": "code",
      "source": [
        "\n",
        "input_Size = 28 * 28    # images are 28 x 28 pixels or 784 pixels\n",
        "output_Size = 10\n",
        "\n",
        "# Normalize the data so values are between 0 and 1 instead of between 0 and 255\n",
        "X_train_kaggle = X_train_kaggle / 255\n",
        "X_submit_kaggle = X_submit_kaggle / 255\n",
        "\n",
        "#reshape for dense-only inputs\n",
        "train_size = X_train_kaggle.shape[0]\n",
        "submit_size = X_submit_kaggle.shape[0]\n",
        "X_train_kaggle = X_train_kaggle.reshape(train_size, 28 * 28)\n",
        "X_submit_kaggle = X_submit_kaggle.reshape(submit_size, 28 * 28)\n",
        "\n",
        "# Split the data into 80% for training and 10% for testing out the models\n",
        "X_train, X_test, y_train_num, y_test_num = train_test_split(X_train_kaggle, y_train_kaggle, test_size=0.1)\n",
        "\n",
        "# A one-hot encoding is a list which is 0 in most positions, and 1 in a single positions. \n",
        "# In this case, the nth digit will be represented as a vector which is 1 in the nth dimension.\n",
        "# For example, 3 would be [0,0,0,1,0,0,0,0,0,0].\n",
        "y_train = np_utils.to_categorical(y_train_num, output_Size)\n",
        "y_test = np_utils.to_categorical(y_test_num, output_Size)\n"
      ],
      "execution_count": 0,
      "outputs": []
    },
    {
      "metadata": {
        "id": "LPtVA829L2M2",
        "colab_type": "code",
        "outputId": "f9a496de-72e8-49dd-82eb-d037544a78ca",
        "colab": {
          "base_uri": "https://localhost:8080/",
          "height": 88
        }
      },
      "cell_type": "code",
      "source": [
        "print (\"X_train training data shape of 28x28 pixels greyscale: \" ,X_train.shape)\n",
        "print (\"X_test submission data shape of 28x28 pixels greyscale: : \" ,X_test.shape)\n",
        "\n",
        "print (\"y_train training data shape of 28x28 pixels greyscale: \" ,y_train.shape)\n",
        "print (\"y_test submission data shape of 28x28 pixels greyscale: : \" ,y_test.shape)"
      ],
      "execution_count": 0,
      "outputs": [
        {
          "output_type": "stream",
          "text": [
            "X_train training data shape of 28x28 pixels greyscale:  (37800, 784)\n",
            "X_test submission data shape of 28x28 pixels greyscale: :  (4200, 784)\n",
            "y_train training data shape of 28x28 pixels greyscale:  (37800, 10)\n",
            "y_test submission data shape of 28x28 pixels greyscale: :  (4200, 10)\n"
          ],
          "name": "stdout"
        }
      ]
    },
    {
      "metadata": {
        "id": "Vhmql7I4GNVu",
        "colab_type": "text"
      },
      "cell_type": "markdown",
      "source": [
        "## Neural Network\n",
        "\n",
        "The following code sets up a sequential, four layer neural network. Sequential means that each layer is connected to the layer listed before it:\n",
        "- Input layer: 784 pixels (28x28) used as input values\n",
        "- Hidden layer 1: 20 units using Rectified Linear Units (relu)\n",
        "- Hidden layer 2: 10 units using Rectified Linear Units (relu)\n",
        "- Output  layer: 10 units using softmax to predict the correct digit between 0 and 9\n",
        "---\n"
      ]
    },
    {
      "metadata": {
        "colab_type": "code",
        "id": "WG4LzWmwJSO6",
        "colab": {}
      },
      "cell_type": "code",
      "source": [
        "# Set up the Neural Network\n",
        "input_Size = 28 * 28    # images are 28 x 28 pixels or 784 pixels\n",
        "output_Size = 10\n",
        "\n",
        "Digit_neuralNetwork = Sequential()\n",
        "Digit_neuralNetwork.add(Dense(20, activation='relu', input_dim=(input_Size)))\n",
        "Digit_neuralNetwork.add(Dense(10, activation='relu'))\n",
        "Digit_neuralNetwork.add(Dense(output_Size, activation='softmax'))\n"
      ],
      "execution_count": 0,
      "outputs": []
    },
    {
      "metadata": {
        "id": "8eNaL30GUO4X",
        "colab_type": "text"
      },
      "cell_type": "markdown",
      "source": [
        "## Compile Neural Network\n",
        "\n",
        "This builds the Neural network. You must specify \n",
        "- optimizer = 'adam' is a common gradient decent method for changing the wieghts during training\n",
        "- loss =  'categorical_crossentropy' is used when you have a number of distinct categories and items can only be in one category.\n",
        "- metrics = 'accuracy' will output the accuracy of the classification, the percent of time the network gets the classification correct"
      ]
    },
    {
      "metadata": {
        "colab_type": "code",
        "id": "xVEAqJ_LJSO_",
        "colab": {}
      },
      "cell_type": "code",
      "source": [
        "# Compile neural network model\n",
        "Digit_neuralNetwork.compile(optimizer='adam', loss='categorical_crossentropy', metrics=['accuracy'])"
      ],
      "execution_count": 0,
      "outputs": []
    },
    {
      "metadata": {
        "id": "zTxCMHSfUYQ8",
        "colab_type": "text"
      },
      "cell_type": "markdown",
      "source": [
        "## Train the Neural Network\n",
        "\n",
        "This will run all 37800 training images through the network and update the weights. \n",
        "\n",
        "- epochs = 10 means to run the training 10 times. \n",
        "- Performance measues:\n",
        " - loss: is a measurement of how far the outputs are from the desired outputs. This should get smaller over time.\n",
        " - acc: is the prediction accuracy as a percent so 0.67 means the model predicts the correct flower 67% of the time. \n",
        " - val_loss: the loss calculated using the testing flowers rather than the training flowers.\n",
        " - val_acc: the accuracy calculated using the testing flowers rather than the training flowers.\n",
        " \n",
        " \n",
        "### Note: This is a large data set and training will be slow. This might take a couple of minutes to run. \n",
        "\n",
        "This is why we are only using 10 epochs initially"
      ]
    },
    {
      "metadata": {
        "colab_type": "code",
        "outputId": "6c20e658-845e-4c2b-f38c-2ec627a0a0c0",
        "id": "IDrDXDEcJSPE",
        "colab": {
          "base_uri": "https://localhost:8080/",
          "height": 390
        }
      },
      "cell_type": "code",
      "source": [
        "# Fit model on training data for network with dense input layer\n",
        "\n",
        "history = Digit_neuralNetwork.fit(X_train, y_train,\n",
        "          epochs=10,\n",
        "          verbose=1,\n",
        "          validation_data=(X_test, y_test))\n"
      ],
      "execution_count": 0,
      "outputs": [
        {
          "output_type": "stream",
          "text": [
            "Train on 37800 samples, validate on 4200 samples\n",
            "Epoch 1/10\n",
            "37800/37800 [==============================] - 3s 83us/step - loss: 0.5653 - acc: 0.8341 - val_loss: 0.2907 - val_acc: 0.9171\n",
            "Epoch 2/10\n",
            "37800/37800 [==============================] - 2s 57us/step - loss: 0.2527 - acc: 0.9263 - val_loss: 0.2217 - val_acc: 0.9360\n",
            "Epoch 3/10\n",
            "37800/37800 [==============================] - 2s 58us/step - loss: 0.2048 - acc: 0.9417 - val_loss: 0.1983 - val_acc: 0.9448\n",
            "Epoch 4/10\n",
            "37800/37800 [==============================] - 2s 57us/step - loss: 0.1806 - acc: 0.9477 - val_loss: 0.1953 - val_acc: 0.9450\n",
            "Epoch 5/10\n",
            "37800/37800 [==============================] - 2s 57us/step - loss: 0.1637 - acc: 0.9531 - val_loss: 0.1760 - val_acc: 0.9512\n",
            "Epoch 6/10\n",
            "37800/37800 [==============================] - 2s 58us/step - loss: 0.1513 - acc: 0.9556 - val_loss: 0.1657 - val_acc: 0.9531\n",
            "Epoch 7/10\n",
            "37800/37800 [==============================] - 2s 58us/step - loss: 0.1415 - acc: 0.9589 - val_loss: 0.1591 - val_acc: 0.9564\n",
            "Epoch 8/10\n",
            "37800/37800 [==============================] - 2s 57us/step - loss: 0.1327 - acc: 0.9608 - val_loss: 0.1735 - val_acc: 0.9531\n",
            "Epoch 9/10\n",
            "37800/37800 [==============================] - 2s 58us/step - loss: 0.1254 - acc: 0.9637 - val_loss: 0.1634 - val_acc: 0.9540\n",
            "Epoch 10/10\n",
            "37800/37800 [==============================] - 2s 58us/step - loss: 0.1182 - acc: 0.9658 - val_loss: 0.1702 - val_acc: 0.9529\n"
          ],
          "name": "stdout"
        }
      ]
    },
    {
      "metadata": {
        "colab_type": "code",
        "outputId": "1b762b17-c5da-45f1-cb22-3ef1557819af",
        "id": "4ldH06ZhJSPJ",
        "colab": {
          "base_uri": "https://localhost:8080/",
          "height": 70
        }
      },
      "cell_type": "code",
      "source": [
        "# 10. Evaluate model on test data\n",
        "print (\"Running final scoring on test data\")\n",
        "score = Digit_neuralNetwork.evaluate(X_test, y_test, verbose=1)\n",
        "print (\"The accuracy for this model is \", format(score[1], \",.2f\"))"
      ],
      "execution_count": 0,
      "outputs": [
        {
          "output_type": "stream",
          "text": [
            "Running final scoring on test data\n",
            "4200/4200 [==============================] - 0s 34us/step\n",
            "The accuracy for this model is  0.95\n"
          ],
          "name": "stdout"
        }
      ]
    },
    {
      "metadata": {
        "id": "KpwB3-bUVVuc",
        "colab_type": "text"
      },
      "cell_type": "markdown",
      "source": [
        "## Plot the Training History\n",
        "\n",
        "We store the performance during training is a variable named 'history'. The x-axis is the training time or number of epochs.\n",
        "\n",
        "- Accuracy: Accuracy of the predictions, hopefully this is increasing to near 1.0\n",
        "- Loss: How close the output is to the desired output, this should decrease to near 0.0"
      ]
    },
    {
      "metadata": {
        "colab_type": "code",
        "outputId": "77c584ce-de13-4411-e090-4f3f89c251c5",
        "id": "_kKSpZEnJSPO",
        "colab": {
          "base_uri": "https://localhost:8080/",
          "height": 380
        }
      },
      "cell_type": "code",
      "source": [
        "# Plot the loss and accuracy curves for training and validation \n",
        "fig, ax = plt.subplots(2,1)\n",
        "\n",
        "ax[0].plot(history.history['acc'], color='b', label=\"Training accuracy\")\n",
        "ax[0].plot(history.history['val_acc'], color='r',label=\"Testing accuracy\")\n",
        "ax[0].set_title(\"Accruacy\")\n",
        "legend = ax[0].legend(loc='best', shadow=True)\n",
        "              \n",
        "ax[1].plot(history.history['loss'], color='b', label=\"Training loss\")\n",
        "ax[1].plot(history.history['val_loss'], color='r', label=\"Testing loss\",axes =ax[1])\n",
        "ax[1].set_title(\"Loss\")\n",
        "legend = ax[1].legend(loc='best', shadow=True)\n",
        "plt.ylim(0,1)"
      ],
      "execution_count": 0,
      "outputs": [
        {
          "output_type": "execute_result",
          "data": {
            "text/plain": [
              "(0, 1)"
            ]
          },
          "metadata": {
            "tags": []
          },
          "execution_count": 93
        },
        {
          "output_type": "display_data",
          "data": {
            "image/png": "[encoded data removed]",
            "text/plain": [
              "<Figure size 576x396 with 2 Axes>"
            ]
          },
          "metadata": {
            "tags": []
          }
        }
      ]
    },
    {
      "metadata": {
        "id": "xAHcXCEcfzIL",
        "colab_type": "text"
      },
      "cell_type": "markdown",
      "source": [
        "## Create the Submission for Kaggle\n",
        "\n",
        "The following code generates a file named CIS3115_Submission.csv which you need to download to your local PC and then upload to [Kaggle's Digit Recognition competition](https://www.kaggle.com/c/digit-recognizer/submit).\n"
      ]
    },
    {
      "metadata": {
        "id": "YqcMfCNsjpOJ",
        "colab_type": "code",
        "colab": {}
      },
      "cell_type": "code",
      "source": [
        "predictions = Digit_neuralNetwork.predict_classes(X_submit_kaggle, verbose=0)\n",
        "\n",
        "submissions=pd.DataFrame({\"ImageId\": list(range(1,len(predictions)+1)), \"Label\": predictions})\n",
        "\n",
        "submissions.to_csv(\"CIS3115_Submission.csv\", index=False, header=True)"
      ],
      "execution_count": 0,
      "outputs": []
    },
    {
      "metadata": {
        "id": "d5UGK9BiWDW5",
        "colab_type": "text"
      },
      "cell_type": "markdown",
      "source": [
        "## Task 6: First Kaggle Submission\n",
        "\n",
        "Run the code above after training the network above. It will go through the 28,000 submission images and generate an prediction for each. These are saved in a file named \"CIS3115_Submission.csv\"\n",
        "\n",
        "**Colab Users: ** The submission file is stored in the Colab files tied to this colab notebook in the Google cloud. \n",
        "1. Open the left-side menu by clicking on the > icon near the top-left\n",
        "2. Select the file tab\n",
        "3. Hit the Refresh button and the file should be displayed in the list\n",
        "4. Right-click on the file and choose \"Download\" and save it to a folder on your PC.\n",
        "\n",
        "**Juptyter Notebook Users: ** The submission file will be stored in the same folder as your Jupyter notebook file.\n",
        "\n",
        "Once you have the file, return to  the [Kaggle Digit Recognition challenge](https://www.kaggle.com/c/digit-recognizer) and select the Submit button. Follow the steps to upload your submission and see how it scores.\n",
        "\n",
        "Record your initial submission score here: _ _ _ _ _ _ _ _ _ _ _ _\n"
      ]
    },
    {
      "metadata": {
        "id": "e_m4rNNqjfra",
        "colab_type": "text"
      },
      "cell_type": "markdown",
      "source": [
        "## Task 7: Improve you Score\n",
        "\n",
        "Try making changes to your neural network above. Consider more hidden units and more epochs. Try to improve both your training and testing (validation) accuracy.\n",
        "\n",
        "Upload at least one more attemp to  the [Kaggle Digit Recognition challenge](https://www.kaggle.com/c/digit-recognizer).\n",
        "\n",
        "Record your submission scores here:  _ _ _ _ _ _ _ _ _ _\n",
        "\n",
        "\n",
        "### Note: Next week we will study a number of methods to improve your score, so don't be dissapointed if your score this week is low."
      ]
    },
    {
      "metadata": {
        "id": "RUzZntKj1QFz",
        "colab_type": "text"
      },
      "cell_type": "markdown",
      "source": [
        "# Wrapping Up\n",
        "\n",
        "Remember to **share this sheet with your instructo**r and submit a link to it in Blackboard."
      ]
    },
    {
      "metadata": {
        "id": "hNmZlPcKWv12",
        "colab_type": "code",
        "colab": {}
      },
      "cell_type": "code",
      "source": [
        ""
      ],
      "execution_count": 0,
      "outputs": []
    }
  ]
}