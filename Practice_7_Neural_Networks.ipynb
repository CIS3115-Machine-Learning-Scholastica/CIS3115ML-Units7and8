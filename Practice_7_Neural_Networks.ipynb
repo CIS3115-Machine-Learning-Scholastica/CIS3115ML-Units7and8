{
  "nbformat": 4,
  "nbformat_minor": 0,
  "metadata": {
    "colab": {
      "name": "Practice 7: Neural Networks.ipynb",
      "version": "0.3.2",
      "provenance": [],
      "collapsed_sections": [],
      "toc_visible": true
    },
    "kernelspec": {
      "name": "python3",
      "display_name": "Python 3"
    }
  },
  "cells": [
    {
      "metadata": {
        "id": "UcP0RHTjWP1q",
        "colab_type": "text"
      },
      "cell_type": "markdown",
      "source": [
        "# Practice 7: Neural Networks\n",
        "\n",
        "Use this notebook as the starting point for the Practice activities.\n",
        "\n",
        "Student Name:    **[  Put your Name Here ]**\n",
        "\n",
        "**Video Walkthough by Tom**"
      ]
    },
    {
      "metadata": {
        "id": "KmZ4LSJ7XLR9",
        "colab_type": "text"
      },
      "cell_type": "markdown",
      "source": [
        "# Section 0\n",
        "\n",
        "=== *You must run this section to set up things for any of the sections below * ===\n",
        "### Setting up Python tools\n",
        "\n",
        "\n",
        "\n",
        "We'll use three libraries for this tutorial: \n",
        "- [pandas](http://pandas.pydata.org/) : dataframes for spreadsheet-like data analysis, reading CSV files, time series\n",
        "- [numpy](http://www.numpy.org/) : for multidimensional data and linear algebra tools\n",
        "- [matplotlib](http://matplotlib.org/) : Simple plotting and graphing\n",
        "- [seaborn](http://stanford.edu/~mwaskom/software/seaborn/) : more advanced graphing\n",
        "-  [scikit-learn](https://scikit-learn.org/stable/) : provides many machine learning algorithms and tools to training and test.\n",
        "\n",
        "\n"
      ]
    },
    {
      "metadata": {
        "id": "RHAUKyWlWQ9L",
        "colab_type": "code",
        "outputId": "d9e7e298-13bc-4a1f-b319-a51c60b71933",
        "colab": {
          "base_uri": "https://localhost:8080/",
          "height": 52
        }
      },
      "cell_type": "code",
      "source": [
        "# First, we'll import pandas and numpy, two data processing libraries\n",
        "import pandas as pd\n",
        "import numpy as np\n",
        "\n",
        "# We'll also import seaborn and matplot, twp Python graphing libraries\n",
        "import seaborn as sns\n",
        "import matplotlib.pyplot as plt\n",
        "# Import the needed sklearn libraries\n",
        "from sklearn.preprocessing import MinMaxScaler, StandardScaler\n",
        "from sklearn import datasets\n",
        "from sklearn.model_selection import train_test_split\n",
        "from sklearn.neighbors import KNeighborsClassifier\n",
        "from sklearn.svm import SVC\n",
        "from sklearn.decomposition import PCA\n",
        "from sklearn.preprocessing import LabelEncoder\n",
        "\n",
        "# The Keras library provides support for neural networks and deep learning\n",
        "print (\"====== This should generate a FutureWaring on Conversion ===== ignore this warning\")\n",
        "import keras\n",
        "from keras.models import Sequential\n",
        "from keras.layers import Dense, Dropout, Activation, Lambda, Flatten, LSTM\n",
        "from keras.layers import Conv2D, MaxPooling2D\n",
        "from keras.optimizers import Adam, RMSprop\n",
        "from keras.utils import np_utils\n",
        "\n",
        "# We will turn off some warns in this notebook to make it easier to read for new students\n",
        "import warnings\n",
        "warnings.filterwarnings('ignore')"
      ],
      "execution_count": 1,
      "outputs": [
        {
          "output_type": "stream",
          "text": [
            "====== This should generate a FutureWaring on Conversion ===== ignore this warning\n"
          ],
          "name": "stdout"
        },
        {
          "output_type": "stream",
          "text": [
            "Using TensorFlow backend.\n"
          ],
          "name": "stderr"
        }
      ]
    },
    {
      "metadata": {
        "id": "Vz1Qt8p_U4g2",
        "colab_type": "text"
      },
      "cell_type": "markdown",
      "source": [
        "## The data sets\n",
        "We will work with the following data sets:\n",
        "- Section I: Iris flower dataset from Practice 2 & 4\n",
        "- Section II: Breast cancer data from Project 1 & 2\n",
        "- Section III: [MNIST](https://en.wikipedia.org/wiki/MNIST_database) handwritten digits. This is our first image data set. Each image is 16x16 grayscale pixels. \n",
        "<p>\n"
      ]
    },
    {
      "metadata": {
        "id": "qllYJsYUU5mT",
        "colab_type": "text"
      },
      "cell_type": "markdown",
      "source": [
        "# Section I: Iris Flowers \n",
        "=== *You must run Section 0 before this section* ===\n",
        "## Neural Networks to Classify Iris Flowers\n",
        "\n",
        "Remember the iris flower data set has four features for each flower. Each flower is in one of three species of Iris.\n",
        "\n",
        "We will train a simple neural network to learn to classify the Iris flowers\n",
        "\n",
        "First we will read in the Iris database...\n",
        "\n"
      ]
    },
    {
      "metadata": {
        "id": "Zw-0pDmtWRAN",
        "colab_type": "code",
        "colab": {}
      },
      "cell_type": "code",
      "source": [
        "# Read in the iris data file from stored in a raw file in GitHub\n",
        "url_iris = 'https://raw.githubusercontent.com/CIS3115-Machine-Learning-Scholastica/CIS3115ML-Units3and4/master/Iris.csv'\n",
        "iris = pd.read_csv(url_iris)\n",
        "# Set the Id column as the index since it is unique for each flower\n",
        "iris.set_index('Id', inplace=True)\n",
        "\n",
        "species = iris['Species'].unique()\n"
      ],
      "execution_count": 0,
      "outputs": []
    },
    {
      "metadata": {
        "id": "1OtgWe9yWRDZ",
        "colab_type": "code",
        "outputId": "845a911d-354f-4470-b299-a871e601ee13",
        "colab": {
          "base_uri": "https://localhost:8080/",
          "height": 227
        }
      },
      "cell_type": "code",
      "source": [
        "# Display the first 5 flowers to make sure the data was read in\n",
        "iris.head(5)"
      ],
      "execution_count": 3,
      "outputs": [
        {
          "output_type": "execute_result",
          "data": {
            "text/html": [
              "<div>\n",
              "<style scoped>\n",
              "    .dataframe tbody tr th:only-of-type {\n",
              "        vertical-align: middle;\n",
              "    }\n",
              "\n",
              "    .dataframe tbody tr th {\n",
              "        vertical-align: top;\n",
              "    }\n",
              "\n",
              "    .dataframe thead th {\n",
              "        text-align: right;\n",
              "    }\n",
              "</style>\n",
              "<table border=\"1\" class=\"dataframe\">\n",
              "  <thead>\n",
              "    <tr style=\"text-align: right;\">\n",
              "      <th></th>\n",
              "      <th>SepalLengthCm</th>\n",
              "      <th>SepalWidthCm</th>\n",
              "      <th>PetalLengthCm</th>\n",
              "      <th>PetalWidthCm</th>\n",
              "      <th>Species</th>\n",
              "    </tr>\n",
              "    <tr>\n",
              "      <th>Id</th>\n",
              "      <th></th>\n",
              "      <th></th>\n",
              "      <th></th>\n",
              "      <th></th>\n",
              "      <th></th>\n",
              "    </tr>\n",
              "  </thead>\n",
              "  <tbody>\n",
              "    <tr>\n",
              "      <th>1</th>\n",
              "      <td>5.1</td>\n",
              "      <td>3.5</td>\n",
              "      <td>1.4</td>\n",
              "      <td>0.2</td>\n",
              "      <td>Iris-setosa</td>\n",
              "    </tr>\n",
              "    <tr>\n",
              "      <th>2</th>\n",
              "      <td>4.9</td>\n",
              "      <td>3.0</td>\n",
              "      <td>1.4</td>\n",
              "      <td>0.2</td>\n",
              "      <td>Iris-setosa</td>\n",
              "    </tr>\n",
              "    <tr>\n",
              "      <th>3</th>\n",
              "      <td>4.7</td>\n",
              "      <td>3.2</td>\n",
              "      <td>1.3</td>\n",
              "      <td>0.2</td>\n",
              "      <td>Iris-setosa</td>\n",
              "    </tr>\n",
              "    <tr>\n",
              "      <th>4</th>\n",
              "      <td>4.6</td>\n",
              "      <td>3.1</td>\n",
              "      <td>1.5</td>\n",
              "      <td>0.2</td>\n",
              "      <td>Iris-setosa</td>\n",
              "    </tr>\n",
              "    <tr>\n",
              "      <th>5</th>\n",
              "      <td>5.0</td>\n",
              "      <td>3.6</td>\n",
              "      <td>1.4</td>\n",
              "      <td>0.2</td>\n",
              "      <td>Iris-setosa</td>\n",
              "    </tr>\n",
              "  </tbody>\n",
              "</table>\n",
              "</div>"
            ],
            "text/plain": [
              "    SepalLengthCm  SepalWidthCm  PetalLengthCm  PetalWidthCm      Species\n",
              "Id                                                                       \n",
              "1             5.1           3.5            1.4           0.2  Iris-setosa\n",
              "2             4.9           3.0            1.4           0.2  Iris-setosa\n",
              "3             4.7           3.2            1.3           0.2  Iris-setosa\n",
              "4             4.6           3.1            1.5           0.2  Iris-setosa\n",
              "5             5.0           3.6            1.4           0.2  Iris-setosa"
            ]
          },
          "metadata": {
            "tags": []
          },
          "execution_count": 3
        }
      ]
    },
    {
      "metadata": {
        "id": "estP1rJqjiqL",
        "colab_type": "text"
      },
      "cell_type": "markdown",
      "source": [
        "## Set up the input and output \n",
        "In the past we have called the input **\"X\"** and the output **\"y\"** but when working with multiple datasets we will use **\"Xiris\"** for the input features for the iris flower dataset. Likewise we will use **\"yiris\"** for the output categories for the iris flowers.\n",
        "\n",
        "\n",
        "**Scale Data:** Neural Networks work best with the inputs are between -1 and +1, so the MinMaxScaler is used to scale all the inputs to the range 0 to +1.\n",
        "\n",
        "\n",
        "**Split the Data:** The Iris data is split with 80% used for training and 20% used for testing.\n",
        "\n",
        "**One-Hot Encoding:** Neural Networks like the output as one-hot encoding. This is a list of values, one for each category, which are all zeros except one which is 1 which represents the correct category.\n",
        "\n",
        "So, if we have three iris species, we map each one to a one-hot encoding:\n",
        "- Iris-setosa = [ 1, 0, 0 ]\n",
        "- Iris-virginica  = [ 0, 1, 0 ]\n",
        "- Iris-versicolor = [ 0, 0, 1 ]\n"
      ]
    },
    {
      "metadata": {
        "id": "OqLNbqIzch1o",
        "colab_type": "code",
        "colab": {}
      },
      "cell_type": "code",
      "source": [
        "input_Size = 4\n",
        "output_Size = 3\n",
        "\n",
        "feature_columns = ['SepalLengthCm', 'SepalWidthCm', 'PetalLengthCm','PetalWidthCm']\n",
        "Xiris = iris[feature_columns].values\n",
        "# We need the species labels converted to numbers for the neural network\n",
        "yiris = LabelEncoder().fit_transform(iris[\"Species\"])\n",
        "\n",
        "# Scale the input data\n",
        "mmScaler = MinMaxScaler()\n",
        "Xiris = mmScaler.fit_transform(Xiris)\n",
        "\n",
        "# Split the data into 80% for training and 20% for testing out the models\n",
        "X_train, X_test, y_train, y_test = train_test_split(Xiris, yiris.ravel(), test_size=0.2)\n",
        "\n",
        "# Format the output as one-hot encodings. Each output has three values with only one with a value of 1\n",
        "y_train = np_utils.to_categorical(y_train, output_Size)\n",
        "y_test = np_utils.to_categorical(y_test, output_Size)"
      ],
      "execution_count": 0,
      "outputs": []
    },
    {
      "metadata": {
        "id": "B5Hy611A_4ys",
        "colab_type": "code",
        "colab": {
          "base_uri": "https://localhost:8080/",
          "height": 87
        },
        "outputId": "e7cdb553-c038-43c8-b89e-81ca53fc9574"
      },
      "cell_type": "code",
      "source": [
        "print (\"X_train training data is 120 flowers with 4 features each: \" ,X_train.shape)\n",
        "print (\"X_test testing data is 30 flowers with 4 features each: \" ,X_test.shape)\n",
        "\n",
        "print (\"y_train output is 1 of 3 species for 120 flowers: \" ,y_train.shape)\n",
        "print (\"y_test output is 1 of 3 species for 30 flowers: : \" ,y_test.shape)"
      ],
      "execution_count": 51,
      "outputs": [
        {
          "output_type": "stream",
          "text": [
            "X_train training data is 120 flowers with 4 features each:  (120, 4)\n",
            "X_test testing data is 30 flowers with 4 features each:  (30, 4)\n",
            "y_train output is 1 of 3 species for 120 flowers:  (120, 3)\n",
            "y_test output is 1 of 3 species for 30 flowers: :  (30, 3)\n"
          ],
          "name": "stdout"
        }
      ]
    },
    {
      "metadata": {
        "id": "hL9TP4GBkqfs",
        "colab_type": "text"
      },
      "cell_type": "markdown",
      "source": [
        "## Neural Network\n",
        "\n",
        "The following code sets up a sequential, four layer neural network. Sequential means that each layer is connected to the layer listed before it:\n",
        "- Input layer: Input values are assigned to these units\n",
        "- Hidden layer 1: 8 units using Rectified Linear Units (relu)\n",
        "- Hidden layer 2: 6 units using Rectified Linear Units (relu)\n",
        "- Output  layer: 3 units using softmax so sum of the three units will be 1.0\n",
        "\n",
        "![neural network diagram](https://raw.githubusercontent.com/CIS3115-Machine-Learning-Scholastica/CIS3115ML-Units7and8/master/Iris%20Neural%20Network.png)\n",
        "\n",
        "\n"
      ]
    },
    {
      "metadata": {
        "id": "PLf6EIn1Zot0",
        "colab_type": "text"
      },
      "cell_type": "markdown",
      "source": [
        "## Task 1: Understanding the Network Stucture\n",
        "\n",
        "Answer the following questions about the network:\n",
        "\n",
        "1. Why is the input size or dimension set to 4? Is this dependent on the data? Why is it 4 with the iris data?\n",
        "2. Why is the the output size set to 3? How is dependent on the data used? How does this relate to the iris data?\n",
        "3. This network uses \"Dense\" hidden layers where each node is connected to every node in the previous layer. Node 3 in Hidden layer 1 is highlight in the diagram. Which nodes from which layer does Node 3 recieve inputs from?\n",
        "4. Node 3 in Hidden layer 1 is highlight in the diagram. Which nodes from which layer does Node 3 send its outputs to?"
      ]
    },
    {
      "metadata": {
        "id": "_dDDMlkIPtnD",
        "colab_type": "code",
        "colab": {}
      },
      "cell_type": "code",
      "source": [
        "# Set up the Neural Network\n",
        "\n",
        "input_Size = 4\n",
        "output_Size = 3\n",
        "\n",
        "Iris_neuralNetwork = Sequential()\n",
        "Iris_neuralNetwork.add(Dense(8, activation='relu', input_dim=(input_Size)))\n",
        "Iris_neuralNetwork.add(Dense(6, activation='relu'))\n",
        "Iris_neuralNetwork.add(Dense(output_Size, activation='softmax'))\n"
      ],
      "execution_count": 0,
      "outputs": []
    },
    {
      "metadata": {
        "id": "W38NgcRmQ1Bz",
        "colab_type": "text"
      },
      "cell_type": "markdown",
      "source": [
        "## Compile Neural Network\n",
        "\n",
        "This builds the Neural network. You must specify \n",
        "- optimizer = 'adam' is a common gradient decent method for changing the wieghts during training\n",
        "- loss =  'categorical_crossentropy' is used when you have a number of distinct categories and items can only be in one category.\n",
        "- metrics = 'accuracy' will output the accuracy of the classification, the percent of time the network gets the classification correct"
      ]
    },
    {
      "metadata": {
        "id": "cb5e3PZA01kv",
        "colab_type": "code",
        "colab": {}
      },
      "cell_type": "code",
      "source": [
        "# Compile neural network model\n",
        "Iris_neuralNetwork.compile(optimizer='Adam', loss='categorical_crossentropy', metrics=['accuracy'])"
      ],
      "execution_count": 0,
      "outputs": []
    },
    {
      "metadata": {
        "id": "SIp1LLRAUlwe",
        "colab_type": "text"
      },
      "cell_type": "markdown",
      "source": [
        "## Train the Neural Network\n",
        "\n",
        "This will run all 120 training flowers through the network and update the weights. The 30 testing flowers are then used to validate the model. \n",
        "\n",
        "- epochs = 50 means to run the training 50 times. \n",
        "- Performance measues:\n",
        " - loss: is a measurement of how far the outputs are from the desired outputs. This should get smaller over time.\n",
        " - acc: is the prediction accuracy as a percent so 0.67 means the model predicts the correct flower 67% of the time. \n",
        " - val_loss: the loss calculated using the testing flowers rather than the training flowers.\n",
        " - val_acc: the accuracy calculated using the testing flowers rather than the training flowers.\n",
        " \n",
        " \n",
        "Note: sometimes training will take minutes, if not hours to run, especially later when we get to complex networks"
      ]
    },
    {
      "metadata": {
        "id": "Y4Pu8MRq01oa",
        "colab_type": "code",
        "outputId": "7c33da88-7409-4789-d99c-56d4c2f29e0f",
        "colab": {
          "base_uri": "https://localhost:8080/",
          "height": 1812
        }
      },
      "cell_type": "code",
      "source": [
        "# Fit model on training data for network with dense input layer\n",
        "history = Iris_neuralNetwork.fit(X_train, y_train,\n",
        "          epochs=50,\n",
        "          verbose=1,\n",
        "          validation_data=(X_test, y_test))\n"
      ],
      "execution_count": 54,
      "outputs": [
        {
          "output_type": "stream",
          "text": [
            "Train on 120 samples, validate on 30 samples\n",
            "Epoch 1/50\n",
            "120/120 [==============================] - 1s 6ms/step - loss: 1.1089 - acc: 0.3417 - val_loss: 1.1140 - val_acc: 0.3000\n",
            "Epoch 2/50\n",
            "120/120 [==============================] - 0s 86us/step - loss: 1.1068 - acc: 0.3417 - val_loss: 1.1111 - val_acc: 0.3000\n",
            "Epoch 3/50\n",
            "120/120 [==============================] - 0s 79us/step - loss: 1.1047 - acc: 0.3417 - val_loss: 1.1084 - val_acc: 0.3000\n",
            "Epoch 4/50\n",
            "120/120 [==============================] - 0s 74us/step - loss: 1.1027 - acc: 0.3417 - val_loss: 1.1057 - val_acc: 0.3000\n",
            "Epoch 5/50\n",
            "120/120 [==============================] - 0s 81us/step - loss: 1.1006 - acc: 0.3417 - val_loss: 1.1032 - val_acc: 0.3000\n",
            "Epoch 6/50\n",
            "120/120 [==============================] - 0s 76us/step - loss: 1.0987 - acc: 0.3417 - val_loss: 1.1007 - val_acc: 0.3000\n",
            "Epoch 7/50\n",
            "120/120 [==============================] - 0s 65us/step - loss: 1.0967 - acc: 0.3417 - val_loss: 1.0983 - val_acc: 0.3000\n",
            "Epoch 8/50\n",
            "120/120 [==============================] - 0s 70us/step - loss: 1.0947 - acc: 0.3417 - val_loss: 1.0958 - val_acc: 0.3000\n",
            "Epoch 9/50\n",
            "120/120 [==============================] - 0s 60us/step - loss: 1.0925 - acc: 0.3417 - val_loss: 1.0934 - val_acc: 0.3000\n",
            "Epoch 10/50\n",
            "120/120 [==============================] - 0s 68us/step - loss: 1.0905 - acc: 0.3417 - val_loss: 1.0909 - val_acc: 0.3000\n",
            "Epoch 11/50\n",
            "120/120 [==============================] - 0s 64us/step - loss: 1.0883 - acc: 0.3167 - val_loss: 1.0884 - val_acc: 0.3000\n",
            "Epoch 12/50\n",
            "120/120 [==============================] - 0s 57us/step - loss: 1.0859 - acc: 0.3083 - val_loss: 1.0858 - val_acc: 0.3000\n",
            "Epoch 13/50\n",
            "120/120 [==============================] - 0s 85us/step - loss: 1.0834 - acc: 0.3000 - val_loss: 1.0831 - val_acc: 0.3000\n",
            "Epoch 14/50\n",
            "120/120 [==============================] - 0s 88us/step - loss: 1.0809 - acc: 0.3000 - val_loss: 1.0801 - val_acc: 0.2667\n",
            "Epoch 15/50\n",
            "120/120 [==============================] - 0s 103us/step - loss: 1.0782 - acc: 0.3000 - val_loss: 1.0770 - val_acc: 0.3333\n",
            "Epoch 16/50\n",
            "120/120 [==============================] - 0s 79us/step - loss: 1.0753 - acc: 0.3083 - val_loss: 1.0738 - val_acc: 0.3667\n",
            "Epoch 17/50\n",
            "120/120 [==============================] - 0s 73us/step - loss: 1.0722 - acc: 0.3083 - val_loss: 1.0705 - val_acc: 0.3667\n",
            "Epoch 18/50\n",
            "120/120 [==============================] - 0s 72us/step - loss: 1.0690 - acc: 0.3167 - val_loss: 1.0668 - val_acc: 0.3333\n",
            "Epoch 19/50\n",
            "120/120 [==============================] - 0s 78us/step - loss: 1.0655 - acc: 0.2833 - val_loss: 1.0630 - val_acc: 0.2667\n",
            "Epoch 20/50\n",
            "120/120 [==============================] - 0s 70us/step - loss: 1.0619 - acc: 0.3000 - val_loss: 1.0589 - val_acc: 0.3000\n",
            "Epoch 21/50\n",
            "120/120 [==============================] - 0s 85us/step - loss: 1.0579 - acc: 0.3083 - val_loss: 1.0544 - val_acc: 0.3000\n",
            "Epoch 22/50\n",
            "120/120 [==============================] - 0s 69us/step - loss: 1.0538 - acc: 0.3583 - val_loss: 1.0495 - val_acc: 0.3667\n",
            "Epoch 23/50\n",
            "120/120 [==============================] - 0s 103us/step - loss: 1.0487 - acc: 0.4667 - val_loss: 1.0443 - val_acc: 0.4667\n",
            "Epoch 24/50\n",
            "120/120 [==============================] - 0s 79us/step - loss: 1.0434 - acc: 0.5833 - val_loss: 1.0383 - val_acc: 0.6000\n",
            "Epoch 25/50\n",
            "120/120 [==============================] - 0s 77us/step - loss: 1.0375 - acc: 0.6167 - val_loss: 1.0318 - val_acc: 0.5667\n",
            "Epoch 26/50\n",
            "120/120 [==============================] - 0s 75us/step - loss: 1.0311 - acc: 0.6500 - val_loss: 1.0250 - val_acc: 0.5333\n",
            "Epoch 27/50\n",
            "120/120 [==============================] - 0s 85us/step - loss: 1.0245 - acc: 0.6333 - val_loss: 1.0177 - val_acc: 0.5667\n",
            "Epoch 28/50\n",
            "120/120 [==============================] - 0s 83us/step - loss: 1.0175 - acc: 0.6417 - val_loss: 1.0101 - val_acc: 0.6000\n",
            "Epoch 29/50\n",
            "120/120 [==============================] - 0s 83us/step - loss: 1.0097 - acc: 0.6583 - val_loss: 1.0022 - val_acc: 0.6333\n",
            "Epoch 30/50\n",
            "120/120 [==============================] - 0s 91us/step - loss: 1.0020 - acc: 0.6667 - val_loss: 0.9936 - val_acc: 0.6333\n",
            "Epoch 31/50\n",
            "120/120 [==============================] - 0s 71us/step - loss: 0.9937 - acc: 0.6833 - val_loss: 0.9851 - val_acc: 0.6667\n",
            "Epoch 32/50\n",
            "120/120 [==============================] - 0s 86us/step - loss: 0.9849 - acc: 0.7083 - val_loss: 0.9762 - val_acc: 0.7000\n",
            "Epoch 33/50\n",
            "120/120 [==============================] - 0s 74us/step - loss: 0.9759 - acc: 0.7083 - val_loss: 0.9671 - val_acc: 0.7000\n",
            "Epoch 34/50\n",
            "120/120 [==============================] - 0s 97us/step - loss: 0.9669 - acc: 0.7083 - val_loss: 0.9574 - val_acc: 0.7000\n",
            "Epoch 35/50\n",
            "120/120 [==============================] - 0s 87us/step - loss: 0.9573 - acc: 0.7000 - val_loss: 0.9476 - val_acc: 0.7000\n",
            "Epoch 36/50\n",
            "120/120 [==============================] - 0s 86us/step - loss: 0.9477 - acc: 0.7000 - val_loss: 0.9376 - val_acc: 0.7000\n",
            "Epoch 37/50\n",
            "120/120 [==============================] - 0s 87us/step - loss: 0.9382 - acc: 0.6833 - val_loss: 0.9273 - val_acc: 0.7000\n",
            "Epoch 38/50\n",
            "120/120 [==============================] - 0s 89us/step - loss: 0.9282 - acc: 0.6750 - val_loss: 0.9171 - val_acc: 0.7000\n",
            "Epoch 39/50\n",
            "120/120 [==============================] - 0s 104us/step - loss: 0.9183 - acc: 0.6667 - val_loss: 0.9069 - val_acc: 0.7000\n",
            "Epoch 40/50\n",
            "120/120 [==============================] - 0s 137us/step - loss: 0.9086 - acc: 0.6750 - val_loss: 0.8966 - val_acc: 0.7000\n",
            "Epoch 41/50\n",
            "120/120 [==============================] - 0s 69us/step - loss: 0.8988 - acc: 0.6667 - val_loss: 0.8862 - val_acc: 0.7000\n",
            "Epoch 42/50\n",
            "120/120 [==============================] - 0s 67us/step - loss: 0.8888 - acc: 0.6667 - val_loss: 0.8760 - val_acc: 0.7000\n",
            "Epoch 43/50\n",
            "120/120 [==============================] - 0s 60us/step - loss: 0.8789 - acc: 0.6583 - val_loss: 0.8659 - val_acc: 0.7000\n",
            "Epoch 44/50\n",
            "120/120 [==============================] - 0s 73us/step - loss: 0.8692 - acc: 0.6583 - val_loss: 0.8556 - val_acc: 0.7000\n",
            "Epoch 45/50\n",
            "120/120 [==============================] - 0s 78us/step - loss: 0.8593 - acc: 0.6583 - val_loss: 0.8453 - val_acc: 0.7000\n",
            "Epoch 46/50\n",
            "120/120 [==============================] - 0s 97us/step - loss: 0.8493 - acc: 0.6583 - val_loss: 0.8352 - val_acc: 0.7000\n",
            "Epoch 47/50\n",
            "120/120 [==============================] - 0s 95us/step - loss: 0.8399 - acc: 0.6583 - val_loss: 0.8250 - val_acc: 0.7000\n",
            "Epoch 48/50\n",
            "120/120 [==============================] - 0s 88us/step - loss: 0.8302 - acc: 0.6583 - val_loss: 0.8150 - val_acc: 0.7000\n",
            "Epoch 49/50\n",
            "120/120 [==============================] - 0s 88us/step - loss: 0.8205 - acc: 0.6583 - val_loss: 0.8054 - val_acc: 0.7000\n",
            "Epoch 50/50\n",
            "120/120 [==============================] - 0s 93us/step - loss: 0.8116 - acc: 0.6583 - val_loss: 0.7958 - val_acc: 0.7000\n"
          ],
          "name": "stdout"
        }
      ]
    },
    {
      "metadata": {
        "id": "B65n9trA1qzU",
        "colab_type": "code",
        "outputId": "aca9a857-5b19-46b1-d93d-9f6a78e605c3",
        "colab": {
          "base_uri": "https://localhost:8080/",
          "height": 70
        }
      },
      "cell_type": "code",
      "source": [
        "# 10. Evaluate model on test data\n",
        "print (\"Running final scoring on test data\")\n",
        "score = Iris_neuralNetwork.evaluate(X_test, y_test, verbose=1)\n",
        "print (\"The accuracy for this model is \", format(score[1], \",.2f\"))"
      ],
      "execution_count": 48,
      "outputs": [
        {
          "output_type": "stream",
          "text": [
            "Running final scoring on test data\n",
            "\r30/30 [==============================] - 0s 118us/step\n",
            "The accuracy for this model is  0.83\n"
          ],
          "name": "stdout"
        }
      ]
    },
    {
      "metadata": {
        "id": "NRH1j7fWXjo9",
        "colab_type": "text"
      },
      "cell_type": "markdown",
      "source": [
        "## Plot the Training History\n",
        "\n",
        "We store the performance during training is a variable named 'history'. The x-axis is the training time or number of epochs.\n",
        "\n",
        "- Accuracy: Accuracy of the predictions, hopefully this is increasing to near 1.0\n",
        "- Loss: How close the output is to the desired output, this should decrease to near 0.0"
      ]
    },
    {
      "metadata": {
        "id": "vYYUtTbmYMgw",
        "colab_type": "code",
        "colab": {
          "base_uri": "https://localhost:8080/",
          "height": 378
        },
        "outputId": "114493f1-e031-41dd-ca1c-259060121041"
      },
      "cell_type": "code",
      "source": [
        "# Plot the loss and accuracy curves for training and validation \n",
        "fig, ax = plt.subplots(2,1)\n",
        "\n",
        "ax[0].plot(history.history['acc'], color='b', label=\"Training accuracy\")\n",
        "ax[0].plot(history.history['val_acc'], color='r',label=\"Testing accuracy\")\n",
        "ax[0].set_title(\"Accruacy\")\n",
        "legend = ax[0].legend(loc='best', shadow=True)\n",
        "              \n",
        "ax[1].plot(history.history['loss'], color='b', label=\"Training loss\")\n",
        "ax[1].plot(history.history['val_loss'], color='r', label=\"Testing loss\",axes =ax[1])\n",
        "ax[1].set_title(\"Loss\")\n",
        "legend = ax[1].legend(loc='best', shadow=True)\n",
        "plt.ylim(0,1)\n"
      ],
      "execution_count": 49,
      "outputs": [
        {
          "output_type": "execute_result",
          "data": {
            "text/plain": [
              "(0, 1)"
            ]
          },
          "metadata": {
            "tags": []
          },
          "execution_count": 49
        },
        {
          "output_type": "display_data",
          "data": {
            "image/png": "[encoded data removed]",
            "text/plain": [
              "<Figure size 576x396 with 2 Axes>"
            ]
          },
          "metadata": {
            "tags": []
          }
        }
      ]
    },
    {
      "metadata": {
        "id": "ZI-vfLqjeIsG",
        "colab_type": "text"
      },
      "cell_type": "markdown",
      "source": [
        "## Task 2: Improving the Network\n",
        "\n",
        "1. What is the training accuracy, acc, and the testing accuracy, val_acc, of the model?\n",
        "\n",
        "2. Change the number of epochs used during training from 50 to 200. \n",
        " - Go back up to Task 1 and re-run all the cells down to this cell to re-train the network\n",
        " \n",
        "3. Try more hidden layers. The more hidden layers, the  more internal features the nework can learn. Try changing the number of nodes in each hidden layer to larger numbers. How accurate can you get the network? \n",
        " - Go back up to Task 1 and re-run all the cells down to this cell to re-train the network"
      ]
    },
    {
      "metadata": {
        "id": "XTszMKsRmO5L",
        "colab_type": "text"
      },
      "cell_type": "markdown",
      "source": [
        "## Task 3: Prediction\n",
        "Once we have trained or fit the model to the data, we can use it to make predictions.\n",
        "\n",
        "Here we will predict the iris species for a new flower with \n",
        "- SepalLengthCm = 5.2\t\n",
        "- SepalWidthCm = 3.3\n",
        "- PetalLengthCm = 1.4\n",
        "- PetalWidthCm\t= 0.2\n",
        "\n",
        "This should be a Iris-setosa\n",
        "\n",
        "Change the code below to make a prediction for a new flower with the following measurements.\n",
        "- SepalLengthCm = 4.2\t\n",
        "- SepalWidthCm = 3.0\n",
        "- PetalLengthCm = 3.4\n",
        "- PetalWidthCm\t= 1.2\n",
        "\n",
        "This should be a Iris-setosa"
      ]
    },
    {
      "metadata": {
        "id": "oRfDA6gj-HyV",
        "colab_type": "code",
        "outputId": "671e6efc-26a7-4ace-baf4-9ff9b1e376aa",
        "colab": {
          "base_uri": "https://localhost:8080/",
          "height": 52
        }
      },
      "cell_type": "code",
      "source": [
        "# The parameter order is SepalLengthCm, SepalWidthCm, PetalLengthCm, PetalWidthCm\n",
        "flowerMeasurements = [ [5.2, 3.3, 1.4, 0.2] ]\n",
        "\n",
        "# Scale the data since the original training data was scaled\n",
        "flowerMeasurements = mmScaler.transform(flowerMeasurements).reshape(1, -1) \n",
        "\n",
        "# Use the neural network to generate the prediction\n",
        "prediction = Iris_neuralNetwork.predict(flowerMeasurements)\n",
        "\n",
        "# The prediction is a score for how likely each species is, the highest value corresponds to the predicted species\n",
        "print (\"Predicted score for each Iris species is \", prediction)\n",
        "\n",
        "# select the indix with the maximum probability\n",
        "irisNum = np.argmax(prediction)\n",
        "print (\"This flower is of type : \", species[irisNum])"
      ],
      "execution_count": 0,
      "outputs": [
        {
          "output_type": "stream",
          "text": [
            "Predicted score for each Iris species is  [[0.7873379  0.13966392 0.07299826]]\n",
            "This flower is of type :  Iris-setosa\n"
          ],
          "name": "stdout"
        }
      ]
    },
    {
      "metadata": {
        "id": "k7SCGnzo_bzK",
        "colab_type": "text"
      },
      "cell_type": "markdown",
      "source": [
        "# Section II: Breast Cancer Data\n",
        "=== *You must run Section 0 before this section* ===\n",
        "### Neural Networks with the cancer dataset\n",
        "The following code loads in the breast cancer dataset"
      ]
    },
    {
      "metadata": {
        "id": "5l2xF4cdVxuZ",
        "colab_type": "code",
        "colab": {}
      },
      "cell_type": "code",
      "source": [
        " \n",
        "  # Read in the breast cancer data file from stored in a raw file in GitHub\n",
        "url_bc = 'https://raw.githubusercontent.com/CIS3115-Machine-Learning-Scholastica/CIS3115ML-Units3and4/master/breast-cancer-wisconsin-data.csv'\n",
        "\n",
        "cancer = pd.read_csv(url_bc)\n",
        "# Set the Id column as the index since it is unique for each pati\n",
        "cancer.set_index('id', inplace=True)"
      ],
      "execution_count": 0,
      "outputs": []
    },
    {
      "metadata": {
        "id": "gmhyyINeV_YW",
        "colab_type": "code",
        "outputId": "670f083f-d4a7-4038-e557-a1c6150f18fb",
        "colab": {
          "base_uri": "https://localhost:8080/",
          "height": 296
        }
      },
      "cell_type": "code",
      "source": [
        "# Display the first 5 rows at the start, or head, of the dataframe\n",
        "cancer.head(5)"
      ],
      "execution_count": 0,
      "outputs": [
        {
          "output_type": "execute_result",
          "data": {
            "text/html": [
              "<div>\n",
              "<style scoped>\n",
              "    .dataframe tbody tr th:only-of-type {\n",
              "        vertical-align: middle;\n",
              "    }\n",
              "\n",
              "    .dataframe tbody tr th {\n",
              "        vertical-align: top;\n",
              "    }\n",
              "\n",
              "    .dataframe thead th {\n",
              "        text-align: right;\n",
              "    }\n",
              "</style>\n",
              "<table border=\"1\" class=\"dataframe\">\n",
              "  <thead>\n",
              "    <tr style=\"text-align: right;\">\n",
              "      <th></th>\n",
              "      <th>diagnosis</th>\n",
              "      <th>radius_mean</th>\n",
              "      <th>texture_mean</th>\n",
              "      <th>perimeter_mean</th>\n",
              "      <th>area_mean</th>\n",
              "      <th>smoothness_mean</th>\n",
              "      <th>compactness_mean</th>\n",
              "      <th>concavity_mean</th>\n",
              "      <th>concave points_mean</th>\n",
              "      <th>symmetry_mean</th>\n",
              "      <th>...</th>\n",
              "      <th>texture_worst</th>\n",
              "      <th>perimeter_worst</th>\n",
              "      <th>area_worst</th>\n",
              "      <th>smoothness_worst</th>\n",
              "      <th>compactness_worst</th>\n",
              "      <th>concavity_worst</th>\n",
              "      <th>concave points_worst</th>\n",
              "      <th>symmetry_worst</th>\n",
              "      <th>fractal_dimension_worst</th>\n",
              "      <th>Unnamed: 32</th>\n",
              "    </tr>\n",
              "    <tr>\n",
              "      <th>id</th>\n",
              "      <th></th>\n",
              "      <th></th>\n",
              "      <th></th>\n",
              "      <th></th>\n",
              "      <th></th>\n",
              "      <th></th>\n",
              "      <th></th>\n",
              "      <th></th>\n",
              "      <th></th>\n",
              "      <th></th>\n",
              "      <th></th>\n",
              "      <th></th>\n",
              "      <th></th>\n",
              "      <th></th>\n",
              "      <th></th>\n",
              "      <th></th>\n",
              "      <th></th>\n",
              "      <th></th>\n",
              "      <th></th>\n",
              "      <th></th>\n",
              "      <th></th>\n",
              "    </tr>\n",
              "  </thead>\n",
              "  <tbody>\n",
              "    <tr>\n",
              "      <th>842302</th>\n",
              "      <td>M</td>\n",
              "      <td>17.99</td>\n",
              "      <td>10.38</td>\n",
              "      <td>122.80</td>\n",
              "      <td>1001.0</td>\n",
              "      <td>0.11840</td>\n",
              "      <td>0.27760</td>\n",
              "      <td>0.3001</td>\n",
              "      <td>0.14710</td>\n",
              "      <td>0.2419</td>\n",
              "      <td>...</td>\n",
              "      <td>17.33</td>\n",
              "      <td>184.60</td>\n",
              "      <td>2019.0</td>\n",
              "      <td>0.1622</td>\n",
              "      <td>0.6656</td>\n",
              "      <td>0.7119</td>\n",
              "      <td>0.2654</td>\n",
              "      <td>0.4601</td>\n",
              "      <td>0.11890</td>\n",
              "      <td>NaN</td>\n",
              "    </tr>\n",
              "    <tr>\n",
              "      <th>842517</th>\n",
              "      <td>M</td>\n",
              "      <td>20.57</td>\n",
              "      <td>17.77</td>\n",
              "      <td>132.90</td>\n",
              "      <td>1326.0</td>\n",
              "      <td>0.08474</td>\n",
              "      <td>0.07864</td>\n",
              "      <td>0.0869</td>\n",
              "      <td>0.07017</td>\n",
              "      <td>0.1812</td>\n",
              "      <td>...</td>\n",
              "      <td>23.41</td>\n",
              "      <td>158.80</td>\n",
              "      <td>1956.0</td>\n",
              "      <td>0.1238</td>\n",
              "      <td>0.1866</td>\n",
              "      <td>0.2416</td>\n",
              "      <td>0.1860</td>\n",
              "      <td>0.2750</td>\n",
              "      <td>0.08902</td>\n",
              "      <td>NaN</td>\n",
              "    </tr>\n",
              "    <tr>\n",
              "      <th>84300903</th>\n",
              "      <td>M</td>\n",
              "      <td>19.69</td>\n",
              "      <td>21.25</td>\n",
              "      <td>130.00</td>\n",
              "      <td>1203.0</td>\n",
              "      <td>0.10960</td>\n",
              "      <td>0.15990</td>\n",
              "      <td>0.1974</td>\n",
              "      <td>0.12790</td>\n",
              "      <td>0.2069</td>\n",
              "      <td>...</td>\n",
              "      <td>25.53</td>\n",
              "      <td>152.50</td>\n",
              "      <td>1709.0</td>\n",
              "      <td>0.1444</td>\n",
              "      <td>0.4245</td>\n",
              "      <td>0.4504</td>\n",
              "      <td>0.2430</td>\n",
              "      <td>0.3613</td>\n",
              "      <td>0.08758</td>\n",
              "      <td>NaN</td>\n",
              "    </tr>\n",
              "    <tr>\n",
              "      <th>84348301</th>\n",
              "      <td>M</td>\n",
              "      <td>11.42</td>\n",
              "      <td>20.38</td>\n",
              "      <td>77.58</td>\n",
              "      <td>386.1</td>\n",
              "      <td>0.14250</td>\n",
              "      <td>0.28390</td>\n",
              "      <td>0.2414</td>\n",
              "      <td>0.10520</td>\n",
              "      <td>0.2597</td>\n",
              "      <td>...</td>\n",
              "      <td>26.50</td>\n",
              "      <td>98.87</td>\n",
              "      <td>567.7</td>\n",
              "      <td>0.2098</td>\n",
              "      <td>0.8663</td>\n",
              "      <td>0.6869</td>\n",
              "      <td>0.2575</td>\n",
              "      <td>0.6638</td>\n",
              "      <td>0.17300</td>\n",
              "      <td>NaN</td>\n",
              "    </tr>\n",
              "    <tr>\n",
              "      <th>84358402</th>\n",
              "      <td>M</td>\n",
              "      <td>20.29</td>\n",
              "      <td>14.34</td>\n",
              "      <td>135.10</td>\n",
              "      <td>1297.0</td>\n",
              "      <td>0.10030</td>\n",
              "      <td>0.13280</td>\n",
              "      <td>0.1980</td>\n",
              "      <td>0.10430</td>\n",
              "      <td>0.1809</td>\n",
              "      <td>...</td>\n",
              "      <td>16.67</td>\n",
              "      <td>152.20</td>\n",
              "      <td>1575.0</td>\n",
              "      <td>0.1374</td>\n",
              "      <td>0.2050</td>\n",
              "      <td>0.4000</td>\n",
              "      <td>0.1625</td>\n",
              "      <td>0.2364</td>\n",
              "      <td>0.07678</td>\n",
              "      <td>NaN</td>\n",
              "    </tr>\n",
              "  </tbody>\n",
              "</table>\n",
              "<p>5 rows × 32 columns</p>\n",
              "</div>"
            ],
            "text/plain": [
              "         diagnosis  radius_mean  texture_mean  perimeter_mean  area_mean  \\\n",
              "id                                                                         \n",
              "842302           M        17.99         10.38          122.80     1001.0   \n",
              "842517           M        20.57         17.77          132.90     1326.0   \n",
              "84300903         M        19.69         21.25          130.00     1203.0   \n",
              "84348301         M        11.42         20.38           77.58      386.1   \n",
              "84358402         M        20.29         14.34          135.10     1297.0   \n",
              "\n",
              "          smoothness_mean  compactness_mean  concavity_mean  \\\n",
              "id                                                            \n",
              "842302            0.11840           0.27760          0.3001   \n",
              "842517            0.08474           0.07864          0.0869   \n",
              "84300903          0.10960           0.15990          0.1974   \n",
              "84348301          0.14250           0.28390          0.2414   \n",
              "84358402          0.10030           0.13280          0.1980   \n",
              "\n",
              "          concave points_mean  symmetry_mean     ...       texture_worst  \\\n",
              "id                                               ...                       \n",
              "842302                0.14710         0.2419     ...               17.33   \n",
              "842517                0.07017         0.1812     ...               23.41   \n",
              "84300903              0.12790         0.2069     ...               25.53   \n",
              "84348301              0.10520         0.2597     ...               26.50   \n",
              "84358402              0.10430         0.1809     ...               16.67   \n",
              "\n",
              "          perimeter_worst  area_worst  smoothness_worst  compactness_worst  \\\n",
              "id                                                                           \n",
              "842302             184.60      2019.0            0.1622             0.6656   \n",
              "842517             158.80      1956.0            0.1238             0.1866   \n",
              "84300903           152.50      1709.0            0.1444             0.4245   \n",
              "84348301            98.87       567.7            0.2098             0.8663   \n",
              "84358402           152.20      1575.0            0.1374             0.2050   \n",
              "\n",
              "          concavity_worst  concave points_worst  symmetry_worst  \\\n",
              "id                                                                \n",
              "842302             0.7119                0.2654          0.4601   \n",
              "842517             0.2416                0.1860          0.2750   \n",
              "84300903           0.4504                0.2430          0.3613   \n",
              "84348301           0.6869                0.2575          0.6638   \n",
              "84358402           0.4000                0.1625          0.2364   \n",
              "\n",
              "          fractal_dimension_worst  Unnamed: 32  \n",
              "id                                              \n",
              "842302                    0.11890          NaN  \n",
              "842517                    0.08902          NaN  \n",
              "84300903                  0.08758          NaN  \n",
              "84348301                  0.17300          NaN  \n",
              "84358402                  0.07678          NaN  \n",
              "\n",
              "[5 rows x 32 columns]"
            ]
          },
          "metadata": {
            "tags": []
          },
          "execution_count": 57
        }
      ]
    },
    {
      "metadata": {
        "id": "hYMuTD6qxjIV",
        "colab_type": "text"
      },
      "cell_type": "markdown",
      "source": [
        "### Set up the Input and output, X and y\n",
        "\n",
        "Here we will use Xcancer and ycancer instead of X and y for the input features and output categories.\n",
        "\n",
        "This data set has 569 tumors with 30 features on each tumor, along with each tumor's category as Benign or Malignant.\n",
        "\n",
        "We will also scale the data so that all features are converted to the range of 0 to +1"
      ]
    },
    {
      "metadata": {
        "id": "8mwusXDNbdYr",
        "colab_type": "code",
        "colab": {}
      },
      "cell_type": "code",
      "source": [
        "input_Size = 30\n",
        "output_Size = 2\n",
        "\n",
        "# === Select all the data for input ===\n",
        "Xcancer = cancer.iloc[:, 1:31] \n",
        "# The output is the diagnosis where M is Malignant and B is Benign\n",
        "# We need the diagnosis labels converted to numbers for the neural network\n",
        "ycancer = LabelEncoder().fit_transform(cancer[\"diagnosis\"])\n",
        "\n",
        "# Scale the input data\n",
        "mmScaler = MinMaxScaler()\n",
        "Xcancer = mmScaler.fit_transform(Xcancer)\n",
        "\n",
        "# Split the data into 80% for training and 20% for testing out the models\n",
        "X_train, X_test, y_train, y_test = train_test_split(Xcancer, ycancer.ravel(), test_size=0.2)\n",
        "\n",
        "# Format the output as one-hot encodings. Each output has two values with only one with a value of 1\n",
        "y_train = np_utils.to_categorical(y_train, output_Size)\n",
        "y_test = np_utils.to_categorical(y_test, output_Size)"
      ],
      "execution_count": 0,
      "outputs": []
    },
    {
      "metadata": {
        "colab_type": "text",
        "id": "wwEfdxzUFS-p"
      },
      "cell_type": "markdown",
      "source": [
        "## Task 2: Neural Network\n",
        "\n",
        "The code below runs KNN using the three closest neighbors. It uses KNN on:\n",
        "- The original data with 30 features, Xcancer\n",
        "- Data reduced to 1 component with PCA, XcancerPCA1\n",
        "- Data reduced to 3 component with PCA, XcancerPCA3\n",
        "- Data reduced to 5 component with PCA, XcancerPCA5\n",
        "\n",
        "\n",
        " ### Analyze at the scores\n",
        " - How close were the scores?\n",
        " - Did PCA improve the scores?\n",
        " - If PCA did not improve the scores, would it reduce the memory or time needed to run the KNN algorithm?\n",
        "---\n"
      ]
    },
    {
      "metadata": {
        "colab_type": "text",
        "id": "bezF0_uGa4SU"
      },
      "cell_type": "markdown",
      "source": [
        "### Neural Network\n",
        "\n",
        "\n",
        "\n",
        "\n",
        "\n",
        "\n"
      ]
    },
    {
      "metadata": {
        "colab_type": "code",
        "id": "phwGAAm8a4Sg",
        "colab": {}
      },
      "cell_type": "code",
      "source": [
        "# Set up the Neural Network\n",
        "\n",
        "input_Size = 30\n",
        "output_Size = 2\n",
        "\n",
        "Cancer_neuralNetwork = Sequential()\n",
        "Cancer_neuralNetwork.add(Dense(32, activation='relu', input_dim=(input_Size)))\n",
        "Cancer_neuralNetwork.add(Dense(24, activation='relu'))\n",
        "Cancer_neuralNetwork.add(Dense(output_Size, activation='softmax'))\n"
      ],
      "execution_count": 0,
      "outputs": []
    },
    {
      "metadata": {
        "colab_type": "code",
        "id": "8nr6ANMha4S1",
        "colab": {}
      },
      "cell_type": "code",
      "source": [
        "# Compile neural network model\n",
        "Cancer_neuralNetwork.compile(optimizer='adam', loss='categorical_crossentropy', metrics=['accuracy'])"
      ],
      "execution_count": 0,
      "outputs": []
    },
    {
      "metadata": {
        "colab_type": "code",
        "outputId": "c965c551-589d-4e8b-8008-ee444097c42d",
        "id": "0p7yooe4a4TS",
        "colab": {
          "base_uri": "https://localhost:8080/",
          "height": 7146
        }
      },
      "cell_type": "code",
      "source": [
        "# Fit model on training data for network with dense input layer\n",
        "batch_size = 100\n",
        "epochs = 200\n",
        "history = Cancer_neuralNetwork.fit(X_train, y_train,\n",
        "          batch_size=batch_size,\n",
        "          epochs=epochs,\n",
        "          verbose=2,\n",
        "          validation_data=(X_test, y_test))\n"
      ],
      "execution_count": 0,
      "outputs": [
        {
          "output_type": "stream",
          "text": [
            "Train on 455 samples, validate on 114 samples\n",
            "Epoch 1/200\n",
            " - 1s - loss: 0.6911 - acc: 0.6198 - val_loss: 0.6894 - val_acc: 0.6404\n",
            "Epoch 2/200\n",
            " - 0s - loss: 0.6866 - acc: 0.6198 - val_loss: 0.6843 - val_acc: 0.6404\n",
            "Epoch 3/200\n",
            " - 0s - loss: 0.6816 - acc: 0.6198 - val_loss: 0.6790 - val_acc: 0.6404\n",
            "Epoch 4/200\n",
            " - 0s - loss: 0.6765 - acc: 0.6198 - val_loss: 0.6737 - val_acc: 0.6404\n",
            "Epoch 5/200\n",
            " - 0s - loss: 0.6715 - acc: 0.6198 - val_loss: 0.6684 - val_acc: 0.6404\n",
            "Epoch 6/200\n",
            " - 0s - loss: 0.6666 - acc: 0.6220 - val_loss: 0.6634 - val_acc: 0.6404\n",
            "Epoch 7/200\n",
            " - 0s - loss: 0.6618 - acc: 0.6220 - val_loss: 0.6584 - val_acc: 0.6404\n",
            "Epoch 8/200\n",
            " - 0s - loss: 0.6571 - acc: 0.6286 - val_loss: 0.6534 - val_acc: 0.6491\n",
            "Epoch 9/200\n",
            " - 0s - loss: 0.6525 - acc: 0.6330 - val_loss: 0.6484 - val_acc: 0.6579\n",
            "Epoch 10/200\n",
            " - 0s - loss: 0.6479 - acc: 0.6527 - val_loss: 0.6434 - val_acc: 0.6930\n",
            "Epoch 11/200\n",
            " - 0s - loss: 0.6433 - acc: 0.6747 - val_loss: 0.6384 - val_acc: 0.7544\n",
            "Epoch 12/200\n",
            " - 0s - loss: 0.6386 - acc: 0.6945 - val_loss: 0.6332 - val_acc: 0.7807\n",
            "Epoch 13/200\n",
            " - 0s - loss: 0.6339 - acc: 0.7319 - val_loss: 0.6280 - val_acc: 0.8070\n",
            "Epoch 14/200\n",
            " - 0s - loss: 0.6291 - acc: 0.7582 - val_loss: 0.6226 - val_acc: 0.8070\n",
            "Epoch 15/200\n",
            " - 0s - loss: 0.6243 - acc: 0.7648 - val_loss: 0.6172 - val_acc: 0.8158\n",
            "Epoch 16/200\n",
            " - 0s - loss: 0.6195 - acc: 0.7780 - val_loss: 0.6116 - val_acc: 0.8246\n",
            "Epoch 17/200\n",
            " - 0s - loss: 0.6147 - acc: 0.7846 - val_loss: 0.6059 - val_acc: 0.8246\n",
            "Epoch 18/200\n",
            " - 0s - loss: 0.6098 - acc: 0.7912 - val_loss: 0.6002 - val_acc: 0.8421\n",
            "Epoch 19/200\n",
            " - 0s - loss: 0.6048 - acc: 0.7934 - val_loss: 0.5944 - val_acc: 0.8421\n",
            "Epoch 20/200\n",
            " - 0s - loss: 0.5998 - acc: 0.8044 - val_loss: 0.5887 - val_acc: 0.8421\n",
            "Epoch 21/200\n",
            " - 0s - loss: 0.5948 - acc: 0.8110 - val_loss: 0.5830 - val_acc: 0.8421\n",
            "Epoch 22/200\n",
            " - 0s - loss: 0.5897 - acc: 0.8176 - val_loss: 0.5772 - val_acc: 0.8421\n",
            "Epoch 23/200\n",
            " - 0s - loss: 0.5845 - acc: 0.8220 - val_loss: 0.5714 - val_acc: 0.8509\n",
            "Epoch 24/200\n",
            " - 0s - loss: 0.5792 - acc: 0.8242 - val_loss: 0.5655 - val_acc: 0.8596\n",
            "Epoch 25/200\n",
            " - 0s - loss: 0.5739 - acc: 0.8264 - val_loss: 0.5595 - val_acc: 0.8772\n",
            "Epoch 26/200\n",
            " - 0s - loss: 0.5685 - acc: 0.8308 - val_loss: 0.5534 - val_acc: 0.8860\n",
            "Epoch 27/200\n",
            " - 0s - loss: 0.5629 - acc: 0.8374 - val_loss: 0.5473 - val_acc: 0.8860\n",
            "Epoch 28/200\n",
            " - 0s - loss: 0.5573 - acc: 0.8440 - val_loss: 0.5412 - val_acc: 0.8860\n",
            "Epoch 29/200\n",
            " - 0s - loss: 0.5515 - acc: 0.8505 - val_loss: 0.5349 - val_acc: 0.8860\n",
            "Epoch 30/200\n",
            " - 0s - loss: 0.5455 - acc: 0.8593 - val_loss: 0.5285 - val_acc: 0.8947\n",
            "Epoch 31/200\n",
            " - 0s - loss: 0.5395 - acc: 0.8593 - val_loss: 0.5219 - val_acc: 0.9035\n",
            "Epoch 32/200\n",
            " - 0s - loss: 0.5333 - acc: 0.8659 - val_loss: 0.5151 - val_acc: 0.9123\n",
            "Epoch 33/200\n",
            " - 0s - loss: 0.5270 - acc: 0.8747 - val_loss: 0.5082 - val_acc: 0.9123\n",
            "Epoch 34/200\n",
            " - 0s - loss: 0.5206 - acc: 0.8835 - val_loss: 0.5010 - val_acc: 0.9211\n",
            "Epoch 35/200\n",
            " - 0s - loss: 0.5140 - acc: 0.8901 - val_loss: 0.4936 - val_acc: 0.9211\n",
            "Epoch 36/200\n",
            " - 0s - loss: 0.5073 - acc: 0.8923 - val_loss: 0.4861 - val_acc: 0.9211\n",
            "Epoch 37/200\n",
            " - 0s - loss: 0.5004 - acc: 0.8945 - val_loss: 0.4786 - val_acc: 0.9123\n",
            "Epoch 38/200\n",
            " - 0s - loss: 0.4933 - acc: 0.9011 - val_loss: 0.4710 - val_acc: 0.9123\n",
            "Epoch 39/200\n",
            " - 0s - loss: 0.4862 - acc: 0.9011 - val_loss: 0.4634 - val_acc: 0.9123\n",
            "Epoch 40/200\n",
            " - 0s - loss: 0.4790 - acc: 0.9033 - val_loss: 0.4558 - val_acc: 0.9123\n",
            "Epoch 41/200\n",
            " - 0s - loss: 0.4717 - acc: 0.9011 - val_loss: 0.4482 - val_acc: 0.9123\n",
            "Epoch 42/200\n",
            " - 0s - loss: 0.4644 - acc: 0.9033 - val_loss: 0.4405 - val_acc: 0.9123\n",
            "Epoch 43/200\n",
            " - 0s - loss: 0.4570 - acc: 0.9033 - val_loss: 0.4328 - val_acc: 0.9123\n",
            "Epoch 44/200\n",
            " - 0s - loss: 0.4495 - acc: 0.9077 - val_loss: 0.4249 - val_acc: 0.9123\n",
            "Epoch 45/200\n",
            " - 0s - loss: 0.4421 - acc: 0.9077 - val_loss: 0.4170 - val_acc: 0.9123\n",
            "Epoch 46/200\n",
            " - 0s - loss: 0.4347 - acc: 0.9099 - val_loss: 0.4092 - val_acc: 0.9211\n",
            "Epoch 47/200\n",
            " - 0s - loss: 0.4273 - acc: 0.9121 - val_loss: 0.4014 - val_acc: 0.9211\n",
            "Epoch 48/200\n",
            " - 0s - loss: 0.4199 - acc: 0.9121 - val_loss: 0.3938 - val_acc: 0.9211\n",
            "Epoch 49/200\n",
            " - 0s - loss: 0.4126 - acc: 0.9143 - val_loss: 0.3862 - val_acc: 0.9211\n",
            "Epoch 50/200\n",
            " - 0s - loss: 0.4054 - acc: 0.9165 - val_loss: 0.3786 - val_acc: 0.9123\n",
            "Epoch 51/200\n",
            " - 0s - loss: 0.3982 - acc: 0.9187 - val_loss: 0.3712 - val_acc: 0.9123\n",
            "Epoch 52/200\n",
            " - 0s - loss: 0.3910 - acc: 0.9187 - val_loss: 0.3639 - val_acc: 0.9123\n",
            "Epoch 53/200\n",
            " - 0s - loss: 0.3840 - acc: 0.9187 - val_loss: 0.3567 - val_acc: 0.9123\n",
            "Epoch 54/200\n",
            " - 0s - loss: 0.3770 - acc: 0.9143 - val_loss: 0.3496 - val_acc: 0.9123\n",
            "Epoch 55/200\n",
            " - 0s - loss: 0.3701 - acc: 0.9143 - val_loss: 0.3426 - val_acc: 0.9211\n",
            "Epoch 56/200\n",
            " - 0s - loss: 0.3634 - acc: 0.9165 - val_loss: 0.3358 - val_acc: 0.9211\n",
            "Epoch 57/200\n",
            " - 0s - loss: 0.3568 - acc: 0.9143 - val_loss: 0.3291 - val_acc: 0.9298\n",
            "Epoch 58/200\n",
            " - 0s - loss: 0.3503 - acc: 0.9165 - val_loss: 0.3225 - val_acc: 0.9386\n",
            "Epoch 59/200\n",
            " - 0s - loss: 0.3439 - acc: 0.9165 - val_loss: 0.3161 - val_acc: 0.9386\n",
            "Epoch 60/200\n",
            " - 0s - loss: 0.3376 - acc: 0.9187 - val_loss: 0.3099 - val_acc: 0.9386\n",
            "Epoch 61/200\n",
            " - 0s - loss: 0.3315 - acc: 0.9209 - val_loss: 0.3038 - val_acc: 0.9386\n",
            "Epoch 62/200\n",
            " - 0s - loss: 0.3255 - acc: 0.9209 - val_loss: 0.2978 - val_acc: 0.9386\n",
            "Epoch 63/200\n",
            " - 0s - loss: 0.3197 - acc: 0.9209 - val_loss: 0.2919 - val_acc: 0.9386\n",
            "Epoch 64/200\n",
            " - 0s - loss: 0.3139 - acc: 0.9209 - val_loss: 0.2862 - val_acc: 0.9386\n",
            "Epoch 65/200\n",
            " - 0s - loss: 0.3084 - acc: 0.9209 - val_loss: 0.2806 - val_acc: 0.9386\n",
            "Epoch 66/200\n",
            " - 0s - loss: 0.3029 - acc: 0.9187 - val_loss: 0.2752 - val_acc: 0.9386\n",
            "Epoch 67/200\n",
            " - 0s - loss: 0.2977 - acc: 0.9231 - val_loss: 0.2700 - val_acc: 0.9386\n",
            "Epoch 68/200\n",
            " - 0s - loss: 0.2925 - acc: 0.9231 - val_loss: 0.2649 - val_acc: 0.9386\n",
            "Epoch 69/200\n",
            " - 0s - loss: 0.2875 - acc: 0.9231 - val_loss: 0.2601 - val_acc: 0.9386\n",
            "Epoch 70/200\n",
            " - 0s - loss: 0.2827 - acc: 0.9231 - val_loss: 0.2554 - val_acc: 0.9386\n",
            "Epoch 71/200\n",
            " - 0s - loss: 0.2779 - acc: 0.9231 - val_loss: 0.2509 - val_acc: 0.9386\n",
            "Epoch 72/200\n",
            " - 0s - loss: 0.2733 - acc: 0.9275 - val_loss: 0.2466 - val_acc: 0.9386\n",
            "Epoch 73/200\n",
            " - 0s - loss: 0.2688 - acc: 0.9253 - val_loss: 0.2424 - val_acc: 0.9386\n",
            "Epoch 74/200\n",
            " - 0s - loss: 0.2645 - acc: 0.9231 - val_loss: 0.2383 - val_acc: 0.9386\n",
            "Epoch 75/200\n",
            " - 0s - loss: 0.2603 - acc: 0.9187 - val_loss: 0.2344 - val_acc: 0.9386\n",
            "Epoch 76/200\n",
            " - 0s - loss: 0.2561 - acc: 0.9187 - val_loss: 0.2306 - val_acc: 0.9386\n",
            "Epoch 77/200\n",
            " - 0s - loss: 0.2521 - acc: 0.9187 - val_loss: 0.2269 - val_acc: 0.9386\n",
            "Epoch 78/200\n",
            " - 0s - loss: 0.2482 - acc: 0.9187 - val_loss: 0.2234 - val_acc: 0.9474\n",
            "Epoch 79/200\n",
            " - 0s - loss: 0.2444 - acc: 0.9187 - val_loss: 0.2199 - val_acc: 0.9474\n",
            "Epoch 80/200\n",
            " - 0s - loss: 0.2408 - acc: 0.9187 - val_loss: 0.2166 - val_acc: 0.9474\n",
            "Epoch 81/200\n",
            " - 0s - loss: 0.2372 - acc: 0.9187 - val_loss: 0.2134 - val_acc: 0.9474\n",
            "Epoch 82/200\n",
            " - 0s - loss: 0.2337 - acc: 0.9187 - val_loss: 0.2104 - val_acc: 0.9474\n",
            "Epoch 83/200\n",
            " - 0s - loss: 0.2303 - acc: 0.9209 - val_loss: 0.2074 - val_acc: 0.9474\n",
            "Epoch 84/200\n",
            " - 0s - loss: 0.2270 - acc: 0.9209 - val_loss: 0.2046 - val_acc: 0.9474\n",
            "Epoch 85/200\n",
            " - 0s - loss: 0.2238 - acc: 0.9209 - val_loss: 0.2018 - val_acc: 0.9474\n",
            "Epoch 86/200\n",
            " - 0s - loss: 0.2206 - acc: 0.9231 - val_loss: 0.1991 - val_acc: 0.9474\n",
            "Epoch 87/200\n",
            " - 0s - loss: 0.2176 - acc: 0.9231 - val_loss: 0.1966 - val_acc: 0.9474\n",
            "Epoch 88/200\n",
            " - 0s - loss: 0.2146 - acc: 0.9253 - val_loss: 0.1941 - val_acc: 0.9474\n",
            "Epoch 89/200\n",
            " - 0s - loss: 0.2117 - acc: 0.9253 - val_loss: 0.1917 - val_acc: 0.9474\n",
            "Epoch 90/200\n",
            " - 0s - loss: 0.2088 - acc: 0.9275 - val_loss: 0.1893 - val_acc: 0.9474\n",
            "Epoch 91/200\n",
            " - 0s - loss: 0.2060 - acc: 0.9297 - val_loss: 0.1871 - val_acc: 0.9474\n",
            "Epoch 92/200\n",
            " - 0s - loss: 0.2034 - acc: 0.9297 - val_loss: 0.1849 - val_acc: 0.9474\n",
            "Epoch 93/200\n",
            " - 0s - loss: 0.2007 - acc: 0.9297 - val_loss: 0.1828 - val_acc: 0.9561\n",
            "Epoch 94/200\n",
            " - 0s - loss: 0.1981 - acc: 0.9319 - val_loss: 0.1807 - val_acc: 0.9561\n",
            "Epoch 95/200\n",
            " - 0s - loss: 0.1955 - acc: 0.9319 - val_loss: 0.1787 - val_acc: 0.9561\n",
            "Epoch 96/200\n",
            " - 0s - loss: 0.1930 - acc: 0.9319 - val_loss: 0.1767 - val_acc: 0.9561\n",
            "Epoch 97/200\n",
            " - 0s - loss: 0.1905 - acc: 0.9319 - val_loss: 0.1748 - val_acc: 0.9561\n",
            "Epoch 98/200\n",
            " - 0s - loss: 0.1881 - acc: 0.9319 - val_loss: 0.1729 - val_acc: 0.9561\n",
            "Epoch 99/200\n",
            " - 0s - loss: 0.1857 - acc: 0.9319 - val_loss: 0.1711 - val_acc: 0.9561\n",
            "Epoch 100/200\n",
            " - 0s - loss: 0.1834 - acc: 0.9319 - val_loss: 0.1693 - val_acc: 0.9561\n",
            "Epoch 101/200\n",
            " - 0s - loss: 0.1811 - acc: 0.9363 - val_loss: 0.1676 - val_acc: 0.9561\n",
            "Epoch 102/200\n",
            " - 0s - loss: 0.1788 - acc: 0.9429 - val_loss: 0.1658 - val_acc: 0.9561\n",
            "Epoch 103/200\n",
            " - 0s - loss: 0.1766 - acc: 0.9429 - val_loss: 0.1641 - val_acc: 0.9561\n",
            "Epoch 104/200\n",
            " - 0s - loss: 0.1744 - acc: 0.9429 - val_loss: 0.1625 - val_acc: 0.9561\n",
            "Epoch 105/200\n",
            " - 0s - loss: 0.1722 - acc: 0.9451 - val_loss: 0.1609 - val_acc: 0.9561\n",
            "Epoch 106/200\n",
            " - 0s - loss: 0.1701 - acc: 0.9451 - val_loss: 0.1593 - val_acc: 0.9561\n",
            "Epoch 107/200\n",
            " - 0s - loss: 0.1680 - acc: 0.9451 - val_loss: 0.1578 - val_acc: 0.9561\n",
            "Epoch 108/200\n",
            " - 0s - loss: 0.1659 - acc: 0.9451 - val_loss: 0.1563 - val_acc: 0.9561\n",
            "Epoch 109/200\n",
            " - 0s - loss: 0.1638 - acc: 0.9473 - val_loss: 0.1548 - val_acc: 0.9561\n",
            "Epoch 110/200\n",
            " - 0s - loss: 0.1618 - acc: 0.9495 - val_loss: 0.1534 - val_acc: 0.9561\n",
            "Epoch 111/200\n",
            " - 0s - loss: 0.1598 - acc: 0.9495 - val_loss: 0.1520 - val_acc: 0.9561\n",
            "Epoch 112/200\n",
            " - 0s - loss: 0.1579 - acc: 0.9495 - val_loss: 0.1506 - val_acc: 0.9561\n",
            "Epoch 113/200\n",
            " - 0s - loss: 0.1559 - acc: 0.9473 - val_loss: 0.1492 - val_acc: 0.9649\n",
            "Epoch 114/200\n",
            " - 0s - loss: 0.1540 - acc: 0.9473 - val_loss: 0.1479 - val_acc: 0.9649\n",
            "Epoch 115/200\n",
            " - 0s - loss: 0.1521 - acc: 0.9495 - val_loss: 0.1466 - val_acc: 0.9649\n",
            "Epoch 116/200\n",
            " - 0s - loss: 0.1503 - acc: 0.9495 - val_loss: 0.1453 - val_acc: 0.9649\n",
            "Epoch 117/200\n",
            " - 0s - loss: 0.1484 - acc: 0.9538 - val_loss: 0.1440 - val_acc: 0.9649\n",
            "Epoch 118/200\n",
            " - 0s - loss: 0.1466 - acc: 0.9516 - val_loss: 0.1428 - val_acc: 0.9649\n",
            "Epoch 119/200\n",
            " - 0s - loss: 0.1448 - acc: 0.9516 - val_loss: 0.1416 - val_acc: 0.9649\n",
            "Epoch 120/200\n",
            " - 0s - loss: 0.1431 - acc: 0.9516 - val_loss: 0.1405 - val_acc: 0.9649\n",
            "Epoch 121/200\n",
            " - 0s - loss: 0.1413 - acc: 0.9516 - val_loss: 0.1394 - val_acc: 0.9649\n",
            "Epoch 122/200\n",
            " - 0s - loss: 0.1396 - acc: 0.9516 - val_loss: 0.1383 - val_acc: 0.9649\n",
            "Epoch 123/200\n",
            " - 0s - loss: 0.1379 - acc: 0.9538 - val_loss: 0.1372 - val_acc: 0.9649\n",
            "Epoch 124/200\n",
            " - 0s - loss: 0.1363 - acc: 0.9538 - val_loss: 0.1362 - val_acc: 0.9649\n",
            "Epoch 125/200\n",
            " - 0s - loss: 0.1346 - acc: 0.9560 - val_loss: 0.1352 - val_acc: 0.9649\n",
            "Epoch 126/200\n",
            " - 0s - loss: 0.1330 - acc: 0.9560 - val_loss: 0.1342 - val_acc: 0.9649\n",
            "Epoch 127/200\n",
            " - 0s - loss: 0.1314 - acc: 0.9560 - val_loss: 0.1332 - val_acc: 0.9649\n",
            "Epoch 128/200\n",
            " - 0s - loss: 0.1299 - acc: 0.9582 - val_loss: 0.1322 - val_acc: 0.9649\n",
            "Epoch 129/200\n",
            " - 0s - loss: 0.1284 - acc: 0.9604 - val_loss: 0.1313 - val_acc: 0.9649\n",
            "Epoch 130/200\n",
            " - 0s - loss: 0.1268 - acc: 0.9626 - val_loss: 0.1304 - val_acc: 0.9649\n",
            "Epoch 131/200\n",
            " - 0s - loss: 0.1254 - acc: 0.9626 - val_loss: 0.1295 - val_acc: 0.9649\n",
            "Epoch 132/200\n",
            " - 0s - loss: 0.1239 - acc: 0.9626 - val_loss: 0.1286 - val_acc: 0.9649\n",
            "Epoch 133/200\n",
            " - 0s - loss: 0.1225 - acc: 0.9648 - val_loss: 0.1278 - val_acc: 0.9649\n",
            "Epoch 134/200\n",
            " - 0s - loss: 0.1211 - acc: 0.9626 - val_loss: 0.1269 - val_acc: 0.9649\n",
            "Epoch 135/200\n",
            " - 0s - loss: 0.1197 - acc: 0.9626 - val_loss: 0.1261 - val_acc: 0.9649\n",
            "Epoch 136/200\n",
            " - 0s - loss: 0.1183 - acc: 0.9626 - val_loss: 0.1253 - val_acc: 0.9649\n",
            "Epoch 137/200\n",
            " - 0s - loss: 0.1170 - acc: 0.9626 - val_loss: 0.1245 - val_acc: 0.9649\n",
            "Epoch 138/200\n",
            " - 0s - loss: 0.1157 - acc: 0.9648 - val_loss: 0.1237 - val_acc: 0.9649\n",
            "Epoch 139/200\n",
            " - 0s - loss: 0.1144 - acc: 0.9648 - val_loss: 0.1229 - val_acc: 0.9649\n",
            "Epoch 140/200\n",
            " - 0s - loss: 0.1132 - acc: 0.9648 - val_loss: 0.1222 - val_acc: 0.9649\n",
            "Epoch 141/200\n",
            " - 0s - loss: 0.1119 - acc: 0.9648 - val_loss: 0.1215 - val_acc: 0.9649\n",
            "Epoch 142/200\n",
            " - 0s - loss: 0.1107 - acc: 0.9670 - val_loss: 0.1208 - val_acc: 0.9737\n",
            "Epoch 143/200\n",
            " - 0s - loss: 0.1095 - acc: 0.9670 - val_loss: 0.1201 - val_acc: 0.9737\n",
            "Epoch 144/200\n",
            " - 0s - loss: 0.1084 - acc: 0.9670 - val_loss: 0.1194 - val_acc: 0.9737\n",
            "Epoch 145/200\n",
            " - 0s - loss: 0.1072 - acc: 0.9670 - val_loss: 0.1188 - val_acc: 0.9737\n",
            "Epoch 146/200\n",
            " - 0s - loss: 0.1061 - acc: 0.9670 - val_loss: 0.1181 - val_acc: 0.9737\n",
            "Epoch 147/200\n",
            " - 0s - loss: 0.1050 - acc: 0.9670 - val_loss: 0.1174 - val_acc: 0.9737\n",
            "Epoch 148/200\n",
            " - 0s - loss: 0.1039 - acc: 0.9670 - val_loss: 0.1168 - val_acc: 0.9737\n",
            "Epoch 149/200\n",
            " - 0s - loss: 0.1028 - acc: 0.9670 - val_loss: 0.1162 - val_acc: 0.9737\n",
            "Epoch 150/200\n",
            " - 0s - loss: 0.1018 - acc: 0.9670 - val_loss: 0.1157 - val_acc: 0.9737\n",
            "Epoch 151/200\n",
            " - 0s - loss: 0.1008 - acc: 0.9670 - val_loss: 0.1151 - val_acc: 0.9737\n",
            "Epoch 152/200\n",
            " - 0s - loss: 0.0998 - acc: 0.9670 - val_loss: 0.1146 - val_acc: 0.9737\n",
            "Epoch 153/200\n",
            " - 0s - loss: 0.0988 - acc: 0.9670 - val_loss: 0.1140 - val_acc: 0.9737\n",
            "Epoch 154/200\n",
            " - 0s - loss: 0.0978 - acc: 0.9670 - val_loss: 0.1135 - val_acc: 0.9737\n",
            "Epoch 155/200\n",
            " - 0s - loss: 0.0968 - acc: 0.9670 - val_loss: 0.1130 - val_acc: 0.9737\n",
            "Epoch 156/200\n",
            " - 0s - loss: 0.0959 - acc: 0.9670 - val_loss: 0.1124 - val_acc: 0.9737\n",
            "Epoch 157/200\n",
            " - 0s - loss: 0.0950 - acc: 0.9692 - val_loss: 0.1120 - val_acc: 0.9737\n",
            "Epoch 158/200\n",
            " - 0s - loss: 0.0941 - acc: 0.9714 - val_loss: 0.1115 - val_acc: 0.9737\n",
            "Epoch 159/200\n",
            " - 0s - loss: 0.0932 - acc: 0.9714 - val_loss: 0.1111 - val_acc: 0.9737\n",
            "Epoch 160/200\n",
            " - 0s - loss: 0.0923 - acc: 0.9714 - val_loss: 0.1107 - val_acc: 0.9737\n",
            "Epoch 161/200\n",
            " - 0s - loss: 0.0914 - acc: 0.9714 - val_loss: 0.1103 - val_acc: 0.9737\n",
            "Epoch 162/200\n",
            " - 0s - loss: 0.0906 - acc: 0.9714 - val_loss: 0.1098 - val_acc: 0.9737\n",
            "Epoch 163/200\n",
            " - 0s - loss: 0.0897 - acc: 0.9714 - val_loss: 0.1094 - val_acc: 0.9737\n",
            "Epoch 164/200\n",
            " - 0s - loss: 0.0889 - acc: 0.9714 - val_loss: 0.1090 - val_acc: 0.9737\n",
            "Epoch 165/200\n",
            " - 0s - loss: 0.0881 - acc: 0.9714 - val_loss: 0.1086 - val_acc: 0.9737\n",
            "Epoch 166/200\n",
            " - 0s - loss: 0.0873 - acc: 0.9714 - val_loss: 0.1083 - val_acc: 0.9737\n",
            "Epoch 167/200\n",
            " - 0s - loss: 0.0866 - acc: 0.9736 - val_loss: 0.1079 - val_acc: 0.9737\n",
            "Epoch 168/200\n",
            " - 0s - loss: 0.0858 - acc: 0.9736 - val_loss: 0.1076 - val_acc: 0.9737\n",
            "Epoch 169/200\n",
            " - 0s - loss: 0.0851 - acc: 0.9736 - val_loss: 0.1073 - val_acc: 0.9737\n",
            "Epoch 170/200\n",
            " - 0s - loss: 0.0843 - acc: 0.9736 - val_loss: 0.1069 - val_acc: 0.9737\n",
            "Epoch 171/200\n",
            " - 0s - loss: 0.0836 - acc: 0.9736 - val_loss: 0.1066 - val_acc: 0.9737\n",
            "Epoch 172/200\n",
            " - 0s - loss: 0.0829 - acc: 0.9758 - val_loss: 0.1063 - val_acc: 0.9737\n",
            "Epoch 173/200\n",
            " - 0s - loss: 0.0822 - acc: 0.9758 - val_loss: 0.1059 - val_acc: 0.9737\n",
            "Epoch 174/200\n",
            " - 0s - loss: 0.0815 - acc: 0.9758 - val_loss: 0.1056 - val_acc: 0.9737\n",
            "Epoch 175/200\n",
            " - 0s - loss: 0.0808 - acc: 0.9758 - val_loss: 0.1053 - val_acc: 0.9737\n",
            "Epoch 176/200\n",
            " - 0s - loss: 0.0802 - acc: 0.9780 - val_loss: 0.1051 - val_acc: 0.9737\n",
            "Epoch 177/200\n",
            " - 0s - loss: 0.0795 - acc: 0.9780 - val_loss: 0.1048 - val_acc: 0.9737\n",
            "Epoch 178/200\n",
            " - 0s - loss: 0.0789 - acc: 0.9780 - val_loss: 0.1045 - val_acc: 0.9737\n",
            "Epoch 179/200\n",
            " - 0s - loss: 0.0782 - acc: 0.9780 - val_loss: 0.1042 - val_acc: 0.9737\n",
            "Epoch 180/200\n",
            " - 0s - loss: 0.0776 - acc: 0.9780 - val_loss: 0.1040 - val_acc: 0.9737\n",
            "Epoch 181/200\n",
            " - 0s - loss: 0.0770 - acc: 0.9780 - val_loss: 0.1038 - val_acc: 0.9737\n",
            "Epoch 182/200\n",
            " - 0s - loss: 0.0764 - acc: 0.9780 - val_loss: 0.1036 - val_acc: 0.9737\n",
            "Epoch 183/200\n",
            " - 0s - loss: 0.0758 - acc: 0.9780 - val_loss: 0.1034 - val_acc: 0.9737\n",
            "Epoch 184/200\n",
            " - 0s - loss: 0.0752 - acc: 0.9780 - val_loss: 0.1031 - val_acc: 0.9737\n",
            "Epoch 185/200\n",
            " - 0s - loss: 0.0747 - acc: 0.9780 - val_loss: 0.1029 - val_acc: 0.9737\n",
            "Epoch 186/200\n",
            " - 0s - loss: 0.0741 - acc: 0.9780 - val_loss: 0.1027 - val_acc: 0.9737\n",
            "Epoch 187/200\n",
            " - 0s - loss: 0.0735 - acc: 0.9780 - val_loss: 0.1026 - val_acc: 0.9737\n",
            "Epoch 188/200\n",
            " - 0s - loss: 0.0730 - acc: 0.9780 - val_loss: 0.1024 - val_acc: 0.9737\n",
            "Epoch 189/200\n",
            " - 0s - loss: 0.0725 - acc: 0.9780 - val_loss: 0.1022 - val_acc: 0.9737\n",
            "Epoch 190/200\n",
            " - 0s - loss: 0.0719 - acc: 0.9780 - val_loss: 0.1020 - val_acc: 0.9737\n",
            "Epoch 191/200\n",
            " - 0s - loss: 0.0714 - acc: 0.9780 - val_loss: 0.1019 - val_acc: 0.9737\n",
            "Epoch 192/200\n",
            " - 0s - loss: 0.0709 - acc: 0.9802 - val_loss: 0.1017 - val_acc: 0.9737\n",
            "Epoch 193/200\n",
            " - 0s - loss: 0.0704 - acc: 0.9802 - val_loss: 0.1016 - val_acc: 0.9737\n",
            "Epoch 194/200\n",
            " - 0s - loss: 0.0699 - acc: 0.9802 - val_loss: 0.1014 - val_acc: 0.9737\n",
            "Epoch 195/200\n",
            " - 0s - loss: 0.0694 - acc: 0.9802 - val_loss: 0.1012 - val_acc: 0.9737\n",
            "Epoch 196/200\n",
            " - 0s - loss: 0.0690 - acc: 0.9802 - val_loss: 0.1011 - val_acc: 0.9737\n",
            "Epoch 197/200\n",
            " - 0s - loss: 0.0685 - acc: 0.9802 - val_loss: 0.1010 - val_acc: 0.9737\n",
            "Epoch 198/200\n",
            " - 0s - loss: 0.0680 - acc: 0.9802 - val_loss: 0.1009 - val_acc: 0.9737\n",
            "Epoch 199/200\n",
            " - 0s - loss: 0.0676 - acc: 0.9802 - val_loss: 0.1008 - val_acc: 0.9737\n",
            "Epoch 200/200\n",
            " - 0s - loss: 0.0671 - acc: 0.9824 - val_loss: 0.1007 - val_acc: 0.9737\n"
          ],
          "name": "stdout"
        }
      ]
    },
    {
      "metadata": {
        "colab_type": "code",
        "outputId": "38c13e1f-213d-4948-8a25-d1486e82dc5d",
        "id": "wgeLikQfa4Te",
        "colab": {
          "base_uri": "https://localhost:8080/",
          "height": 70
        }
      },
      "cell_type": "code",
      "source": [
        "# 10. Evaluate model on test data\n",
        "print (\"Running final scoring on test data\")\n",
        "score = Cancer_neuralNetwork.evaluate(X_test, y_test, verbose=1)\n",
        "print (\"The accuracy for this model is \", format(score[1], \",.2f\"))"
      ],
      "execution_count": 0,
      "outputs": [
        {
          "output_type": "stream",
          "text": [
            "Running final scoring on test data\n",
            "114/114 [==============================] - 0s 69us/step\n",
            "The accuracy for this model is  0.97\n"
          ],
          "name": "stdout"
        }
      ]
    },
    {
      "metadata": {
        "colab_type": "code",
        "outputId": "5054b474-f0e4-48cd-a2cf-4945d633466b",
        "id": "pP8zKYNMa4Tj",
        "colab": {
          "base_uri": "https://localhost:8080/",
          "height": 347
        }
      },
      "cell_type": "code",
      "source": [
        "# Plot the loss and accuracy curves for training and validation \n",
        "fig, ax = plt.subplots(2,1)\n",
        "ax[0].plot(history.history['loss'], color='b', label=\"Training loss\")\n",
        "ax[0].plot(history.history['val_loss'], color='r', label=\"Testing loss\",axes =ax[0])\n",
        "legend = ax[0].legend(loc='best', shadow=True)\n",
        "plt.ylim(0,1)\n",
        "\n",
        "ax[1].plot(history.history['acc'], color='b', label=\"Training accuracy\")\n",
        "ax[1].plot(history.history['val_acc'], color='r',label=\"Testing accuracy\")\n",
        "legend = ax[1].legend(loc='best', shadow=True)"
      ],
      "execution_count": 0,
      "outputs": [
        {
          "output_type": "display_data",
          "data": {
            "image/png": "[encoded data removed]",
            "text/plain": [
              "<Figure size 576x396 with 2 Axes>"
            ]
          },
          "metadata": {
            "tags": []
          }
        }
      ]
    },
    {
      "metadata": {
        "id": "mEuPVnRDdGpu",
        "colab_type": "text"
      },
      "cell_type": "markdown",
      "source": [
        "# Section III \n",
        "=== *You must run Section 0 before this section* ===\n",
        "### MNIST hand written digits\n",
        "\n",
        "We will load the MNIST data set built into the scikit learning library.\n",
        "\n",
        "The images are 16x16 pixels which means each image has 64 features. This is now getting large enought so that dimensional reduction might be useful.\n",
        "\n"
      ]
    },
    {
      "metadata": {
        "id": "p3_nhL0Z_pUh",
        "colab_type": "code",
        "outputId": "cdaabfbf-1f5c-4d1a-c9df-55309105f915",
        "colab": {
          "base_uri": "https://localhost:8080/",
          "height": 52
        }
      },
      "cell_type": "code",
      "source": [
        "# Read data from the actual Kaggle download files stored in a raw file in GitHub\n",
        "url_kaggle_train = 'https://raw.githubusercontent.com/CIS3115-Machine-Learning-Scholastica/CIS3115ML-Units7and8/master/kaggle-digit-recognizer/train.csv'\n",
        "url_kaggle_test = 'https://raw.githubusercontent.com/CIS3115-Machine-Learning-Scholastica/CIS3115ML-Units7and8/master/kaggle-digit-recognizer/test.csv'\n",
        "  \n",
        "train_kaggle = pd.read_csv(url_kaggle_train)\n",
        "# Pull out the labels or output which are saved in first index\n",
        "y_train_kaggle = train_kaggle.iloc[:,0].values.astype('int32')\n",
        "# Convert remaining values to floats\n",
        "X_train_kaggle = (train_kaggle.iloc[:,1:].values).astype('float32')\n",
        "# Read the kaggle test data which is used for submissions\n",
        "X_submit_kaggle = (pd.read_csv(url_kaggle_test).values).astype('float32')\n",
        "#reshape as 28x28 pixel images\n",
        "X_train_kaggle = X_train_kaggle.reshape(X_train_kaggle.shape[0], 28, 28)\n",
        "X_submit_kaggle = X_submit_kaggle.reshape(X_submit_kaggle.shape[0], 28, 28)\n",
        "\n",
        "print (\"X_train_kaggle training data shape of 28x28 pixels greyscale: \" ,X_train_kaggle.shape)\n",
        "print (\"X_submit_kaggle submission data shape of 28x28 pixels greyscale: : \" ,X_submit_kaggle.shape)"
      ],
      "execution_count": 0,
      "outputs": [
        {
          "output_type": "stream",
          "text": [
            "X_train_kaggle training data shape of 28x28 pixels greyscale:  (42000, 28, 28)\n",
            "X_submit_kaggle submission data shape of 28x28 pixels greyscale: :  (28000, 28, 28)\n"
          ],
          "name": "stdout"
        }
      ]
    },
    {
      "metadata": {
        "id": "WYyvVxG9En76",
        "colab_type": "code",
        "outputId": "c2069090-1df2-4980-85d4-b179be455936",
        "colab": {
          "base_uri": "https://localhost:8080/",
          "height": 249
        }
      },
      "cell_type": "code",
      "source": [
        "train_kaggle.head(5)"
      ],
      "execution_count": 0,
      "outputs": [
        {
          "output_type": "execute_result",
          "data": {
            "text/html": [
              "<div>\n",
              "<style scoped>\n",
              "    .dataframe tbody tr th:only-of-type {\n",
              "        vertical-align: middle;\n",
              "    }\n",
              "\n",
              "    .dataframe tbody tr th {\n",
              "        vertical-align: top;\n",
              "    }\n",
              "\n",
              "    .dataframe thead th {\n",
              "        text-align: right;\n",
              "    }\n",
              "</style>\n",
              "<table border=\"1\" class=\"dataframe\">\n",
              "  <thead>\n",
              "    <tr style=\"text-align: right;\">\n",
              "      <th></th>\n",
              "      <th>label</th>\n",
              "      <th>pixel0</th>\n",
              "      <th>pixel1</th>\n",
              "      <th>pixel2</th>\n",
              "      <th>pixel3</th>\n",
              "      <th>pixel4</th>\n",
              "      <th>pixel5</th>\n",
              "      <th>pixel6</th>\n",
              "      <th>pixel7</th>\n",
              "      <th>pixel8</th>\n",
              "      <th>...</th>\n",
              "      <th>pixel774</th>\n",
              "      <th>pixel775</th>\n",
              "      <th>pixel776</th>\n",
              "      <th>pixel777</th>\n",
              "      <th>pixel778</th>\n",
              "      <th>pixel779</th>\n",
              "      <th>pixel780</th>\n",
              "      <th>pixel781</th>\n",
              "      <th>pixel782</th>\n",
              "      <th>pixel783</th>\n",
              "    </tr>\n",
              "  </thead>\n",
              "  <tbody>\n",
              "    <tr>\n",
              "      <th>0</th>\n",
              "      <td>1</td>\n",
              "      <td>0</td>\n",
              "      <td>0</td>\n",
              "      <td>0</td>\n",
              "      <td>0</td>\n",
              "      <td>0</td>\n",
              "      <td>0</td>\n",
              "      <td>0</td>\n",
              "      <td>0</td>\n",
              "      <td>0</td>\n",
              "      <td>...</td>\n",
              "      <td>0</td>\n",
              "      <td>0</td>\n",
              "      <td>0</td>\n",
              "      <td>0</td>\n",
              "      <td>0</td>\n",
              "      <td>0</td>\n",
              "      <td>0</td>\n",
              "      <td>0</td>\n",
              "      <td>0</td>\n",
              "      <td>0</td>\n",
              "    </tr>\n",
              "    <tr>\n",
              "      <th>1</th>\n",
              "      <td>0</td>\n",
              "      <td>0</td>\n",
              "      <td>0</td>\n",
              "      <td>0</td>\n",
              "      <td>0</td>\n",
              "      <td>0</td>\n",
              "      <td>0</td>\n",
              "      <td>0</td>\n",
              "      <td>0</td>\n",
              "      <td>0</td>\n",
              "      <td>...</td>\n",
              "      <td>0</td>\n",
              "      <td>0</td>\n",
              "      <td>0</td>\n",
              "      <td>0</td>\n",
              "      <td>0</td>\n",
              "      <td>0</td>\n",
              "      <td>0</td>\n",
              "      <td>0</td>\n",
              "      <td>0</td>\n",
              "      <td>0</td>\n",
              "    </tr>\n",
              "    <tr>\n",
              "      <th>2</th>\n",
              "      <td>1</td>\n",
              "      <td>0</td>\n",
              "      <td>0</td>\n",
              "      <td>0</td>\n",
              "      <td>0</td>\n",
              "      <td>0</td>\n",
              "      <td>0</td>\n",
              "      <td>0</td>\n",
              "      <td>0</td>\n",
              "      <td>0</td>\n",
              "      <td>...</td>\n",
              "      <td>0</td>\n",
              "      <td>0</td>\n",
              "      <td>0</td>\n",
              "      <td>0</td>\n",
              "      <td>0</td>\n",
              "      <td>0</td>\n",
              "      <td>0</td>\n",
              "      <td>0</td>\n",
              "      <td>0</td>\n",
              "      <td>0</td>\n",
              "    </tr>\n",
              "    <tr>\n",
              "      <th>3</th>\n",
              "      <td>4</td>\n",
              "      <td>0</td>\n",
              "      <td>0</td>\n",
              "      <td>0</td>\n",
              "      <td>0</td>\n",
              "      <td>0</td>\n",
              "      <td>0</td>\n",
              "      <td>0</td>\n",
              "      <td>0</td>\n",
              "      <td>0</td>\n",
              "      <td>...</td>\n",
              "      <td>0</td>\n",
              "      <td>0</td>\n",
              "      <td>0</td>\n",
              "      <td>0</td>\n",
              "      <td>0</td>\n",
              "      <td>0</td>\n",
              "      <td>0</td>\n",
              "      <td>0</td>\n",
              "      <td>0</td>\n",
              "      <td>0</td>\n",
              "    </tr>\n",
              "    <tr>\n",
              "      <th>4</th>\n",
              "      <td>0</td>\n",
              "      <td>0</td>\n",
              "      <td>0</td>\n",
              "      <td>0</td>\n",
              "      <td>0</td>\n",
              "      <td>0</td>\n",
              "      <td>0</td>\n",
              "      <td>0</td>\n",
              "      <td>0</td>\n",
              "      <td>0</td>\n",
              "      <td>...</td>\n",
              "      <td>0</td>\n",
              "      <td>0</td>\n",
              "      <td>0</td>\n",
              "      <td>0</td>\n",
              "      <td>0</td>\n",
              "      <td>0</td>\n",
              "      <td>0</td>\n",
              "      <td>0</td>\n",
              "      <td>0</td>\n",
              "      <td>0</td>\n",
              "    </tr>\n",
              "  </tbody>\n",
              "</table>\n",
              "<p>5 rows × 785 columns</p>\n",
              "</div>"
            ],
            "text/plain": [
              "   label  pixel0  pixel1  pixel2  pixel3  pixel4  pixel5  pixel6  pixel7  \\\n",
              "0      1       0       0       0       0       0       0       0       0   \n",
              "1      0       0       0       0       0       0       0       0       0   \n",
              "2      1       0       0       0       0       0       0       0       0   \n",
              "3      4       0       0       0       0       0       0       0       0   \n",
              "4      0       0       0       0       0       0       0       0       0   \n",
              "\n",
              "   pixel8    ...     pixel774  pixel775  pixel776  pixel777  pixel778  \\\n",
              "0       0    ...            0         0         0         0         0   \n",
              "1       0    ...            0         0         0         0         0   \n",
              "2       0    ...            0         0         0         0         0   \n",
              "3       0    ...            0         0         0         0         0   \n",
              "4       0    ...            0         0         0         0         0   \n",
              "\n",
              "   pixel779  pixel780  pixel781  pixel782  pixel783  \n",
              "0         0         0         0         0         0  \n",
              "1         0         0         0         0         0  \n",
              "2         0         0         0         0         0  \n",
              "3         0         0         0         0         0  \n",
              "4         0         0         0         0         0  \n",
              "\n",
              "[5 rows x 785 columns]"
            ]
          },
          "metadata": {
            "tags": []
          },
          "execution_count": 4
        }
      ]
    },
    {
      "metadata": {
        "id": "0kdUItQ4E2Pc",
        "colab_type": "code",
        "outputId": "332460e0-ed05-46e1-9123-46758843e4e9",
        "colab": {
          "base_uri": "https://localhost:8080/",
          "height": 256
        }
      },
      "cell_type": "code",
      "source": [
        "for i in range(3, 9):\n",
        "    plt.subplot(330 + (i+1))\n",
        "    plt.imshow(X_train_kaggle[i], cmap=plt.get_cmap('gray'))\n",
        "    plt.title(y_train_kaggle[i]);"
      ],
      "execution_count": 0,
      "outputs": [
        {
          "output_type": "display_data",
          "data": {
            "image/png": "[encoded data removed]",
            "text/plain": [
              "<Figure size 576x396 with 6 Axes>"
            ]
          },
          "metadata": {
            "tags": []
          }
        }
      ]
    },
    {
      "metadata": {
        "id": "2OZWmBNxcvk4",
        "colab_type": "code",
        "colab": {}
      },
      "cell_type": "code",
      "source": [
        "\n",
        "input_Size = 28 * 28    # images are 28 x 28 pixels or 784 pixels\n",
        "output_Size = 10\n",
        "\n",
        "# Normalize the data so values are between 0 and 1 instead of between 0 and 255\n",
        "X_train_kaggle = X_train_kaggle / 255\n",
        "X_submit_kaggle = X_submit_kaggle / 255\n",
        "\n",
        "#reshape for dense-only inputs\n",
        "train_size = X_train_kaggle.shape[0]\n",
        "submit_size = X_submit_kaggle.shape[0]\n",
        "X_train_kaggle = X_train_kaggle.reshape(train_size, 28 * 28)\n",
        "X_submit_kaggle = X_submit_kaggle.reshape(submit_size, 28 * 28)\n",
        "\n",
        "# Split the data into 80% for training and 10% for testing out the models\n",
        "X_train, X_test, y_train_num, y_test_num = train_test_split(X_train_kaggle, y_train_kaggle, test_size=0.1)\n",
        "\n",
        "# A one-hot encoding is a list which is 0 in most positions, and 1 in a single positions. \n",
        "# In this case, the nth digit will be represented as a vector which is 1 in the nth dimension.\n",
        "# For example, 3 would be [0,0,0,1,0,0,0,0,0,0].\n",
        "y_train = np_utils.to_categorical(y_train_num, output_Size)\n",
        "y_test = np_utils.to_categorical(y_test_num, output_Size)\n"
      ],
      "execution_count": 0,
      "outputs": []
    },
    {
      "metadata": {
        "id": "LPtVA829L2M2",
        "colab_type": "code",
        "outputId": "80bdaccf-4fea-4e33-c325-d58e09bf4f83",
        "colab": {
          "base_uri": "https://localhost:8080/",
          "height": 88
        }
      },
      "cell_type": "code",
      "source": [
        "print (\"X_train training data shape of 28x28 pixels greyscale: \" ,X_train.shape)\n",
        "print (\"X_test submission data shape of 28x28 pixels greyscale: : \" ,X_test.shape)\n",
        "\n",
        "print (\"y_train training data shape of 28x28 pixels greyscale: \" ,y_train.shape)\n",
        "print (\"y_test submission data shape of 28x28 pixels greyscale: : \" ,y_test.shape)"
      ],
      "execution_count": 0,
      "outputs": [
        {
          "output_type": "stream",
          "text": [
            "X_train training data shape of 28x28 pixels greyscale:  (37800, 784)\n",
            "X_test submission data shape of 28x28 pixels greyscale: :  (4200, 784)\n",
            "y_train training data shape of 28x28 pixels greyscale:  (37800, 10)\n",
            "y_test submission data shape of 28x28 pixels greyscale: :  (4200, 10)\n"
          ],
          "name": "stdout"
        }
      ]
    },
    {
      "metadata": {
        "id": "Vhmql7I4GNVu",
        "colab_type": "text"
      },
      "cell_type": "markdown",
      "source": [
        "## Task 4: Neural Network\n",
        "Using all 64 pixels, Support Vector Machines can recognize the correct digit from an MNIST image nearly 100% of the time. \n",
        "\n",
        "Use the two code blocks below to try different number of components which still reduces the featues significantly while keeping prediction scores relatively high. In the starting example, reducing the 64 features to only 3 components reduces the score a lot to only 72%\n",
        "\n",
        "\n",
        " ### Find a good balance \n",
        " - Find a good balance between the number of components and the prediction score. What value for n_components results in a good score while still reducing the number of features significantly?\n",
        " \n",
        "---\n"
      ]
    },
    {
      "metadata": {
        "id": "E1heGqQlJSH6",
        "colab_type": "code",
        "colab": {}
      },
      "cell_type": "code",
      "source": [
        ""
      ],
      "execution_count": 0,
      "outputs": []
    },
    {
      "metadata": {
        "colab_type": "code",
        "id": "WG4LzWmwJSO6",
        "colab": {}
      },
      "cell_type": "code",
      "source": [
        "# Set up the Neural Network\n",
        "input_Size = 28 * 28    # images are 28 x 28 pixels or 784 pixels\n",
        "output_Size = 10\n",
        "\n",
        "Digit_neuralNetwork = Sequential()\n",
        "Digit_neuralNetwork.add(Dense(20, activation='relu', input_dim=(input_Size)))\n",
        "Digit_neuralNetwork.add(Dense(10, activation='relu'))\n",
        "Digit_neuralNetwork.add(Dense(output_Size, activation='softmax'))\n"
      ],
      "execution_count": 0,
      "outputs": []
    },
    {
      "metadata": {
        "colab_type": "code",
        "id": "xVEAqJ_LJSO_",
        "colab": {}
      },
      "cell_type": "code",
      "source": [
        "# Compile neural network model\n",
        "Digit_neuralNetwork.compile(optimizer='adam', loss='categorical_crossentropy', metrics=['accuracy'])"
      ],
      "execution_count": 0,
      "outputs": []
    },
    {
      "metadata": {
        "colab_type": "code",
        "outputId": "81dff6ed-801a-4ff2-c596-d0cf5ae964b8",
        "id": "IDrDXDEcJSPE",
        "colab": {
          "base_uri": "https://localhost:8080/",
          "height": 1812
        }
      },
      "cell_type": "code",
      "source": [
        "# Fit model on training data for network with dense input layer\n",
        "batch_size = 200\n",
        "epochs = 50\n",
        "history = Digit_neuralNetwork.fit(X_train, y_train,\n",
        "          batch_size=batch_size,\n",
        "          epochs=epochs,\n",
        "          verbose=2,\n",
        "          validation_data=(X_test, y_test))\n"
      ],
      "execution_count": 0,
      "outputs": [
        {
          "output_type": "stream",
          "text": [
            "Train on 37800 samples, validate on 4200 samples\n",
            "Epoch 1/50\n",
            " - 1s - loss: 2.2572 - acc: 0.1999 - val_loss: 2.1586 - val_acc: 0.2702\n",
            "Epoch 2/50\n",
            " - 1s - loss: 1.9800 - acc: 0.3267 - val_loss: 1.7979 - val_acc: 0.4055\n",
            "Epoch 3/50\n",
            " - 1s - loss: 1.6502 - acc: 0.4582 - val_loss: 1.4975 - val_acc: 0.5140\n",
            "Epoch 4/50\n",
            " - 1s - loss: 1.4085 - acc: 0.5327 - val_loss: 1.3078 - val_acc: 0.5764\n",
            "Epoch 5/50\n",
            " - 1s - loss: 1.2547 - acc: 0.5848 - val_loss: 1.1763 - val_acc: 0.6198\n",
            "Epoch 6/50\n",
            " - 1s - loss: 1.1386 - acc: 0.6266 - val_loss: 1.0714 - val_acc: 0.6564\n",
            "Epoch 7/50\n",
            " - 1s - loss: 1.0440 - acc: 0.6619 - val_loss: 0.9876 - val_acc: 0.6795\n",
            "Epoch 8/50\n",
            " - 1s - loss: 0.9671 - acc: 0.6902 - val_loss: 0.9152 - val_acc: 0.7088\n",
            "Epoch 9/50\n",
            " - 1s - loss: 0.9038 - acc: 0.7158 - val_loss: 0.8703 - val_acc: 0.7193\n",
            "Epoch 10/50\n",
            " - 1s - loss: 0.8535 - acc: 0.7317 - val_loss: 0.8145 - val_acc: 0.7526\n",
            "Epoch 11/50\n",
            " - 1s - loss: 0.8105 - acc: 0.7465 - val_loss: 0.7738 - val_acc: 0.7624\n",
            "Epoch 12/50\n",
            " - 1s - loss: 0.7734 - acc: 0.7594 - val_loss: 0.7405 - val_acc: 0.7738\n",
            "Epoch 13/50\n",
            " - 1s - loss: 0.7403 - acc: 0.7698 - val_loss: 0.7089 - val_acc: 0.7840\n",
            "Epoch 14/50\n",
            " - 1s - loss: 0.7095 - acc: 0.7796 - val_loss: 0.6815 - val_acc: 0.7940\n",
            "Epoch 15/50\n",
            " - 1s - loss: 0.6811 - acc: 0.7884 - val_loss: 0.6554 - val_acc: 0.7964\n",
            "Epoch 16/50\n",
            " - 1s - loss: 0.6553 - acc: 0.7969 - val_loss: 0.6322 - val_acc: 0.8071\n",
            "Epoch 17/50\n",
            " - 1s - loss: 0.6305 - acc: 0.8057 - val_loss: 0.6078 - val_acc: 0.8102\n",
            "Epoch 18/50\n",
            " - 1s - loss: 0.6086 - acc: 0.8135 - val_loss: 0.5886 - val_acc: 0.8176\n",
            "Epoch 19/50\n",
            " - 1s - loss: 0.5885 - acc: 0.8196 - val_loss: 0.5684 - val_acc: 0.8243\n",
            "Epoch 20/50\n",
            " - 1s - loss: 0.5646 - acc: 0.8277 - val_loss: 0.5445 - val_acc: 0.8319\n",
            "Epoch 21/50\n",
            " - 1s - loss: 0.5409 - acc: 0.8358 - val_loss: 0.5221 - val_acc: 0.8369\n",
            "Epoch 22/50\n",
            " - 1s - loss: 0.5204 - acc: 0.8425 - val_loss: 0.5025 - val_acc: 0.8457\n",
            "Epoch 23/50\n",
            " - 1s - loss: 0.5023 - acc: 0.8480 - val_loss: 0.4855 - val_acc: 0.8526\n",
            "Epoch 24/50\n",
            " - 1s - loss: 0.4862 - acc: 0.8537 - val_loss: 0.4713 - val_acc: 0.8595\n",
            "Epoch 25/50\n",
            " - 1s - loss: 0.4722 - acc: 0.8586 - val_loss: 0.4575 - val_acc: 0.8640\n",
            "Epoch 26/50\n",
            " - 1s - loss: 0.4596 - acc: 0.8620 - val_loss: 0.4462 - val_acc: 0.8693\n",
            "Epoch 27/50\n",
            " - 1s - loss: 0.4481 - acc: 0.8662 - val_loss: 0.4357 - val_acc: 0.8724\n",
            "Epoch 28/50\n",
            " - 1s - loss: 0.4376 - acc: 0.8702 - val_loss: 0.4284 - val_acc: 0.8740\n",
            "Epoch 29/50\n",
            " - 1s - loss: 0.4281 - acc: 0.8727 - val_loss: 0.4181 - val_acc: 0.8769\n",
            "Epoch 30/50\n",
            " - 1s - loss: 0.4197 - acc: 0.8763 - val_loss: 0.4103 - val_acc: 0.8800\n",
            "Epoch 31/50\n",
            " - 1s - loss: 0.4116 - acc: 0.8790 - val_loss: 0.4027 - val_acc: 0.8810\n",
            "Epoch 32/50\n",
            " - 1s - loss: 0.4048 - acc: 0.8815 - val_loss: 0.3968 - val_acc: 0.8829\n",
            "Epoch 33/50\n",
            " - 1s - loss: 0.3981 - acc: 0.8832 - val_loss: 0.3901 - val_acc: 0.8860\n",
            "Epoch 34/50\n",
            " - 1s - loss: 0.3921 - acc: 0.8854 - val_loss: 0.3844 - val_acc: 0.8857\n",
            "Epoch 35/50\n",
            " - 1s - loss: 0.3860 - acc: 0.8875 - val_loss: 0.3820 - val_acc: 0.8886\n",
            "Epoch 36/50\n",
            " - 1s - loss: 0.3811 - acc: 0.8898 - val_loss: 0.3750 - val_acc: 0.8879\n",
            "Epoch 37/50\n",
            " - 1s - loss: 0.3757 - acc: 0.8914 - val_loss: 0.3706 - val_acc: 0.8912\n",
            "Epoch 38/50\n",
            " - 1s - loss: 0.3708 - acc: 0.8937 - val_loss: 0.3667 - val_acc: 0.8910\n",
            "Epoch 39/50\n",
            " - 1s - loss: 0.3663 - acc: 0.8943 - val_loss: 0.3621 - val_acc: 0.8921\n",
            "Epoch 40/50\n",
            " - 1s - loss: 0.3621 - acc: 0.8953 - val_loss: 0.3589 - val_acc: 0.8924\n",
            "Epoch 41/50\n",
            " - 1s - loss: 0.3579 - acc: 0.8965 - val_loss: 0.3555 - val_acc: 0.8938\n",
            "Epoch 42/50\n",
            " - 1s - loss: 0.3545 - acc: 0.8982 - val_loss: 0.3527 - val_acc: 0.8907\n",
            "Epoch 43/50\n",
            " - 1s - loss: 0.3505 - acc: 0.8991 - val_loss: 0.3495 - val_acc: 0.8912\n",
            "Epoch 44/50\n",
            " - 1s - loss: 0.3468 - acc: 0.9004 - val_loss: 0.3472 - val_acc: 0.8940\n",
            "Epoch 45/50\n",
            " - 1s - loss: 0.3437 - acc: 0.9011 - val_loss: 0.3435 - val_acc: 0.8950\n",
            "Epoch 46/50\n",
            " - 1s - loss: 0.3401 - acc: 0.9027 - val_loss: 0.3424 - val_acc: 0.8964\n",
            "Epoch 47/50\n",
            " - 1s - loss: 0.3370 - acc: 0.9040 - val_loss: 0.3382 - val_acc: 0.8962\n",
            "Epoch 48/50\n",
            " - 1s - loss: 0.3340 - acc: 0.9043 - val_loss: 0.3354 - val_acc: 0.8974\n",
            "Epoch 49/50\n",
            " - 1s - loss: 0.3309 - acc: 0.9051 - val_loss: 0.3340 - val_acc: 0.8998\n",
            "Epoch 50/50\n",
            " - 1s - loss: 0.3280 - acc: 0.9056 - val_loss: 0.3318 - val_acc: 0.8988\n"
          ],
          "name": "stdout"
        }
      ]
    },
    {
      "metadata": {
        "colab_type": "code",
        "outputId": "e4c418af-9a4c-4a55-eccd-f94d2ddb3713",
        "id": "4ldH06ZhJSPJ",
        "colab": {
          "base_uri": "https://localhost:8080/",
          "height": 70
        }
      },
      "cell_type": "code",
      "source": [
        "# 10. Evaluate model on test data\n",
        "print (\"Running final scoring on test data\")\n",
        "score = Digit_neuralNetwork.evaluate(X_test, y_test, verbose=1)\n",
        "print (\"The accuracy for this model is \", format(score[1], \",.2f\"))"
      ],
      "execution_count": 0,
      "outputs": [
        {
          "output_type": "stream",
          "text": [
            "Running final scoring on test data\n",
            "4200/4200 [==============================] - 0s 30us/step\n",
            "The accuracy for this model is  0.90\n"
          ],
          "name": "stdout"
        }
      ]
    },
    {
      "metadata": {
        "colab_type": "code",
        "outputId": "87f55c32-e371-4210-f058-b5fabe1418bb",
        "id": "_kKSpZEnJSPO",
        "colab": {
          "base_uri": "https://localhost:8080/",
          "height": 347
        }
      },
      "cell_type": "code",
      "source": [
        "# Plot the loss and accuracy curves for training and validation \n",
        "fig, ax = plt.subplots(2,1)\n",
        "ax[0].plot(history.history['loss'], color='b', label=\"Training loss\")\n",
        "ax[0].plot(history.history['val_loss'], color='r', label=\"Testing loss\",axes =ax[0])\n",
        "legend = ax[0].legend(loc='best', shadow=True)\n",
        "plt.ylim(0,1)\n",
        "\n",
        "ax[1].plot(history.history['acc'], color='b', label=\"Training accuracy\")\n",
        "ax[1].plot(history.history['val_acc'], color='r',label=\"Testing accuracy\")\n",
        "legend = ax[1].legend(loc='best', shadow=True)"
      ],
      "execution_count": 0,
      "outputs": [
        {
          "output_type": "display_data",
          "data": {
            "image/png": "[encoded data removed]",
            "text/plain": [
              "<Figure size 576x396 with 2 Axes>"
            ]
          },
          "metadata": {
            "tags": []
          }
        }
      ]
    },
    {
      "metadata": {
        "id": "GxAW_tG8gDK0",
        "colab_type": "code",
        "outputId": "7afc2a52-245a-423f-8694-204da804c8c6",
        "colab": {
          "base_uri": "https://localhost:8080/",
          "height": 415
        }
      },
      "cell_type": "code",
      "source": [
        "# Look at confusion matrix \n",
        "from sklearn.metrics import confusion_matrix\n",
        "import itertools\n",
        "\n",
        "def plot_confusion_matrix(cm, classes,\n",
        "                          normalize=False,\n",
        "                          title='Confusion matrix',\n",
        "                          cmap=plt.cm.Blues):\n",
        "    \"\"\"\n",
        "    This function prints and plots the confusion matrix.\n",
        "    Normalization can be applied by setting `normalize=True`.\n",
        "    \"\"\"\n",
        "    plt.imshow(cm, interpolation='nearest', cmap=cmap)\n",
        "    plt.title(title)\n",
        "    plt.colorbar()\n",
        "    tick_marks = np.arange(len(classes))\n",
        "    plt.xticks(tick_marks, classes, rotation=45)\n",
        "    plt.yticks(tick_marks, classes)\n",
        "\n",
        "    if normalize:\n",
        "        cm = cm.astype('float') / cm.sum(axis=1)[:, np.newaxis]\n",
        "\n",
        "    thresh = cm.max() / 2.\n",
        "    for i, j in itertools.product(range(cm.shape[0]), range(cm.shape[1])):\n",
        "        plt.text(j, i, cm[i, j],\n",
        "                 horizontalalignment=\"center\",\n",
        "                 color=\"white\" if cm[i, j] > thresh else \"black\")\n",
        "\n",
        "    plt.tight_layout()\n",
        "    plt.ylabel('True label')\n",
        "    plt.xlabel('Predicted label')\n",
        "\n",
        "    X_test, y_test\n",
        "    \n",
        "# Predict the values from the validation dataset\n",
        "Y_pred = Digit_neuralNetwork.predict(X_test)\n",
        "# Convert predictions classes to one hot vectors \n",
        "Y_pred_classes = np.argmax(Y_pred,axis = 1) \n",
        "# Convert validation observations to one hot vectors\n",
        "# Y_true = np.argmax(y_test_num,axis = 1) \n",
        "# compute the confusion matrix\n",
        "confusion_mtx = confusion_matrix(y_test_num, Y_pred_classes) \n",
        "\n",
        "# plot the confusion matrix\n",
        "plot_confusion_matrix(confusion_mtx, classes = range(10)) "
      ],
      "execution_count": 0,
      "outputs": [
        {
          "output_type": "display_data",
          "data": {
            "image/png": "[encoded data removed]",
            "text/plain": [
              "<Figure size 576x396 with 2 Axes>"
            ]
          },
          "metadata": {
            "tags": []
          }
        }
      ]
    },
    {
      "metadata": {
        "id": "xAHcXCEcfzIL",
        "colab_type": "text"
      },
      "cell_type": "markdown",
      "source": [
        "## Create the Submission for Kaggle\n",
        "\n",
        "The following code generates a file named CIS3115_Submission.csv which you need to download to your local PC and then upload to [Kaggle's Digit Recognition competition](https://www.kaggle.com/c/digit-recognizer/submit).\n"
      ]
    },
    {
      "metadata": {
        "id": "YqcMfCNsjpOJ",
        "colab_type": "code",
        "colab": {}
      },
      "cell_type": "code",
      "source": [
        "predictions = Digit_neuralNetwork.predict_classes(X_submit_kaggle, verbose=0)\n",
        "\n",
        "submissions=pd.DataFrame({\"ImageId\": list(range(1,len(predictions)+1)), \"Label\": predictions})\n",
        "\n",
        "submissions.to_csv(\"CIS3115_Submission.csv\", index=False, header=True)"
      ],
      "execution_count": 0,
      "outputs": []
    },
    {
      "metadata": {
        "id": "RUzZntKj1QFz",
        "colab_type": "text"
      },
      "cell_type": "markdown",
      "source": [
        "# Wrapping Up\n",
        "\n",
        "Remember to **share this sheet with your instructo**r and submit a link to it in Blackboard."
      ]
    },
    {
      "metadata": {
        "id": "hNmZlPcKWv12",
        "colab_type": "code",
        "colab": {}
      },
      "cell_type": "code",
      "source": [
        ""
      ],
      "execution_count": 0,
      "outputs": []
    }
  ]
}