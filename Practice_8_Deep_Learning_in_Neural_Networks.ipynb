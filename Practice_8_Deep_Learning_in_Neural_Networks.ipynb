{
  "nbformat": 4,
  "nbformat_minor": 0,
  "metadata": {
    "colab": {
      "name": "Practice 8: Deep Learning in Neural Networks.ipynb",
      "version": "0.3.2",
      "provenance": [],
      "collapsed_sections": [
        "KmZ4LSJ7XLR9"
      ]
    },
    "kernelspec": {
      "name": "python3",
      "display_name": "Python 3"
    }
  },
  "cells": [
    {
      "metadata": {
        "id": "UcP0RHTjWP1q",
        "colab_type": "text"
      },
      "cell_type": "markdown",
      "source": [
        "# Practice 8: Deep Learning in Neural Networks\n",
        "\n",
        "Use this notebook as the starting point for the Practice activities.\n",
        "\n",
        "Student Name:    **[  Put your Name Here ]**\n",
        "\n",
        "\n",
        "## [Video Walkthough of Practice 8.](https://www.youtube.com/watch?v=BSab11nKgIM)\n",
        "\n",
        "## Topics\n",
        "\n",
        "- Reducing the learning rate\n",
        "- Batch size\n",
        "- Random folds, dividing test/train correctly\n",
        "- Overfitting\n",
        "- Saving the best state\n",
        "- Drop out layers"
      ]
    },
    {
      "metadata": {
        "id": "KmZ4LSJ7XLR9",
        "colab_type": "text"
      },
      "cell_type": "markdown",
      "source": [
        "# Section 0\n",
        "\n",
        "=== *You must run this section to set up things for any of the sections below * ===\n",
        "### Setting up Python tools\n",
        "\n",
        "\n",
        "\n",
        "We'll use three libraries for this tutorial: \n",
        "- [pandas](http://pandas.pydata.org/) : dataframes for spreadsheet-like data analysis, reading CSV files, time series\n",
        "- [numpy](http://www.numpy.org/) : for multidimensional data and linear algebra tools\n",
        "- [matplotlib](http://matplotlib.org/) : Simple plotting and graphing\n",
        "- [seaborn](http://stanford.edu/~mwaskom/software/seaborn/) : more advanced graphing\n",
        "-  [scikit-learn](https://scikit-learn.org/stable/) : provides many machine learning algorithms and tools to training and test.\n",
        "\n",
        "\n"
      ]
    },
    {
      "metadata": {
        "id": "RHAUKyWlWQ9L",
        "colab_type": "code",
        "outputId": "8e446135-7862-46e8-caae-9fe40be40d04",
        "colab": {
          "base_uri": "https://localhost:8080/",
          "height": 52
        }
      },
      "cell_type": "code",
      "source": [
        "# First, we'll import pandas and numpy, two data processing libraries\n",
        "import pandas as pd\n",
        "import numpy as np\n",
        "\n",
        "# We'll also import seaborn and matplot, twp Python graphing libraries\n",
        "import seaborn as sns\n",
        "import matplotlib.pyplot as plt\n",
        "# Import the needed sklearn libraries\n",
        "from sklearn.preprocessing import MinMaxScaler, StandardScaler\n",
        "from sklearn import datasets\n",
        "from sklearn.model_selection import train_test_split\n",
        "from sklearn.neighbors import KNeighborsClassifier\n",
        "from sklearn.svm import SVC\n",
        "from sklearn.decomposition import PCA\n",
        "from sklearn.preprocessing import LabelEncoder\n",
        "\n",
        "# The Keras library provides support for neural networks and deep learning\n",
        "print (\"====== This should generate a FutureWaring on Conversion ===== ignore this warning\")\n",
        "import keras\n",
        "from keras.models import Sequential\n",
        "from keras.layers import Dense, Dropout, Activation, Lambda, Flatten, LSTM\n",
        "from keras.layers import Conv2D, MaxPooling2D\n",
        "from keras.optimizers import Adam, RMSprop\n",
        "from keras.utils import np_utils\n",
        "\n",
        "# We will turn off some warns in this notebook to make it easier to read for new students\n",
        "import warnings\n",
        "warnings.filterwarnings('ignore')"
      ],
      "execution_count": 1,
      "outputs": [
        {
          "output_type": "stream",
          "text": [
            "====== This should generate a FutureWaring on Conversion ===== ignore this warning\n"
          ],
          "name": "stdout"
        },
        {
          "output_type": "stream",
          "text": [
            "Using TensorFlow backend.\n"
          ],
          "name": "stderr"
        }
      ]
    },
    {
      "metadata": {
        "colab_type": "text",
        "id": "sTvnB7XwvScZ"
      },
      "cell_type": "markdown",
      "source": [
        "## Task 1: Past Kaggle result for Digit Challenge\n",
        "\n",
        "In an eariler activite you created an account at Kaggle,  [www.Kaggle.com](https://www.kaggle.com/) most likely using your CSS email address with the \"Sign up with Google\" option\n",
        "\n",
        "\n",
        "Return to the [Kaggle Digit Recognition challenge](https://www.kaggle.com/c/digit-recognizer) and find the top score for your submissions--click on the \"My Submissions\" tab. \n",
        "\n",
        "What was your top submission previously:  _ _ _ _ _ _ _ _ _ "
      ]
    },
    {
      "metadata": {
        "id": "mEuPVnRDdGpu",
        "colab_type": "text"
      },
      "cell_type": "markdown",
      "source": [
        "# Section 1:  Reducing the Learning Rate\n",
        "=== *You must run Section 0 before this section* ===\n"
      ]
    },
    {
      "metadata": {
        "colab_type": "text",
        "id": "YZ1dW8lJvScd"
      },
      "cell_type": "markdown",
      "source": [
        "### Set up the Input and output\n",
        "\n",
        "- Training data: 42,000 images, each 28 x28 pixes, each labeled with the actual digit 0 - 9\n",
        "- Submission data: 28,000 images, each 28 x 28 pixes, not labeled. You must generate predictions for each of these\n",
        "\n",
        "### NOTE: This dataset is somewhat large and loading it may take a minute or two \n"
      ]
    },
    {
      "metadata": {
        "colab_type": "code",
        "outputId": "b0d65f3d-104e-439e-d1da-ff8c96422a2b",
        "id": "Z_gd5XuZvScg",
        "colab": {
          "base_uri": "https://localhost:8080/",
          "height": 52
        }
      },
      "cell_type": "code",
      "source": [
        "# Read data from the actual Kaggle download files stored in a raw file in GitHub\n",
        "url_kaggle_train = 'https://raw.githubusercontent.com/CIS3115-Machine-Learning-Scholastica/CIS3115ML-Units7and8/master/kaggle-digit-recognizer/train.csv'\n",
        "url_kaggle_test = 'https://raw.githubusercontent.com/CIS3115-Machine-Learning-Scholastica/CIS3115ML-Units7and8/master/kaggle-digit-recognizer/test.csv'\n",
        "  \n",
        "train_kaggle = pd.read_csv(url_kaggle_train)\n",
        "# Pull out the labels or output which are saved in first index\n",
        "y_train_kaggle = train_kaggle.iloc[:,0].values.astype('int32')\n",
        "# Convert remaining values to floats\n",
        "X_train_kaggle = (train_kaggle.iloc[:,1:].values).astype('float32')\n",
        "# Read the kaggle test data which is used for submissions\n",
        "X_submit_kaggle = (pd.read_csv(url_kaggle_test).values).astype('float32')\n",
        "#reshape as 28x28 pixel images\n",
        "X_train_kaggle = X_train_kaggle.reshape(X_train_kaggle.shape[0], 28, 28)\n",
        "X_submit_kaggle = X_submit_kaggle.reshape(X_submit_kaggle.shape[0], 28, 28)\n",
        "\n",
        "print (\"X_train_kaggle training data shape of 28x28 pixels greyscale: \" ,X_train_kaggle.shape)\n",
        "print (\"X_submit_kaggle submission data shape of 28x28 pixels greyscale: : \" ,X_submit_kaggle.shape)"
      ],
      "execution_count": 2,
      "outputs": [
        {
          "output_type": "stream",
          "text": [
            "X_train_kaggle training data shape of 28x28 pixels greyscale:  (42000, 28, 28)\n",
            "X_submit_kaggle submission data shape of 28x28 pixels greyscale: :  (28000, 28, 28)\n"
          ],
          "name": "stdout"
        }
      ]
    },
    {
      "metadata": {
        "colab_type": "text",
        "id": "azNaomGavScs"
      },
      "cell_type": "markdown",
      "source": [
        "## Set up the data\n",
        "\n",
        "**Scale Data:** Neural Networks work best with the inputs are between 0 and +1, but the grayscale images have pixel values between 0 and 255. So, each pixel value is divided by 255 to scale it.\n",
        "\n",
        "**Reformatting: **Above we reformatted the data into 28x28 pixel arrays so we could display it. Now we are converting it back to a single list of 784 pixels. ( 28 x 28 = 784)\n",
        "\n",
        "**Split the Data:** The training data is split with 90% used for training and 10% used for testing.\n",
        "\n",
        "**One-Hot Encoding:** A one-hot encoding is a list which is 0 in most positions, and 1 in a single positions.  In this case, the nth digit will be represented as a vector which is 1 in the nth dimension.\n",
        "\n",
        "- For example, 3 would be [0,0,0,1,0,0,0,0,0,0]"
      ]
    },
    {
      "metadata": {
        "colab_type": "code",
        "id": "eIQ8a0whvScx",
        "colab": {}
      },
      "cell_type": "code",
      "source": [
        "\n",
        "input_Size = 28 * 28    # images are 28 x 28 pixels or 784 pixels\n",
        "output_Size = 10\n",
        "\n",
        "# Normalize the data so values are between 0 and 1 instead of between 0 and 255\n",
        "X_train_kaggle = X_train_kaggle / 255\n",
        "X_submit_kaggle = X_submit_kaggle / 255\n",
        "\n",
        "#reshape for dense-only inputs\n",
        "train_size = X_train_kaggle.shape[0]\n",
        "submit_size = X_submit_kaggle.shape[0]\n",
        "X_train_kaggle = X_train_kaggle.reshape(train_size, 28 * 28)\n",
        "X_submit_kaggle = X_submit_kaggle.reshape(submit_size, 28 * 28)\n",
        "\n",
        "# Split the data into 80% for training and 10% for testing out the models\n",
        "X_train, X_test, y_train_num, y_test_num = train_test_split(X_train_kaggle, y_train_kaggle, test_size=0.1)\n",
        "\n",
        "# A one-hot encoding is a list which is 0 in most positions, and 1 in a single positions. \n",
        "# In this case, the nth digit will be represented as a vector which is 1 in the nth dimension.\n",
        "# For example, 3 would be [0,0,0,1,0,0,0,0,0,0].\n",
        "y_train = np_utils.to_categorical(y_train_num, output_Size)\n",
        "y_test = np_utils.to_categorical(y_test_num, output_Size)\n"
      ],
      "execution_count": 0,
      "outputs": []
    },
    {
      "metadata": {
        "colab_type": "code",
        "outputId": "c7995cc4-7b2e-4021-d327-c0fa5609edd7",
        "id": "TdY9eRGavSc5",
        "colab": {
          "base_uri": "https://localhost:8080/",
          "height": 87
        }
      },
      "cell_type": "code",
      "source": [
        "print (\"X_train training data shape of 28x28 pixels greyscale: \" ,X_train.shape)\n",
        "print (\"X_test submission data shape of 28x28 pixels greyscale: : \" ,X_test.shape)\n",
        "\n",
        "print (\"y_train training data shape of 28x28 pixels greyscale: \" ,y_train.shape)\n",
        "print (\"y_test submission data shape of 28x28 pixels greyscale: : \" ,y_test.shape)"
      ],
      "execution_count": 4,
      "outputs": [
        {
          "output_type": "stream",
          "text": [
            "X_train training data shape of 28x28 pixels greyscale:  (37800, 784)\n",
            "X_test submission data shape of 28x28 pixels greyscale: :  (4200, 784)\n",
            "y_train training data shape of 28x28 pixels greyscale:  (37800, 10)\n",
            "y_test submission data shape of 28x28 pixels greyscale: :  (4200, 10)\n"
          ],
          "name": "stdout"
        }
      ]
    },
    {
      "metadata": {
        "colab_type": "text",
        "id": "hwoi3GqJvSdG"
      },
      "cell_type": "markdown",
      "source": [
        "## Neural Network\n",
        "\n",
        "The following code sets up a sequential, four layer neural network. Sequential means that each layer is connected to the layer listed before it:\n",
        "- Input layer: 784 pixels (28x28) used as input values\n",
        "- Hidden layer 1: 20 units using Rectified Linear Units (relu)\n",
        "- Hidden layer 2: 10 units using Rectified Linear Units (relu)\n",
        "- Output  layer: 10 units using softmax to predict the correct digit between 0 and 9\n",
        "---\n"
      ]
    },
    {
      "metadata": {
        "id": "qaV6VT-66iAf",
        "colab_type": "text"
      },
      "cell_type": "markdown",
      "source": [
        "## Task 2: Deeper Networks\n",
        "\n",
        "As describe above, the network below has an input layer, 2 hidden layers, and on output layer. Modify the network by adding at least one more hidden layer. Also consider making the hidden layers larger.\n",
        "\n",
        "One possibly configuration would be:\n",
        "\n",
        "```\n",
        "DigitNN = Sequential()\n",
        "DigitNN.add(Dense(50, activation='relu', input_dim=(input_Size)))\n",
        "DigitNN.add(Dense(40, activation='relu'))\n",
        "DigitNN.add(Dense(30, activation='relu'))\n",
        "DigitNN.add(Dense(20, activation='relu'))\n",
        "DigitNN.add(Dense(output_Size, activation='softmax'))\n",
        "```\n",
        "\n",
        "Though you should try your own configuration. We will eventually look at networks of 50+ layers, but for now I suggest you limit yourself to 3-5 hidden layers. \n",
        "\n",
        "\n",
        "*Note: You should not change the input or output layers, they are fixed by our problem definition*\n"
      ]
    },
    {
      "metadata": {
        "colab_type": "code",
        "id": "M1H9GVNvvSdM",
        "colab": {}
      },
      "cell_type": "code",
      "source": [
        "# Set up the Neural Network\n",
        "input_Size = 28 * 28    # images are 28 x 28 pixels or 784 pixels\n",
        "output_Size = 10\n",
        "\n",
        "DigitNN = Sequential()\n",
        "DigitNN.add(Dense(50, activation='relu', input_dim=(input_Size)))\n",
        "DigitNN.add(Dropout(0.2))\n",
        "DigitNN.add(Dense(40, activation='relu'))\n",
        "DigitNN.add(Dropout(0.2))\n",
        "DigitNN.add(Dense(20, activation='relu'))\n",
        "DigitNN.add(Dense(output_Size, activation='softmax'))\n"
      ],
      "execution_count": 0,
      "outputs": []
    },
    {
      "metadata": {
        "id": "pJ42A7Pj8bZO",
        "colab_type": "text"
      },
      "cell_type": "markdown",
      "source": [
        "## Task 5: Fighting Overfitting (Please do Tasks 3 and 4 below first)\n",
        "\n",
        "When out network gets large enough and our training refined, our network can learn to memorize all the input features. In these cases our prediction accuracy on the training data may reach 100%. But our test accuracy might be lower, say 94%. \n",
        "\n",
        "This is called [Overfitting](https://en.wikipedia.org/wiki/Overfitting). The model has memorized the training data, but not generalize the rules enough to predict new inputs. For more information see [Overfitting in Machine Learning: What It Is and How to Prevent It](https://elitedatascience.com/overfitting-in-machine-learning)\n",
        "\n",
        "The network only learns when there is a mistake between what the model predicts and what it is suppose to predict. If the model is 100% accurate in training, it is not making any mistakes and so not learning or changing the weights at all.\n",
        "\n",
        "One way to prevent overfitting is to introduce some \"noise\" into the training. One way researcher have found helpful is to randomly skip certain weights when updating a neuron. Keras can do this with a [dropout layer](https://keras.io/layers/core/). \n",
        "\n",
        "### Question 1: Do you have Overfitting?\n",
        "\n",
        "After adding more layers to your network and reducing the Learning Rate, does you model overfit the data? That is, does it work really well on the training data, but not so well on the testing data?\n",
        "\n",
        "### Question 2: Try some Dropout layers\n",
        "\n",
        "Add one or more Dropout layers to your network. The following code adds a Dropout layer between two hidden layers that will randomly ignote 50% of the weights each time.\n",
        "\n",
        "```\n",
        "DigitNN.add(Dense(40, activation='relu'))\n",
        "DigitNN.add(Dropout(0.5))\n",
        "DigitNN.add(Dense(30, activation='relu'))\n",
        "```\n",
        "Add one or more Dropout(0.5) layers to your network. Train it and describe how it performs.\n",
        "\n",
        "### Question 3: Try lower Dropout rates\n",
        "\n",
        "Try a lower dropout rate such as, Dropout(0.1), and retrain the network. Describe how it performs.\n",
        "\n",
        "\n"
      ]
    },
    {
      "metadata": {
        "colab_type": "text",
        "id": "OkBAUTdjvSdc"
      },
      "cell_type": "markdown",
      "source": [
        "## Compile Neural Network\n",
        "\n",
        "This builds the Neural network. You must specify \n",
        "- optimizer = 'adam' is a common gradient decent method for changing the wieghts during training\n",
        "- loss =  'categorical_crossentropy' is used when you have a number of distinct categories and items can only be in one category.\n",
        "- metrics = 'accuracy' will output the accuracy of the classification, the percent of time the network gets the classification correct"
      ]
    },
    {
      "metadata": {
        "colab_type": "code",
        "id": "dWuDYGv6vSdf",
        "colab": {}
      },
      "cell_type": "code",
      "source": [
        "# Compile neural network model\n",
        "DigitNN.compile(optimizer='adam', loss='categorical_crossentropy', metrics=['accuracy'])"
      ],
      "execution_count": 0,
      "outputs": []
    },
    {
      "metadata": {
        "colab_type": "text",
        "id": "LT2ZSVeXvSdo"
      },
      "cell_type": "markdown",
      "source": [
        "## Train the Neural Network\n",
        "\n",
        "This will run all 37800 training images through the network and update the weights. \n",
        "\n",
        "- epochs = 10 means to run the training 10 times. \n",
        "- Performance measues:\n",
        " - loss: is a measurement of how far the outputs are from the desired outputs. This should get smaller over time.\n",
        " - acc: is the prediction accuracy as a percent so 0.67 means the model predicts the correct flower 67% of the time. \n",
        " - val_loss: the loss calculated using the testing flowers rather than the training flowers.\n",
        " - val_acc: the accuracy calculated using the testing flowers rather than the training flowers.\n",
        " \n",
        " \n",
        "### Note: This is a large data set and training will be slow. This might take a couple of minutes to run. \n",
        "\n",
        "This is why we are only using 10 epochs initially"
      ]
    },
    {
      "metadata": {
        "id": "Zxtu22VA2k-T",
        "colab_type": "text"
      },
      "cell_type": "markdown",
      "source": [
        "## Task 3: Reducing the Learning Rate\n",
        "\n",
        "### Learning Rate\n",
        "\n",
        "The Learning Rate determines how much the weights in a neural network are changed during training. When the Learning Rate is set correctly, the network weights are changed a little bit for each input--in our case for each digit image. These slight adjustments from each digit image allow the network to learn all the weights over a long time.\n",
        "\n",
        "For more on the Learning Rate, see [Understanding Learning Rates and How It Improves Performance in Deep Learning](https://towardsdatascience.com/understanding-learning-rates-and-how-it-improves-performance-in-deep-learning-d0d4059c1c10)\n",
        "\n",
        "### Learning Too Fast\n",
        "If the learning rate is too high, when the network is trained on an image of a \"4\" it may change the weights too much and erase the weight changes for the \"3\". The network will learn too fast causing each new image learned to degrade the performance on past images.  \n",
        "\n",
        "### Learning Too Slow\n",
        "\n",
        "If the Learning Rate is too low, the network is learn very slowly. But long training times can compensate for this, but the network may get stuck in \"local minima\" which are places where any small weight change does not improve the model, but a larger weight change would. \n",
        "\n",
        "Imagine you are in a mountain valley where walking in any direction goes up hill. You may be able to go down hill again if you first go uphill for a short while.\n",
        "![alt text](https://i.stack.imgur.com/rPx0Q.png)\n",
        "\n",
        "### Reducing the Learning Rate over time\n",
        "\n",
        "Keras uses a feature named Callbacks to adjust the learning rate as needed. See the documentation for\n",
        "[ReduceLROnPlateau](https://keras.io/callbacks/#reducelronplateau). Run the code cells below to setup the neural network until you get to Task 2 below where you will implement learning rate reduction\n",
        "\n",
        "The code below defines a callback,  learning_rate_reduction, which will automatically reduce the learning rate at certain times. Answer the following questions using the documentation for\n",
        "[ReduceLROnPlateau](https://keras.io/callbacks/#reducelronplateau). \n",
        "\n",
        "### Question 1: What does the \"patience\" parameter control?\n",
        "\n",
        "### Question 2: How much does the Learning Rate get reduced each time?\n",
        "\n"
      ]
    },
    {
      "metadata": {
        "id": "U-k7Y9H-2wUr",
        "colab_type": "code",
        "colab": {}
      },
      "cell_type": "code",
      "source": [
        "from keras.callbacks import ReduceLROnPlateau, EarlyStopping, ModelCheckpoint\n",
        " \n",
        "learning_rate_reduction = ReduceLROnPlateau(monitor='accuracy', \n",
        "                                            patience=3, \n",
        "                                            verbose=2, \n",
        "                                            factor=0.3, \n",
        "                                            min_lr=0.000001)"
      ],
      "execution_count": 0,
      "outputs": []
    },
    {
      "metadata": {
        "id": "P2S2jGn338I3",
        "colab_type": "text"
      },
      "cell_type": "markdown",
      "source": [
        "## Task 4: Other Callbacks\n",
        "\n",
        "Since we just learned about the ReduceLROnPlateau callback, let's also look at two others that are commonly used.\n",
        "\n",
        "### Question1: What does the [EarlyStopping callback](https://keras.io/callbacks/#earlystopping) do?\n",
        "\n",
        "\n",
        "### Question 2: What does the [ModelCheckpoint callback](https://keras.io/callbacks/#modelcheckpoint) do?\n",
        "\n",
        "### Question 3: Which callbacks are being used? \n",
        "\n",
        "Look at the code two cells below where `DigitNN.fit()` is called. What callbacks are listed to be used when fit() is called?"
      ]
    },
    {
      "metadata": {
        "colab_type": "code",
        "id": "iir-dKffvSd3",
        "colab": {}
      },
      "cell_type": "code",
      "source": [
        "\n",
        "from keras.callbacks import ReduceLROnPlateau, EarlyStopping, ModelCheckpoint\n",
        "\n",
        "early_stops = EarlyStopping(monitor='accuracy', \n",
        "                            min_delta=0, \n",
        "                            patience=6, \n",
        "                            verbose=2, \n",
        "                            mode='auto')\n",
        "\n",
        "checkpointer = ModelCheckpoint(filepath = 'cis3115_MNIST.{epoch:02d}-{accuracy:.6f}.hdf5',\n",
        "                               verbose=2,\n",
        "                               save_best_only=True, \n",
        "                               save_weights_only = True)\n"
      ],
      "execution_count": 0,
      "outputs": []
    },
    {
      "metadata": {
        "colab_type": "code",
        "outputId": "18197166-cb1f-45db-fdfe-df9b0f5ccaf7",
        "id": "pMeiCJoZvSd6",
        "colab": {
          "base_uri": "https://localhost:8080/",
          "height": 390
        }
      },
      "cell_type": "code",
      "source": [
        "# Fit model on training data for network with dense input layer\n",
        "\n",
        "history = DigitNN.fit(X_train, y_train,\n",
        "          epochs=10,\n",
        "          verbose=1,\n",
        "          callbacks=[learning_rate_reduction, early_stops],\n",
        "          validation_data=(X_test, y_test))\n"
      ],
      "execution_count": 30,
      "outputs": [
        {
          "output_type": "stream",
          "text": [
            "Train on 37800 samples, validate on 4200 samples\n",
            "Epoch 1/10\n",
            "37800/37800 [==============================] - 3s 76us/step - loss: 0.6152 - acc: 0.8058 - val_loss: 0.2205 - val_acc: 0.9355\n",
            "Epoch 2/10\n",
            "37800/37800 [==============================] - 3s 67us/step - loss: 0.3032 - acc: 0.9090 - val_loss: 0.1711 - val_acc: 0.9490\n",
            "Epoch 3/10\n",
            "37800/37800 [==============================] - 3s 67us/step - loss: 0.2506 - acc: 0.9246 - val_loss: 0.1569 - val_acc: 0.9519\n",
            "Epoch 4/10\n",
            "37800/37800 [==============================] - 3s 67us/step - loss: 0.2186 - acc: 0.9340 - val_loss: 0.1390 - val_acc: 0.9538\n",
            "Epoch 5/10\n",
            "37800/37800 [==============================] - 3s 67us/step - loss: 0.1981 - acc: 0.9399 - val_loss: 0.1378 - val_acc: 0.9590\n",
            "Epoch 6/10\n",
            "37800/37800 [==============================] - 2s 66us/step - loss: 0.1805 - acc: 0.9450 - val_loss: 0.1345 - val_acc: 0.9588\n",
            "Epoch 7/10\n",
            "37800/37800 [==============================] - 3s 67us/step - loss: 0.1659 - acc: 0.9495 - val_loss: 0.1187 - val_acc: 0.9660\n",
            "Epoch 8/10\n",
            "37800/37800 [==============================] - 3s 67us/step - loss: 0.1561 - acc: 0.9520 - val_loss: 0.1124 - val_acc: 0.9645\n",
            "Epoch 9/10\n",
            "37800/37800 [==============================] - 3s 67us/step - loss: 0.1528 - acc: 0.9524 - val_loss: 0.1174 - val_acc: 0.9643\n",
            "Epoch 10/10\n",
            "37800/37800 [==============================] - 3s 67us/step - loss: 0.1417 - acc: 0.9563 - val_loss: 0.1081 - val_acc: 0.9660\n"
          ],
          "name": "stdout"
        }
      ]
    },
    {
      "metadata": {
        "colab_type": "code",
        "id": "J_2GLi6avSeF",
        "colab": {}
      },
      "cell_type": "code",
      "source": [
        ""
      ],
      "execution_count": 0,
      "outputs": []
    },
    {
      "metadata": {
        "colab_type": "code",
        "outputId": "13b80ce6-3da5-40a9-e056-a940069f3cb5",
        "id": "Y965DSk5vSeJ",
        "colab": {
          "base_uri": "https://localhost:8080/",
          "height": 70
        }
      },
      "cell_type": "code",
      "source": [
        "# 10. Evaluate model on test data\n",
        "print (\"Running final scoring on test data\")\n",
        "score = DigitNN.evaluate(X_test, y_test, verbose=1)\n",
        "print (\"The accuracy for this model is \", format(score[1], \",.2f\"))"
      ],
      "execution_count": 31,
      "outputs": [
        {
          "output_type": "stream",
          "text": [
            "Running final scoring on test data\n",
            "4200/4200 [==============================] - 0s 30us/step\n",
            "The accuracy for this model is  0.97\n"
          ],
          "name": "stdout"
        }
      ]
    },
    {
      "metadata": {
        "colab_type": "text",
        "id": "KJiV__LbvSeO"
      },
      "cell_type": "markdown",
      "source": [
        "## Plot the Training History\n",
        "\n",
        "We store the performance during training is a variable named 'history'. The x-axis is the training time or number of epochs.\n",
        "\n",
        "- Accuracy: Accuracy of the predictions, hopefully this is increasing to near 1.0\n",
        "- Loss: How close the output is to the desired output, this should decrease to near 0.0"
      ]
    },
    {
      "metadata": {
        "colab_type": "code",
        "outputId": "708b8214-7819-4ae2-a18c-16ee47d8aafd",
        "id": "EsT7FG9SvSeP",
        "colab": {
          "base_uri": "https://localhost:8080/",
          "height": 380
        }
      },
      "cell_type": "code",
      "source": [
        "# Plot the loss and accuracy curves for training and validation \n",
        "fig, ax = plt.subplots(2,1)\n",
        "\n",
        "ax[0].plot(history.history['acc'], color='b', label=\"Training accuracy\")\n",
        "ax[0].plot(history.history['val_acc'], color='r',label=\"Testing accuracy\")\n",
        "ax[0].set_title(\"Accruacy\")\n",
        "legend = ax[0].legend(loc='best', shadow=True)\n",
        "              \n",
        "ax[1].plot(history.history['loss'], color='b', label=\"Training loss\")\n",
        "ax[1].plot(history.history['val_loss'], color='r', label=\"Testing loss\",axes =ax[1])\n",
        "ax[1].set_title(\"Loss\")\n",
        "legend = ax[1].legend(loc='best', shadow=True)\n",
        "plt.ylim(0,1)"
      ],
      "execution_count": 32,
      "outputs": [
        {
          "output_type": "execute_result",
          "data": {
            "text/plain": [
              "(0, 1)"
            ]
          },
          "metadata": {
            "tags": []
          },
          "execution_count": 32
        },
        {
          "output_type": "display_data",
          "data": {
            "image/png": "[encoded data removed]",
            "text/plain": [
              "<Figure size 576x396 with 2 Axes>"
            ]
          },
          "metadata": {
            "tags": []
          }
        }
      ]
    },
    {
      "metadata": {
        "id": "xAHcXCEcfzIL",
        "colab_type": "text"
      },
      "cell_type": "markdown",
      "source": [
        "# Section 2: Create the Submission for Kaggle\n",
        "\n",
        "The following code generates a file named CIS3115_Submission.csv which you need to download to your local PC and then upload to [Kaggle's Digit Recognition competition](https://www.kaggle.com/c/digit-recognizer/submit).\n",
        "\n",
        "### Loading and Saving Weights\n",
        "\n",
        "As our networks get more complicated, it will take longer (often hours, if not days) to train them. At certain points you may want to save the weights for the network or load the wieghts. \n",
        "\n",
        "- This code can be used to save the weights of the current model to a file\n",
        "\n",
        "```\n",
        "DigitNN.save_weights('cis3115_model_save_1.hdf5')\n",
        "```\n",
        "\n",
        "- This code can be used to load the weights saved in a file\n",
        "\n",
        "```\n",
        "DigitNN.load_weights('cis3115_model_save_1.hdf5')\n",
        "```\n",
        "\n",
        "\n",
        "\n",
        "\n",
        "\n"
      ]
    },
    {
      "metadata": {
        "id": "YqcMfCNsjpOJ",
        "colab_type": "code",
        "colab": {}
      },
      "cell_type": "code",
      "source": [
        "predictions = DigitNN.predict_classes(X_submit_kaggle, verbose=0)\n",
        "\n",
        "submissions=pd.DataFrame({\"ImageId\": list(range(1,len(predictions)+1)), \"Label\": predictions})\n",
        "\n",
        "submissions.to_csv(\"CIS3115_Submission.csv\", index=False, header=True)"
      ],
      "execution_count": 0,
      "outputs": []
    },
    {
      "metadata": {
        "id": "d5UGK9BiWDW5",
        "colab_type": "text"
      },
      "cell_type": "markdown",
      "source": [
        "## Kaggle Submission\n",
        "\n",
        "Run the code above after training the network above. It will go through the 28,000 submission images and generate an prediction for each. These are saved in a file named \"CIS3115_Submission.csv\"\n",
        "\n",
        "**Colab Users: ** The submission file is stored in the Colab files tied to this colab notebook in the Google cloud. \n",
        "1. Open the left-side menu by clicking on the > icon near the top-left\n",
        "2. Select the file tab\n",
        "3. Hit the Refresh button and the file should be displayed in the list\n",
        "4. Right-click on the file and choose \"Download\" and save it to a folder on your PC.\n",
        "\n",
        "**Juptyter Notebook Users: ** The submission file will be stored in the same folder as your Jupyter notebook file.\n",
        "\n",
        "Once you have the file, return to  the [Kaggle Digit Recognition challenge](https://www.kaggle.com/c/digit-recognizer) and select the Submit button. Follow the steps to upload your submission and see how it scores.\n",
        "\n",
        "Record your initial submission score here: _ _ _ _ _ _ _ _ _ _ _ _\n"
      ]
    },
    {
      "metadata": {
        "colab_type": "text",
        "id": "cUg7_6I_ui3-"
      },
      "cell_type": "markdown",
      "source": [
        "## Task 7: Report Best Score\n",
        "\n",
        "Try finding a good mix of the following:\n",
        "\n",
        "1. Number and size of hidden layers\n",
        "\n",
        "1. Number and rate of dropout layers\n",
        "\n",
        "1. Learning Rate reduction\n",
        "\n",
        "Submit your best network to the [Kaggle Digit Recognition challenge](https://www.kaggle.com/c/digit-recognizer) and compare it to your original score\n",
        "\n",
        "Original Kaggle scores here:  _ _ _ _ _ _ _ _ _ _\n",
        "Best Kaggle scores here:  _ _ _ _ _ _ _ _ _ _\n",
        "\n"
      ]
    },
    {
      "metadata": {
        "id": "RUzZntKj1QFz",
        "colab_type": "text"
      },
      "cell_type": "markdown",
      "source": [
        "# Wrapping Up\n",
        "\n",
        "Remember to **share this sheet with your instructo**r and submit a link to it in Blackboard."
      ]
    },
    {
      "metadata": {
        "id": "hNmZlPcKWv12",
        "colab_type": "code",
        "colab": {}
      },
      "cell_type": "code",
      "source": [
        ""
      ],
      "execution_count": 0,
      "outputs": []
    }
  ]
}