{
  "nbformat": 4,
  "nbformat_minor": 0,
  "metadata": {
    "colab": {
      "name": "Project_4_Deep_Learning_Pets.ipynb",
      "version": "0.3.2",
      "provenance": [],
      "collapsed_sections": []
    },
    "kernelspec": {
      "display_name": "Python 3",
      "language": "python",
      "name": "python3"
    }
  },
  "cells": [
    {
      "metadata": {
        "colab_type": "text",
        "id": "UcP0RHTjWP1q"
      },
      "cell_type": "markdown",
      "source": [
        "# Project 4: Deep Learning Pets\n",
        "\n",
        "Use this notebook as the starting point for the Practice activities.\n",
        "\n",
        "Student Name:    **[  Put your Name Here ]**\n",
        "\n",
        "\n",
        "Videos:\n",
        "\n",
        "\n",
        "*   [Basic Challenge Walkthrough](https://www.youtube.com/watch?v=JeF-OTbDcGg)\n",
        "*   [Hints for improving your score](https://www.youtube.com/watch?v=fSROOv7S6Vo)\n",
        "\n",
        "\n",
        "\n"
      ]
    },
    {
      "metadata": {
        "id": "SCPtkOA1cKBd",
        "colab_type": "text"
      },
      "cell_type": "markdown",
      "source": [
        "# Main Task\n",
        "\n",
        "In this project you will try to complete the [PetFinder.my Adoption Prediction challenge on Kaggle](https://www.kaggle.com/c/petfinder-adoption-prediction).\n",
        "\n",
        "This notebook sets up the basic data and a basic neural network. You must modify this notebook to improve its performance.\n",
        "\n",
        "You should try a number of different attempts at this. At the end of the notebook you will writeup what you tried and how it worked.\n",
        "\n"
      ]
    },
    {
      "metadata": {
        "id": "FaqB_iGZFhQk",
        "colab_type": "text"
      },
      "cell_type": "markdown",
      "source": [
        ""
      ]
    },
    {
      "metadata": {
        "colab_type": "text",
        "id": "KmZ4LSJ7XLR9"
      },
      "cell_type": "markdown",
      "source": [
        "# Section 0\n",
        "\n",
        "=== *You must run this section to set up things for any of the sections below * ===\n",
        "### Setting up Python tools\n",
        "\n",
        "\n",
        "\n",
        "We'll use three libraries for this tutorial: \n",
        "- [pandas](http://pandas.pydata.org/) : dataframes for spreadsheet-like data analysis, reading CSV files, time series\n",
        "- [numpy](http://www.numpy.org/) : for multidimensional data and linear algebra tools\n",
        "- [matplotlib](http://matplotlib.org/) : Simple plotting and graphing\n",
        "- [seaborn](http://stanford.edu/~mwaskom/software/seaborn/) : more advanced graphing\n",
        "-  [scikit-learn](https://scikit-learn.org/stable/) : provides many machine learning algorithms and tools to training and test.\n",
        "\n",
        "\n"
      ]
    },
    {
      "metadata": {
        "colab_type": "code",
        "id": "RHAUKyWlWQ9L",
        "outputId": "69ce55c5-ed7f-4c56-fa8a-4f82ac8ebf30",
        "colab": {
          "base_uri": "https://localhost:8080/",
          "height": 35
        }
      },
      "cell_type": "code",
      "source": [
        "# First, we'll import pandas and numpy, two data processing libraries\n",
        "import pandas as pd\n",
        "import numpy as np\n",
        "\n",
        "# We'll also import seaborn and matplot, twp Python graphing libraries\n",
        "import seaborn as sns\n",
        "import matplotlib.pyplot as plt\n",
        "# Import the needed sklearn libraries\n",
        "from sklearn.preprocessing import MinMaxScaler, StandardScaler\n",
        "from sklearn import datasets\n",
        "from sklearn.model_selection import train_test_split\n",
        "from sklearn.neighbors import KNeighborsClassifier\n",
        "from sklearn.svm import SVC\n",
        "from sklearn.decomposition import PCA\n",
        "from sklearn.preprocessing import LabelEncoder\n",
        "\n",
        "# The Keras library provides support for neural networks and deep learning\n",
        "print (\"====== This should generate a FutureWaring on Conversion ===== ignore this warning\")\n",
        "import keras\n",
        "from keras.models import Sequential\n",
        "from keras.layers import Dense, Dropout, Activation, Lambda, Flatten, LSTM\n",
        "from keras.layers import Conv2D, MaxPooling2D\n",
        "from keras.optimizers import Adam, RMSprop\n",
        "from keras.utils import np_utils, to_categorical\n",
        "\n",
        "# We will turn off some warns in this notebook to make it easier to read for new students\n",
        "import warnings\n",
        "warnings.filterwarnings('ignore')"
      ],
      "execution_count": 79,
      "outputs": [
        {
          "output_type": "stream",
          "text": [
            "====== This should generate a FutureWaring on Conversion ===== ignore this warning\n"
          ],
          "name": "stdout"
        }
      ]
    },
    {
      "metadata": {
        "colab_type": "text",
        "id": "sTvnB7XwvScZ"
      },
      "cell_type": "markdown",
      "source": [
        "## Task 1: PetFinder Kaggle Challenge\n",
        "\n",
        "Sign up for the [PetFinder.my Adoption Prediction challenge on Kaggle](https://www.kaggle.com/c/petfinder-adoption-prediction).\n",
        "\n",
        "Here is a summary of the data\n",
        "\n",
        "### Pet Data Fields\n",
        "- PetID - Unique hash ID of pet profile\n",
        "- AdoptionSpeed - Categorical speed of adoption. Lower is faster. This is the value to predict. See below section for more info.\n",
        "- Type - Type of animal (1 = Dog, 2 = Cat)\n",
        "- Name - Name of pet (Empty if not named)\n",
        "- Age - Age of pet when listed, in months\n",
        "- Breed1 - Primary breed of pet (Refer to BreedLabels dictionary)\n",
        "- Breed2 - Secondary breed of pet, if pet is of mixed breed (Refer to BreedLabels dictionary)\n",
        "- Gender - Gender of pet (1 = Male, 2 = Female, 3 = Mixed, if profile represents group of pets)\n",
        "- Color1 - Color 1 of pet (Refer to ColorLabels dictionary)\n",
        "- Color2 - Color 2 of pet (Refer to ColorLabels dictionary)\n",
        "- Color3 - Color 3 of pet (Refer to ColorLabels dictionary)\n",
        "- MaturitySize - Size at maturity (1 = Small, 2 = Medium, 3 = Large, 4 = Extra Large, 0 = Not Specified)\n",
        "- FurLength - Fur length (1 = Short, 2 = Medium, 3 = Long, 0 = Not Specified)\n",
        "- Vaccinated - Pet has been vaccinated (1 = Yes, 2 = No, 3 = Not Sure)\n",
        "- Dewormed - Pet has been dewormed (1 = Yes, 2 = No, 3 = Not Sure)\n",
        "- Sterilized - Pet has been spayed / neutered (1 = Yes, 2 = No, 3 = Not Sure)\n",
        "- Health - Health Condition (1 = Healthy, 2 = Minor Injury, 3 = Serious Injury, 0 = Not Specified)\n",
        "- Quantity - Number of pets represented in profile\n",
        "- Fee - Adoption fee (0 = Free)\n",
        "- State - State location in Malaysia (Refer to StateLabels dictionary)\n",
        "- RescuerID - Unique hash ID of rescuer\n",
        "- VideoAmt - Total uploaded videos for this pet\n",
        "- PhotoAmt - Total uploaded photos for this pet\n",
        "- Description - Profile write-up for this pet. The primary language used is English, with some in Malay or Chinese.\n",
        "### AdoptionSpeed\n",
        "Contestants are required to predict this value. The value is determined by how quickly, if at all, a pet is adopted. The values are determined in the following way: \n",
        "- 0 - Pet was adopted on the same day as it was listed. \n",
        "- 1 - Pet was adopted between 1 and 7 days (1st week) after being listed. \n",
        "- 2 - Pet was adopted between 8 and 30 days (1st month) after being listed. \n",
        "- 3 - Pet was adopted between 31 and 90 days (2nd & 3rd month) after being listed. \n",
        "- 4 - No adoption after 100 days of being listed. (There are no pets in this dataset that waited between 90 and 100 days).\n",
        "\n",
        "### File descriptions\n",
        "- train.csv - Tabular/text data for the training set\n",
        "- train.csv - Tabular/text data for the training set\n",
        "- test.csv - Tabular/text data for the test set\n",
        "- sample_submission.csv - A sample submission file in the correct format\n",
        "- breed_labels.csv - Contains Type, and BreedName for each BreedID. Type 1 is dog, 2 is cat.\n",
        "- color_labels.csv - Contains ColorName for each ColorID\n",
        "- state_labels.csv - Contains StateName for each StateID"
      ]
    },
    {
      "metadata": {
        "colab_type": "text",
        "id": "mEuPVnRDdGpu"
      },
      "cell_type": "markdown",
      "source": [
        "# Section 1:  Set up Pet Data\n",
        "\n"
      ]
    },
    {
      "metadata": {
        "colab_type": "text",
        "id": "YZ1dW8lJvScd"
      },
      "cell_type": "markdown",
      "source": [
        "### Set up the Input and output\n",
        "\n",
        "- Training data: Information on 14,993 pets up for adoption\n",
        "- Submission data: Information on 3,948 pets where we need to predict adoption time\n",
        "\n",
        "### NOTE: This dataset is somewhat large and loading it may take a minute or two \n"
      ]
    },
    {
      "metadata": {
        "colab_type": "code",
        "id": "Z_gd5XuZvScg",
        "outputId": "5be789e3-8ac7-49e1-f096-47722c9add04",
        "colab": {
          "base_uri": "https://localhost:8080/",
          "height": 52
        }
      },
      "cell_type": "code",
      "source": [
        "# Read data from the actual Kaggle download files stored in a raw file in GitHub\n",
        "github_folder = 'https://raw.githubusercontent.com/CIS3115-Machine-Learning-Scholastica/CIS3115ML-Units7and8/master/petfinder-adoption/'\n",
        "kaggle_folder = '../input/'\n",
        "\n",
        "data_folder = github_folder\n",
        "# Uncomment the next line to switch from using the github files to the kaggle files for a submission\n",
        "#data_folder = kaggle_folder\n",
        "\n",
        "train = pd.read_csv(data_folder + 'train/train.csv')\n",
        "submit = pd.read_csv(data_folder + 'test/test.csv')\n",
        "\n",
        "sample_submission = pd.read_csv(data_folder + 'test/sample_submission.csv')\n",
        "labels_breed = pd.read_csv(data_folder + 'breed_labels.csv')\n",
        "labels_color = pd.read_csv(data_folder + 'color_labels.csv')\n",
        "labels_state = pd.read_csv(data_folder + 'state_labels.csv')\n",
        "\n",
        "print (\"training data shape: \" ,train.shape)\n",
        "print (\"submission data shape: : \" ,submit.shape)"
      ],
      "execution_count": 107,
      "outputs": [
        {
          "output_type": "stream",
          "text": [
            "training data shape:  (14993, 24)\n",
            "submission data shape: :  (3948, 23)\n"
          ],
          "name": "stdout"
        }
      ]
    },
    {
      "metadata": {
        "id": "Rx9hBWGZihAo",
        "colab_type": "code",
        "colab": {}
      },
      "cell_type": "code",
      "source": [
        ""
      ],
      "execution_count": 0,
      "outputs": []
    },
    {
      "metadata": {
        "id": "3ZwZyUXT9eSg",
        "colab_type": "code",
        "outputId": "0771223d-5454-4108-a679-032e219a0d59",
        "colab": {
          "base_uri": "https://localhost:8080/",
          "height": 572
        }
      },
      "cell_type": "code",
      "source": [
        "train.head(5)"
      ],
      "execution_count": 108,
      "outputs": [
        {
          "output_type": "execute_result",
          "data": {
            "text/html": [
              "<div>\n",
              "<style scoped>\n",
              "    .dataframe tbody tr th:only-of-type {\n",
              "        vertical-align: middle;\n",
              "    }\n",
              "\n",
              "    .dataframe tbody tr th {\n",
              "        vertical-align: top;\n",
              "    }\n",
              "\n",
              "    .dataframe thead th {\n",
              "        text-align: right;\n",
              "    }\n",
              "</style>\n",
              "<table border=\"1\" class=\"dataframe\">\n",
              "  <thead>\n",
              "    <tr style=\"text-align: right;\">\n",
              "      <th></th>\n",
              "      <th>Type</th>\n",
              "      <th>Name</th>\n",
              "      <th>Age</th>\n",
              "      <th>Breed1</th>\n",
              "      <th>Breed2</th>\n",
              "      <th>Gender</th>\n",
              "      <th>Color1</th>\n",
              "      <th>Color2</th>\n",
              "      <th>Color3</th>\n",
              "      <th>MaturitySize</th>\n",
              "      <th>...</th>\n",
              "      <th>Health</th>\n",
              "      <th>Quantity</th>\n",
              "      <th>Fee</th>\n",
              "      <th>State</th>\n",
              "      <th>RescuerID</th>\n",
              "      <th>VideoAmt</th>\n",
              "      <th>Description</th>\n",
              "      <th>PetID</th>\n",
              "      <th>PhotoAmt</th>\n",
              "      <th>AdoptionSpeed</th>\n",
              "    </tr>\n",
              "  </thead>\n",
              "  <tbody>\n",
              "    <tr>\n",
              "      <th>0</th>\n",
              "      <td>2</td>\n",
              "      <td>Nibble</td>\n",
              "      <td>3</td>\n",
              "      <td>299</td>\n",
              "      <td>0</td>\n",
              "      <td>1</td>\n",
              "      <td>1</td>\n",
              "      <td>7</td>\n",
              "      <td>0</td>\n",
              "      <td>1</td>\n",
              "      <td>...</td>\n",
              "      <td>1</td>\n",
              "      <td>1</td>\n",
              "      <td>100</td>\n",
              "      <td>41326</td>\n",
              "      <td>8480853f516546f6cf33aa88cd76c379</td>\n",
              "      <td>0</td>\n",
              "      <td>Nibble is a 3+ month old ball of cuteness. He ...</td>\n",
              "      <td>86e1089a3</td>\n",
              "      <td>1.0</td>\n",
              "      <td>2</td>\n",
              "    </tr>\n",
              "    <tr>\n",
              "      <th>1</th>\n",
              "      <td>2</td>\n",
              "      <td>No Name Yet</td>\n",
              "      <td>1</td>\n",
              "      <td>265</td>\n",
              "      <td>0</td>\n",
              "      <td>1</td>\n",
              "      <td>1</td>\n",
              "      <td>2</td>\n",
              "      <td>0</td>\n",
              "      <td>2</td>\n",
              "      <td>...</td>\n",
              "      <td>1</td>\n",
              "      <td>1</td>\n",
              "      <td>0</td>\n",
              "      <td>41401</td>\n",
              "      <td>3082c7125d8fb66f7dd4bff4192c8b14</td>\n",
              "      <td>0</td>\n",
              "      <td>I just found it alone yesterday near my apartm...</td>\n",
              "      <td>6296e909a</td>\n",
              "      <td>2.0</td>\n",
              "      <td>0</td>\n",
              "    </tr>\n",
              "    <tr>\n",
              "      <th>2</th>\n",
              "      <td>1</td>\n",
              "      <td>Brisco</td>\n",
              "      <td>1</td>\n",
              "      <td>307</td>\n",
              "      <td>0</td>\n",
              "      <td>1</td>\n",
              "      <td>2</td>\n",
              "      <td>7</td>\n",
              "      <td>0</td>\n",
              "      <td>2</td>\n",
              "      <td>...</td>\n",
              "      <td>1</td>\n",
              "      <td>1</td>\n",
              "      <td>0</td>\n",
              "      <td>41326</td>\n",
              "      <td>fa90fa5b1ee11c86938398b60abc32cb</td>\n",
              "      <td>0</td>\n",
              "      <td>Their pregnant mother was dumped by her irresp...</td>\n",
              "      <td>3422e4906</td>\n",
              "      <td>7.0</td>\n",
              "      <td>3</td>\n",
              "    </tr>\n",
              "    <tr>\n",
              "      <th>3</th>\n",
              "      <td>1</td>\n",
              "      <td>Miko</td>\n",
              "      <td>4</td>\n",
              "      <td>307</td>\n",
              "      <td>0</td>\n",
              "      <td>2</td>\n",
              "      <td>1</td>\n",
              "      <td>2</td>\n",
              "      <td>0</td>\n",
              "      <td>2</td>\n",
              "      <td>...</td>\n",
              "      <td>1</td>\n",
              "      <td>1</td>\n",
              "      <td>150</td>\n",
              "      <td>41401</td>\n",
              "      <td>9238e4f44c71a75282e62f7136c6b240</td>\n",
              "      <td>0</td>\n",
              "      <td>Good guard dog, very alert, active, obedience ...</td>\n",
              "      <td>5842f1ff5</td>\n",
              "      <td>8.0</td>\n",
              "      <td>2</td>\n",
              "    </tr>\n",
              "    <tr>\n",
              "      <th>4</th>\n",
              "      <td>1</td>\n",
              "      <td>Hunter</td>\n",
              "      <td>1</td>\n",
              "      <td>307</td>\n",
              "      <td>0</td>\n",
              "      <td>1</td>\n",
              "      <td>1</td>\n",
              "      <td>0</td>\n",
              "      <td>0</td>\n",
              "      <td>2</td>\n",
              "      <td>...</td>\n",
              "      <td>1</td>\n",
              "      <td>1</td>\n",
              "      <td>0</td>\n",
              "      <td>41326</td>\n",
              "      <td>95481e953f8aed9ec3d16fc4509537e8</td>\n",
              "      <td>0</td>\n",
              "      <td>This handsome yet cute boy is up for adoption....</td>\n",
              "      <td>850a43f90</td>\n",
              "      <td>3.0</td>\n",
              "      <td>2</td>\n",
              "    </tr>\n",
              "  </tbody>\n",
              "</table>\n",
              "<p>5 rows × 24 columns</p>\n",
              "</div>"
            ],
            "text/plain": [
              "   Type         Name  Age  Breed1  Breed2  Gender  Color1  Color2  Color3  \\\n",
              "0     2       Nibble    3     299       0       1       1       7       0   \n",
              "1     2  No Name Yet    1     265       0       1       1       2       0   \n",
              "2     1       Brisco    1     307       0       1       2       7       0   \n",
              "3     1         Miko    4     307       0       2       1       2       0   \n",
              "4     1       Hunter    1     307       0       1       1       0       0   \n",
              "\n",
              "   MaturitySize      ...        Health  Quantity  Fee  State  \\\n",
              "0             1      ...             1         1  100  41326   \n",
              "1             2      ...             1         1    0  41401   \n",
              "2             2      ...             1         1    0  41326   \n",
              "3             2      ...             1         1  150  41401   \n",
              "4             2      ...             1         1    0  41326   \n",
              "\n",
              "                          RescuerID  VideoAmt  \\\n",
              "0  8480853f516546f6cf33aa88cd76c379         0   \n",
              "1  3082c7125d8fb66f7dd4bff4192c8b14         0   \n",
              "2  fa90fa5b1ee11c86938398b60abc32cb         0   \n",
              "3  9238e4f44c71a75282e62f7136c6b240         0   \n",
              "4  95481e953f8aed9ec3d16fc4509537e8         0   \n",
              "\n",
              "                                         Description      PetID PhotoAmt  \\\n",
              "0  Nibble is a 3+ month old ball of cuteness. He ...  86e1089a3      1.0   \n",
              "1  I just found it alone yesterday near my apartm...  6296e909a      2.0   \n",
              "2  Their pregnant mother was dumped by her irresp...  3422e4906      7.0   \n",
              "3  Good guard dog, very alert, active, obedience ...  5842f1ff5      8.0   \n",
              "4  This handsome yet cute boy is up for adoption....  850a43f90      3.0   \n",
              "\n",
              "   AdoptionSpeed  \n",
              "0              2  \n",
              "1              0  \n",
              "2              3  \n",
              "3              2  \n",
              "4              2  \n",
              "\n",
              "[5 rows x 24 columns]"
            ]
          },
          "metadata": {
            "tags": []
          },
          "execution_count": 108
        }
      ]
    },
    {
      "metadata": {
        "id": "OUDwOkl9PZde",
        "colab_type": "text"
      },
      "cell_type": "markdown",
      "source": [
        "## Task 2: Select features\n",
        "\n",
        "Select which pet features to include in the training data. You should also select the same features for the submission.\n",
        "\n",
        "Note, some features you may want to modify and you can add them in future cells."
      ]
    },
    {
      "metadata": {
        "id": "qvM7dhR59eSj",
        "colab_type": "code",
        "outputId": "8fcb693f-78f8-456c-da6a-0d962710f34f",
        "colab": {
          "base_uri": "https://localhost:8080/",
          "height": 70
        }
      },
      "cell_type": "code",
      "source": [
        "# Select which features to use\n",
        "pet_train = train[['Age','Gender','Health','MaturitySize']]\n",
        "# Everything we do to the training data we also should do the the submission data\n",
        "pet_submit = submit[['Age','Gender','Health','MaturitySize']]\n",
        "\n",
        "# Convert output to one-hot encoding\n",
        "pet_adopt_speed = to_categorical( train['AdoptionSpeed'] )\n",
        "\n",
        "print (\"pet_train data shape: \" ,pet_train.shape)\n",
        "print (\"pet_submit data shape: \" ,pet_submit.shape)\n",
        "print (\"pet_adopt_speed data shape: \" ,pet_adopt_speed.shape)\n"
      ],
      "execution_count": 113,
      "outputs": [
        {
          "output_type": "stream",
          "text": [
            "pet_train data shape:  (14993, 4)\n",
            "pet_submit data shape:  (3948, 4)\n",
            "pet_adopt_speed data shape:  (14993, 5)\n"
          ],
          "name": "stdout"
        }
      ]
    },
    {
      "metadata": {
        "id": "Lkkbh-5uQIwy",
        "colab_type": "text"
      },
      "cell_type": "markdown",
      "source": [
        "## Task 3: Modify some features\n",
        "\n",
        "Some features may need to be modified. For example, Vaccinated has values of  (1 = Yes, 2 = No, 3 = Not Sure) but this will confuse a neural network because these numbers are not relative to each other. So, Yes + 1 = No and No + 1 = Not Sure.\n",
        "\n",
        "Instead we will set No and Not Sure to 0 and Yes to 1.\n",
        "\n",
        "The following code defines a function to do this and then the map method applies this function to each pet's Vaccinated feature.\n",
        "\n",
        "Again, everything we do to the training data, we also need to do to the submission data."
      ]
    },
    {
      "metadata": {
        "id": "9OEJd-Fr9eSm",
        "colab_type": "code",
        "outputId": "25eeec08-7c4f-4b0c-c87e-9bc1c2833623",
        "colab": {
          "base_uri": "https://localhost:8080/",
          "height": 352
        }
      },
      "cell_type": "code",
      "source": [
        "# Vaccinated - Pet has been vaccinated (1 = Yes, 2 = No, 3 = Not Sure)\n",
        "#encodedVaccinated = train[['Vaccinated']] \n",
        "def fixVac( value ):\n",
        "    if value > 1: return 0\n",
        "    else: return value\n",
        "\n",
        "#train['encodedVaccinated'] = list(map(lambda a: 0 if (a>1) else a,train['Vaccinated']))\n",
        "pet_train['encodedVaccinated'] = list(map(fixVac,train['Vaccinated']))\n",
        "# Do the same thing to the submission data\n",
        "pet_submit['encodedVaccinated'] = list(map(fixVac,submit['Vaccinated']))\n",
        "\n",
        "pet_train.head(10)"
      ],
      "execution_count": 114,
      "outputs": [
        {
          "output_type": "execute_result",
          "data": {
            "text/html": [
              "<div>\n",
              "<style scoped>\n",
              "    .dataframe tbody tr th:only-of-type {\n",
              "        vertical-align: middle;\n",
              "    }\n",
              "\n",
              "    .dataframe tbody tr th {\n",
              "        vertical-align: top;\n",
              "    }\n",
              "\n",
              "    .dataframe thead th {\n",
              "        text-align: right;\n",
              "    }\n",
              "</style>\n",
              "<table border=\"1\" class=\"dataframe\">\n",
              "  <thead>\n",
              "    <tr style=\"text-align: right;\">\n",
              "      <th></th>\n",
              "      <th>Age</th>\n",
              "      <th>Gender</th>\n",
              "      <th>Health</th>\n",
              "      <th>MaturitySize</th>\n",
              "      <th>encodedVaccinated</th>\n",
              "    </tr>\n",
              "  </thead>\n",
              "  <tbody>\n",
              "    <tr>\n",
              "      <th>0</th>\n",
              "      <td>3</td>\n",
              "      <td>1</td>\n",
              "      <td>1</td>\n",
              "      <td>1</td>\n",
              "      <td>0</td>\n",
              "    </tr>\n",
              "    <tr>\n",
              "      <th>1</th>\n",
              "      <td>1</td>\n",
              "      <td>1</td>\n",
              "      <td>1</td>\n",
              "      <td>2</td>\n",
              "      <td>0</td>\n",
              "    </tr>\n",
              "    <tr>\n",
              "      <th>2</th>\n",
              "      <td>1</td>\n",
              "      <td>1</td>\n",
              "      <td>1</td>\n",
              "      <td>2</td>\n",
              "      <td>1</td>\n",
              "    </tr>\n",
              "    <tr>\n",
              "      <th>3</th>\n",
              "      <td>4</td>\n",
              "      <td>2</td>\n",
              "      <td>1</td>\n",
              "      <td>2</td>\n",
              "      <td>1</td>\n",
              "    </tr>\n",
              "    <tr>\n",
              "      <th>4</th>\n",
              "      <td>1</td>\n",
              "      <td>1</td>\n",
              "      <td>1</td>\n",
              "      <td>2</td>\n",
              "      <td>0</td>\n",
              "    </tr>\n",
              "    <tr>\n",
              "      <th>5</th>\n",
              "      <td>3</td>\n",
              "      <td>2</td>\n",
              "      <td>1</td>\n",
              "      <td>2</td>\n",
              "      <td>0</td>\n",
              "    </tr>\n",
              "    <tr>\n",
              "      <th>6</th>\n",
              "      <td>12</td>\n",
              "      <td>1</td>\n",
              "      <td>1</td>\n",
              "      <td>2</td>\n",
              "      <td>0</td>\n",
              "    </tr>\n",
              "    <tr>\n",
              "      <th>7</th>\n",
              "      <td>0</td>\n",
              "      <td>2</td>\n",
              "      <td>1</td>\n",
              "      <td>2</td>\n",
              "      <td>0</td>\n",
              "    </tr>\n",
              "    <tr>\n",
              "      <th>8</th>\n",
              "      <td>2</td>\n",
              "      <td>2</td>\n",
              "      <td>1</td>\n",
              "      <td>2</td>\n",
              "      <td>0</td>\n",
              "    </tr>\n",
              "    <tr>\n",
              "      <th>9</th>\n",
              "      <td>12</td>\n",
              "      <td>2</td>\n",
              "      <td>1</td>\n",
              "      <td>2</td>\n",
              "      <td>0</td>\n",
              "    </tr>\n",
              "  </tbody>\n",
              "</table>\n",
              "</div>"
            ],
            "text/plain": [
              "   Age  Gender  Health  MaturitySize  encodedVaccinated\n",
              "0    3       1       1             1                  0\n",
              "1    1       1       1             2                  0\n",
              "2    1       1       1             2                  1\n",
              "3    4       2       1             2                  1\n",
              "4    1       1       1             2                  0\n",
              "5    3       2       1             2                  0\n",
              "6   12       1       1             2                  0\n",
              "7    0       2       1             2                  0\n",
              "8    2       2       1             2                  0\n",
              "9   12       2       1             2                  0"
            ]
          },
          "metadata": {
            "tags": []
          },
          "execution_count": 114
        }
      ]
    },
    {
      "metadata": {
        "id": "C7XoT08lSRb0",
        "colab_type": "text"
      },
      "cell_type": "markdown",
      "source": [
        "## Task 4: Encode some features\n",
        "\n",
        "Some numeric features like color and breed are called categorical features. Even though they may be enoced as a number, the numbers do not relate numerically to each other. So if one dog has color 2 and  dog two has color 4, this does not mean dog two is twice as colorful as dog one. It only means that they have different colors. One might be light brown and the other gray.\n",
        "\n",
        "For neural networks it works better when encode categorical data as one-hot encoding. See [An Overview of Categorical Input Handling for Neural Networks](https://towardsdatascience.com/an-overview-of-categorical-input-handling-for-neural-networks-c172ba552dee) for more details.\n",
        "\n",
        "Since this is a common need, the pandas library has a built in method, [pandas.get_dummies](https://pandas.pydata.org/pandas-docs/stable/reference/api/pandas.get_dummies.html), for generating dummy variables based a categorical variable. For additional information on this, see \n",
        "[The Dummy’s Guide to Creating Dummy Variables](https://towardsdatascience.com/the-dummys-guide-to-creating-dummy-variables-f21faddb1d40)\n",
        "\n"
      ]
    },
    {
      "metadata": {
        "id": "UWKPFOra9eSo",
        "colab_type": "code",
        "outputId": "2dce4fd1-193b-4bbd-9fa4-5456b402c68c",
        "colab": {
          "base_uri": "https://localhost:8080/",
          "height": 235
        }
      },
      "cell_type": "code",
      "source": [
        "# Use get_dummies to create dummy variables of the Color1 feature\n",
        "encodedColor1 = pd.get_dummies( train['Color1'], prefix=\"color\" )\n",
        "\n",
        "# Add the new dummy variables to the pet_train data frame\n",
        "pet_train = pd.concat([pet_train, encodedColor1], axis='columns')\n",
        "# Do the same thing to the submission data\n",
        "encodedColor2 = pd.get_dummies( submit['Color1'], prefix=\"color\" )\n",
        "pet_submit = pd.concat([pet_submit, encodedColor2], axis='columns')\n",
        "\n",
        "# print out the current data\n",
        "print (\"Size of pet_train = \", pet_train.shape)\n",
        "print (\"Size of pet_submit = \", pet_submit.shape)\n",
        "pet_train.head(5)\n"
      ],
      "execution_count": 115,
      "outputs": [
        {
          "output_type": "stream",
          "text": [
            "Size of pet_train =  (14993, 12)\n",
            "Size of pet_submit =  (3948, 12)\n"
          ],
          "name": "stdout"
        },
        {
          "output_type": "execute_result",
          "data": {
            "text/html": [
              "<div>\n",
              "<style scoped>\n",
              "    .dataframe tbody tr th:only-of-type {\n",
              "        vertical-align: middle;\n",
              "    }\n",
              "\n",
              "    .dataframe tbody tr th {\n",
              "        vertical-align: top;\n",
              "    }\n",
              "\n",
              "    .dataframe thead th {\n",
              "        text-align: right;\n",
              "    }\n",
              "</style>\n",
              "<table border=\"1\" class=\"dataframe\">\n",
              "  <thead>\n",
              "    <tr style=\"text-align: right;\">\n",
              "      <th></th>\n",
              "      <th>Age</th>\n",
              "      <th>Gender</th>\n",
              "      <th>Health</th>\n",
              "      <th>MaturitySize</th>\n",
              "      <th>encodedVaccinated</th>\n",
              "      <th>color_1</th>\n",
              "      <th>color_2</th>\n",
              "      <th>color_3</th>\n",
              "      <th>color_4</th>\n",
              "      <th>color_5</th>\n",
              "      <th>color_6</th>\n",
              "      <th>color_7</th>\n",
              "    </tr>\n",
              "  </thead>\n",
              "  <tbody>\n",
              "    <tr>\n",
              "      <th>0</th>\n",
              "      <td>3</td>\n",
              "      <td>1</td>\n",
              "      <td>1</td>\n",
              "      <td>1</td>\n",
              "      <td>0</td>\n",
              "      <td>1</td>\n",
              "      <td>0</td>\n",
              "      <td>0</td>\n",
              "      <td>0</td>\n",
              "      <td>0</td>\n",
              "      <td>0</td>\n",
              "      <td>0</td>\n",
              "    </tr>\n",
              "    <tr>\n",
              "      <th>1</th>\n",
              "      <td>1</td>\n",
              "      <td>1</td>\n",
              "      <td>1</td>\n",
              "      <td>2</td>\n",
              "      <td>0</td>\n",
              "      <td>1</td>\n",
              "      <td>0</td>\n",
              "      <td>0</td>\n",
              "      <td>0</td>\n",
              "      <td>0</td>\n",
              "      <td>0</td>\n",
              "      <td>0</td>\n",
              "    </tr>\n",
              "    <tr>\n",
              "      <th>2</th>\n",
              "      <td>1</td>\n",
              "      <td>1</td>\n",
              "      <td>1</td>\n",
              "      <td>2</td>\n",
              "      <td>1</td>\n",
              "      <td>0</td>\n",
              "      <td>1</td>\n",
              "      <td>0</td>\n",
              "      <td>0</td>\n",
              "      <td>0</td>\n",
              "      <td>0</td>\n",
              "      <td>0</td>\n",
              "    </tr>\n",
              "    <tr>\n",
              "      <th>3</th>\n",
              "      <td>4</td>\n",
              "      <td>2</td>\n",
              "      <td>1</td>\n",
              "      <td>2</td>\n",
              "      <td>1</td>\n",
              "      <td>1</td>\n",
              "      <td>0</td>\n",
              "      <td>0</td>\n",
              "      <td>0</td>\n",
              "      <td>0</td>\n",
              "      <td>0</td>\n",
              "      <td>0</td>\n",
              "    </tr>\n",
              "    <tr>\n",
              "      <th>4</th>\n",
              "      <td>1</td>\n",
              "      <td>1</td>\n",
              "      <td>1</td>\n",
              "      <td>2</td>\n",
              "      <td>0</td>\n",
              "      <td>1</td>\n",
              "      <td>0</td>\n",
              "      <td>0</td>\n",
              "      <td>0</td>\n",
              "      <td>0</td>\n",
              "      <td>0</td>\n",
              "      <td>0</td>\n",
              "    </tr>\n",
              "  </tbody>\n",
              "</table>\n",
              "</div>"
            ],
            "text/plain": [
              "   Age  Gender  Health  MaturitySize  encodedVaccinated  color_1  color_2  \\\n",
              "0    3       1       1             1                  0        1        0   \n",
              "1    1       1       1             2                  0        1        0   \n",
              "2    1       1       1             2                  1        0        1   \n",
              "3    4       2       1             2                  1        1        0   \n",
              "4    1       1       1             2                  0        1        0   \n",
              "\n",
              "   color_3  color_4  color_5  color_6  color_7  \n",
              "0        0        0        0        0        0  \n",
              "1        0        0        0        0        0  \n",
              "2        0        0        0        0        0  \n",
              "3        0        0        0        0        0  \n",
              "4        0        0        0        0        0  "
            ]
          },
          "metadata": {
            "tags": []
          },
          "execution_count": 115
        }
      ]
    },
    {
      "metadata": {
        "id": "WDRnKHZh5eMG",
        "colab_type": "text"
      },
      "cell_type": "markdown",
      "source": [
        "### Encode multiple features\n",
        "\n",
        "If you have multiple features you can use the following code to convert a list of features into one-hot encoded dummy features\n"
      ]
    },
    {
      "metadata": {
        "id": "gYOHCyLA5fgZ",
        "colab_type": "code",
        "colab": {}
      },
      "cell_type": "code",
      "source": [
        ""
      ],
      "execution_count": 0,
      "outputs": []
    },
    {
      "metadata": {
        "id": "N2WObN0q44FT",
        "colab_type": "code",
        "colab": {
          "base_uri": "https://localhost:8080/",
          "height": 284
        },
        "outputId": "625363f9-456c-42e4-cdef-8de9048cfe9c"
      },
      "cell_type": "code",
      "source": [
        "cat_columns = ['Breed1','Breed2','FurLength','Dewormed']\n",
        "\n",
        "# Create the dummy variables for the columns listed above\n",
        "dfTemp = pd.get_dummies( train[cat_columns], columns=cat_columns )\n",
        "pet_train = pd.concat([pet_train, dfTemp], axis='columns')\n",
        "\n",
        "# Do the same to the submission data\n",
        "dfSummit = pd.get_dummies( submit[cat_columns], columns=cat_columns )\n",
        "pet_submit = pd.concat([pet_submit, dfSummit], axis='columns')\n",
        "# Get missing columns in the submission data\n",
        "missing_cols = set( pet_train.columns ) - set( pet_submit.columns )\n",
        "# Add a missing column to the submission set with default value equal to 0\n",
        "for c in missing_cols:\n",
        "    pet_submit[c] = 0\n",
        "# Ensure the order of column in the test set is in the same order than in train set\n",
        "pet_submit = pet_submit[pet_train.columns]\n",
        "\n",
        "\n",
        "\n",
        "\n",
        "# print out the current data\n",
        "print (\"Size of pet_train = \", pet_train.shape)\n",
        "print (\"Size of pet_submit = \", pet_submit.shape)\n",
        "pet_train.head(5)"
      ],
      "execution_count": 116,
      "outputs": [
        {
          "output_type": "stream",
          "text": [
            "Size of pet_train =  (14993, 329)\n",
            "Size of pet_submit =  (3948, 329)\n"
          ],
          "name": "stdout"
        },
        {
          "output_type": "execute_result",
          "data": {
            "text/html": [
              "<div>\n",
              "<style scoped>\n",
              "    .dataframe tbody tr th:only-of-type {\n",
              "        vertical-align: middle;\n",
              "    }\n",
              "\n",
              "    .dataframe tbody tr th {\n",
              "        vertical-align: top;\n",
              "    }\n",
              "\n",
              "    .dataframe thead th {\n",
              "        text-align: right;\n",
              "    }\n",
              "</style>\n",
              "<table border=\"1\" class=\"dataframe\">\n",
              "  <thead>\n",
              "    <tr style=\"text-align: right;\">\n",
              "      <th></th>\n",
              "      <th>Age</th>\n",
              "      <th>Gender</th>\n",
              "      <th>Health</th>\n",
              "      <th>MaturitySize</th>\n",
              "      <th>encodedVaccinated</th>\n",
              "      <th>color_1</th>\n",
              "      <th>color_2</th>\n",
              "      <th>color_3</th>\n",
              "      <th>color_4</th>\n",
              "      <th>color_5</th>\n",
              "      <th>...</th>\n",
              "      <th>Breed2_304</th>\n",
              "      <th>Breed2_305</th>\n",
              "      <th>Breed2_306</th>\n",
              "      <th>Breed2_307</th>\n",
              "      <th>FurLength_1</th>\n",
              "      <th>FurLength_2</th>\n",
              "      <th>FurLength_3</th>\n",
              "      <th>Dewormed_1</th>\n",
              "      <th>Dewormed_2</th>\n",
              "      <th>Dewormed_3</th>\n",
              "    </tr>\n",
              "  </thead>\n",
              "  <tbody>\n",
              "    <tr>\n",
              "      <th>0</th>\n",
              "      <td>3</td>\n",
              "      <td>1</td>\n",
              "      <td>1</td>\n",
              "      <td>1</td>\n",
              "      <td>0</td>\n",
              "      <td>1</td>\n",
              "      <td>0</td>\n",
              "      <td>0</td>\n",
              "      <td>0</td>\n",
              "      <td>0</td>\n",
              "      <td>...</td>\n",
              "      <td>0</td>\n",
              "      <td>0</td>\n",
              "      <td>0</td>\n",
              "      <td>0</td>\n",
              "      <td>1</td>\n",
              "      <td>0</td>\n",
              "      <td>0</td>\n",
              "      <td>0</td>\n",
              "      <td>1</td>\n",
              "      <td>0</td>\n",
              "    </tr>\n",
              "    <tr>\n",
              "      <th>1</th>\n",
              "      <td>1</td>\n",
              "      <td>1</td>\n",
              "      <td>1</td>\n",
              "      <td>2</td>\n",
              "      <td>0</td>\n",
              "      <td>1</td>\n",
              "      <td>0</td>\n",
              "      <td>0</td>\n",
              "      <td>0</td>\n",
              "      <td>0</td>\n",
              "      <td>...</td>\n",
              "      <td>0</td>\n",
              "      <td>0</td>\n",
              "      <td>0</td>\n",
              "      <td>0</td>\n",
              "      <td>0</td>\n",
              "      <td>1</td>\n",
              "      <td>0</td>\n",
              "      <td>0</td>\n",
              "      <td>0</td>\n",
              "      <td>1</td>\n",
              "    </tr>\n",
              "    <tr>\n",
              "      <th>2</th>\n",
              "      <td>1</td>\n",
              "      <td>1</td>\n",
              "      <td>1</td>\n",
              "      <td>2</td>\n",
              "      <td>1</td>\n",
              "      <td>0</td>\n",
              "      <td>1</td>\n",
              "      <td>0</td>\n",
              "      <td>0</td>\n",
              "      <td>0</td>\n",
              "      <td>...</td>\n",
              "      <td>0</td>\n",
              "      <td>0</td>\n",
              "      <td>0</td>\n",
              "      <td>0</td>\n",
              "      <td>0</td>\n",
              "      <td>1</td>\n",
              "      <td>0</td>\n",
              "      <td>1</td>\n",
              "      <td>0</td>\n",
              "      <td>0</td>\n",
              "    </tr>\n",
              "    <tr>\n",
              "      <th>3</th>\n",
              "      <td>4</td>\n",
              "      <td>2</td>\n",
              "      <td>1</td>\n",
              "      <td>2</td>\n",
              "      <td>1</td>\n",
              "      <td>1</td>\n",
              "      <td>0</td>\n",
              "      <td>0</td>\n",
              "      <td>0</td>\n",
              "      <td>0</td>\n",
              "      <td>...</td>\n",
              "      <td>0</td>\n",
              "      <td>0</td>\n",
              "      <td>0</td>\n",
              "      <td>0</td>\n",
              "      <td>1</td>\n",
              "      <td>0</td>\n",
              "      <td>0</td>\n",
              "      <td>1</td>\n",
              "      <td>0</td>\n",
              "      <td>0</td>\n",
              "    </tr>\n",
              "    <tr>\n",
              "      <th>4</th>\n",
              "      <td>1</td>\n",
              "      <td>1</td>\n",
              "      <td>1</td>\n",
              "      <td>2</td>\n",
              "      <td>0</td>\n",
              "      <td>1</td>\n",
              "      <td>0</td>\n",
              "      <td>0</td>\n",
              "      <td>0</td>\n",
              "      <td>0</td>\n",
              "      <td>...</td>\n",
              "      <td>0</td>\n",
              "      <td>0</td>\n",
              "      <td>0</td>\n",
              "      <td>0</td>\n",
              "      <td>1</td>\n",
              "      <td>0</td>\n",
              "      <td>0</td>\n",
              "      <td>0</td>\n",
              "      <td>1</td>\n",
              "      <td>0</td>\n",
              "    </tr>\n",
              "  </tbody>\n",
              "</table>\n",
              "<p>5 rows × 329 columns</p>\n",
              "</div>"
            ],
            "text/plain": [
              "   Age  Gender  Health  MaturitySize  encodedVaccinated  color_1  color_2  \\\n",
              "0    3       1       1             1                  0        1        0   \n",
              "1    1       1       1             2                  0        1        0   \n",
              "2    1       1       1             2                  1        0        1   \n",
              "3    4       2       1             2                  1        1        0   \n",
              "4    1       1       1             2                  0        1        0   \n",
              "\n",
              "   color_3  color_4  color_5     ...      Breed2_304  Breed2_305  Breed2_306  \\\n",
              "0        0        0        0     ...               0           0           0   \n",
              "1        0        0        0     ...               0           0           0   \n",
              "2        0        0        0     ...               0           0           0   \n",
              "3        0        0        0     ...               0           0           0   \n",
              "4        0        0        0     ...               0           0           0   \n",
              "\n",
              "   Breed2_307  FurLength_1  FurLength_2  FurLength_3  Dewormed_1  Dewormed_2  \\\n",
              "0           0            1            0            0           0           1   \n",
              "1           0            0            1            0           0           0   \n",
              "2           0            0            1            0           1           0   \n",
              "3           0            1            0            0           1           0   \n",
              "4           0            1            0            0           0           1   \n",
              "\n",
              "   Dewormed_3  \n",
              "0           0  \n",
              "1           1  \n",
              "2           0  \n",
              "3           0  \n",
              "4           0  \n",
              "\n",
              "[5 rows x 329 columns]"
            ]
          },
          "metadata": {
            "tags": []
          },
          "execution_count": 116
        }
      ]
    },
    {
      "metadata": {
        "id": "O-7_xF5L42yG",
        "colab_type": "text"
      },
      "cell_type": "markdown",
      "source": [
        ""
      ]
    },
    {
      "metadata": {
        "id": "yAHNOrk49eSr",
        "colab_type": "code",
        "outputId": "2e3f2506-cfa5-4355-b0c2-a1e06be52632",
        "colab": {
          "base_uri": "https://localhost:8080/",
          "height": 70
        }
      },
      "cell_type": "code",
      "source": [
        "print (\"pet_train data shape: \" ,pet_train.shape)\n",
        "print (\"pet_adopt_speed data shape: \" ,pet_adopt_speed.shape)\n",
        "print (\"pet_submit data shape: \" ,pet_submit.shape)\n"
      ],
      "execution_count": 117,
      "outputs": [
        {
          "output_type": "stream",
          "text": [
            "pet_train data shape:  (14993, 329)\n",
            "pet_adopt_speed data shape:  (14993, 5)\n",
            "pet_submit data shape:  (3948, 329)\n"
          ],
          "name": "stdout"
        }
      ]
    },
    {
      "metadata": {
        "id": "a_XBCy6SSq_l",
        "colab_type": "text"
      },
      "cell_type": "markdown",
      "source": [
        "\n",
        "### Scale and Split the data\n",
        "\n",
        "**Scale Data:** Neural Networks work best with the inputs are between 0 and +1, but the grayscale images have pixel values between 0 and 255. So, each pixel value is divided by 255 to scale it.\n",
        "\n",
        "**Submission: ** We do the same thing for the submission data\n",
        "\n",
        "**Split the Data:** The training data is split with 90% used for training and 10% used for testing."
      ]
    },
    {
      "metadata": {
        "id": "RlQcJg04CtGO",
        "colab_type": "code",
        "outputId": "d7baec6d-610c-41bf-85cd-ed6c34acee24",
        "colab": {
          "base_uri": "https://localhost:8080/",
          "height": 248
        }
      },
      "cell_type": "code",
      "source": [
        "# Scale the data to put large features like area_mean on the same footing as small features like smoothness_mean\n",
        "from sklearn.preprocessing import MinMaxScaler, StandardScaler\n",
        "scaler = StandardScaler()\n",
        "pet_train_scaled = scaler.fit_transform(pet_train)\n",
        "pet_submit_scaled = scaler.fit_transform(pet_submit)\n",
        "\n",
        "pet_train_scaled"
      ],
      "execution_count": 118,
      "outputs": [
        {
          "output_type": "execute_result",
          "data": {
            "text/plain": [
              "array([[-0.41046553, -1.13878681, -0.18351784, ..., -1.12829263,\n",
              "         1.45389512, -0.3671535 ],\n",
              "       [-0.5206269 , -1.13878681, -0.18351784, ..., -1.12829263,\n",
              "        -0.68780752,  2.72365643],\n",
              "       [-0.5206269 , -1.13878681, -0.18351784, ...,  0.88629489,\n",
              "        -0.68780752, -0.3671535 ],\n",
              "       ...,\n",
              "       [-0.46554622,  1.79561735, -0.18351784, ...,  0.88629489,\n",
              "        -0.68780752, -0.3671535 ],\n",
              "       [-0.07998143,  0.32841527, -0.18351784, ...,  0.88629489,\n",
              "        -0.68780752, -0.3671535 ],\n",
              "       [-0.5206269 , -1.13878681, -0.18351784, ..., -1.12829263,\n",
              "         1.45389512, -0.3671535 ]])"
            ]
          },
          "metadata": {
            "tags": []
          },
          "execution_count": 118
        }
      ]
    },
    {
      "metadata": {
        "id": "XbkB0OYe9eSw",
        "colab_type": "code",
        "outputId": "e2c7ff38-454f-410d-a013-38ae8beb7cd6",
        "colab": {
          "base_uri": "https://localhost:8080/",
          "height": 88
        }
      },
      "cell_type": "code",
      "source": [
        "# Split the data into 80% for training and 10% for testing out the models\n",
        "X_train, X_test, y_train, y_test = train_test_split(pet_train_scaled, pet_adopt_speed, test_size=0.1)\n",
        "\n",
        "print (\"X_train training data shape of 28x28 pixels greyscale: \" ,X_train.shape)\n",
        "print (\"X_test submission data shape of 28x28 pixels greyscale: : \" ,X_test.shape)\n",
        "\n",
        "print (\"y_train training data shape of 28x28 pixels greyscale: \" ,y_train.shape)\n",
        "print (\"y_test submission data shape of 28x28 pixels greyscale: : \" ,y_test.shape)"
      ],
      "execution_count": 119,
      "outputs": [
        {
          "output_type": "stream",
          "text": [
            "X_train training data shape of 28x28 pixels greyscale:  (13493, 329)\n",
            "X_test submission data shape of 28x28 pixels greyscale: :  (1500, 329)\n",
            "y_train training data shape of 28x28 pixels greyscale:  (13493, 5)\n",
            "y_test submission data shape of 28x28 pixels greyscale: :  (1500, 5)\n"
          ],
          "name": "stdout"
        }
      ]
    },
    {
      "metadata": {
        "colab_type": "text",
        "id": "hwoi3GqJvSdG"
      },
      "cell_type": "markdown",
      "source": [
        "### Neural Network\n",
        "\n",
        "Set up the layers of the Neural Network\n",
        "\n",
        "One possibly configuration would be:\n",
        "\n",
        "```\n",
        "NN = Sequential()\n",
        "NN.add(Dense(20, activation='relu', input_dim=(input_Size)))\n",
        "NN.add(Dense(10, activation='relu'))\n",
        "NN.add(Dropout(0.3))\n",
        "NN.add(Dense(10, activation='relu'))\n",
        "NN.add(Dense(output_Size, activation='softmax'))\n",
        "```\n",
        "\n",
        "Though you should try your own configuration. We will eventually look at networks of 50+ layers, but for now I suggest you limit yourself to 3-5 hidden layers. \n",
        "\n",
        "\n",
        "*Note: You should not change the input or output layers, they are fixed by our problem definition*"
      ]
    },
    {
      "metadata": {
        "colab_type": "code",
        "id": "M1H9GVNvvSdM",
        "colab": {}
      },
      "cell_type": "code",
      "source": [
        "# Set up the Neural Network\n",
        "input_Size = X_test.shape[1]     # This is the number of features you selected for each pet\n",
        "output_Size = y_train.shape[1]   # This is the number of categories for adoption speed, should be 5\n",
        "\n",
        "NN = Sequential()\n",
        "NN.add(Dense(20, activation='relu', input_dim=(input_Size)))\n",
        "#NN.add(Dropout(0.3))\n",
        "NN.add(Dense(10, activation='relu'))\n",
        "NN.add(Dense(output_Size, activation='softmax'))\n",
        "\n",
        "# Compile neural network model\n",
        "NN.compile(optimizer='adam', loss='categorical_crossentropy', metrics=['accuracy'])"
      ],
      "execution_count": 0,
      "outputs": []
    },
    {
      "metadata": {
        "colab_type": "text",
        "id": "LT2ZSVeXvSdo"
      },
      "cell_type": "markdown",
      "source": [
        "### Callbacks\n",
        "\n",
        "-  [ReduceLROnPlateau](https://keras.io/callbacks/#reducelronplateau). \n",
        "\n",
        "-  [EarlyStopping callback](https://keras.io/callbacks/#earlystopping) \n",
        "\n",
        "-  [ModelCheckpoint callback](https://keras.io/callbacks/#modelcheckpoint) "
      ]
    },
    {
      "metadata": {
        "colab_type": "code",
        "id": "U-k7Y9H-2wUr",
        "colab": {}
      },
      "cell_type": "code",
      "source": [
        "from keras.callbacks import ReduceLROnPlateau, EarlyStopping, ModelCheckpoint\n",
        "\n",
        "learning_rate_reduction = ReduceLROnPlateau(monitor='val_loss', \n",
        "                                            patience=5, \n",
        "                                            verbose=2, \n",
        "                                            factor=0.5,                                            \n",
        "                                            min_lr=0.000001)\n",
        "\n",
        "early_stops = EarlyStopping(monitor='val_loss', \n",
        "                            min_delta=0, \n",
        "                            patience=20, \n",
        "                            verbose=2, \n",
        "                            mode='auto')\n",
        "\n",
        "checkpointer = ModelCheckpoint(filepath = 'cis3115_MNIST.{epoch:02d}-{accuracy:.6f}.hdf5',\n",
        "                               verbose=2,\n",
        "                               save_best_only=True, \n",
        "                               save_weights_only = True)\n"
      ],
      "execution_count": 0,
      "outputs": []
    },
    {
      "metadata": {
        "id": "3Tfrh9G5bYXl",
        "colab_type": "text"
      },
      "cell_type": "markdown",
      "source": [
        "### Train the Neural Network\n",
        "\n",
        "This is why we are only using 10 epochs initially, but you should consider running more epochs"
      ]
    },
    {
      "metadata": {
        "colab_type": "code",
        "id": "pMeiCJoZvSd6",
        "outputId": "142e66b6-17be-427a-e18e-584531434c1e",
        "colab": {
          "base_uri": "https://localhost:8080/",
          "height": 426
        }
      },
      "cell_type": "code",
      "source": [
        "# Fit model on training data for network with dense input layer\n",
        "\n",
        "history = NN.fit(X_train, y_train,\n",
        "          epochs=10,\n",
        "          verbose=1,\n",
        "          callbacks=[learning_rate_reduction, early_stops],\n",
        "          validation_data=(X_test, y_test))\n"
      ],
      "execution_count": 122,
      "outputs": [
        {
          "output_type": "stream",
          "text": [
            "Train on 13493 samples, validate on 1500 samples\n",
            "Epoch 1/10\n",
            "13493/13493 [==============================] - 1s 85us/step - loss: 1.6227 - acc: 0.2835 - val_loss: 1.4780 - val_acc: 0.3313\n",
            "Epoch 2/10\n",
            "13493/13493 [==============================] - 1s 50us/step - loss: 1.4403 - acc: 0.3393 - val_loss: 1.4426 - val_acc: 0.3407\n",
            "Epoch 3/10\n",
            "13493/13493 [==============================] - 1s 50us/step - loss: 1.4004 - acc: 0.3578 - val_loss: 1.4260 - val_acc: 0.3560\n",
            "Epoch 4/10\n",
            "13493/13493 [==============================] - 1s 49us/step - loss: 1.3797 - acc: 0.3717 - val_loss: 1.4267 - val_acc: 0.3700\n",
            "Epoch 5/10\n",
            "13493/13493 [==============================] - 1s 49us/step - loss: 1.3668 - acc: 0.3788 - val_loss: 1.4282 - val_acc: 0.3707\n",
            "Epoch 6/10\n",
            "13493/13493 [==============================] - 1s 49us/step - loss: 1.3572 - acc: 0.3893 - val_loss: 1.4273 - val_acc: 0.3733\n",
            "Epoch 7/10\n",
            "13493/13493 [==============================] - 1s 49us/step - loss: 1.3488 - acc: 0.3938 - val_loss: 1.4377 - val_acc: 0.3627\n",
            "Epoch 8/10\n",
            "13493/13493 [==============================] - 1s 49us/step - loss: 1.3412 - acc: 0.3971 - val_loss: 1.4381 - val_acc: 0.3673\n",
            "\n",
            "Epoch 00008: ReduceLROnPlateau reducing learning rate to 0.0005000000237487257.\n",
            "Epoch 9/10\n",
            "13493/13493 [==============================] - 1s 49us/step - loss: 1.3273 - acc: 0.4082 - val_loss: 1.4395 - val_acc: 0.3767\n",
            "Epoch 10/10\n",
            "13493/13493 [==============================] - 1s 49us/step - loss: 1.3229 - acc: 0.4135 - val_loss: 1.4418 - val_acc: 0.3740\n"
          ],
          "name": "stdout"
        }
      ]
    },
    {
      "metadata": {
        "colab_type": "code",
        "id": "J_2GLi6avSeF",
        "colab": {}
      },
      "cell_type": "code",
      "source": [
        ""
      ],
      "execution_count": 0,
      "outputs": []
    },
    {
      "metadata": {
        "colab_type": "code",
        "id": "Y965DSk5vSeJ",
        "outputId": "ef3e9372-c195-4434-87aa-3bdb0750a220",
        "colab": {
          "base_uri": "https://localhost:8080/",
          "height": 70
        }
      },
      "cell_type": "code",
      "source": [
        "# 10. Evaluate model on test data\n",
        "print (\"Running final scoring on test data\")\n",
        "score = NN.evaluate(X_test, y_test, verbose=1)\n",
        "print (\"The accuracy for this model is \", format(score[1], \",.2f\"))"
      ],
      "execution_count": 123,
      "outputs": [
        {
          "output_type": "stream",
          "text": [
            "Running final scoring on test data\n",
            "1500/1500 [==============================] - 0s 28us/step\n",
            "The accuracy for this model is  0.37\n"
          ],
          "name": "stdout"
        }
      ]
    },
    {
      "metadata": {
        "colab_type": "text",
        "id": "KJiV__LbvSeO"
      },
      "cell_type": "markdown",
      "source": [
        "## Plot the Training History\n",
        "\n",
        "We store the performance during training is a variable named 'history'. The x-axis is the training time or number of epochs.\n",
        "\n",
        "- Accuracy: Accuracy of the predictions, hopefully this is increasing to near 1.0\n",
        "- Loss: How close the output is to the desired output, this should decrease to near 0.0"
      ]
    },
    {
      "metadata": {
        "colab_type": "code",
        "id": "EsT7FG9SvSeP",
        "outputId": "79ed91a5-01dc-45bb-d1cf-5b0fcaa6afb2",
        "colab": {
          "base_uri": "https://localhost:8080/",
          "height": 362
        }
      },
      "cell_type": "code",
      "source": [
        "# Plot the loss and accuracy curves for training and validation \n",
        "fig, ax = plt.subplots(2,1)\n",
        "\n",
        "ax[0].plot(history.history['acc'], color='b', label=\"Training accuracy\")\n",
        "ax[0].plot(history.history['val_acc'], color='r',label=\"Testing accuracy\")\n",
        "ax[0].set_title(\"Accruacy\")\n",
        "legend = ax[0].legend(loc='best', shadow=True)\n",
        "ax[0].set_ylim([0, 1])\n",
        "              \n",
        "ax[1].plot(history.history['loss'], color='b', label=\"Training loss\")\n",
        "ax[1].plot(history.history['val_loss'], color='r', label=\"Testing loss\",axes =ax[1])\n",
        "ax[1].set_title(\"Loss\")\n",
        "legend = ax[1].legend(loc='best', shadow=True)\n"
      ],
      "execution_count": 124,
      "outputs": [
        {
          "output_type": "display_data",
          "data": {
            "image/png": "[encoded data removed]",
            "text/plain": [
              "<Figure size 576x396 with 2 Axes>"
            ]
          },
          "metadata": {
            "tags": []
          }
        }
      ]
    },
    {
      "metadata": {
        "colab_type": "text",
        "id": "xAHcXCEcfzIL"
      },
      "cell_type": "markdown",
      "source": [
        "# Section 2: Create the Submission for Kaggle\n",
        "\n",
        "The following code generates a file named submission.csv for the [PetFinder.my Adoption Prediction challenge on Kaggle](https://www.kaggle.com/c/petfinder-adoption-prediction).\n",
        "\n",
        "Once you have this notebook working, you must load it up as a kernel in the Kaggle challenge.\n",
        "\n",
        "\n",
        "\n",
        "\n",
        "\n"
      ]
    },
    {
      "metadata": {
        "id": "R_vn3B18-Adk",
        "colab_type": "code",
        "colab": {
          "base_uri": "https://localhost:8080/",
          "height": 70
        },
        "outputId": "296b41ec-2d5d-4ecf-85d9-ee849a21c008"
      },
      "cell_type": "code",
      "source": [
        "print (\"pet_train data shape: \" ,pet_train.shape)\n",
        "print (\"submit data shape: \" ,submit.shape)\n",
        "print (\"pet_submit data shape: \" ,pet_submit_scaled.shape)\n"
      ],
      "execution_count": 125,
      "outputs": [
        {
          "output_type": "stream",
          "text": [
            "pet_train data shape:  (14993, 329)\n",
            "submit data shape:  (3948, 23)\n",
            "pet_submit data shape:  (3948, 329)\n"
          ],
          "name": "stdout"
        }
      ]
    },
    {
      "metadata": {
        "id": "NKSi64z70XNv",
        "colab_type": "code",
        "outputId": "ce2e0455-c702-4aa8-8c9a-94dd76b1a3d6",
        "colab": {
          "base_uri": "https://localhost:8080/",
          "height": 370
        }
      },
      "cell_type": "code",
      "source": [
        "predictions = NN.predict_classes(pet_submit_scaled, verbose=1)\n",
        "\n",
        "submissions=pd.DataFrame({'PetID': submit.PetID})\n",
        "submissions['AdoptionSpeed'] = predictions\n",
        "\n",
        "submissions.to_csv(\"submission.csv\", index=False, header=True)\n",
        "\n",
        "submissions.head(10)"
      ],
      "execution_count": 126,
      "outputs": [
        {
          "output_type": "stream",
          "text": [
            "3948/3948 [==============================] - 0s 57us/step\n"
          ],
          "name": "stdout"
        },
        {
          "output_type": "execute_result",
          "data": {
            "text/html": [
              "<div>\n",
              "<style scoped>\n",
              "    .dataframe tbody tr th:only-of-type {\n",
              "        vertical-align: middle;\n",
              "    }\n",
              "\n",
              "    .dataframe tbody tr th {\n",
              "        vertical-align: top;\n",
              "    }\n",
              "\n",
              "    .dataframe thead th {\n",
              "        text-align: right;\n",
              "    }\n",
              "</style>\n",
              "<table border=\"1\" class=\"dataframe\">\n",
              "  <thead>\n",
              "    <tr style=\"text-align: right;\">\n",
              "      <th></th>\n",
              "      <th>PetID</th>\n",
              "      <th>AdoptionSpeed</th>\n",
              "    </tr>\n",
              "  </thead>\n",
              "  <tbody>\n",
              "    <tr>\n",
              "      <th>0</th>\n",
              "      <td>378fcc4fc</td>\n",
              "      <td>2</td>\n",
              "    </tr>\n",
              "    <tr>\n",
              "      <th>1</th>\n",
              "      <td>73c10e136</td>\n",
              "      <td>4</td>\n",
              "    </tr>\n",
              "    <tr>\n",
              "      <th>2</th>\n",
              "      <td>72000c4c5</td>\n",
              "      <td>4</td>\n",
              "    </tr>\n",
              "    <tr>\n",
              "      <th>3</th>\n",
              "      <td>e147a4b9f</td>\n",
              "      <td>4</td>\n",
              "    </tr>\n",
              "    <tr>\n",
              "      <th>4</th>\n",
              "      <td>43fbba852</td>\n",
              "      <td>4</td>\n",
              "    </tr>\n",
              "    <tr>\n",
              "      <th>5</th>\n",
              "      <td>77a490ec9</td>\n",
              "      <td>1</td>\n",
              "    </tr>\n",
              "    <tr>\n",
              "      <th>6</th>\n",
              "      <td>28c4b1b13</td>\n",
              "      <td>4</td>\n",
              "    </tr>\n",
              "    <tr>\n",
              "      <th>7</th>\n",
              "      <td>d1eada628</td>\n",
              "      <td>4</td>\n",
              "    </tr>\n",
              "    <tr>\n",
              "      <th>8</th>\n",
              "      <td>d134dec34</td>\n",
              "      <td>4</td>\n",
              "    </tr>\n",
              "    <tr>\n",
              "      <th>9</th>\n",
              "      <td>bcd464bb8</td>\n",
              "      <td>3</td>\n",
              "    </tr>\n",
              "  </tbody>\n",
              "</table>\n",
              "</div>"
            ],
            "text/plain": [
              "       PetID  AdoptionSpeed\n",
              "0  378fcc4fc              2\n",
              "1  73c10e136              4\n",
              "2  72000c4c5              4\n",
              "3  e147a4b9f              4\n",
              "4  43fbba852              4\n",
              "5  77a490ec9              1\n",
              "6  28c4b1b13              4\n",
              "7  d1eada628              4\n",
              "8  d134dec34              4\n",
              "9  bcd464bb8              3"
            ]
          },
          "metadata": {
            "tags": []
          },
          "execution_count": 126
        }
      ]
    },
    {
      "metadata": {
        "colab_type": "text",
        "id": "cUg7_6I_ui3-"
      },
      "cell_type": "markdown",
      "source": [
        "## Task 5: Submit to Kaggle\n",
        "\n",
        "Upload this notebook to Kaggle and submit the results.\n",
        "\n",
        "\n"
      ]
    },
    {
      "metadata": {
        "id": "AV84idEeXswM",
        "colab_type": "text"
      },
      "cell_type": "markdown",
      "source": [
        "# Writeup\n",
        "\n",
        "Describe your different attempts to improve this notebook. What pet features did you try and how did you modify them? What neural networks did you try?\n",
        "\n",
        "How did these different attempts perform with the test data? How did they perform as a Kaggle submission?\n",
        "\n",
        "\n",
        "  - - - - Insert your writeup here - - - - \n",
        " "
      ]
    },
    {
      "metadata": {
        "colab_type": "text",
        "id": "RUzZntKj1QFz"
      },
      "cell_type": "markdown",
      "source": [
        "# Wrapping Up\n",
        "\n",
        "Remember to **share this sheet with your instructo**r and submit a link to it in Blackboard."
      ]
    },
    {
      "metadata": {
        "colab_type": "code",
        "id": "hNmZlPcKWv12",
        "colab": {}
      },
      "cell_type": "code",
      "source": [
        ""
      ],
      "execution_count": 0,
      "outputs": []
    }
  ]
}