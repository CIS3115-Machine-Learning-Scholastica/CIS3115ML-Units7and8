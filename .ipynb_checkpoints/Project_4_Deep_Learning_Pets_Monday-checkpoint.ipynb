{
 "cells": [
  {
   "cell_type": "markdown",
   "metadata": {
    "colab_type": "text",
    "id": "UcP0RHTjWP1q"
   },
   "source": [
    "# Project 4: Deep Learning Pets\n",
    "\n",
    "Use this notebook as the starting point for the Practice activities.\n",
    "\n",
    "Student Name:    **[  Put your Name Here ]**\n",
    "\n",
    "\n",
    "Videos:\n",
    "\n",
    "\n",
    "*   [Basic Challenge Walkthrough](https://www.youtube.com/watch?v=JeF-OTbDcGg)\n",
    "*   [Hints for improving your score](https://www.youtube.com/watch?v=fSROOv7S6Vo)\n",
    "\n",
    "\n",
    "\n"
   ]
  },
  {
   "cell_type": "markdown",
   "metadata": {
    "colab_type": "text",
    "id": "SCPtkOA1cKBd"
   },
   "source": [
    "# Main Task\n",
    "\n",
    "In this project you will try to complete the [PetFinder.my Adoption Prediction challenge on Kaggle](https://www.kaggle.com/c/petfinder-adoption-prediction).\n",
    "\n",
    "This notebook sets up the basic data and a basic neural network. You must modify this notebook to improve its performance.\n",
    "\n",
    "You should try a number of different attempts at this. At the end of the notebook you will writeup what you tried and how it worked.\n",
    "\n"
   ]
  },
  {
   "cell_type": "markdown",
   "metadata": {
    "colab_type": "text",
    "id": "FaqB_iGZFhQk"
   },
   "source": []
  },
  {
   "cell_type": "markdown",
   "metadata": {
    "colab_type": "text",
    "id": "KmZ4LSJ7XLR9"
   },
   "source": [
    "# Section 0\n",
    "\n",
    "=== *You must run this section to set up things for any of the sections below * ===\n",
    "### Setting up Python tools\n",
    "\n",
    "\n",
    "\n",
    "We'll use three libraries for this tutorial: \n",
    "- [pandas](http://pandas.pydata.org/) : dataframes for spreadsheet-like data analysis, reading CSV files, time series\n",
    "- [numpy](http://www.numpy.org/) : for multidimensional data and linear algebra tools\n",
    "- [matplotlib](http://matplotlib.org/) : Simple plotting and graphing\n",
    "- [seaborn](http://stanford.edu/~mwaskom/software/seaborn/) : more advanced graphing\n",
    "-  [scikit-learn](https://scikit-learn.org/stable/) : provides many machine learning algorithms and tools to training and test.\n",
    "\n",
    "\n"
   ]
  },
  {
   "cell_type": "code",
   "execution_count": 49,
   "metadata": {
    "colab": {
     "base_uri": "https://localhost:8080/",
     "height": 35
    },
    "colab_type": "code",
    "id": "RHAUKyWlWQ9L",
    "outputId": "45f96976-260f-4f1c-bd3e-d1ad59f0bab7"
   },
   "outputs": [
    {
     "name": "stdout",
     "output_type": "stream",
     "text": [
      "====== This should generate a FutureWaring on Conversion ===== ignore this warning\n"
     ]
    }
   ],
   "source": [
    "# First, we'll import pandas and numpy, two data processing libraries\n",
    "import pandas as pd\n",
    "import numpy as np\n",
    "\n",
    "# We'll also import seaborn and matplot, twp Python graphing libraries\n",
    "import seaborn as sns\n",
    "import matplotlib.pyplot as plt\n",
    "# Import the needed sklearn libraries\n",
    "from sklearn.preprocessing import MinMaxScaler, StandardScaler\n",
    "from sklearn import datasets\n",
    "from sklearn.model_selection import train_test_split\n",
    "from sklearn.neighbors import KNeighborsClassifier\n",
    "from sklearn.svm import SVC\n",
    "from sklearn.decomposition import PCA\n",
    "from sklearn.preprocessing import LabelEncoder\n",
    "\n",
    "# The Keras library provides support for neural networks and deep learning\n",
    "print (\"====== This should generate a FutureWaring on Conversion ===== ignore this warning\")\n",
    "import keras\n",
    "from keras.models import Sequential\n",
    "from keras.layers import Dense, Dropout, Activation, Lambda, Flatten, LSTM\n",
    "from keras.layers import Conv2D, MaxPooling2D\n",
    "from keras.optimizers import Adam, RMSprop\n",
    "from keras.utils import np_utils, to_categorical\n",
    "\n",
    "# We will turn off some warns in this notebook to make it easier to read for new students\n",
    "import warnings\n",
    "warnings.filterwarnings('ignore')"
   ]
  },
  {
   "cell_type": "markdown",
   "metadata": {
    "colab_type": "text",
    "id": "sTvnB7XwvScZ"
   },
   "source": [
    "## Task 1: PetFinder Kaggle Challenge\n",
    "\n",
    "Sign up for the [PetFinder.my Adoption Prediction challenge on Kaggle](https://www.kaggle.com/c/petfinder-adoption-prediction).\n",
    "\n",
    "Here is a summary of the data\n",
    "\n",
    "### Pet Data Fields\n",
    "- PetID - Unique hash ID of pet profile\n",
    "- AdoptionSpeed - Categorical speed of adoption. Lower is faster. This is the value to predict. See below section for more info.\n",
    "- Type - Type of animal (1 = Dog, 2 = Cat)\n",
    "- Name - Name of pet (Empty if not named)\n",
    "- Age - Age of pet when listed, in months\n",
    "- Breed1 - Primary breed of pet (Refer to BreedLabels dictionary)\n",
    "- Breed2 - Secondary breed of pet, if pet is of mixed breed (Refer to BreedLabels dictionary)\n",
    "- Gender - Gender of pet (1 = Male, 2 = Female, 3 = Mixed, if profile represents group of pets)\n",
    "- Color1 - Color 1 of pet (Refer to ColorLabels dictionary)\n",
    "- Color2 - Color 2 of pet (Refer to ColorLabels dictionary)\n",
    "- Color3 - Color 3 of pet (Refer to ColorLabels dictionary)\n",
    "- MaturitySize - Size at maturity (1 = Small, 2 = Medium, 3 = Large, 4 = Extra Large, 0 = Not Specified)\n",
    "- FurLength - Fur length (1 = Short, 2 = Medium, 3 = Long, 0 = Not Specified)\n",
    "- Vaccinated - Pet has been vaccinated (1 = Yes, 2 = No, 3 = Not Sure)\n",
    "- Dewormed - Pet has been dewormed (1 = Yes, 2 = No, 3 = Not Sure)\n",
    "- Sterilized - Pet has been spayed / neutered (1 = Yes, 2 = No, 3 = Not Sure)\n",
    "- Health - Health Condition (1 = Healthy, 2 = Minor Injury, 3 = Serious Injury, 0 = Not Specified)\n",
    "- Quantity - Number of pets represented in profile\n",
    "- Fee - Adoption fee (0 = Free)\n",
    "- State - State location in Malaysia (Refer to StateLabels dictionary)\n",
    "- RescuerID - Unique hash ID of rescuer\n",
    "- VideoAmt - Total uploaded videos for this pet\n",
    "- PhotoAmt - Total uploaded photos for this pet\n",
    "- Description - Profile write-up for this pet. The primary language used is English, with some in Malay or Chinese.\n",
    "### AdoptionSpeed\n",
    "Contestants are required to predict this value. The value is determined by how quickly, if at all, a pet is adopted. The values are determined in the following way: \n",
    "- 0 - Pet was adopted on the same day as it was listed. \n",
    "- 1 - Pet was adopted between 1 and 7 days (1st week) after being listed. \n",
    "- 2 - Pet was adopted between 8 and 30 days (1st month) after being listed. \n",
    "- 3 - Pet was adopted between 31 and 90 days (2nd & 3rd month) after being listed. \n",
    "- 4 - No adoption after 100 days of being listed. (There are no pets in this dataset that waited between 90 and 100 days).\n",
    "\n",
    "### File descriptions\n",
    "- train.csv - Tabular/text data for the training set\n",
    "- train.csv - Tabular/text data for the training set\n",
    "- test.csv - Tabular/text data for the test set\n",
    "- sample_submission.csv - A sample submission file in the correct format\n",
    "- breed_labels.csv - Contains Type, and BreedName for each BreedID. Type 1 is dog, 2 is cat.\n",
    "- color_labels.csv - Contains ColorName for each ColorID\n",
    "- state_labels.csv - Contains StateName for each StateID"
   ]
  },
  {
   "cell_type": "markdown",
   "metadata": {
    "colab_type": "text",
    "id": "mEuPVnRDdGpu"
   },
   "source": [
    "# Section 1:  Set up Pet Data\n",
    "\n"
   ]
  },
  {
   "cell_type": "markdown",
   "metadata": {
    "colab_type": "text",
    "id": "YZ1dW8lJvScd"
   },
   "source": [
    "### Set up the Input and output\n",
    "\n",
    "- Training data: Information on 14,993 pets up for adoption\n",
    "- Submission data: Information on 3,948 pets where we need to predict adoption time\n",
    "\n",
    "### NOTE: This dataset is somewhat large and loading it may take a minute or two \n"
   ]
  },
  {
   "cell_type": "code",
   "execution_count": 50,
   "metadata": {
    "colab": {
     "base_uri": "https://localhost:8080/",
     "height": 52
    },
    "colab_type": "code",
    "id": "Z_gd5XuZvScg",
    "outputId": "2e5c1a12-f928-41b6-edf9-ca63e2404a14"
   },
   "outputs": [
    {
     "name": "stdout",
     "output_type": "stream",
     "text": [
      "training data shape:  (14993, 24)\n",
      "submission data shape: :  (3948, 23)\n"
     ]
    }
   ],
   "source": [
    "# Read data from the actual Kaggle download files stored in a raw file in GitHub\n",
    "github_folder = 'https://raw.githubusercontent.com/CIS3115-Machine-Learning-Scholastica/CIS3115ML-Units7and8/master/petfinder-adoption/'\n",
    "kaggle_folder = 'petfinder-adoption/'\n",
    "\n",
    "data_folder = github_folder\n",
    "# Uncomment the next line to switch from using the github files to the kaggle files for a submission\n",
    "data_folder = kaggle_folder\n",
    "\n",
    "train = pd.read_csv(data_folder + 'train/train.csv')\n",
    "submit = pd.read_csv(data_folder + 'test/test.csv')\n",
    "\n",
    "#sample_submission = pd.read_csv(data_folder + 'test/sample_submission.csv')\n",
    "#labels_breed = pd.read_csv(data_folder + 'breed_labels.csv')\n",
    "#labels_color = pd.read_csv(data_folder + 'color_labels.csv')\n",
    "#labels_state = pd.read_csv(data_folder + 'state_labels.csv')\n",
    "\n",
    "print (\"training data shape: \" ,train.shape)\n",
    "print (\"submission data shape: : \" ,submit.shape)"
   ]
  },
  {
   "cell_type": "code",
   "execution_count": 61,
   "metadata": {
    "colab": {
     "base_uri": "https://localhost:8080/",
     "height": 261
    },
    "colab_type": "code",
    "id": "Rx9hBWGZihAo",
    "outputId": "2dc9210a-e689-4602-9a31-cd0f3168b3d1"
   },
   "outputs": [],
   "source": [
    "#labels_color"
   ]
  },
  {
   "cell_type": "code",
   "execution_count": 62,
   "metadata": {
    "colab": {
     "base_uri": "https://localhost:8080/",
     "height": 572
    },
    "colab_type": "code",
    "id": "3ZwZyUXT9eSg",
    "outputId": "45fefc19-2307-4b58-cd47-1fbc20ae1aa7"
   },
   "outputs": [
    {
     "data": {
      "text/html": [
       "<div>\n",
       "<style scoped>\n",
       "    .dataframe tbody tr th:only-of-type {\n",
       "        vertical-align: middle;\n",
       "    }\n",
       "\n",
       "    .dataframe tbody tr th {\n",
       "        vertical-align: top;\n",
       "    }\n",
       "\n",
       "    .dataframe thead th {\n",
       "        text-align: right;\n",
       "    }\n",
       "</style>\n",
       "<table border=\"1\" class=\"dataframe\">\n",
       "  <thead>\n",
       "    <tr style=\"text-align: right;\">\n",
       "      <th></th>\n",
       "      <th>Type</th>\n",
       "      <th>Name</th>\n",
       "      <th>Age</th>\n",
       "      <th>Breed1</th>\n",
       "      <th>Breed2</th>\n",
       "      <th>Gender</th>\n",
       "      <th>Color1</th>\n",
       "      <th>Color2</th>\n",
       "      <th>Color3</th>\n",
       "      <th>MaturitySize</th>\n",
       "      <th>...</th>\n",
       "      <th>Health</th>\n",
       "      <th>Quantity</th>\n",
       "      <th>Fee</th>\n",
       "      <th>State</th>\n",
       "      <th>RescuerID</th>\n",
       "      <th>VideoAmt</th>\n",
       "      <th>Description</th>\n",
       "      <th>PetID</th>\n",
       "      <th>PhotoAmt</th>\n",
       "      <th>AdoptionSpeed</th>\n",
       "    </tr>\n",
       "  </thead>\n",
       "  <tbody>\n",
       "    <tr>\n",
       "      <th>0</th>\n",
       "      <td>2</td>\n",
       "      <td>Nibble</td>\n",
       "      <td>3</td>\n",
       "      <td>299</td>\n",
       "      <td>0</td>\n",
       "      <td>1</td>\n",
       "      <td>1</td>\n",
       "      <td>7</td>\n",
       "      <td>0</td>\n",
       "      <td>1</td>\n",
       "      <td>...</td>\n",
       "      <td>1</td>\n",
       "      <td>1</td>\n",
       "      <td>100</td>\n",
       "      <td>41326</td>\n",
       "      <td>8480853f516546f6cf33aa88cd76c379</td>\n",
       "      <td>0</td>\n",
       "      <td>Nibble is a 3+ month old ball of cuteness. He ...</td>\n",
       "      <td>86e1089a3</td>\n",
       "      <td>1.0</td>\n",
       "      <td>2</td>\n",
       "    </tr>\n",
       "    <tr>\n",
       "      <th>1</th>\n",
       "      <td>2</td>\n",
       "      <td>No Name Yet</td>\n",
       "      <td>1</td>\n",
       "      <td>265</td>\n",
       "      <td>0</td>\n",
       "      <td>1</td>\n",
       "      <td>1</td>\n",
       "      <td>2</td>\n",
       "      <td>0</td>\n",
       "      <td>2</td>\n",
       "      <td>...</td>\n",
       "      <td>1</td>\n",
       "      <td>1</td>\n",
       "      <td>0</td>\n",
       "      <td>41401</td>\n",
       "      <td>3082c7125d8fb66f7dd4bff4192c8b14</td>\n",
       "      <td>0</td>\n",
       "      <td>I just found it alone yesterday near my apartm...</td>\n",
       "      <td>6296e909a</td>\n",
       "      <td>2.0</td>\n",
       "      <td>0</td>\n",
       "    </tr>\n",
       "    <tr>\n",
       "      <th>2</th>\n",
       "      <td>1</td>\n",
       "      <td>Brisco</td>\n",
       "      <td>1</td>\n",
       "      <td>307</td>\n",
       "      <td>0</td>\n",
       "      <td>1</td>\n",
       "      <td>2</td>\n",
       "      <td>7</td>\n",
       "      <td>0</td>\n",
       "      <td>2</td>\n",
       "      <td>...</td>\n",
       "      <td>1</td>\n",
       "      <td>1</td>\n",
       "      <td>0</td>\n",
       "      <td>41326</td>\n",
       "      <td>fa90fa5b1ee11c86938398b60abc32cb</td>\n",
       "      <td>0</td>\n",
       "      <td>Their pregnant mother was dumped by her irresp...</td>\n",
       "      <td>3422e4906</td>\n",
       "      <td>7.0</td>\n",
       "      <td>3</td>\n",
       "    </tr>\n",
       "    <tr>\n",
       "      <th>3</th>\n",
       "      <td>1</td>\n",
       "      <td>Miko</td>\n",
       "      <td>4</td>\n",
       "      <td>307</td>\n",
       "      <td>0</td>\n",
       "      <td>2</td>\n",
       "      <td>1</td>\n",
       "      <td>2</td>\n",
       "      <td>0</td>\n",
       "      <td>2</td>\n",
       "      <td>...</td>\n",
       "      <td>1</td>\n",
       "      <td>1</td>\n",
       "      <td>150</td>\n",
       "      <td>41401</td>\n",
       "      <td>9238e4f44c71a75282e62f7136c6b240</td>\n",
       "      <td>0</td>\n",
       "      <td>Good guard dog, very alert, active, obedience ...</td>\n",
       "      <td>5842f1ff5</td>\n",
       "      <td>8.0</td>\n",
       "      <td>2</td>\n",
       "    </tr>\n",
       "    <tr>\n",
       "      <th>4</th>\n",
       "      <td>1</td>\n",
       "      <td>Hunter</td>\n",
       "      <td>1</td>\n",
       "      <td>307</td>\n",
       "      <td>0</td>\n",
       "      <td>1</td>\n",
       "      <td>1</td>\n",
       "      <td>0</td>\n",
       "      <td>0</td>\n",
       "      <td>2</td>\n",
       "      <td>...</td>\n",
       "      <td>1</td>\n",
       "      <td>1</td>\n",
       "      <td>0</td>\n",
       "      <td>41326</td>\n",
       "      <td>95481e953f8aed9ec3d16fc4509537e8</td>\n",
       "      <td>0</td>\n",
       "      <td>This handsome yet cute boy is up for adoption....</td>\n",
       "      <td>850a43f90</td>\n",
       "      <td>3.0</td>\n",
       "      <td>2</td>\n",
       "    </tr>\n",
       "  </tbody>\n",
       "</table>\n",
       "<p>5 rows × 24 columns</p>\n",
       "</div>"
      ],
      "text/plain": [
       "   Type         Name  Age  Breed1  Breed2  Gender  Color1  Color2  Color3  \\\n",
       "0     2       Nibble    3     299       0       1       1       7       0   \n",
       "1     2  No Name Yet    1     265       0       1       1       2       0   \n",
       "2     1       Brisco    1     307       0       1       2       7       0   \n",
       "3     1         Miko    4     307       0       2       1       2       0   \n",
       "4     1       Hunter    1     307       0       1       1       0       0   \n",
       "\n",
       "   MaturitySize      ...        Health  Quantity  Fee  State  \\\n",
       "0             1      ...             1         1  100  41326   \n",
       "1             2      ...             1         1    0  41401   \n",
       "2             2      ...             1         1    0  41326   \n",
       "3             2      ...             1         1  150  41401   \n",
       "4             2      ...             1         1    0  41326   \n",
       "\n",
       "                          RescuerID  VideoAmt  \\\n",
       "0  8480853f516546f6cf33aa88cd76c379         0   \n",
       "1  3082c7125d8fb66f7dd4bff4192c8b14         0   \n",
       "2  fa90fa5b1ee11c86938398b60abc32cb         0   \n",
       "3  9238e4f44c71a75282e62f7136c6b240         0   \n",
       "4  95481e953f8aed9ec3d16fc4509537e8         0   \n",
       "\n",
       "                                         Description      PetID PhotoAmt  \\\n",
       "0  Nibble is a 3+ month old ball of cuteness. He ...  86e1089a3      1.0   \n",
       "1  I just found it alone yesterday near my apartm...  6296e909a      2.0   \n",
       "2  Their pregnant mother was dumped by her irresp...  3422e4906      7.0   \n",
       "3  Good guard dog, very alert, active, obedience ...  5842f1ff5      8.0   \n",
       "4  This handsome yet cute boy is up for adoption....  850a43f90      3.0   \n",
       "\n",
       "   AdoptionSpeed  \n",
       "0              2  \n",
       "1              0  \n",
       "2              3  \n",
       "3              2  \n",
       "4              2  \n",
       "\n",
       "[5 rows x 24 columns]"
      ]
     },
     "execution_count": 62,
     "metadata": {},
     "output_type": "execute_result"
    }
   ],
   "source": [
    "train.head(5)"
   ]
  },
  {
   "cell_type": "markdown",
   "metadata": {
    "colab_type": "text",
    "id": "OUDwOkl9PZde"
   },
   "source": [
    "## Task 2: Select features\n",
    "\n",
    "Select which pet features to include in the training data. You should also select the same features for the submission.\n",
    "\n",
    "Note, some features you may want to modify and you can add them in future cells."
   ]
  },
  {
   "cell_type": "code",
   "execution_count": 105,
   "metadata": {
    "colab": {
     "base_uri": "https://localhost:8080/",
     "height": 52
    },
    "colab_type": "code",
    "id": "qvM7dhR59eSj",
    "outputId": "7d78968c-3740-4075-e0b7-e0bf38439c2e"
   },
   "outputs": [
    {
     "name": "stdout",
     "output_type": "stream",
     "text": [
      "pet_train data shape:  (14993, 7)\n",
      "pet_adopt_speed data shape:  (14993, 5)\n"
     ]
    }
   ],
   "source": [
    "# Select which features to use\n",
    "pet_train = train[['Age','Gender','Fee','Quantity','MaturitySize', 'PhotoAmt', 'VideoAmt']]\n",
    "# Everything we do to the training data we also should do the the submission data\n",
    "pet_submit = submit[['Age','Gender','Health','MaturitySize']]\n",
    "\n",
    "# Convert output to one-hot encoding\n",
    "pet_adopt_speed = to_categorical( train['AdoptionSpeed'] )\n",
    "\n",
    "print (\"pet_train data shape: \" ,pet_train.shape)\n",
    "print (\"pet_adopt_speed data shape: \" ,pet_adopt_speed.shape)\n"
   ]
  },
  {
   "cell_type": "markdown",
   "metadata": {
    "colab_type": "text",
    "id": "Lkkbh-5uQIwy"
   },
   "source": [
    "## Task 3: Modify some features\n",
    "\n",
    "Some features may need to be modified. For example, Vaccinated has values of  (1 = Yes, 2 = No, 3 = Not Sure) but this will confuse a neural network because these numbers are not relative to each other. So, Yes + 1 = No and No + 1 = Not Sure.\n",
    "\n",
    "Instead we will set No and Not Sure to 0 and Yes to 1.\n",
    "\n",
    "The following code defines a function to do this and then the map method applies this function to each pet's Vaccinated feature.\n",
    "\n",
    "Again, everything we do to the training data, we also need to do to the submission data."
   ]
  },
  {
   "cell_type": "code",
   "execution_count": 106,
   "metadata": {
    "colab": {
     "base_uri": "https://localhost:8080/",
     "height": 359
    },
    "colab_type": "code",
    "id": "9OEJd-Fr9eSm",
    "outputId": "60cbf04f-255f-45a5-f9de-9d869c90739f"
   },
   "outputs": [
    {
     "data": {
      "text/html": [
       "<div>\n",
       "<style scoped>\n",
       "    .dataframe tbody tr th:only-of-type {\n",
       "        vertical-align: middle;\n",
       "    }\n",
       "\n",
       "    .dataframe tbody tr th {\n",
       "        vertical-align: top;\n",
       "    }\n",
       "\n",
       "    .dataframe thead th {\n",
       "        text-align: right;\n",
       "    }\n",
       "</style>\n",
       "<table border=\"1\" class=\"dataframe\">\n",
       "  <thead>\n",
       "    <tr style=\"text-align: right;\">\n",
       "      <th></th>\n",
       "      <th>Age</th>\n",
       "      <th>Gender</th>\n",
       "      <th>Fee</th>\n",
       "      <th>Quantity</th>\n",
       "      <th>MaturitySize</th>\n",
       "      <th>PhotoAmt</th>\n",
       "      <th>VideoAmt</th>\n",
       "      <th>encodedVaccinated</th>\n",
       "    </tr>\n",
       "  </thead>\n",
       "  <tbody>\n",
       "    <tr>\n",
       "      <th>0</th>\n",
       "      <td>3</td>\n",
       "      <td>1</td>\n",
       "      <td>100</td>\n",
       "      <td>1</td>\n",
       "      <td>1</td>\n",
       "      <td>1.0</td>\n",
       "      <td>0</td>\n",
       "      <td>0</td>\n",
       "    </tr>\n",
       "    <tr>\n",
       "      <th>1</th>\n",
       "      <td>1</td>\n",
       "      <td>1</td>\n",
       "      <td>0</td>\n",
       "      <td>1</td>\n",
       "      <td>2</td>\n",
       "      <td>2.0</td>\n",
       "      <td>0</td>\n",
       "      <td>0</td>\n",
       "    </tr>\n",
       "    <tr>\n",
       "      <th>2</th>\n",
       "      <td>1</td>\n",
       "      <td>1</td>\n",
       "      <td>0</td>\n",
       "      <td>1</td>\n",
       "      <td>2</td>\n",
       "      <td>7.0</td>\n",
       "      <td>0</td>\n",
       "      <td>1</td>\n",
       "    </tr>\n",
       "    <tr>\n",
       "      <th>3</th>\n",
       "      <td>4</td>\n",
       "      <td>2</td>\n",
       "      <td>150</td>\n",
       "      <td>1</td>\n",
       "      <td>2</td>\n",
       "      <td>8.0</td>\n",
       "      <td>0</td>\n",
       "      <td>1</td>\n",
       "    </tr>\n",
       "    <tr>\n",
       "      <th>4</th>\n",
       "      <td>1</td>\n",
       "      <td>1</td>\n",
       "      <td>0</td>\n",
       "      <td>1</td>\n",
       "      <td>2</td>\n",
       "      <td>3.0</td>\n",
       "      <td>0</td>\n",
       "      <td>0</td>\n",
       "    </tr>\n",
       "    <tr>\n",
       "      <th>5</th>\n",
       "      <td>3</td>\n",
       "      <td>2</td>\n",
       "      <td>0</td>\n",
       "      <td>1</td>\n",
       "      <td>2</td>\n",
       "      <td>2.0</td>\n",
       "      <td>0</td>\n",
       "      <td>0</td>\n",
       "    </tr>\n",
       "    <tr>\n",
       "      <th>6</th>\n",
       "      <td>12</td>\n",
       "      <td>1</td>\n",
       "      <td>300</td>\n",
       "      <td>1</td>\n",
       "      <td>2</td>\n",
       "      <td>3.0</td>\n",
       "      <td>0</td>\n",
       "      <td>0</td>\n",
       "    </tr>\n",
       "    <tr>\n",
       "      <th>7</th>\n",
       "      <td>0</td>\n",
       "      <td>2</td>\n",
       "      <td>0</td>\n",
       "      <td>6</td>\n",
       "      <td>2</td>\n",
       "      <td>9.0</td>\n",
       "      <td>0</td>\n",
       "      <td>0</td>\n",
       "    </tr>\n",
       "    <tr>\n",
       "      <th>8</th>\n",
       "      <td>2</td>\n",
       "      <td>2</td>\n",
       "      <td>0</td>\n",
       "      <td>1</td>\n",
       "      <td>2</td>\n",
       "      <td>6.0</td>\n",
       "      <td>0</td>\n",
       "      <td>0</td>\n",
       "    </tr>\n",
       "    <tr>\n",
       "      <th>9</th>\n",
       "      <td>12</td>\n",
       "      <td>2</td>\n",
       "      <td>0</td>\n",
       "      <td>1</td>\n",
       "      <td>2</td>\n",
       "      <td>2.0</td>\n",
       "      <td>0</td>\n",
       "      <td>0</td>\n",
       "    </tr>\n",
       "  </tbody>\n",
       "</table>\n",
       "</div>"
      ],
      "text/plain": [
       "   Age  Gender  Fee  Quantity  MaturitySize  PhotoAmt  VideoAmt  \\\n",
       "0    3       1  100         1             1       1.0         0   \n",
       "1    1       1    0         1             2       2.0         0   \n",
       "2    1       1    0         1             2       7.0         0   \n",
       "3    4       2  150         1             2       8.0         0   \n",
       "4    1       1    0         1             2       3.0         0   \n",
       "5    3       2    0         1             2       2.0         0   \n",
       "6   12       1  300         1             2       3.0         0   \n",
       "7    0       2    0         6             2       9.0         0   \n",
       "8    2       2    0         1             2       6.0         0   \n",
       "9   12       2    0         1             2       2.0         0   \n",
       "\n",
       "   encodedVaccinated  \n",
       "0                  0  \n",
       "1                  0  \n",
       "2                  1  \n",
       "3                  1  \n",
       "4                  0  \n",
       "5                  0  \n",
       "6                  0  \n",
       "7                  0  \n",
       "8                  0  \n",
       "9                  0  "
      ]
     },
     "execution_count": 106,
     "metadata": {},
     "output_type": "execute_result"
    }
   ],
   "source": [
    "# Vaccinated - Pet has been vaccinated (1 = Yes, 2 = No, 3 = Not Sure)\n",
    "#encodedVaccinated = train[['Vaccinated']] \n",
    "def fixVac( value ):\n",
    "    if value > 1: return 0\n",
    "    else: return value\n",
    "\n",
    "#train['encodedVaccinated'] = list(map(lambda a: 0 if (a>1) else a,train['Vaccinated']))\n",
    "pet_train['encodedVaccinated'] = list(map(fixVac,train['Vaccinated']))\n",
    "pet_submit['encodedVaccinated'] = list(map(fixVac,submit['Vaccinated']))\n",
    "\n",
    "pet_train.head(10)"
   ]
  },
  {
   "cell_type": "markdown",
   "metadata": {
    "colab_type": "text",
    "id": "C7XoT08lSRb0"
   },
   "source": [
    "## Task 4: Encode some features\n",
    "\n",
    "Some numeric features like color and breed are called categorical features. Even though they may be enoced as a number, the numbers do not relate numerically to each other. So if one dog has color 2 and  dog two has color 4, this does not mean dog two is twice as colorful as dog one. It only means that they have different colors. One might be light brown and the other gray.\n",
    "\n",
    "For neural networks it works better when encode categorical data as one-hot encoding. See [An Overview of Categorical Input Handling for Neural Networks](https://towardsdatascience.com/an-overview-of-categorical-input-handling-for-neural-networks-c172ba552dee) for more details.\n",
    "\n"
   ]
  },
  {
   "cell_type": "code",
   "execution_count": 73,
   "metadata": {},
   "outputs": [
    {
     "data": {
      "text/html": [
       "<div>\n",
       "<style scoped>\n",
       "    .dataframe tbody tr th:only-of-type {\n",
       "        vertical-align: middle;\n",
       "    }\n",
       "\n",
       "    .dataframe tbody tr th {\n",
       "        vertical-align: top;\n",
       "    }\n",
       "\n",
       "    .dataframe thead th {\n",
       "        text-align: right;\n",
       "    }\n",
       "</style>\n",
       "<table border=\"1\" class=\"dataframe\">\n",
       "  <thead>\n",
       "    <tr style=\"text-align: right;\">\n",
       "      <th></th>\n",
       "      <th>Age</th>\n",
       "      <th>Gender</th>\n",
       "      <th>Health</th>\n",
       "      <th>MaturitySize</th>\n",
       "      <th>encodedVaccinated</th>\n",
       "      <th>color_1</th>\n",
       "      <th>color_2</th>\n",
       "      <th>color_3</th>\n",
       "      <th>color_4</th>\n",
       "      <th>color_5</th>\n",
       "      <th>color_6</th>\n",
       "      <th>color_7</th>\n",
       "    </tr>\n",
       "  </thead>\n",
       "  <tbody>\n",
       "    <tr>\n",
       "      <th>0</th>\n",
       "      <td>3</td>\n",
       "      <td>1</td>\n",
       "      <td>1</td>\n",
       "      <td>1</td>\n",
       "      <td>0</td>\n",
       "      <td>1</td>\n",
       "      <td>0</td>\n",
       "      <td>0</td>\n",
       "      <td>0</td>\n",
       "      <td>0</td>\n",
       "      <td>0</td>\n",
       "      <td>0</td>\n",
       "    </tr>\n",
       "    <tr>\n",
       "      <th>1</th>\n",
       "      <td>1</td>\n",
       "      <td>1</td>\n",
       "      <td>1</td>\n",
       "      <td>2</td>\n",
       "      <td>0</td>\n",
       "      <td>1</td>\n",
       "      <td>0</td>\n",
       "      <td>0</td>\n",
       "      <td>0</td>\n",
       "      <td>0</td>\n",
       "      <td>0</td>\n",
       "      <td>0</td>\n",
       "    </tr>\n",
       "    <tr>\n",
       "      <th>2</th>\n",
       "      <td>1</td>\n",
       "      <td>1</td>\n",
       "      <td>1</td>\n",
       "      <td>2</td>\n",
       "      <td>1</td>\n",
       "      <td>0</td>\n",
       "      <td>1</td>\n",
       "      <td>0</td>\n",
       "      <td>0</td>\n",
       "      <td>0</td>\n",
       "      <td>0</td>\n",
       "      <td>0</td>\n",
       "    </tr>\n",
       "    <tr>\n",
       "      <th>3</th>\n",
       "      <td>4</td>\n",
       "      <td>2</td>\n",
       "      <td>1</td>\n",
       "      <td>2</td>\n",
       "      <td>1</td>\n",
       "      <td>1</td>\n",
       "      <td>0</td>\n",
       "      <td>0</td>\n",
       "      <td>0</td>\n",
       "      <td>0</td>\n",
       "      <td>0</td>\n",
       "      <td>0</td>\n",
       "    </tr>\n",
       "    <tr>\n",
       "      <th>4</th>\n",
       "      <td>1</td>\n",
       "      <td>1</td>\n",
       "      <td>1</td>\n",
       "      <td>2</td>\n",
       "      <td>0</td>\n",
       "      <td>1</td>\n",
       "      <td>0</td>\n",
       "      <td>0</td>\n",
       "      <td>0</td>\n",
       "      <td>0</td>\n",
       "      <td>0</td>\n",
       "      <td>0</td>\n",
       "    </tr>\n",
       "  </tbody>\n",
       "</table>\n",
       "</div>"
      ],
      "text/plain": [
       "   Age  Gender  Health  MaturitySize  encodedVaccinated  color_1  color_2  \\\n",
       "0    3       1       1             1                  0        1        0   \n",
       "1    1       1       1             2                  0        1        0   \n",
       "2    1       1       1             2                  1        0        1   \n",
       "3    4       2       1             2                  1        1        0   \n",
       "4    1       1       1             2                  0        1        0   \n",
       "\n",
       "   color_3  color_4  color_5  color_6  color_7  \n",
       "0        0        0        0        0        0  \n",
       "1        0        0        0        0        0  \n",
       "2        0        0        0        0        0  \n",
       "3        0        0        0        0        0  \n",
       "4        0        0        0        0        0  "
      ]
     },
     "execution_count": 73,
     "metadata": {},
     "output_type": "execute_result"
    }
   ],
   "source": [
    "encodedColor1 = pd.get_dummies( train['Color1'], prefix=\"color\" )\n",
    "pet_train = pd.concat([pet_train, encodedColor1], axis='columns')\n",
    "pet_train.head(5)\n"
   ]
  },
  {
   "cell_type": "code",
   "execution_count": 107,
   "metadata": {},
   "outputs": [
    {
     "data": {
      "text/html": [
       "<div>\n",
       "<style scoped>\n",
       "    .dataframe tbody tr th:only-of-type {\n",
       "        vertical-align: middle;\n",
       "    }\n",
       "\n",
       "    .dataframe tbody tr th {\n",
       "        vertical-align: top;\n",
       "    }\n",
       "\n",
       "    .dataframe thead th {\n",
       "        text-align: right;\n",
       "    }\n",
       "</style>\n",
       "<table border=\"1\" class=\"dataframe\">\n",
       "  <thead>\n",
       "    <tr style=\"text-align: right;\">\n",
       "      <th></th>\n",
       "      <th>Age</th>\n",
       "      <th>Gender</th>\n",
       "      <th>Fee</th>\n",
       "      <th>Quantity</th>\n",
       "      <th>MaturitySize</th>\n",
       "      <th>PhotoAmt</th>\n",
       "      <th>VideoAmt</th>\n",
       "      <th>encodedVaccinated</th>\n",
       "      <th>State_41324</th>\n",
       "      <th>State_41325</th>\n",
       "      <th>...</th>\n",
       "      <th>State_41330</th>\n",
       "      <th>State_41332</th>\n",
       "      <th>State_41335</th>\n",
       "      <th>State_41336</th>\n",
       "      <th>State_41342</th>\n",
       "      <th>State_41345</th>\n",
       "      <th>State_41361</th>\n",
       "      <th>State_41367</th>\n",
       "      <th>State_41401</th>\n",
       "      <th>State_41415</th>\n",
       "    </tr>\n",
       "  </thead>\n",
       "  <tbody>\n",
       "    <tr>\n",
       "      <th>0</th>\n",
       "      <td>3</td>\n",
       "      <td>1</td>\n",
       "      <td>100</td>\n",
       "      <td>1</td>\n",
       "      <td>1</td>\n",
       "      <td>1.0</td>\n",
       "      <td>0</td>\n",
       "      <td>0</td>\n",
       "      <td>0</td>\n",
       "      <td>0</td>\n",
       "      <td>...</td>\n",
       "      <td>0</td>\n",
       "      <td>0</td>\n",
       "      <td>0</td>\n",
       "      <td>0</td>\n",
       "      <td>0</td>\n",
       "      <td>0</td>\n",
       "      <td>0</td>\n",
       "      <td>0</td>\n",
       "      <td>0</td>\n",
       "      <td>0</td>\n",
       "    </tr>\n",
       "    <tr>\n",
       "      <th>1</th>\n",
       "      <td>1</td>\n",
       "      <td>1</td>\n",
       "      <td>0</td>\n",
       "      <td>1</td>\n",
       "      <td>2</td>\n",
       "      <td>2.0</td>\n",
       "      <td>0</td>\n",
       "      <td>0</td>\n",
       "      <td>0</td>\n",
       "      <td>0</td>\n",
       "      <td>...</td>\n",
       "      <td>0</td>\n",
       "      <td>0</td>\n",
       "      <td>0</td>\n",
       "      <td>0</td>\n",
       "      <td>0</td>\n",
       "      <td>0</td>\n",
       "      <td>0</td>\n",
       "      <td>0</td>\n",
       "      <td>1</td>\n",
       "      <td>0</td>\n",
       "    </tr>\n",
       "    <tr>\n",
       "      <th>2</th>\n",
       "      <td>1</td>\n",
       "      <td>1</td>\n",
       "      <td>0</td>\n",
       "      <td>1</td>\n",
       "      <td>2</td>\n",
       "      <td>7.0</td>\n",
       "      <td>0</td>\n",
       "      <td>1</td>\n",
       "      <td>0</td>\n",
       "      <td>0</td>\n",
       "      <td>...</td>\n",
       "      <td>0</td>\n",
       "      <td>0</td>\n",
       "      <td>0</td>\n",
       "      <td>0</td>\n",
       "      <td>0</td>\n",
       "      <td>0</td>\n",
       "      <td>0</td>\n",
       "      <td>0</td>\n",
       "      <td>0</td>\n",
       "      <td>0</td>\n",
       "    </tr>\n",
       "    <tr>\n",
       "      <th>3</th>\n",
       "      <td>4</td>\n",
       "      <td>2</td>\n",
       "      <td>150</td>\n",
       "      <td>1</td>\n",
       "      <td>2</td>\n",
       "      <td>8.0</td>\n",
       "      <td>0</td>\n",
       "      <td>1</td>\n",
       "      <td>0</td>\n",
       "      <td>0</td>\n",
       "      <td>...</td>\n",
       "      <td>0</td>\n",
       "      <td>0</td>\n",
       "      <td>0</td>\n",
       "      <td>0</td>\n",
       "      <td>0</td>\n",
       "      <td>0</td>\n",
       "      <td>0</td>\n",
       "      <td>0</td>\n",
       "      <td>1</td>\n",
       "      <td>0</td>\n",
       "    </tr>\n",
       "    <tr>\n",
       "      <th>4</th>\n",
       "      <td>1</td>\n",
       "      <td>1</td>\n",
       "      <td>0</td>\n",
       "      <td>1</td>\n",
       "      <td>2</td>\n",
       "      <td>3.0</td>\n",
       "      <td>0</td>\n",
       "      <td>0</td>\n",
       "      <td>0</td>\n",
       "      <td>0</td>\n",
       "      <td>...</td>\n",
       "      <td>0</td>\n",
       "      <td>0</td>\n",
       "      <td>0</td>\n",
       "      <td>0</td>\n",
       "      <td>0</td>\n",
       "      <td>0</td>\n",
       "      <td>0</td>\n",
       "      <td>0</td>\n",
       "      <td>0</td>\n",
       "      <td>0</td>\n",
       "    </tr>\n",
       "  </tbody>\n",
       "</table>\n",
       "<p>5 rows × 22 columns</p>\n",
       "</div>"
      ],
      "text/plain": [
       "   Age  Gender  Fee  Quantity  MaturitySize  PhotoAmt  VideoAmt  \\\n",
       "0    3       1  100         1             1       1.0         0   \n",
       "1    1       1    0         1             2       2.0         0   \n",
       "2    1       1    0         1             2       7.0         0   \n",
       "3    4       2  150         1             2       8.0         0   \n",
       "4    1       1    0         1             2       3.0         0   \n",
       "\n",
       "   encodedVaccinated  State_41324  State_41325     ...       State_41330  \\\n",
       "0                  0            0            0     ...                 0   \n",
       "1                  0            0            0     ...                 0   \n",
       "2                  1            0            0     ...                 0   \n",
       "3                  1            0            0     ...                 0   \n",
       "4                  0            0            0     ...                 0   \n",
       "\n",
       "   State_41332  State_41335  State_41336  State_41342  State_41345  \\\n",
       "0            0            0            0            0            0   \n",
       "1            0            0            0            0            0   \n",
       "2            0            0            0            0            0   \n",
       "3            0            0            0            0            0   \n",
       "4            0            0            0            0            0   \n",
       "\n",
       "   State_41361  State_41367  State_41401  State_41415  \n",
       "0            0            0            0            0  \n",
       "1            0            0            1            0  \n",
       "2            0            0            0            0  \n",
       "3            0            0            1            0  \n",
       "4            0            0            0            0  \n",
       "\n",
       "[5 rows x 22 columns]"
      ]
     },
     "execution_count": 107,
     "metadata": {},
     "output_type": "execute_result"
    }
   ],
   "source": [
    "dfTemp = pd.get_dummies( train['State'], prefix=\"State\")\n",
    "pet_train = pd.concat([pet_train, dfTemp], axis='columns')\n",
    "pet_train.head(5)\n"
   ]
  },
  {
   "cell_type": "code",
   "execution_count": null,
   "metadata": {},
   "outputs": [],
   "source": []
  },
  {
   "cell_type": "code",
   "execution_count": 108,
   "metadata": {},
   "outputs": [
    {
     "name": "stdout",
     "output_type": "stream",
     "text": [
      "Size of pet_train =  (14993, 359)\n"
     ]
    },
    {
     "data": {
      "text/html": [
       "<div>\n",
       "<style scoped>\n",
       "    .dataframe tbody tr th:only-of-type {\n",
       "        vertical-align: middle;\n",
       "    }\n",
       "\n",
       "    .dataframe tbody tr th {\n",
       "        vertical-align: top;\n",
       "    }\n",
       "\n",
       "    .dataframe thead th {\n",
       "        text-align: right;\n",
       "    }\n",
       "</style>\n",
       "<table border=\"1\" class=\"dataframe\">\n",
       "  <thead>\n",
       "    <tr style=\"text-align: right;\">\n",
       "      <th></th>\n",
       "      <th>Age</th>\n",
       "      <th>Gender</th>\n",
       "      <th>Fee</th>\n",
       "      <th>Quantity</th>\n",
       "      <th>MaturitySize</th>\n",
       "      <th>PhotoAmt</th>\n",
       "      <th>VideoAmt</th>\n",
       "      <th>encodedVaccinated</th>\n",
       "      <th>State_41324</th>\n",
       "      <th>State_41325</th>\n",
       "      <th>...</th>\n",
       "      <th>FurLength_3</th>\n",
       "      <th>Dewormed_1</th>\n",
       "      <th>Dewormed_2</th>\n",
       "      <th>Dewormed_3</th>\n",
       "      <th>Sterilized_1</th>\n",
       "      <th>Sterilized_2</th>\n",
       "      <th>Sterilized_3</th>\n",
       "      <th>Health_1</th>\n",
       "      <th>Health_2</th>\n",
       "      <th>Health_3</th>\n",
       "    </tr>\n",
       "  </thead>\n",
       "  <tbody>\n",
       "    <tr>\n",
       "      <th>0</th>\n",
       "      <td>3</td>\n",
       "      <td>1</td>\n",
       "      <td>100</td>\n",
       "      <td>1</td>\n",
       "      <td>1</td>\n",
       "      <td>1.0</td>\n",
       "      <td>0</td>\n",
       "      <td>0</td>\n",
       "      <td>0</td>\n",
       "      <td>0</td>\n",
       "      <td>...</td>\n",
       "      <td>0</td>\n",
       "      <td>0</td>\n",
       "      <td>1</td>\n",
       "      <td>0</td>\n",
       "      <td>0</td>\n",
       "      <td>1</td>\n",
       "      <td>0</td>\n",
       "      <td>1</td>\n",
       "      <td>0</td>\n",
       "      <td>0</td>\n",
       "    </tr>\n",
       "    <tr>\n",
       "      <th>1</th>\n",
       "      <td>1</td>\n",
       "      <td>1</td>\n",
       "      <td>0</td>\n",
       "      <td>1</td>\n",
       "      <td>2</td>\n",
       "      <td>2.0</td>\n",
       "      <td>0</td>\n",
       "      <td>0</td>\n",
       "      <td>0</td>\n",
       "      <td>0</td>\n",
       "      <td>...</td>\n",
       "      <td>0</td>\n",
       "      <td>0</td>\n",
       "      <td>0</td>\n",
       "      <td>1</td>\n",
       "      <td>0</td>\n",
       "      <td>0</td>\n",
       "      <td>1</td>\n",
       "      <td>1</td>\n",
       "      <td>0</td>\n",
       "      <td>0</td>\n",
       "    </tr>\n",
       "    <tr>\n",
       "      <th>2</th>\n",
       "      <td>1</td>\n",
       "      <td>1</td>\n",
       "      <td>0</td>\n",
       "      <td>1</td>\n",
       "      <td>2</td>\n",
       "      <td>7.0</td>\n",
       "      <td>0</td>\n",
       "      <td>1</td>\n",
       "      <td>0</td>\n",
       "      <td>0</td>\n",
       "      <td>...</td>\n",
       "      <td>0</td>\n",
       "      <td>1</td>\n",
       "      <td>0</td>\n",
       "      <td>0</td>\n",
       "      <td>0</td>\n",
       "      <td>1</td>\n",
       "      <td>0</td>\n",
       "      <td>1</td>\n",
       "      <td>0</td>\n",
       "      <td>0</td>\n",
       "    </tr>\n",
       "    <tr>\n",
       "      <th>3</th>\n",
       "      <td>4</td>\n",
       "      <td>2</td>\n",
       "      <td>150</td>\n",
       "      <td>1</td>\n",
       "      <td>2</td>\n",
       "      <td>8.0</td>\n",
       "      <td>0</td>\n",
       "      <td>1</td>\n",
       "      <td>0</td>\n",
       "      <td>0</td>\n",
       "      <td>...</td>\n",
       "      <td>0</td>\n",
       "      <td>1</td>\n",
       "      <td>0</td>\n",
       "      <td>0</td>\n",
       "      <td>0</td>\n",
       "      <td>1</td>\n",
       "      <td>0</td>\n",
       "      <td>1</td>\n",
       "      <td>0</td>\n",
       "      <td>0</td>\n",
       "    </tr>\n",
       "    <tr>\n",
       "      <th>4</th>\n",
       "      <td>1</td>\n",
       "      <td>1</td>\n",
       "      <td>0</td>\n",
       "      <td>1</td>\n",
       "      <td>2</td>\n",
       "      <td>3.0</td>\n",
       "      <td>0</td>\n",
       "      <td>0</td>\n",
       "      <td>0</td>\n",
       "      <td>0</td>\n",
       "      <td>...</td>\n",
       "      <td>0</td>\n",
       "      <td>0</td>\n",
       "      <td>1</td>\n",
       "      <td>0</td>\n",
       "      <td>0</td>\n",
       "      <td>1</td>\n",
       "      <td>0</td>\n",
       "      <td>1</td>\n",
       "      <td>0</td>\n",
       "      <td>0</td>\n",
       "    </tr>\n",
       "  </tbody>\n",
       "</table>\n",
       "<p>5 rows × 359 columns</p>\n",
       "</div>"
      ],
      "text/plain": [
       "   Age  Gender  Fee  Quantity  MaturitySize  PhotoAmt  VideoAmt  \\\n",
       "0    3       1  100         1             1       1.0         0   \n",
       "1    1       1    0         1             2       2.0         0   \n",
       "2    1       1    0         1             2       7.0         0   \n",
       "3    4       2  150         1             2       8.0         0   \n",
       "4    1       1    0         1             2       3.0         0   \n",
       "\n",
       "   encodedVaccinated  State_41324  State_41325    ...     FurLength_3  \\\n",
       "0                  0            0            0    ...               0   \n",
       "1                  0            0            0    ...               0   \n",
       "2                  1            0            0    ...               0   \n",
       "3                  1            0            0    ...               0   \n",
       "4                  0            0            0    ...               0   \n",
       "\n",
       "   Dewormed_1  Dewormed_2  Dewormed_3  Sterilized_1  Sterilized_2  \\\n",
       "0           0           1           0             0             1   \n",
       "1           0           0           1             0             0   \n",
       "2           1           0           0             0             1   \n",
       "3           1           0           0             0             1   \n",
       "4           0           1           0             0             1   \n",
       "\n",
       "   Sterilized_3  Health_1  Health_2  Health_3  \n",
       "0             0         1         0         0  \n",
       "1             1         1         0         0  \n",
       "2             0         1         0         0  \n",
       "3             0         1         0         0  \n",
       "4             0         1         0         0  \n",
       "\n",
       "[5 rows x 359 columns]"
      ]
     },
     "execution_count": 108,
     "metadata": {},
     "output_type": "execute_result"
    }
   ],
   "source": [
    "cat_columns = ['Breed1','Breed2','Gender','Color1','MaturitySize','FurLength','Dewormed','Sterilized','Health']\n",
    "\n",
    "dfTemp = pd.get_dummies( train[cat_columns], columns=cat_columns )\n",
    "pet_train = pd.concat([pet_train, dfTemp], axis='columns')\n",
    "print (\"Size of pet_train = \", pet_train.shape)\n",
    "pet_train.head(5)\n"
   ]
  },
  {
   "cell_type": "markdown",
   "metadata": {},
   "source": [
    "- Breed1 - Primary breed of pet (Refer to BreedLabels dictionary)\n",
    "- Breed2 - Secondary breed of pet, if pet is of mixed breed (Refer to BreedLabels dictionary)\n",
    "- Gender - Gender of pet (1 = Male, 2 = Female, 3 = Mixed, if profile represents group of pets)\n",
    "- Color1 - Color 1 of pet (Refer to ColorLabels dictionary)\n",
    "- Color2 - Color 2 of pet (Refer to ColorLabels dictionary)\n",
    "- Color3 - Color 3 of pet (Refer to ColorLabels dictionary)\n",
    "- MaturitySize - Size at maturity (1 = Small, 2 = Medium, 3 = Large, 4 = Extra Large, 0 = Not Specified)\n",
    "- FurLength - Fur length (1 = Short, 2 = Medium, 3 = Long, 0 = Not Specified)\n",
    "- Vaccinated - Pet has been vaccinated (1 = Yes, 2 = No, 3 = Not Sure)\n",
    "- Dewormed - Pet has been dewormed (1 = Yes, 2 = No, 3 = Not Sure)\n",
    "- Sterilized - Pet has been spayed / neutered (1 = Yes, 2 = No, 3 = Not Sure)\n",
    "- Health - Health Condition (1 = Healthy, 2 = Minor Injury, 3 = Serious Injury, 0 = Not Specified)\n",
    "- Quantity - Number of pets represented in profile\n",
    "- Fee - Adoption fee (0 = Free)\n",
    "- State - State location in Malaysia (Refer to StateLabels dictionary)\n",
    "- RescuerID - Unique hash ID of rescuer\n",
    "- VideoAmt - Total uploaded videos for this pet\n",
    "- PhotoAmt - Total uploaded photos for this pet"
   ]
  },
  {
   "cell_type": "code",
   "execution_count": 25,
   "metadata": {},
   "outputs": [],
   "source": [
    "encodedColor1 = pd.get_dummies( train['Color1'] )\n",
    "pet_train = pd.concat([pet_train, encodedColor1], axis='columns')\n"
   ]
  },
  {
   "cell_type": "code",
   "execution_count": 0,
   "metadata": {
    "colab": {
     "base_uri": "https://localhost:8080/",
     "height": 203
    },
    "colab_type": "code",
    "id": "UWKPFOra9eSo",
    "outputId": "63ad9926-7689-40db-944a-c0113560b9fa"
   },
   "outputs": [
    {
     "ename": "AttributeError",
     "evalue": "ignored",
     "output_type": "error",
     "traceback": [
      "\u001b[0;31m---------------------------------------------------------------------------\u001b[0m",
      "\u001b[0;31mAttributeError\u001b[0m                            Traceback (most recent call last)",
      "\u001b[0;32m<ipython-input-8-037b8e2a23ee>\u001b[0m in \u001b[0;36m<module>\u001b[0;34m()\u001b[0m\n\u001b[1;32m      1\u001b[0m \u001b[0mencodedColor1\u001b[0m \u001b[0;34m=\u001b[0m \u001b[0mto_categorical\u001b[0m\u001b[0;34m(\u001b[0m \u001b[0mtrain\u001b[0m\u001b[0;34m[\u001b[0m\u001b[0;34m'Color1'\u001b[0m\u001b[0;34m]\u001b[0m \u001b[0;34m)\u001b[0m\u001b[0;34m\u001b[0m\u001b[0;34m\u001b[0m\u001b[0m\n\u001b[0;32m----> 2\u001b[0;31m \u001b[0mpet_train\u001b[0m\u001b[0;34m[\u001b[0m\u001b[0;34m'encodedColor1'\u001b[0m\u001b[0;34m]\u001b[0m \u001b[0;34m=\u001b[0m \u001b[0mencodedColor1\u001b[0m\u001b[0;34m.\u001b[0m\u001b[0mvalues\u001b[0m\u001b[0;34m.\u001b[0m\u001b[0mtolist\u001b[0m\u001b[0;34m(\u001b[0m\u001b[0;34m)\u001b[0m\u001b[0;34m\u001b[0m\u001b[0;34m\u001b[0m\u001b[0m\n\u001b[0m\u001b[1;32m      3\u001b[0m \u001b[0mpet_train\u001b[0m\u001b[0;34m.\u001b[0m\u001b[0mhead\u001b[0m\u001b[0;34m(\u001b[0m\u001b[0;36m10\u001b[0m\u001b[0;34m)\u001b[0m\u001b[0;34m\u001b[0m\u001b[0;34m\u001b[0m\u001b[0m\n",
      "\u001b[0;31mAttributeError\u001b[0m: 'numpy.ndarray' object has no attribute 'values'"
     ]
    }
   ],
   "source": [
    "#encodedColor1 = to_categorical( train['Color1'] )\n",
    "#pet_train['encodedColor1'] = encodedColor1.values.tolist()\n",
    "#pet_train.head(10)\n"
   ]
  },
  {
   "cell_type": "code",
   "execution_count": 0,
   "metadata": {
    "colab": {},
    "colab_type": "code",
    "id": "8WLaJkgUGS_m"
   },
   "outputs": [],
   "source": []
  },
  {
   "cell_type": "code",
   "execution_count": 100,
   "metadata": {
    "colab": {
     "base_uri": "https://localhost:8080/",
     "height": 52
    },
    "colab_type": "code",
    "id": "yAHNOrk49eSr",
    "outputId": "790b7af3-945d-496a-fedd-b6e4442b000a"
   },
   "outputs": [
    {
     "name": "stdout",
     "output_type": "stream",
     "text": [
      "pet_train data shape:  (14993, 359)\n",
      "pet_adopt_speed data shape:  (14993, 5)\n"
     ]
    }
   ],
   "source": [
    "print (\"pet_train data shape: \" ,pet_train.shape)\n",
    "print (\"pet_adopt_speed data shape: \" ,pet_adopt_speed.shape)"
   ]
  },
  {
   "cell_type": "markdown",
   "metadata": {
    "colab_type": "text",
    "id": "a_XBCy6SSq_l"
   },
   "source": [
    "\n",
    "### Scale and Split the data\n",
    "\n",
    "**Scale Data:** Neural Networks work best with the inputs are between 0 and +1, but the grayscale images have pixel values between 0 and 255. So, each pixel value is divided by 255 to scale it.\n",
    "\n",
    "**Submission: ** We do the same thing for the submission data\n",
    "\n",
    "**Split the Data:** The training data is split with 90% used for training and 10% used for testing."
   ]
  },
  {
   "cell_type": "code",
   "execution_count": 109,
   "metadata": {
    "colab": {
     "base_uri": "https://localhost:8080/",
     "height": 141
    },
    "colab_type": "code",
    "id": "RlQcJg04CtGO",
    "outputId": "736c07c9-bdd4-46db-c252-df1c8e7bdd1f"
   },
   "outputs": [
    {
     "data": {
      "text/plain": [
       "array([[-0.41046553, -1.13878681,  1.00418405, ...,  0.18860332,\n",
       "        -0.18205764, -0.04767472],\n",
       "       [-0.5206269 , -1.13878681, -0.27113205, ...,  0.18860332,\n",
       "        -0.18205764, -0.04767472],\n",
       "       [-0.5206269 , -1.13878681, -0.27113205, ...,  0.18860332,\n",
       "        -0.18205764, -0.04767472],\n",
       "       ...,\n",
       "       [-0.46554622,  1.79561735,  0.11146278, ...,  0.18860332,\n",
       "        -0.18205764, -0.04767472],\n",
       "       [-0.07998143,  0.32841527, -0.27113205, ...,  0.18860332,\n",
       "        -0.18205764, -0.04767472],\n",
       "       [-0.5206269 , -1.13878681, -0.27113205, ...,  0.18860332,\n",
       "        -0.18205764, -0.04767472]])"
      ]
     },
     "execution_count": 109,
     "metadata": {},
     "output_type": "execute_result"
    }
   ],
   "source": [
    "# Scale the data to put large features like area_mean on the same footing as small features like smoothness_mean\n",
    "from sklearn.preprocessing import MinMaxScaler, StandardScaler\n",
    "scaler = StandardScaler()\n",
    "pet_train_scaled = scaler.fit_transform(pet_train)\n",
    "pet_submit_scaled = scaler.fit_transform(pet_submit)\n",
    "\n",
    "pet_train_scaled"
   ]
  },
  {
   "cell_type": "code",
   "execution_count": 110,
   "metadata": {
    "colab": {
     "base_uri": "https://localhost:8080/",
     "height": 88
    },
    "colab_type": "code",
    "id": "XbkB0OYe9eSw",
    "outputId": "a0b8519e-89c6-4b96-95d4-e8ce92202f0a"
   },
   "outputs": [
    {
     "name": "stdout",
     "output_type": "stream",
     "text": [
      "X_train training data shape of 28x28 pixels greyscale:  (13493, 359)\n",
      "X_test submission data shape of 28x28 pixels greyscale: :  (1500, 359)\n",
      "y_train training data shape of 28x28 pixels greyscale:  (13493, 5)\n",
      "y_test submission data shape of 28x28 pixels greyscale: :  (1500, 5)\n"
     ]
    }
   ],
   "source": [
    "# Split the data into 80% for training and 10% for testing out the models\n",
    "X_train, X_test, y_train, y_test = train_test_split(pet_train_scaled, pet_adopt_speed, test_size=0.1)\n",
    "\n",
    "print (\"X_train training data shape of 28x28 pixels greyscale: \" ,X_train.shape)\n",
    "print (\"X_test submission data shape of 28x28 pixels greyscale: : \" ,X_test.shape)\n",
    "\n",
    "print (\"y_train training data shape of 28x28 pixels greyscale: \" ,y_train.shape)\n",
    "print (\"y_test submission data shape of 28x28 pixels greyscale: : \" ,y_test.shape)"
   ]
  },
  {
   "cell_type": "markdown",
   "metadata": {
    "colab_type": "text",
    "id": "hwoi3GqJvSdG"
   },
   "source": [
    "### Neural Network\n",
    "\n",
    "Set up the layers of the Neural Network\n",
    "\n",
    "One possibly configuration would be:\n",
    "\n",
    "```\n",
    "DigitNN = Sequential()\n",
    "DigitNN.add(Dense(20, activation='relu', input_dim=(input_Size)))\n",
    "DigitNN.add(Dense(10, activation='relu'))\n",
    "DigitNN.add(Dropout(0.3))\n",
    "DigitNN.add(Dense(10, activation='relu'))\n",
    "DigitNN.add(Dense(output_Size, activation='softmax'))\n",
    "```\n",
    "\n",
    "Though you should try your own configuration. We will eventually look at networks of 50+ layers, but for now I suggest you limit yourself to 3-5 hidden layers. \n",
    "\n",
    "\n",
    "*Note: You should not change the input or output layers, they are fixed by our problem definition*"
   ]
  },
  {
   "cell_type": "code",
   "execution_count": 132,
   "metadata": {
    "colab": {},
    "colab_type": "code",
    "id": "M1H9GVNvvSdM"
   },
   "outputs": [],
   "source": [
    "# Set up the Neural Network\n",
    "input_Size = X_test.shape[1]     # This is the number of features you selected for each pet\n",
    "output_Size = y_train.shape[1]   # This is the number of categories for adoption speed, should be 5\n",
    "\n",
    "DigitNN = Sequential()\n",
    "DigitNN.add(Dense(50, activation='relu', input_dim=(input_Size)))\n",
    "\n",
    "DigitNN.add(Dropout(0.2))\n",
    "DigitNN.add(Dense(20, activation='relu'))\n",
    "\n",
    "DigitNN.add(Dropout(0.2))\n",
    "DigitNN.add(Dense(10, activation='relu'))\n",
    "DigitNN.add(Dense(output_Size, activation='softmax'))\n",
    "\n",
    "# Compile neural network model\n",
    "DigitNN.compile(optimizer='adam', loss='categorical_crossentropy', metrics=['accuracy'])"
   ]
  },
  {
   "cell_type": "markdown",
   "metadata": {
    "colab_type": "text",
    "id": "LT2ZSVeXvSdo"
   },
   "source": [
    "### Callbacks\n",
    "\n",
    "-  [ReduceLROnPlateau](https://keras.io/callbacks/#reducelronplateau). \n",
    "\n",
    "-  [EarlyStopping callback](https://keras.io/callbacks/#earlystopping) \n",
    "\n",
    "-  [ModelCheckpoint callback](https://keras.io/callbacks/#modelcheckpoint) "
   ]
  },
  {
   "cell_type": "code",
   "execution_count": 133,
   "metadata": {
    "colab": {},
    "colab_type": "code",
    "id": "U-k7Y9H-2wUr"
   },
   "outputs": [],
   "source": [
    "from keras.callbacks import ReduceLROnPlateau, EarlyStopping, ModelCheckpoint\n",
    "\n",
    "#learning_rate_reduction = ReduceLROnPlateau(monitor='accuracy', \n",
    "#                                            patience=2, \n",
    "#                                            verbose=2, \n",
    "#                                            factor=0.3,                                            \n",
    "#                                            min_lr=0.00001)\n",
    "\n",
    "learning_rate_reduction = ReduceLROnPlateau(monitor='val_loss', \n",
    "                                            patience=5, \n",
    "                                            verbose=2, \n",
    "                                            factor=0.5,                                            \n",
    "                                            min_lr=0.000001)\n",
    "\n",
    "early_stops = EarlyStopping(monitor='val_loss', \n",
    "                            min_delta=0, \n",
    "                            patience=20, \n",
    "                            verbose=2, \n",
    "                            mode='auto')\n",
    "\n",
    "checkpointer = ModelCheckpoint(filepath = 'cis3115_MNIST.{epoch:02d}-{accuracy:.6f}.hdf5',\n",
    "                               verbose=2,\n",
    "                               save_best_only=True, \n",
    "                               save_weights_only = True)\n"
   ]
  },
  {
   "cell_type": "markdown",
   "metadata": {
    "colab_type": "text",
    "id": "3Tfrh9G5bYXl"
   },
   "source": [
    "### Train the Neural Network\n",
    "\n",
    "This is why we are only using 10 epochs initially, but you should consider running more epochs"
   ]
  },
  {
   "cell_type": "code",
   "execution_count": 134,
   "metadata": {
    "colab": {
     "base_uri": "https://localhost:8080/",
     "height": 464
    },
    "colab_type": "code",
    "id": "pMeiCJoZvSd6",
    "outputId": "bea271e6-ff43-470b-f921-2916ac0bbefe"
   },
   "outputs": [
    {
     "name": "stdout",
     "output_type": "stream",
     "text": [
      "Train on 13493 samples, validate on 1500 samples\n",
      "Epoch 1/100\n",
      "13493/13493 [==============================] - 3s 218us/step - loss: 1.5269 - acc: 0.3076 - val_loss: 1.4268 - val_acc: 0.3387\n",
      "Epoch 2/100\n",
      "13493/13493 [==============================] - 2s 119us/step - loss: 1.4184 - acc: 0.3488 - val_loss: 1.4119 - val_acc: 0.3427\n",
      "Epoch 3/100\n",
      "13493/13493 [==============================] - 2s 118us/step - loss: 1.3936 - acc: 0.3586 - val_loss: 1.4056 - val_acc: 0.3527\n",
      "Epoch 4/100\n",
      "13493/13493 [==============================] - 2s 113us/step - loss: 1.3811 - acc: 0.3726 - val_loss: 1.4100 - val_acc: 0.3573\n",
      "Epoch 5/100\n",
      "13493/13493 [==============================] - 2s 117us/step - loss: 1.3651 - acc: 0.3803 - val_loss: 1.4089 - val_acc: 0.3553\n",
      "Epoch 6/100\n",
      "13493/13493 [==============================] - 2s 115us/step - loss: 1.3577 - acc: 0.3890 - val_loss: 1.4083 - val_acc: 0.3667\n",
      "Epoch 7/100\n",
      "13493/13493 [==============================] - 2s 121us/step - loss: 1.3534 - acc: 0.3894 - val_loss: 1.4169 - val_acc: 0.3673\n",
      "Epoch 8/100\n",
      "13493/13493 [==============================] - 2s 119us/step - loss: 1.3392 - acc: 0.3938 - val_loss: 1.4239 - val_acc: 0.3633\n",
      "\n",
      "Epoch 00008: ReduceLROnPlateau reducing learning rate to 0.0005000000237487257.\n",
      "Epoch 9/100\n",
      "13493/13493 [==============================] - 2s 114us/step - loss: 1.3286 - acc: 0.4061 - val_loss: 1.4259 - val_acc: 0.3693\n",
      "Epoch 10/100\n",
      "13493/13493 [==============================] - 2s 119us/step - loss: 1.3215 - acc: 0.4080 - val_loss: 1.4267 - val_acc: 0.3767\n",
      "Epoch 11/100\n",
      "13493/13493 [==============================] - 2s 111us/step - loss: 1.3186 - acc: 0.4095 - val_loss: 1.4354 - val_acc: 0.3720\n",
      "Epoch 12/100\n",
      "13493/13493 [==============================] - 2s 111us/step - loss: 1.3134 - acc: 0.4139 - val_loss: 1.4407 - val_acc: 0.3707\n",
      "Epoch 13/100\n",
      "13493/13493 [==============================] - 2s 115us/step - loss: 1.3133 - acc: 0.4122 - val_loss: 1.4456 - val_acc: 0.3713\n",
      "\n",
      "Epoch 00013: ReduceLROnPlateau reducing learning rate to 0.0002500000118743628.\n",
      "Epoch 14/100\n",
      "13493/13493 [==============================] - 1s 109us/step - loss: 1.3055 - acc: 0.4184 - val_loss: 1.4438 - val_acc: 0.3807\n",
      "Epoch 15/100\n",
      "13493/13493 [==============================] - 2s 112us/step - loss: 1.3036 - acc: 0.4173 - val_loss: 1.4470 - val_acc: 0.3780\n",
      "Epoch 16/100\n",
      "13493/13493 [==============================] - 2s 115us/step - loss: 1.2963 - acc: 0.4216 - val_loss: 1.4542 - val_acc: 0.3780\n",
      "Epoch 17/100\n",
      "13493/13493 [==============================] - 1s 110us/step - loss: 1.2998 - acc: 0.4173 - val_loss: 1.4552 - val_acc: 0.3833\n",
      "Epoch 18/100\n",
      "13493/13493 [==============================] - 1s 107us/step - loss: 1.2961 - acc: 0.4206 - val_loss: 1.4555 - val_acc: 0.3813\n",
      "\n",
      "Epoch 00018: ReduceLROnPlateau reducing learning rate to 0.0001250000059371814.\n",
      "Epoch 19/100\n",
      "13493/13493 [==============================] - 1s 108us/step - loss: 1.2934 - acc: 0.4231 - val_loss: 1.4571 - val_acc: 0.3773\n",
      "Epoch 20/100\n",
      "13493/13493 [==============================] - 1s 110us/step - loss: 1.2902 - acc: 0.4267 - val_loss: 1.4602 - val_acc: 0.3780\n",
      "Epoch 21/100\n",
      "13493/13493 [==============================] - 1s 110us/step - loss: 1.2894 - acc: 0.4258 - val_loss: 1.4627 - val_acc: 0.3760\n",
      "Epoch 22/100\n",
      "13493/13493 [==============================] - 1s 105us/step - loss: 1.2878 - acc: 0.4257 - val_loss: 1.4619 - val_acc: 0.3787\n",
      "Epoch 23/100\n",
      "13493/13493 [==============================] - 1s 107us/step - loss: 1.2817 - acc: 0.4313 - val_loss: 1.4665 - val_acc: 0.3767\n",
      "\n",
      "Epoch 00023: ReduceLROnPlateau reducing learning rate to 6.25000029685907e-05.\n",
      "Epoch 00023: early stopping\n"
     ]
    }
   ],
   "source": [
    "# Fit model on training data for network with dense input layer\n",
    "\n",
    "history = DigitNN.fit(X_train, y_train,\n",
    "          epochs=100,\n",
    "          verbose=1,\n",
    "          callbacks=[learning_rate_reduction, early_stops],\n",
    "          validation_data=(X_test, y_test))\n"
   ]
  },
  {
   "cell_type": "code",
   "execution_count": null,
   "metadata": {
    "colab": {},
    "colab_type": "code",
    "id": "J_2GLi6avSeF"
   },
   "outputs": [],
   "source": []
  },
  {
   "cell_type": "code",
   "execution_count": 135,
   "metadata": {
    "colab": {
     "base_uri": "https://localhost:8080/",
     "height": 70
    },
    "colab_type": "code",
    "id": "Y965DSk5vSeJ",
    "outputId": "867f1740-5ed8-4a5d-a337-dee6b23efeaa"
   },
   "outputs": [
    {
     "name": "stdout",
     "output_type": "stream",
     "text": [
      "Running final scoring on test data\n",
      "1500/1500 [==============================] - 0s 51us/step\n",
      "The accuracy for this model is  0.38\n"
     ]
    },
    {
     "data": {
      "text/plain": [
       "[1.4664855496088665, 0.3766666668256124]"
      ]
     },
     "execution_count": 135,
     "metadata": {},
     "output_type": "execute_result"
    }
   ],
   "source": [
    "# 10. Evaluate model on test data\n",
    "print (\"Running final scoring on test data\")\n",
    "score = DigitNN.evaluate(X_test, y_test, verbose=1)\n",
    "print (\"The accuracy for this model is \", format(score[1], \",.2f\"))\n",
    "score"
   ]
  },
  {
   "cell_type": "markdown",
   "metadata": {
    "colab_type": "text",
    "id": "KJiV__LbvSeO"
   },
   "source": [
    "## Plot the Training History\n",
    "\n",
    "We store the performance during training is a variable named 'history'. The x-axis is the training time or number of epochs.\n",
    "\n",
    "- Accuracy: Accuracy of the predictions, hopefully this is increasing to near 1.0\n",
    "- Loss: How close the output is to the desired output, this should decrease to near 0.0"
   ]
  },
  {
   "cell_type": "code",
   "execution_count": 136,
   "metadata": {
    "colab": {
     "base_uri": "https://localhost:8080/",
     "height": 380
    },
    "colab_type": "code",
    "id": "EsT7FG9SvSeP",
    "outputId": "61feb139-1463-411d-8d83-9f00b9dd2d6d"
   },
   "outputs": [
    {
     "data": {
      "image/png": "[encoded data removed]",
      "text/plain": [
       "<Figure size 432x288 with 2 Axes>"
      ]
     },
     "metadata": {
      "needs_background": "light"
     },
     "output_type": "display_data"
    }
   ],
   "source": [
    "# Plot the loss and accuracy curves for training and validation \n",
    "fig, ax = plt.subplots(2,1)\n",
    "\n",
    "ax[0].plot(history.history['acc'], color='b', label=\"Training accuracy\")\n",
    "ax[0].plot(history.history['val_acc'], color='r',label=\"Testing accuracy\")\n",
    "ax[0].set_title(\"Accuracy\")\n",
    "legend = ax[0].legend(loc='best', shadow=True)\n",
    "ax[0].set_ylim([0, 1])\n",
    "\n",
    "ax[1].plot(history.history['loss'], color='b', label=\"Training loss\")\n",
    "ax[1].plot(history.history['val_loss'], color='r', label=\"Testing loss\",axes =ax[1])\n",
    "ax[1].set_title(\"Loss\")\n",
    "legend = ax[1].legend(loc='best', shadow=True)\n"
   ]
  },
  {
   "cell_type": "markdown",
   "metadata": {
    "colab_type": "text",
    "id": "xAHcXCEcfzIL"
   },
   "source": [
    "# Section 2: Create the Submission for Kaggle\n",
    "\n",
    "The following code generates a file named submission.csv for the [PetFinder.my Adoption Prediction challenge on Kaggle](https://www.kaggle.com/c/petfinder-adoption-prediction).\n",
    "\n",
    "Once you have this notebook working, you must load it up as a kernel in the Kaggle challenge.\n",
    "\n",
    "\n",
    "\n",
    "\n",
    "\n"
   ]
  },
  {
   "cell_type": "code",
   "execution_count": 0,
   "metadata": {
    "colab": {
     "base_uri": "https://localhost:8080/",
     "height": 34
    },
    "colab_type": "code",
    "id": "NKSi64z70XNv",
    "outputId": "4edab4d8-7f08-458b-eb6c-79eb844d8178"
   },
   "outputs": [
    {
     "name": "stdout",
     "output_type": "stream",
     "text": [
      "3948/3948 [==============================] - 0s 30us/step\n"
     ]
    }
   ],
   "source": [
    "predictions = DigitNN.predict_classes(pet_submit_scaled, verbose=1)\n",
    "\n",
    "submissions=pd.DataFrame({'PetID': submit.PetID})\n",
    "submissions['AdoptionSpeed'] = predictions\n",
    "\n",
    "submissions.to_csv(\"submission.csv\", index=False, header=True)\n",
    "\n",
    "submissions.head(10)"
   ]
  },
  {
   "cell_type": "markdown",
   "metadata": {
    "colab_type": "text",
    "id": "cUg7_6I_ui3-"
   },
   "source": [
    "## Task 5: Submit to Kaggle\n",
    "\n",
    "Upload this notebook to Kaggle and submit the results.\n",
    "\n",
    "\n"
   ]
  },
  {
   "cell_type": "markdown",
   "metadata": {
    "colab_type": "text",
    "id": "AV84idEeXswM"
   },
   "source": [
    "# Writeup\n",
    "\n",
    "Describe your different attempts to improve this notebook. What pet features did you try and how did you modify them? What neural networks did you try?\n",
    "\n",
    "How did these different attempts perform with the test data? How did they perform as a Kaggle submission?\n",
    "\n",
    "\n",
    "  - - - - Insert your writeup here - - - - \n",
    " "
   ]
  },
  {
   "cell_type": "markdown",
   "metadata": {
    "colab_type": "text",
    "id": "RUzZntKj1QFz"
   },
   "source": [
    "# Wrapping Up\n",
    "\n",
    "Remember to **share this sheet with your instructo**r and submit a link to it in Blackboard."
   ]
  },
  {
   "cell_type": "code",
   "execution_count": 0,
   "metadata": {
    "colab": {},
    "colab_type": "code",
    "id": "hNmZlPcKWv12"
   },
   "outputs": [],
   "source": []
  }
 ],
 "metadata": {
  "colab": {
   "collapsed_sections": [],
   "name": "Project_4_Deep_Learning_Pets.ipynb",
   "provenance": [],
   "version": "0.3.2"
  },
  "kernelspec": {
   "display_name": "Python 3",
   "language": "python",
   "name": "python3"
  },
  "language_info": {
   "codemirror_mode": {
    "name": "ipython",
    "version": 3
   },
   "file_extension": ".py",
   "mimetype": "text/x-python",
   "name": "python",
   "nbconvert_exporter": "python",
   "pygments_lexer": "ipython3",
   "version": "3.6.8"
  }
 },
 "nbformat": 4,
 "nbformat_minor": 1
}
